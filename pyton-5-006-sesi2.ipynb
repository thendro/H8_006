{
 "cells": [
  {
   "cell_type": "markdown",
   "id": "2e112df7",
   "metadata": {},
   "source": [
    "# Conditions\n",
    "Kondisi percabangan dalam Python menggunakan keyword IF STATEMENT atau melakukan Decision-making. Percabangan IF digunakan saat terdapat satu pilihan keputusan yang memungkinkan suatu permasalahan memiliki kondisi percabangan lebih dari satu pernyataan."
   ]
  },
  {
   "cell_type": "raw",
   "id": "70813e30",
   "metadata": {},
   "source": [
    "Bentuk dasar dari If Statement\n",
    "if <expr>:      \n",
    "    <statement>\n",
    "    \n",
    "# <expr> sebuah expresi yang dievaluasi menggunakan variabel atau nilai yang bertipe data boolean. Baik berupa nilai True/False secara langsung, atau pun sebuah ekspresi logika. Jika kondisi bernilai True, maka statements() akan dieksekusi oleh sistem.\n",
    "# <statement> akan dieksekusi jika pernyataan kodisi yang dievaluasi yang valid, yang harus diindentasi."
   ]
  },
  {
   "cell_type": "code",
   "execution_count": 1,
   "id": "ffd01a03",
   "metadata": {},
   "outputs": [
    {
     "name": "stdout",
     "output_type": "stream",
     "text": [
      "no\n"
     ]
    }
   ],
   "source": [
    "x = 9\n",
    "y = 2\n",
    "if x < y:\n",
    "    print('yes')\n",
    "else:\n",
    "    print('no')"
   ]
  },
  {
   "cell_type": "markdown",
   "id": "80f5ae23",
   "metadata": {},
   "source": [
    "## Python condition Indentation\n",
    "Pada bahasa pemograman python menggunkan konversi yang dikenal dengan OFF-SIDE rule. Off-side rule didefinisikan dengan blok dengan identasi(jarak) yang digunakan dalam suatu pernyatan If.\n"
   ]
  },
  {
   "cell_type": "markdown",
   "id": "b1a4797a",
   "metadata": {},
   "source": [
    "```python\n",
    "if <expr>:      \n",
    "    <statement>\n",
    "    <statement>\n",
    "    ...........\n",
    "    <statement>\n",
    "<following_statement>\n",
    "\n",
    "# Pada penggunaanya jika kondisi dari if salah semua atau lari dari jalur dinyatakan salah dalam suatu statement, Jalur akan keluar mengikuti <following_statment>\n",
    "# Pada penggunaanya jika kondisi dari if benar maka statement akan dieksekusi sampai statement keluar dari kondisi dan masuk ke <following_statement>  \n",
    "```"
   ]
  },
  {
   "cell_type": "markdown",
   "id": "df4b7f13",
   "metadata": {},
   "source": [
    "![picture](ifstatement.png)"
   ]
  },
  {
   "cell_type": "code",
   "execution_count": 4,
   "id": "dbb16e9e",
   "metadata": {},
   "outputs": [
    {
     "name": "stdout",
     "output_type": "stream",
     "text": [
      "no\n"
     ]
    }
   ],
   "source": [
    "if x == y:\n",
    "    print('yes')\n",
    "    \n",
    "print('no')"
   ]
  },
  {
   "cell_type": "markdown",
   "id": "16e27407",
   "metadata": {},
   "source": [
    "## Kondisi ELIF (ELSE IF)\n",
    "Percabangan Else If digunakan jika suatu permasalahan memiliki kondisi percabangan lebih dari dua pernyataan. \n",
    "\n",
    "Pada kondisi ini proses eksekusi akan dijalankan jika ekspresi percabangan pernyataan pertama if bernilai False/salah. Maka Proses Eksekusi akan dilempar pada kondisi kedua yaitu ELIF."
   ]
  },
  {
   "cell_type": "code",
   "execution_count": 6,
   "id": "658c5108",
   "metadata": {},
   "outputs": [
    {
     "name": "stdout",
     "output_type": "stream",
     "text": [
      "pernyataan ke 2 : X lebih besar dari pada Y\n"
     ]
    }
   ],
   "source": [
    "if x == y:\n",
    "    print('pernyataan ke 1 : nilai bernilai sama')\n",
    "elif x > y:\n",
    "    print('pernyataan ke 2 : X lebih besar dari pada Y')\n",
    "else:\n",
    "    print('pernyataan ke 3 : Y lebih besar dari pada X')"
   ]
  },
  {
   "cell_type": "markdown",
   "id": "f57c7404",
   "metadata": {},
   "source": [
    "## Kondisi One-Line if Statements\n",
    "Penggunaan kondisi satu garis statement untuk mengecilkan jumlah baris yang digunakan"
   ]
  },
  {
   "cell_type": "code",
   "execution_count": 7,
   "id": "1b87a723",
   "metadata": {},
   "outputs": [
    {
     "name": "stdout",
     "output_type": "stream",
     "text": [
      "benar\n",
      "dua\n",
      "adalah x\n"
     ]
    }
   ],
   "source": [
    "v = 2\n",
    "if v == 1: print('benar'); print('satu'); print('adalah x')\n",
    "elif v == 2: print('benar'); print('dua'); print('adalah x')\n",
    "else: print('salah semua'); print('tidak ada yang benar')"
   ]
  },
  {
   "cell_type": "markdown",
   "id": "a5b83f0a",
   "metadata": {},
   "source": [
    "tapi penggunaan kondisi One-Line IF tidak disarankan karena reabilitynya buruk terutama untuk pernyataan if yang komplex."
   ]
  },
  {
   "cell_type": "markdown",
   "id": "c5c474a8",
   "metadata": {},
   "source": [
    "## Conditional Expression\n",
    "Python dapat mendukung decision-making tambahan dengan sebutan CONDITIONAL EXPRESSION atau sebutan lainnya ternary operator.\n",
    "\n",
    "Hal ini berbeda dengan pernytaan If yang karena ini bukan struktur kontrol yang mengarahkan aliran eksekusi program."
   ]
  },
  {
   "cell_type": "raw",
   "id": "6b847360",
   "metadata": {},
   "source": [
    "Penggunaanya dalam expression\n",
    "<expr1> if <conditional_expr> else <expr2>:"
   ]
  },
  {
   "cell_type": "code",
   "execution_count": 9,
   "id": "4827e398",
   "metadata": {},
   "outputs": [
    {
     "name": "stdout",
     "output_type": "stream",
     "text": [
      "Let's go to the libary\n"
     ]
    }
   ],
   "source": [
    "raining = True\n",
    "print(\"Let's go to the\", 'beach' if not raining else 'libary')"
   ]
  },
  {
   "cell_type": "markdown",
   "id": "e97650b1",
   "metadata": {},
   "source": [
    "#### PlaceHolder\n",
    "Syntax ini digunakan untuk membuat interpreter berjalan dalam situasi apa pun di mana pernyataan diperlukan secara sintaksis.\n",
    "\n",
    "Pada Syntax ini pengguna dapat menulis apa yang disebut code stub: Placeholder tempat pengguna pada akhirnya akan melektakkan blok kode yang belum kalian terapkan."
   ]
  },
  {
   "cell_type": "code",
   "execution_count": 10,
   "id": "6e8948e8",
   "metadata": {},
   "outputs": [
    {
     "name": "stdout",
     "output_type": "stream",
     "text": [
      "foo\n"
     ]
    }
   ],
   "source": [
    "if True:\n",
    "    pass\n",
    "print('foo')"
   ]
  },
  {
   "cell_type": "markdown",
   "id": "0f471d30",
   "metadata": {},
   "source": [
    "# LOOPING\n",
    "Perulangan atau Iteration (iterasi) artinya istilah umum untuk mengambil setiap item dari sesuatu, satu demi satu. Setiap kali Pengguna menggunakan loop, eksplisit atau implisit, untuk membahas sekelompok item, yaitu iterasi. "
   ]
  },
  {
   "cell_type": "markdown",
   "id": "ed25ef55",
   "metadata": {},
   "source": [
    "Sebenarnya disini pernyataan yang dieksekusi secara berurutan dengan Pernyataan pertama dalam fungsi dijalankan pertama lagi kemudian diikuti oleh yang kedua, dan seterusnya. \n",
    "\n",
    "Beberapa Jenis Iterasi dalam Bahasa Pemograman\n",
    "- Indefinite Iteration. Looping yang sedang dijalankan tidak ditentukan secara eksplitsit atau tegas sebelumnya. Sebaliknya proses Blok yang ditunjuk dijalankan berulang kali selama beberapa kondisi terpenuhi.\n",
    "- Definite Iteration. Proses looping pada blok yang ditunjuk akan dieksekusi ditentukan secara eksplisti atau tegas pada saat perulangan dimulai.\n"
   ]
  },
  {
   "cell_type": "markdown",
   "id": "0966eddc",
   "metadata": {},
   "source": [
    "## While Loop\n",
    "Pada perulangan While Loop eksekusi program akan dijalankan jika kondisi pernyataan bernilai True atau benar. Jika kondisi sudah terpenuhi, pernyataan salah eksekusi diberhentikan, blok akan dilempar ke blok lainnya. Perulangan while loop mirip seperti eksekusi perulangan IF.\n",
    "\n",
    "Bagian penting dari setiap loop adalah apa yang dibuat pengguna di sebut variabel iterasi, karena variabel itu juga isinya akan berubah, jika kita tidak mengubah apa pun dalam lingkaran, maka itu akan berjalan selamanya. Itulah yang kami sebut infinite loop."
   ]
  },
  {
   "cell_type": "code",
   "execution_count": 13,
   "id": "fdb8dd71",
   "metadata": {},
   "outputs": [
    {
     "name": "stdout",
     "output_type": "stream",
     "text": [
      "1\n",
      "2\n",
      "3\n",
      "4\n",
      "5\n"
     ]
    }
   ],
   "source": [
    "# While Loop Sederhana\n",
    "n = 0\n",
    "while n < 5:\n",
    "    n += 1\n",
    "    print(n)"
   ]
  },
  {
   "cell_type": "markdown",
   "id": "db656ccb",
   "metadata": {},
   "source": [
    "### Break and Continue Statement \n",
    "Dalam penggunaan perulangan untuk menghentikan perulangan python sudah menyediakan keyword break dan continue statement.\n",
    "- Break. Digunkan untuk menghentikan perluangan seluruhnya, Jika kondisi pernyataan terpenuhi.\n",
    "- Continue. Digunakan unntuk menghentikan perluangan, jika kondisi eksekusi sudah terpenuhi, eksekusi akan melompat ke blok ekspresi while loop atau bagian dari kepala loop."
   ]
  },
  {
   "cell_type": "markdown",
   "id": "c2e664e6",
   "metadata": {},
   "source": [
    "![picture](breakcontinue.png)"
   ]
  },
  {
   "cell_type": "code",
   "execution_count": 26,
   "id": "c94c6ae3",
   "metadata": {},
   "outputs": [
    {
     "name": "stdout",
     "output_type": "stream",
     "text": [
      "4\n",
      "3\n",
      "loop ended.\n"
     ]
    }
   ],
   "source": [
    "# contoh penggunaan Break pada while loop\n",
    "n = 5\n",
    "while n > 0:\n",
    "    n -= 1\n",
    "    if n == 2:\n",
    "        break\n",
    "    print(n)\n",
    "print('loop ended.')"
   ]
  },
  {
   "cell_type": "code",
   "execution_count": 28,
   "id": "4464bd41",
   "metadata": {},
   "outputs": [
    {
     "name": "stdout",
     "output_type": "stream",
     "text": [
      "4\n",
      "3\n",
      "1\n",
      "0\n",
      "loop ended.\n"
     ]
    }
   ],
   "source": [
    "# contoh penggunaan Continue pada while loop\n",
    "n = 5\n",
    "while n > 0:\n",
    "    n -= 1\n",
    "    if n == 2:\n",
    "        continue\n",
    "    print(n)\n",
    "print('loop ended.')"
   ]
  },
  {
   "cell_type": "markdown",
   "id": "c9db83c3",
   "metadata": {},
   "source": [
    "### Else Clause\n",
    "Selain itu python juga membuat klause else opsional di akhir loop while."
   ]
  },
  {
   "cell_type": "code",
   "execution_count": 33,
   "id": "b6bd19af",
   "metadata": {},
   "outputs": [
    {
     "name": "stdout",
     "output_type": "stream",
     "text": [
      "4\n",
      "3\n",
      "2\n",
      "1\n",
      "0\n",
      "loop done.\n"
     ]
    }
   ],
   "source": [
    "n = 5\n",
    "while n > 0:\n",
    "    n -= 1\n",
    "    print(n)\n",
    "else:\n",
    "    print('loop done.')"
   ]
  },
  {
   "cell_type": "code",
   "execution_count": 35,
   "id": "20d1e09c",
   "metadata": {},
   "outputs": [
    {
     "name": "stdout",
     "output_type": "stream",
     "text": [
      "foo\n",
      "> baz\n",
      "> qux\n",
      "bar\n",
      "> baz\n",
      "> qux\n"
     ]
    }
   ],
   "source": [
    "# Nested While Loop\n",
    "k = ['foo', 'bar']\n",
    "while len(k):        # (len()) untuk menghitung jumlah list dari variabel k\n",
    "    print(k.pop(0))  # (.pop()) untuk mengeluarkan baris pertama dari variabel k\n",
    "\n",
    "    l = ['baz', 'qux']\n",
    "    while len(l):\n",
    "        print('>', l.pop(0))"
   ]
  },
  {
   "cell_type": "markdown",
   "id": "b78ad87d",
   "metadata": {},
   "source": [
    "### Perulangan One-Line while loop\n",
    "Penggunaan while loop dalam satu garis untuk mengecilkan jumlah baris yang digunakan"
   ]
  },
  {
   "cell_type": "code",
   "execution_count": 39,
   "id": "08759928",
   "metadata": {},
   "outputs": [
    {
     "name": "stdout",
     "output_type": "stream",
     "text": [
      "4\n",
      "3\n",
      "2\n",
      "1\n",
      "0\n"
     ]
    }
   ],
   "source": [
    "n = 5\n",
    "while n > 0: n -= 1; print(n)"
   ]
  },
  {
   "cell_type": "markdown",
   "id": "ad28a4a8",
   "metadata": {},
   "source": [
    "## For Loop\n",
    "For Loop atau disebut Numeric Range Loop. Termasuk Definisi perulangan terbatas (Definite Loop). For loop adalah proses looping melalui set item yang dikenal sehingga berjalan melalui banyak iterasi karena sudah ada item dalam set. Jadi penggunaan dalam perulangan mempunyai flesibilatas lebih baik ketimbang perulangan lainnya.\n",
    "\n",
    "Jadi hal pertama yang kita lihat dalam for loop adalah kita melihat variabel iterasi yang didalamnya memiliki item seperti tipe data string kata, tipe data list, dll secara eksplisit lebih mudah dilalui saat perulangan dieksekusi."
   ]
  },
  {
   "cell_type": "code",
   "execution_count": 41,
   "id": "42eff27d",
   "metadata": {},
   "outputs": [
    {
     "name": "stdout",
     "output_type": "stream",
     "text": [
      "foo\n",
      "bar\n",
      "baz\n"
     ]
    }
   ],
   "source": [
    "kata = ['foo', 'bar', 'baz']\n",
    "for i in kata:\n",
    "    print(i)"
   ]
  },
  {
   "cell_type": "markdown",
   "id": "8bea4450",
   "metadata": {},
   "source": [
    "Pada eksekusinya setipa kali perulangan dijalankan variabel i akan mengambil nilai dari objek berikutnya di <collection> dari variabel list Kata.\n",
    "\n",
    "<iterable> sekumpulan objek dari list atau tuple. <Statement(s)> pada badan Loop dilambangkan dengan indentasi, seperti dengan semua struktur kontrol Python, dan dieksekusi sekali untuk setiap item di <iterable>. Variabel loop <var> mengambil nilai elemen berikut di <iterable> setiap kali loop dieksekusi."
   ]
  },
  {
   "cell_type": "code",
   "execution_count": 51,
   "id": "c933611b",
   "metadata": {},
   "outputs": [
    {
     "ename": "TypeError",
     "evalue": "'dict' object is not callable",
     "output_type": "error",
     "traceback": [
      "\u001b[1;31m---------------------------------------------------------------------------\u001b[0m",
      "\u001b[1;31mTypeError\u001b[0m                                 Traceback (most recent call last)",
      "\u001b[1;32m~\\AppData\\Local\\Temp/ipykernel_8104/234449618.py\u001b[0m in \u001b[0;36m<module>\u001b[1;34m\u001b[0m\n\u001b[0;32m      1\u001b[0m \u001b[1;31m# contoh perulangan for pada dictionories\u001b[0m\u001b[1;33m\u001b[0m\u001b[1;33m\u001b[0m\u001b[0m\n\u001b[0;32m      2\u001b[0m \u001b[0mpet\u001b[0m \u001b[1;33m=\u001b[0m \u001b[1;33m{\u001b[0m\u001b[1;34m'foo'\u001b[0m\u001b[1;33m:\u001b[0m \u001b[1;36m1\u001b[0m\u001b[1;33m,\u001b[0m \u001b[1;34m'bar'\u001b[0m\u001b[1;33m:\u001b[0m \u001b[1;36m2\u001b[0m\u001b[1;33m,\u001b[0m \u001b[1;34m'baz'\u001b[0m\u001b[1;33m:\u001b[0m \u001b[1;36m3\u001b[0m\u001b[1;33m}\u001b[0m\u001b[1;33m\u001b[0m\u001b[1;33m\u001b[0m\u001b[0m\n\u001b[1;32m----> 3\u001b[1;33m \u001b[1;32mfor\u001b[0m \u001b[0mha\u001b[0m\u001b[1;33m[\u001b[0m\u001b[1;36m0\u001b[0m\u001b[1;33m]\u001b[0m \u001b[1;32min\u001b[0m \u001b[0mpet\u001b[0m\u001b[1;33m(\u001b[0m\u001b[1;33m)\u001b[0m\u001b[1;33m:\u001b[0m\u001b[1;33m\u001b[0m\u001b[1;33m\u001b[0m\u001b[0m\n\u001b[0m\u001b[0;32m      4\u001b[0m     \u001b[0mprint\u001b[0m\u001b[1;33m(\u001b[0m\u001b[0mpet\u001b[0m\u001b[1;33m[\u001b[0m\u001b[0mha\u001b[0m\u001b[1;33m]\u001b[0m\u001b[1;33m)\u001b[0m\u001b[1;33m\u001b[0m\u001b[1;33m\u001b[0m\u001b[0m\n",
      "\u001b[1;31mTypeError\u001b[0m: 'dict' object is not callable"
     ]
    }
   ],
   "source": [
    "# contoh perulangan for pada dictionories\n",
    "pet = {'foo': 1, 'bar': 2, 'baz': 3}\n",
    "for ha, va in pet.itemst():\n",
    "    print(k, \":\", v)"
   ]
  },
  {
   "cell_type": "markdown",
   "id": "59291a0a",
   "metadata": {},
   "source": [
    "### Range() function for loop\n",
    "Fungsi ini disebut built-in range(). Digunakan untuk mengembalikan itrable yang menghasilkan urutan bilangan Bulat."
   ]
  },
  {
   "cell_type": "code",
   "execution_count": 55,
   "id": "b68c4db7",
   "metadata": {},
   "outputs": [
    {
     "name": "stdout",
     "output_type": "stream",
     "text": [
      "0\n",
      "1\n",
      "2\n",
      "3\n",
      "4\n"
     ]
    }
   ],
   "source": [
    "# contoh range function\n",
    "# (range()) untuk mengembalikan iterable yang menghasilkan integer dimulai dari 0, sampai <end>.\n",
    "x = range(5)\n",
    "for n in x:\n",
    "    print(n)"
   ]
  },
  {
   "cell_type": "markdown",
   "id": "32bc7227",
   "metadata": {},
   "source": [
    "### Break and Continue statements for loop\n",
    "Dalam penggunaan perulangan untuk menghentikan perulangan python sudah menyediakan keyword break dan continue statement.\n",
    "- Break. Digunakan untuk menghentikan perluangan seluruhnya, Jika kondisi pernyataan terpenuhi.\n",
    "- Continue. Digunakan unntuk menghentikan perluangan, jika kondisi eksekusi sudah terpenuhi, eksekusi akan melompat ke blok ekspresi for loop atau bagian dari kepala loop."
   ]
  },
  {
   "cell_type": "code",
   "execution_count": 58,
   "id": "aed1d6c0",
   "metadata": {},
   "outputs": [
    {
     "name": "stdout",
     "output_type": "stream",
     "text": [
      "foo\n"
     ]
    }
   ],
   "source": [
    "# contoh penggunaan break pada for loop\n",
    "for i in ['foo', 'bar', 'baz', 'qux']:\n",
    "    if 'b' in i:\n",
    "        break\n",
    "    print(i)"
   ]
  },
  {
   "cell_type": "code",
   "execution_count": 59,
   "id": "98fc1792",
   "metadata": {},
   "outputs": [
    {
     "name": "stdout",
     "output_type": "stream",
     "text": [
      "foo\n",
      "qux\n"
     ]
    }
   ],
   "source": [
    "# contoh penggunaan continue pada for loop\n",
    "for i in ['foo', 'bar', 'baz', 'qux']:\n",
    "    if 'b' in i:\n",
    "        continue\n",
    "    print(i)"
   ]
  },
  {
   "cell_type": "markdown",
   "id": "03ec3c3c",
   "metadata": {},
   "source": [
    "### Else Clause for loop\n",
    "Pada perulangan for juga dapat memiliki klausa else. Klause else opsional akan dijalankan jika loop berakthir karena itrable habis."
   ]
  },
  {
   "cell_type": "code",
   "execution_count": 60,
   "id": "90a44342",
   "metadata": {},
   "outputs": [
    {
     "name": "stdout",
     "output_type": "stream",
     "text": [
      "foo\n",
      "bar\n",
      "baz\n",
      "qux\n",
      "Done.\n"
     ]
    }
   ],
   "source": [
    "# contoh penggunaan Else Clause pada for loop\n",
    "for i in ['foo', 'bar', 'baz', 'qux']:\n",
    "    print(i)\n",
    "else:\n",
    "    print('Done.')"
   ]
  },
  {
   "cell_type": "code",
   "execution_count": 62,
   "id": "2a183575",
   "metadata": {},
   "outputs": [
    {
     "name": "stdout",
     "output_type": "stream",
     "text": [
      "Masukkan temperatur yang ingin dikeonversikan, eg. 45F, 120C : 12C\n",
      "Temperaturnya adalah 54 derajat\n"
     ]
    }
   ],
   "source": [
    "tempe = input(\n",
    "    \"Masukkan temperatur yang ingin dikeonversikan, eg. 45F, 120C : \")\n",
    "degree = int(tempe[:-1])\n",
    "i_convertion = tempe[-1]\n",
    "\n",
    "if i_convertion == \"C\":\n",
    "    result = int(round((9*degree)/5+32))\n",
    "elif i_convertion == \"F\":\n",
    "    result = int(round((degree-32)*5/9))\n",
    "else:\n",
    "    print(\"Masukkan input yang benar\")\n",
    "\n",
    "print(\"Temperaturnya adalah\", result, \"derajat\")"
   ]
  },
  {
   "cell_type": "code",
   "execution_count": null,
   "id": "c7799e94",
   "metadata": {
    "scrolled": true
   },
   "outputs": [],
   "source": [
    "while True:\n",
    "    psn = input(\"masukkan karakter : \").lower()\n",
    "    print(psn)\n",
    "    if psn == 'stop':\n",
    "        break"
   ]
  },
  {
   "cell_type": "code",
   "execution_count": null,
   "id": "f265edc3",
   "metadata": {},
   "outputs": [],
   "source": [
    "while True:\n",
    "    lino = input('> ')\n",
    "    if lino[0] == '#':\n",
    "        continue\n",
    "    elif lino == 'done':\n",
    "        break\n",
    "    print(lino)\n",
    "print('Done!')"
   ]
  },
  {
   "cell_type": "markdown",
   "id": "d28c7e99",
   "metadata": {},
   "source": [
    "Sebuah iterable adalah obyek yang memiliki \"__iter__\" metode yang mengembalikan sebuah iterator , atau yang mendefinisikan \"__getitem__\" metode yang dapat mengambil indeks berurutan mulai dari nol (dan menimbulkan IndexErrorketika indeks tidak lagi berlaku). Jadi iterable adalah objek yang bisa Anda peroleh dari iterator .\n"
   ]
  },
  {
   "cell_type": "code",
   "execution_count": null,
   "id": "37d16520",
   "metadata": {},
   "outputs": [],
   "source": []
  },
  {
   "cell_type": "code",
   "execution_count": null,
   "id": "a4e7620b",
   "metadata": {},
   "outputs": [],
   "source": []
  }
 ],
 "metadata": {
  "kernelspec": {
   "display_name": "Python 3 (ipykernel)",
   "language": "python",
   "name": "python3"
  },
  "language_info": {
   "codemirror_mode": {
    "name": "ipython",
    "version": 3
   },
   "file_extension": ".py",
   "mimetype": "text/x-python",
   "name": "python",
   "nbconvert_exporter": "python",
   "pygments_lexer": "ipython3",
   "version": "3.9.7"
  },
  "toc": {
   "base_numbering": 1,
   "nav_menu": {},
   "number_sections": true,
   "sideBar": true,
   "skip_h1_title": false,
   "title_cell": "Table of Contents",
   "title_sidebar": "Contents",
   "toc_cell": false,
   "toc_position": {},
   "toc_section_display": true,
   "toc_window_display": false
  }
 },
 "nbformat": 4,
 "nbformat_minor": 5
}
