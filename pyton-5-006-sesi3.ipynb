{
 "cells": [
  {
   "cell_type": "markdown",
   "id": "bda007ae",
   "metadata": {},
   "source": [
    "# Function \n",
    "Sebuah Kumpulan perintah atau baris kode yang dikelompokkan menjadi satu kesatuan untuk kemudian bisa dipanggil atau digunakan berkali-kali. Dengan fungsi bertujuan untuk mengembalikan suatu nilai.\n",
    "\n",
    "Python mempunyai banyak fungsi __built-in funciton__ seperti _print()_, dll. Dan Python juga mendukung untuk pengguna dapat membuat fungsi sendiri, fungsi tersebut digunakan untuk membuat kode program kita menjadi lebih “reusable” dan lebih terstruktur."
   ]
  },
  {
   "cell_type": "markdown",
   "id": "135f8764",
   "metadata": {},
   "source": [
    "Beberapa aturan untuk pengguna dapat membuat sebuah function : dimulai dengan keyword __def__ dan diikuti dengan __variabel__ fungsi dan __parameter dalam tanda kurung__ _(())_. Blok kode untuk memulai fungsi diberi tanda __(:)__ dan diberi __indentasi (jarak)__.\n",
    "\n",
    "Pada Statement __return [expresion]__ berfungsi untuk  mengembalikan eksekusinya keluar dari jalur fungsi diatas dan meneruskan ekspresi ke si pemanggil."
   ]
  },
  {
   "cell_type": "markdown",
   "id": "34e67353",
   "metadata": {},
   "source": [
    "```python\n",
    "def nama_fungsi(parameters):\n",
    "    \"doctstring\"              # dokumentasi dari fungsi\n",
    "    statement(s)\n",
    "```"
   ]
  },
  {
   "cell_type": "markdown",
   "id": "0f213d69",
   "metadata": {},
   "source": [
    "Pada doctsring adalah dokumentasi ke definisi fungsi dengan menyertakan literal string \n",
    "tepat setelah header fungsi. Docstrings biasanya dikutip tiga kali untuk memungkinkan deskripsi multi-baris.\n",
    "\n",
    "Penggunaanya menggunakan tanda kutip tiga kali ___(\"\"\")___ dan ditutupi tanda kutip tiga kali"
   ]
  },
  {
   "cell_type": "code",
   "execution_count": 21,
   "id": "9fe64b5d",
   "metadata": {},
   "outputs": [],
   "source": [
    "def hello():\n",
    "    \"\"\"This function prints\n",
    "       message on the screen\"\"\"  \n",
    "    print('Hello, World!')"
   ]
  },
  {
   "cell_type": "code",
   "execution_count": 22,
   "id": "3b0a9cd3",
   "metadata": {},
   "outputs": [
    {
     "name": "stdout",
     "output_type": "stream",
     "text": [
      "Help on function hello in module __main__:\n",
      "\n",
      "hello()\n",
      "    This function prints\n",
      "    message on the screen\n",
      "\n"
     ]
    }
   ],
   "source": [
    "# Print docstring in rich format\n",
    "help(hello)"
   ]
  },
  {
   "cell_type": "markdown",
   "id": "253640e0",
   "metadata": {},
   "source": [
    "## Passed by Reference vs Value\n",
    "Pengguna List dapat mengubah apa yang dirujuk oleh parameter dalam suatu fungsi, Perubahan tersebut juga dapat dikembali ke fungsi pemanggil."
   ]
  },
  {
   "cell_type": "code",
   "execution_count": 23,
   "id": "c711047c",
   "metadata": {},
   "outputs": [
    {
     "name": "stdout",
     "output_type": "stream",
     "text": [
      "Values inside the function :  [10, 20, 30, [1, 2, 3, 4]]\n",
      "Values outside the function :  [10, 20, 30, [1, 2, 3, 4]]\n"
     ]
    }
   ],
   "source": [
    "def changeme(mylist):\n",
    "    mylist.append([1, 2, 3, 4])\n",
    "    print(\"Values inside the function : \", mylist)\n",
    "    return\n",
    "\n",
    "\n",
    "mylist = [10, 20, 30]\n",
    "changeme(mylist)\n",
    "print(\"Values outside the function : \", mylist)"
   ]
  },
  {
   "cell_type": "markdown",
   "id": "025099e5",
   "metadata": {},
   "source": [
    "Pada argumen dibawah ini value akan diteruskan oleh reference dan reference akan di overwrite didalam fungsi pemanggill"
   ]
  },
  {
   "cell_type": "code",
   "execution_count": 24,
   "id": "0608eb8a",
   "metadata": {},
   "outputs": [
    {
     "name": "stdout",
     "output_type": "stream",
     "text": [
      "Values inside the function :  [1, 2, 3, 4]\n",
      "Values outside the function :  [10, 20, 30]\n"
     ]
    }
   ],
   "source": [
    "def changeme(mylist):\n",
    "    # pada perintah ini list akan memberikan reference baru\n",
    "    mylist = [1, 2, 3, 4]\n",
    "    print(\"Values inside the function : \", mylist)\n",
    "    return\n",
    "\n",
    "\n",
    "mylist = [10, 20, 30]\n",
    "changeme(mylist)\n",
    "print(\"Values outside the function : \", mylist)"
   ]
  },
  {
   "cell_type": "markdown",
   "id": "d66a94a2",
   "metadata": {},
   "source": [
    "## Tipe Argumen"
   ]
  },
  {
   "cell_type": "markdown",
   "id": "f3a379dc",
   "metadata": {},
   "source": [
    "### Required Argumen\n",
    "Pada Argumen ini yang diteruskan ke suatu fungsi dalam urutan posisi yang benar. \"__Pada argumen dalam pemanggilan fungsi harus sama persis dengan function definition__\""
   ]
  },
  {
   "cell_type": "code",
   "execution_count": 30,
   "id": "07b7607a",
   "metadata": {},
   "outputs": [
    {
     "name": "stdout",
     "output_type": "stream",
     "text": [
      "Masukkan nama Anda : thendro \n",
      "Masukkan pekerjaan anda : kuliah\n",
      "thendro   sedang  kuliah\n"
     ]
    }
   ],
   "source": [
    "def tmpil(nama,kerja):\n",
    "    print(nama,' sedang ',kerja)\n",
    "\n",
    "data=input('Masukkan nama Anda : '), input('Masukkan pekerjaan anda : ')\n",
    "tmpil(data[0],data[1])\n"
   ]
  },
  {
   "cell_type": "markdown",
   "id": "b7eb7530",
   "metadata": {},
   "source": [
    "### Keyword Argumen\n",
    "Pada Keyword arguments berkaitan dengan pemanggilan fungsi. Kamu dapat menggunakan Keyword arguments untuk menunjuk keyword argumen yang dipanggil oleh fungsi, pemanggil mengidentifikasi argumen dengan nama parameter. Hal ini memungkinkan kalian untuk melewati argumen atau menempatkannya tidak berurutan karena interpreter Python dapat menggunakan kata kunci yang disediakan untuk mencocokkan nilai dengan parameter. Kalian juga dapat membuat panggilan kata kunci ke fungsi printme() dengan cara berikut:\n"
   ]
  },
  {
   "cell_type": "code",
   "execution_count": 16,
   "id": "2b5339b0",
   "metadata": {},
   "outputs": [
    {
     "name": "stdout",
     "output_type": "stream",
     "text": [
      "Nama :  thendro\n",
      "Umur :  20\n"
     ]
    }
   ],
   "source": [
    "def printme(nama, umur):\n",
    "    \"This Print a passed string into this function\"\n",
    "    print(\"Nama : \", nama)\n",
    "    print(\"Umur : \", umur)\n",
    "    return\n",
    "\n",
    "\n",
    "printme(nama='thendro', umur='20')"
   ]
  },
  {
   "cell_type": "markdown",
   "id": "3e496d9b",
   "metadata": {},
   "source": [
    "### Default Argumen\n",
    "Argumen yang mengasumsikan nilai default jika nilai tidak disediakan dalam pemanggilan fungsi untuk argumen tersebut. Contoh berikut memberikan gambaran tentang Default argument, dia akan mencetak usia default jika tidak diberikan nilai apapun."
   ]
  },
  {
   "cell_type": "code",
   "execution_count": 17,
   "id": "7cb9e447",
   "metadata": {},
   "outputs": [
    {
     "name": "stdout",
     "output_type": "stream",
     "text": [
      "Nama :  thendro\n",
      "Umur :  18\n",
      "Nama :  Hutajulu\n",
      "Umur :  21\n"
     ]
    }
   ],
   "source": [
    "def printme(nama, umur=18):\n",
    "    \"This Print a passed string into this function\"\n",
    "    print(\"Nama : \", nama)\n",
    "    print(\"Umur : \", umur)\n",
    "    return\n",
    "\n",
    "\n",
    "printme(nama='thendro')\n",
    "printme(nama='Hutajulu', umur='21')"
   ]
  },
  {
   "cell_type": "markdown",
   "id": "3a215e2e",
   "metadata": {},
   "source": [
    "### Variable Length Arguments\n",
    "Digunakan untuk memproses suatu fungsi dengan banyak argumen. Argumen ini disebut variable-length arguments dan tidak diberi nama ketika definisi fungsi, tidak seperti required dan default arguments."
   ]
  },
  {
   "cell_type": "markdown",
   "id": "e4e397d0",
   "metadata": {},
   "source": [
    "Sintaks untuk fungsi dengan non-keyword variable arguments adalah sebagai berikut: \n",
    "```python\n",
    "def  function_name([formal_args], *var_args_tuples): \n",
    "    \"function doctstring\"\n",
    "    function_suite\n",
    "    return [expresion]\n",
    "```\n",
    "__*arg__\n",
    "Saat Anda mengawali parameter dengan asterisk *, parameter tersebut mengumpulkan semua argumen posisi yang tidak cocok ke dalam sebuah tuple. Karena ini adalah objek Tuple normal, Anda dapat melakukan operasi apa pun yang didukung oleh Tuple, seperti pengindeksan, iterasi, dll.\n"
   ]
  },
  {
   "cell_type": "markdown",
   "id": "743df2d0",
   "metadata": {},
   "source": [
    "__tanda bintang (*)__ ditempatkan sebelum nama variabel yang menyimpan nilai dari semua non-keyword variable arguments. Tuples tersebut tetap kosong, jika tidak ada argumen tambahan yang ditentukan selama pemanggilan fungsi."
   ]
  },
  {
   "cell_type": "code",
   "execution_count": 4,
   "id": "af090e49",
   "metadata": {},
   "outputs": [
    {
     "name": "stdout",
     "output_type": "stream",
     "text": [
      "<class 'tuple'>\n",
      "(1, 54, 60, 8, 98, 12)\n"
     ]
    }
   ],
   "source": [
    "# *args\n",
    "def print_arguments(*args):\n",
    "    print(type(args))\n",
    "    print(args)\n",
    "\n",
    "\n",
    "print_arguments(1, 54, 60, 8, 98, 12)"
   ]
  },
  {
   "cell_type": "code",
   "execution_count": 5,
   "id": "d7de0228",
   "metadata": {},
   "outputs": [
    {
     "name": "stdout",
     "output_type": "stream",
     "text": [
      "Output is: \n",
      "10\n",
      "()\n",
      "<class 'tuple'>\n",
      "function done\n",
      "Output is: \n",
      "70\n",
      "(60, 50, 'a')\n",
      "<class 'tuple'>\n",
      "60\n",
      "50\n",
      "a\n",
      "function done\n",
      "Output is: \n",
      "This prints a variable passed arguments\n",
      "()\n",
      "<class 'tuple'>\n",
      "function done\n",
      "Output is: \n",
      "1\n",
      "('Hello', 12, 4, 5, 6, 'Apa kabar')\n",
      "<class 'tuple'>\n",
      "Hello\n",
      "12\n",
      "4\n",
      "5\n",
      "6\n",
      "Apa kabar\n",
      "function done\n",
      "Output is: \n",
      "1\n",
      "('Hello', 12, 4, 5, 6, 20)\n",
      "<class 'tuple'>\n",
      "Hello\n",
      "12\n",
      "4\n",
      "5\n",
      "6\n",
      "20\n",
      "function done\n",
      "Output is: \n",
      "1\n",
      "('Hello', 12, 4, 5, 6, {0, 1, 2, 4, 5})\n",
      "<class 'tuple'>\n",
      "Hello\n",
      "12\n",
      "4\n",
      "5\n",
      "6\n",
      "{0, 1, 2, 4, 5}\n",
      "function done\n"
     ]
    }
   ],
   "source": [
    "# Function definition is here\n",
    "def printinfo(arg1, *vartuple):\n",
    "    \"This prints a variable passed arguments\"\n",
    "    print(\"Output is: \")\n",
    "    print(arg1)\n",
    "    print(vartuple)\n",
    "    print(type(vartuple))\n",
    "    for var in vartuple:\n",
    "        print(var)\n",
    "\n",
    "    print(\"function done\")\n",
    "    return\n",
    "\n",
    "\n",
    "# Now you can call printinfo function\n",
    "printinfo(10)  # run here\n",
    "printinfo(70, 60, 50, \"a\")  # open remark ?\n",
    "printinfo(printinfo.__doc__)  # open remark ?\n",
    "printinfo(1, \"Hello\", 12, 4, 5, 6, \"Apa kabar\")\n",
    "\n",
    "printinfo(1, \"Hello\", 12, 4, 5, 6, 10 * 2)\n",
    "\n",
    "# dapat melakukan operasi  apa pun yang didukung oleh Tuple, seperti pengindeksan,\n",
    "printinfo(1, \"Hello\", 12, 4, 5, 6, set({1, 5, 2, 0, 4}))"
   ]
  },
  {
   "cell_type": "markdown",
   "id": "acb22b88",
   "metadata": {},
   "source": [
    "##### **kwargs\n",
    "    parameter tersebut mengumpulkan semua argumen posisi yang tidak cocok ke dalam sebuah dictonary {} \n",
    "    \n",
    "    dimana nama argument sebagai key dictionary dan value sebagai value dari dictionary "
   ]
  },
  {
   "cell_type": "code",
   "execution_count": 7,
   "id": "65539deb",
   "metadata": {},
   "outputs": [
    {
     "name": "stdout",
     "output_type": "stream",
     "text": [
      "{'name': 'Ketut', 'age': 40, 'job': 'dev'}\n"
     ]
    }
   ],
   "source": [
    "def print_arguments(**kwargs):\n",
    "    print(kwargs)\n",
    "\n",
    "\n",
    "# Prints {'name': 'Ketut', 'age': 40, 'job': 'dev'}\n",
    "print_arguments(name='Ketut', age=40, job='dev')"
   ]
  },
  {
   "cell_type": "code",
   "execution_count": 12,
   "id": "9380bab2",
   "metadata": {},
   "outputs": [
    {
     "name": "stdout",
     "output_type": "stream",
     "text": [
      "jumlah :  3\n",
      "var a sekarang : 3 dan variabel jumlah sekarang :  6\n",
      "var a sekarang : 4 dan variabel jumlah sekarang :  10\n",
      "isi variabel k : k1  isi var v :  5 dan variabel jumlah sekarang :  15\n",
      "isi variabel k : k2  isi var v :  6 dan variabel jumlah sekarang :  21\n",
      "21\n"
     ]
    }
   ],
   "source": [
    "def add(x, y, *args, **kwargs):\n",
    "    sum = x + y\n",
    "    print('jumlah : ', sum)\n",
    "    for a in args:\n",
    "        sum += a\n",
    "        print('var a sekarang :', a, 'dan variabel', 'jumlah sekarang : ', sum)\n",
    "\n",
    "    for k, v in kwargs.items():\n",
    "        sum += v\n",
    "        print('isi variabel k :', k, ' isi var v : ', v,\n",
    "              'dan variabel', 'jumlah sekarang : ', sum,)\n",
    "    return sum\n",
    "\n",
    "\n",
    "total = add(1, 2, *(3, 4), **{\"k1\": 5, \"k2\": 6})\n",
    "print(total)"
   ]
  },
  {
   "cell_type": "markdown",
   "id": "3e214d4f",
   "metadata": {},
   "source": [
    "### The Return Statement\n",
    "Statement return [expression] menyebabkan kita keluar dari suatu fungsi, dan secara opsional meneruskan \n",
    "ekspresi ke pemanggil. Pernyataan return tanpa argumen sama dengan return None.\n",
    "\n",
    "Semua contoh di atas tidak mengembalikan nilai apa pun. Kalian dapat mengembalikan nilai \n",
    "dari fungsi sebagai berikut:"
   ]
  },
  {
   "cell_type": "code",
   "execution_count": 13,
   "id": "e8d4f0ad",
   "metadata": {},
   "outputs": [
    {
     "name": "stdout",
     "output_type": "stream",
     "text": [
      "Inside the function :  30\n",
      "Outside the function :  40\n"
     ]
    }
   ],
   "source": [
    "# Function definition is here\n",
    "def sum(arg1, arg2):\n",
    "    # Add both the parameters and return them.\"\n",
    "    total = arg1 + arg2  # total = 30\n",
    "    total2 = total + arg1  # total2 = 30 + 10 = 40\n",
    "    print(\"Inside the function : \", total)  # 30\n",
    "    return total2\n",
    "\n",
    "\n",
    "# Now you can call sum function\n",
    "total = sum(10, 20)\n",
    "print(\"Outside the function : \", total)"
   ]
  },
  {
   "cell_type": "markdown",
   "id": "c5fa494a",
   "metadata": {},
   "source": [
    "### Return Multiple Values\n",
    "Python memiliki kemampuan untuk mengembalikan beberapa nilai, dengan memisahkan nilai kembaliannya dengan koma . "
   ]
  },
  {
   "cell_type": "code",
   "execution_count": 14,
   "id": "ad80c00c",
   "metadata": {},
   "outputs": [
    {
     "name": "stdout",
     "output_type": "stream",
     "text": [
      "10\n"
     ]
    }
   ],
   "source": [
    "a, b, c = (10, 20, 30)\n",
    "print(a)"
   ]
  },
  {
   "cell_type": "code",
   "execution_count": 15,
   "id": "0532aa1e",
   "metadata": {},
   "outputs": [
    {
     "name": "stdout",
     "output_type": "stream",
     "text": [
      "(5, 1)\n",
      "<class 'tuple'>\n"
     ]
    }
   ],
   "source": [
    "# Return addition and subtraction in a tuple\n",
    "def func(a, b):\n",
    "    return a + b, a - b\n",
    "\n",
    "\n",
    "result = func(3, 2)\n",
    "\n",
    "print(result)\n",
    "print(type(result))"
   ]
  },
  {
   "cell_type": "code",
   "execution_count": 16,
   "id": "4af97e48",
   "metadata": {},
   "outputs": [
    {
     "name": "stdout",
     "output_type": "stream",
     "text": [
      "Masukan Nilai A :5\n",
      "<class 'int'>\n",
      "Isi dari X : 95\n",
      "Isi dari Y : -85\n"
     ]
    }
   ],
   "source": [
    "## Saat Anda mengembalikan beberapa nilai, \n",
    "## Python sebenarnya mengemasnya dalam satu Tuple dan mengembalikannya. \n",
    "# kita bisa melakukan unpack ke dalam variabel \n",
    "a = int(input(\"Masukan Nilai A :\"))\n",
    "print(type(a))\n",
    "x, y = func(int(a),90)\n",
    "print(f\"Isi dari X : {x}\" )\n",
    "print(f\"Isi dari Y : {y}\" )"
   ]
  },
  {
   "cell_type": "markdown",
   "id": "69f0d5ce",
   "metadata": {},
   "source": [
    "### Calling Function"
   ]
  },
  {
   "cell_type": "code",
   "execution_count": 3,
   "id": "36a7f5fd",
   "metadata": {},
   "outputs": [
    {
     "name": "stdout",
     "output_type": "stream",
     "text": [
      "I'm first call to user defined function!\n",
      "Again second call to the same function\n"
     ]
    }
   ],
   "source": [
    "# Function definition is here\n",
    "def printme( str ):\n",
    "   \"This prints a passed string into this function\"\n",
    "   print(str)\n",
    "   return;\n",
    "\n",
    "# Now you can call printme function\n",
    "printme(\"I'm first call to user defined function!\")\n",
    "printme(\"Again second call to the same function\")"
   ]
  },
  {
   "cell_type": "markdown",
   "id": "ee94b4a3",
   "metadata": {},
   "source": [
    "## Fungsi Rekursion\n",
    "Fungsi rekursif adalah fungsi yang memanggil dirinya sendiri dan mengulangi perilakunya sampai beberapa kondisi terpenuhi untuk mengembalikan hasil.\n",
    "\n",
    "Dalam contoh di bawah ini, countdown() adalah fungsi rekursif yang memanggil dirinya sendiri (recurse) ke countdown. Jika num adalah 0 atau negatif, ia mencetak kata \"Stop\". Jika tidak, ia mencetak num dan kemudian memanggil dirinya sendiri, meneruskan num-1 sebagai argumen."
   ]
  },
  {
   "cell_type": "code",
   "execution_count": 18,
   "id": "6f28f374",
   "metadata": {},
   "outputs": [],
   "source": [
    "def countdown(num):\n",
    "    newnum = 0            # 3                # 2                        # 1\n",
    "    if num <= 1:\n",
    "        print('Stop')\n",
    "        newnum = num\n",
    "        # print(newvar)\n",
    "        return newnum\n",
    "    else:\n",
    "        print(num)           # print 3             # 2                     # 1\n",
    "        newnum = countdown(num-1)\n",
    "\n",
    "    return newnum  # num = 3-1 = 2      # num =  2 -1  = 1        num 1          0"
   ]
  },
  {
   "cell_type": "code",
   "execution_count": 19,
   "id": "24104dc4",
   "metadata": {},
   "outputs": [
    {
     "name": "stdout",
     "output_type": "stream",
     "text": [
      "3\n",
      "2\n",
      "Stop\n",
      "1\n"
     ]
    }
   ],
   "source": [
    "hasilakhir = countdown(3)\n",
    "print(hasilakhir)"
   ]
  },
  {
   "cell_type": "markdown",
   "id": "ff9b131b",
   "metadata": {},
   "source": [
    "## Anonymous Function\n",
    "Disebut anonymous karena tidak dideklarasikan dengan cara standar dengan menggunakan keyword __def__. Pada penggunaan function ini menggunakan keyword __Lambda__.\n",
    "\n",
    "Beberapa sifat __lambda__.\n",
    "- Dapat mengambil berapapun argumen tetapi hanya mengembalikan satu nilai dalam bentuk expression. Penggunaanya tidak boleh berisi commands atau multiple expressions. \n",
    "- Anonymous function tidak bisa dipanggil langsung melalui print karena __lambda__ memerlukan expression \n",
    "- Memiliki namespace local sendiri dan tidak dapat mengakses variabel selain yang ada di daftar parameternya namespace global.\n"
   ]
  },
  {
   "cell_type": "code",
   "execution_count": 20,
   "id": "6513a4d6",
   "metadata": {},
   "outputs": [
    {
     "name": "stdout",
     "output_type": "stream",
     "text": [
      "Value total :  71.0\n",
      "Value total :  71.0\n"
     ]
    }
   ],
   "source": [
    "# bentuk lainnya\n",
    "def sum2(arg1, arg2): return arg1 + arg2\n",
    "def sum(arg1, arg2): return arg1+arg2\n",
    "\n",
    "\n",
    "print(\"Value total : \", sum2(40.5, 30.5))\n",
    "print(\"Value total : \", sum(40.5, 30.5))"
   ]
  },
  {
   "cell_type": "markdown",
   "id": "87daa7a4",
   "metadata": {},
   "source": [
    "## Statement Return\n",
    "Pada [expression] ini, menyebabkan kamu keluar dari suatu fungsi, dan secara opsional meneruskan ekspresi ke pemanggil. Pernyataan return tanpa argumen sama dengan return None."
   ]
  },
  {
   "cell_type": "code",
   "execution_count": 1,
   "id": "77d91256",
   "metadata": {},
   "outputs": [
    {
     "name": "stdout",
     "output_type": "stream",
     "text": [
      "Inside the function :  70\n",
      "Outside the Function :  100\n"
     ]
    }
   ],
   "source": [
    "def penjumlahan(ar1, ar2):\n",
    "    # Add both parameters and return them\".\n",
    "    t1 = ar1+ar2\n",
    "    t2 = t1+ar1\n",
    "    print(\"Inside the function : \", t1)\n",
    "    return t2;\n",
    "\n",
    "\n",
    "t2 = penjumlahan(30, 40)\n",
    "print(\"Outside the Function : \", t2)"
   ]
  },
  {
   "cell_type": "markdown",
   "id": "eef230d0",
   "metadata": {},
   "source": [
    "## Scope Variable\n",
    "Adanya Keterbatasan semua variabel di program tidak dapat diakses di semua lokasi. Ini Tergantung di mana kalian mendeklarasikan variabel."
   ]
  },
  {
   "cell_type": "markdown",
   "id": "9034597a",
   "metadata": {},
   "source": [
    "### global variable\n",
    "global variabel didefinisikan di luar lingkup global. Ini berarti pada Variabel global dapat diakses di seluruh badan program oleh semua fungsi."
   ]
  },
  {
   "cell_type": "markdown",
   "id": "9a7f7922",
   "metadata": {},
   "source": [
    "### local variable\n",
    "local variabel didefinisikan dalam tubuh fungsi adalah lingkup lokal. Sedangkan variabel lokal hanya dapat diakses di dalam fungsi yang dideklarasikan saja."
   ]
  },
  {
   "cell_type": "code",
   "execution_count": 9,
   "id": "eb993267",
   "metadata": {},
   "outputs": [
    {
     "name": "stdout",
     "output_type": "stream",
     "text": [
      "total jumlah hewan :  70\n",
      "total jumlah kelinci :  80\n"
     ]
    }
   ],
   "source": [
    "jmlh_kuching = 40\n",
    "\n",
    "\n",
    "def jmlh_hewan():\n",
    "    jmlh_anjing = 30\n",
    "    return jmlh_kuching+jmlh_anjing\n",
    "\n",
    "\n",
    "def jmlh_kelinci():\n",
    "    return jmlh_kuching+jmlh_kuching\n",
    "\n",
    "\n",
    "print(\"total jumlah hewan : \", jmlh_hewan())\n",
    "print(\"total jumlah kelinci : \", jmlh_kelinci())"
   ]
  },
  {
   "cell_type": "markdown",
   "id": "175710ff",
   "metadata": {},
   "source": [
    "## Latihan "
   ]
  },
  {
   "cell_type": "code",
   "execution_count": 55,
   "id": "a20c3937",
   "metadata": {},
   "outputs": [
    {
     "name": "stdout",
     "output_type": "stream",
     "text": [
      "1\n",
      "Masukkan pengeluaran : tomat\n",
      "Masukkan Harga : 80000\n",
      "{'tomat': 80000}\n"
     ]
    }
   ],
   "source": [
    "n = int(input())          #n is the number of items you want to enter\n",
    "d ={}                     \n",
    "for i in range(n):        \n",
    "    text = str(input('Masukkan pengeluaran : ')) #split the input text based on space & store in the list 'text'\n",
    "    price = int(input('Masukkan Harga : '))\n",
    "    d[text] = price       #assign the 1st item to key and 2nd item to value of the dictionary\n",
    "print(d)"
   ]
  },
  {
   "cell_type": "code",
   "execution_count": 56,
   "id": "c2cbc8bb",
   "metadata": {},
   "outputs": [
    {
     "name": "stdout",
     "output_type": "stream",
     "text": [
      "masukkan karakter : black\n",
      "black\n",
      "masukkan karakter : stop\n",
      "stop\n"
     ]
    }
   ],
   "source": [
    "while True:\n",
    "    psn = input(\"masukkan karakter : \").lower()\n",
    "    print(psn)\n",
    "    if psn == 'stop':\n",
    "        break"
   ]
  },
  {
   "cell_type": "markdown",
   "id": "13502f5a",
   "metadata": {},
   "source": []
  },
  {
   "cell_type": "code",
   "execution_count": null,
   "id": "3bb09740",
   "metadata": {},
   "outputs": [
    {
     "name": "stdout",
     "output_type": "stream",
     "text": [
      "Masukkan pengeluaran : mdksamdk\n",
      "Masukkan Harga : 15000\n",
      "Masukkan pengeluaran : dasd\n",
      "Masukkan Harga : 9000\n",
      "Masukkan pengeluaran : dasdas\n",
      "Masukkan Harga : 25000\n",
      "Masukkan pengeluaran : dasdas\n",
      "Masukkan Harga : 20000\n",
      "Masukkan pengeluaran : dasdas\n",
      "Masukkan Harga : 25000\n",
      "Masukkan pengeluaran : dasdas3\n",
      "Masukkan Harga : 30000\n",
      "Masukkan pengeluaran : dasdas\n",
      "Masukkan Harga : 15000\n"
     ]
    }
   ],
   "source": [
    "dicti = {}\n",
    "while True:\n",
    "    # split the input text based on space & store in the list 'text'\n",
    "    pengeluaran = str(input('Masukkan pengeluaran : '))\n",
    "    if pengeluaran == 'stop':\n",
    "        break\n",
    "    price = int(input('Masukkan Harga : '))\n",
    "    # assign the 1st item to key and 2nd item to value of the dictionary\n",
    "    dicti[pengeluaran] = price\n",
    "print(dicti)\n",
    "\n",
    "for var in dicti.values():\n",
    "    sum+=var\n",
    "    \n",
    "print(sum)\n",
    "    \n",
    "bayar=int(input('masukkan pengeluaran anda : '))    "
   ]
  },
  {
   "cell_type": "code",
   "execution_count": 79,
   "id": "45c08448",
   "metadata": {},
   "outputs": [
    {
     "name": "stdout",
     "output_type": "stream",
     "text": [
      "139000\n"
     ]
    },
    {
     "data": {
      "text/plain": [
       "{'dkamnsdk': 15000,\n",
       " 'mdkasmdka': 9000,\n",
       " 'dmnkasnmd': 25000,\n",
       " 'dnasjnj': 20000,\n",
       " 'djnasjdn': 25000,\n",
       " 'ndjasd': 30000,\n",
       " 'dkasmndk': 15000}"
      ]
     },
     "execution_count": 79,
     "metadata": {},
     "output_type": "execute_result"
    }
   ],
   "source": [
    "print(15000+9000+25000+20000+25000+30000+15000)\n",
    "dicti"
   ]
  },
  {
   "cell_type": "code",
   "execution_count": 50,
   "id": "8137830a",
   "metadata": {},
   "outputs": [
    {
     "name": "stdout",
     "output_type": "stream",
     "text": [
      "Enter the student record need to add :2\n",
      "Enter the student name :thendro\n",
      "Enter the ['thendro'] age :21\n",
      "Enter the ['thendro'] grade :22\n",
      "Enter the student name :cinong\n",
      "Enter the ['cinong'] age :20\n",
      "Enter the ['cinong'] grade :21\n",
      "{'thendro': {'22', '2'}, 'cinong': {'21', '2'}}\n"
     ]
    }
   ],
   "source": [
    "\n",
    "record = int(input(\"Enter the student record need to add :\"))\n",
    "\n",
    "stud_data={}\n",
    "\n",
    "for i in range(0,record):\n",
    "    Name = input(\"Enter the student name :\").split()\n",
    "    Age = input(\"Enter the {} age :\".format(Name))\n",
    "    Grade = input(\"Enter the {} grade :\".format(Name)).split()\n",
    "    Nam_key =  Name[0]\n",
    "    Age_value = Age[0]\n",
    "    Grade_value = Grade[0]\n",
    "    stud_data[Nam_key] = {Age_value,Grade_value}\n",
    "\n",
    "print(stud_data)"
   ]
  },
  {
   "cell_type": "markdown",
   "id": "537fc07b",
   "metadata": {},
   "source": [
    "# Module \n",
    "Pemrograman modular mengacu pada proses pemecahan tugas pemrograman yang besar dan berat menjadi subtugas atau modul yang terpisah, lebih kecil, dan lebih mudah dikelola. Modul individu kemudian dapat digabungkan seperti blok bangunan untuk membuat aplikasi yang lebih besar. \n",
    "\n",
    "Ada beberapa keuntungan memodularisasi kode dalam aplikasi besar: \n",
    "- Simplicity: Daripada berfokus pada keseluruhan masalah yang dihadapi, modul biasanya berfokus pada satu bagian masalah yang relatif kecil. Jika kalian mengerjakan satu modul, kalian akan memiliki domain masalah yang lebih kecil untuk dipahami. Ini membuat development lebih mudah dan less error. \n",
    "- Maintainability: Modul biasanya dirancang sedemikian rupa sehingga menerapkan logical boundaries antara domain masalah yang berbeda. Jika modul ditulis dengan cara yang meminimalkan ketergantungan, ada kemungkinan kecil bahwa modifikasi pada satu modul akan berdampak pada bagian lain dari program. (Kalian bahkan dapat membuat perubahan pada modul tanpa memiliki knowledge apa pun tentang aplikasi di luar modul tersebut.) Hal ini membuat modul lebih cocok bagi tim yang terdiri dari banyak programmer untuk bekerja secara kolaboratif pada aplikasi besar. \n",
    "- Reusability: Fungsi yang didefinisikan dalam satu modul dapat dengan mudah digunakan kembali/reused oleh bagian lain dari aplikasi. Hal ini menghilangkan kebutuhan untuk membuat duplicate code. \n",
    "- Scoping: Modul biasanya mendefinisikan namespace secara  terpisah, yang membantu menghindari tabrakan antara identifiers di berbagai area program.\n"
   ]
  },
  {
   "cell_type": "markdown",
   "id": "c55120a7",
   "metadata": {},
   "source": [
    "\n",
    "\n",
    "* Module dapat ditulis dengan bahasa Python itu sendiri.\n",
    "* Module dapat ditulis dalam C dan di-load secara dinamis pada saat run-time, seperti modul  (ekspresi reguler).\n",
    "* Built-in module secara intrinsik terdapat dalam interpreter, seperti modul itertools.\n",
    "\n",
    "    Isi modul diakses dengan cara yang sama dalam ketiga kasus diatas: dengan import statement.\n",
    "    \n",
    "    Di sini, fokusnya sebagian besar ada pada modul yang ditulis dengan Python. Hal yang menguntungkan tentang \n",
    "    modul yang ditulis dengan Python adalah module sangat mudah dibuat. Yang perlu kalian lakukan adalah membuat \n",
    "    file yang berisi kode Python dan kemudian memberi nama file dengan ekstensi .py.\n",
    "\n",
    "    Misalnya, kalian buat sebuah file bernama mod.py dengan isi sebagai berikut:\n",
    "    \n",
    "    Menggunakan Visual Studio / Editor lain "
   ]
  },
  {
   "cell_type": "markdown",
   "id": "aab71042",
   "metadata": {},
   "source": [
    "```python\n",
    "# mod.py \n",
    "s = \"Hacktiv8-PTP Python For Data Science\"\n",
    "a = [100, 200, 300]\n",
    "\n",
    "def foo(arg):\n",
    "    print(f'arg = {arg}')\n",
    "\n",
    "class Foo:\n",
    "    pass\n",
    "```"
   ]
  },
  {
   "cell_type": "code",
   "execution_count": 7,
   "id": "c1110b15",
   "metadata": {},
   "outputs": [],
   "source": [
    "import my_mod as mod"
   ]
  },
  {
   "cell_type": "code",
   "execution_count": 9,
   "id": "d7f44308",
   "metadata": {},
   "outputs": [],
   "source": [
    "mod.a\n",
    "arg=['quux', 'corge', 'grault']"
   ]
  },
  {
   "cell_type": "code",
   "execution_count": 10,
   "id": "04c85c8f",
   "metadata": {},
   "outputs": [
    {
     "name": "stdout",
     "output_type": "stream",
     "text": [
      "arg = ['quux', 'corge', 'grault']\n"
     ]
    }
   ],
   "source": [
    "mod.foo(arg)"
   ]
  },
  {
   "cell_type": "markdown",
   "id": "3585944c",
   "metadata": {},
   "source": [
    "      Notes. Dalam penggunaanya jika perubahan syntax didalam sebuah file dari built-in module (.py) dalam pemanggilannya kernel juga harus di reset.\n",
    "      \n",
    "Penggunaan System.Path Ketika interpreter menjalankan pernyataan import di atas, ia mencari mod.py dalam daftar direktori dari sumber berikut: \n",
    "* Direktori tempat skrip input dijalankan atau direktori saat ini jika interpreter dijalankan secara interaktif.\n",
    "* The list of directories contained in the PYTHONPATH environment variable, if it is set. (The format for PYTHONPATH is OS-dependent but should mimic the PATH environment variable.).\n",
    "* Daftar direktori yang terdapat dalam variabel PYTHONPATH environment. (Format untuk PYTHONPATH bergantung pada OS tetapi harus sama dengan variabel PATH environment.).\n",
    "* Daftar direktori yang bergantung pada instalasi yang dikonfigurasi pada saat Python diinstal"
   ]
  },
  {
   "cell_type": "markdown",
   "id": "46283267",
   "metadata": {},
   "source": [
    "```python\n",
    ">>> sistem impor \n",
    ">>> sys.path \n",
    "\n",
    "['', '/usr/local/anaconda3/lib/python37.zip',\n",
    " '/usr/local/anaconda3/lib/python3.7', '/usr/local/anaconda3/lib/python3.7/lib- dynload',\n",
    " '/usr/local/anaconda3/lib/python3.7/site-packages', '/usr/local/anaconda3/lib/python3.7/site-packages/aeosa']\n",
    "```"
   ]
  },
  {
   "cell_type": "markdown",
   "id": "a1437995",
   "metadata": {},
   "source": [
    "Jadi, untuk memastikan modul kalian ditemukan, kalian perlu melakukan salah satu hal berikut:\n",
    "\n",
    "* Letakkan mod.py di direktori tempat skrip input berada atau direktori saat ini pada terminal\n",
    "* Modifikasi PYTHONPATH environment variable agar memuat direktori tempat mod.py berada sebelum memulai interpreter\n",
    "* Atau: Letakkan mod.py di salah satu direktori yang sudah ada di variabel PYTHONPATH\n",
    "* Letakkan mod.py di salah satu direktori yang bergantung pada instalasi, yang mungkin kalian miliki atau tidak memiliki write-access, tergantung pada OS\n",
    "\n",
    "Sebenarnya ada satu opsi tambahan: kalian dapat meletakkan file modul di direktori pilihan kalian dan kemudian memodifikasi sys.path pada saat run-time sehingga berisi direktori tersebut. Misalnya, dalam kasus ini, kalian dapat meletakkan mod.py di direktori /Users/ketut/Desktop/H8Py dan kemudian jalankan statements berikut:"
   ]
  },
  {
   "cell_type": "markdown",
   "id": "e73ad675",
   "metadata": {},
   "source": [
    "```python\n",
    ">>> sys.path.append(r'/Users/ardhiraka/Desktop/H8Py') \n",
    ">>> sys.path \n",
    "['', '/usr/local/anaconda3/lib/python37.zip',\n",
    " '/usr/local/anaconda3/lib/python3.7', '/usr/local/anaconda3/lib/python3.7/lib- dynload', \n",
    " '/usr/local/anaconda3/lib/python3.7/site-packages', '/usr/local/anaconda3/lib/python3.7/site-packages/aeosa', \n",
    " '/usr/local/' , '/Users/ardhiraka/Desktop/H8Py'] \n",
    "\n",
    "impor mod\n",
    "```"
   ]
  },
  {
   "cell_type": "markdown",
   "id": "737c2672",
   "metadata": {},
   "source": [
    "Setelah modul berhasil diimpor, kalian dapat menentukan lokasi di mana modul itu ditemukan dengan atribut file:"
   ]
  },
  {
   "cell_type": "markdown",
   "id": "f6b88d15",
   "metadata": {},
   "source": [
    "```python\n",
    ">>> import mod\n",
    ">>> mod.__file__\n",
    "'/Users/ardhiraka/Desktop/H8Py'\n",
    "\n",
    ">>> import re\n",
    ">>> re.__file__\n",
    "'/usr/local/anaconda3/lib/python3.7/re.py'\n",
    "```"
   ]
  },
  {
   "cell_type": "markdown",
   "id": "22946ca1",
   "metadata": {},
   "source": [
    "### The Import Statement\n",
    "Bentuk dasar pemanggilan module menggunakan syntax __import <nama_module>__."
   ]
  },
  {
   "cell_type": "markdown",
   "id": "eea31772",
   "metadata": {},
   "source": [
    "```python\n",
    "import my_mod\n",
    "```\n",
    "Pemanggilan mod harus menggunkan notasi titik. Bentuk Lain pemanggilan Modules lebih dari satu\n",
    "```python\n",
    "import <module_name>, <module_name1>, <module_name2>\n",
    "```"
   ]
  },
  {
   "cell_type": "markdown",
   "id": "30715592",
   "metadata": {},
   "source": [
    "```python\n",
    ">>> import mod\n",
    ">>> mod\n",
    "<module 'mod' from '/Users/ketut/Desktop/H8Py'>\n",
    "```\n",
    "Dalam pengaksesan konten lokal dan penggunaannya, pemanggilan harus digunakan diawali dengan __mod__."
   ]
  },
  {
   "cell_type": "markdown",
   "id": "8337a4b2",
   "metadata": {},
   "source": [
    "```python\n",
    ">>> mod.s\n",
    "'Hacktiv8-PTP Python For Data Science'\n",
    ">>> mod.foo('quux')\n",
    "arg = quux\n",
    "```"
   ]
  },
  {
   "cell_type": "markdown",
   "id": "95a74cce",
   "metadata": {},
   "source": [
    "#### Bentuk Pemanggilan Objek Individu\n",
    "Dalam Bentuk alternatif dari import statement memungkinkan objek individu dari modul untuk diimpor langsung ke tabel simbol pemanggil.\n"
   ]
  },
  {
   "cell_type": "markdown",
   "id": "1973d9c8",
   "metadata": {},
   "source": [
    "```python\n",
    "from <module_name> import <name(s)>\n",
    "```\n",
    "Pemanggilan __<name(s)>__ dapat dirujuk di environment pemanggil tanpa awalan dari __module_name__"
   ]
  },
  {
   "cell_type": "markdown",
   "id": "1544892a",
   "metadata": {},
   "source": [
    "```python\n",
    ">>> from mod import s, foo\n",
    ">>> s\n",
    "'Hacktiv8-PTP Python For Data Science'\n",
    ">>> foo('quux')\n",
    "arg = quux\n",
    "\n",
    ">>> from mod import Foo\n",
    ">>> x = Foo()\n",
    ">>> x\n",
    "<mod.Foo object at 0x02E3AD50>\n",
    "```"
   ]
  },
  {
   "cell_type": "markdown",
   "id": "bb80cbb9",
   "metadata": {},
   "source": [
    "Karena bentuk impor ini menempatkan nama objek langsung ke tabel simbol pemanggil, objek apa pun yang sudah ada dengan nama yang sama akan ditimpa:\n",
    "```python\n",
    ">>> a = ['foo', 'bar', 'baz']\n",
    ">>> a\n",
    "['foo', 'bar', 'baz']\n",
    "\n",
    ">>> from mod import a\n",
    ">>> a\n",
    "[100, 200, 300]\n",
    "```"
   ]
  },
  {
   "cell_type": "markdown",
   "id": "d35e6586",
   "metadata": {},
   "source": [
    "Penggunaannya juga dapat mengimpor semuanya secara langsung dari modul dalam satu command:\n",
    "```python\n",
    "from <module_name> import *\n",
    "```"
   ]
  },
  {
   "cell_type": "markdown",
   "id": "b1c4d96e",
   "metadata": {},
   "source": [
    "syntax pemanggilan diatas akan memanggil nama semua objek dari ke dalam tabel simbol lokal, dengan pengecualian yang dimulai dengan karakter garis bawah (_).\n",
    "```python\n",
    ">>> from mod import *\n",
    ">>> s\n",
    "'Hacktiv8-PTP Python For Data Science'\n",
    ">>> a\n",
    "[100, 200, 300]\n",
    ">>> foo\n",
    "<function foo at 0x03B449C0>\n",
    ">>> Foo\n",
    "<class 'mod.Foo'>\n",
    "```"
   ]
  },
  {
   "cell_type": "markdown",
   "id": "ed6809cf",
   "metadata": {},
   "source": [
    "Pada penggunaan ini tidak direkomendasikan dikarakan penggunaanya sedikit berbahaya karena kalian memasukkan nama ke tabel simbol lokal secara massal. Kecuali jika kalian mengenal object kalian semua dengan baik dan yakin tidak akan ada konflik, kalian memiliki peluang yang cukup besar untuk menimpa nama yang sudah ada secara tidak sengaja. \n",
    "\n",
    "Tetapi Namun, sintaksis ini cukup berguna ketika Anda hanya menggunakan interpreter interaktif, untuk tujuan pengujian atau discovery , karena sintaks ini dengan cepat memberi kalian akses ke semua yang ditawarkan modul tanpa banyak mengetik."
   ]
  },
  {
   "cell_type": "markdown",
   "id": "6ec11f9c",
   "metadata": {},
   "source": [
    "Pada penggunaanya memasukkan objek individu tetapi memasukkannya ke dalam tabel simbol lokal dengan nama alternatif dengan menggunakan :\n",
    "```python\n",
    "from <module_name> import <name> as <alt_name>\n",
    "```"
   ]
  },
  {
   "cell_type": "markdown",
   "id": "ba2fdb4d",
   "metadata": {},
   "source": [
    "Pada penggunaanya :\n",
    "```python\n",
    ">>> s = 'foo' \n",
    ">>> a = ['foo', 'bar', 'baz'] \n",
    "\n",
    ">>> from mod import s as string, a as alist \n",
    ">>> s \n",
    "'foo' \n",
    ">>> string \n",
    "'Hacktiv8-PTP Python For Data Science' \n",
    ">>> a \n",
    "['foo', 'bar', 'baz'] \n",
    ">>> alist \n",
    "[100, 200, 300]\n",
    "```"
   ]
  },
  {
   "cell_type": "markdown",
   "id": "e4a65de2",
   "metadata": {},
   "source": [
    "Penggunaan Module Alternatif\n",
    "```python\n",
    "import <module_name> as <alt_name>\n",
    "```"
   ]
  },
  {
   "cell_type": "markdown",
   "id": "640278c9",
   "metadata": {},
   "source": [
    "### The Dir Function\n",
    "Untuk mengembalikan daftar nama yang ditentukan dalam namespace. Tanpa argumen, __dir()__ menghasilkan daftar nama yang diurutkan menurut abjad dalam tabel simbol lokal saat ini:"
   ]
  },
  {
   "cell_type": "markdown",
   "id": "a58e5399",
   "metadata": {},
   "source": [
    "```python\n",
    ">>> dir()\n",
    "['__annotations__', '__builtins__', '__doc__', '__loader__', '__name__',\n",
    "'__package__', '__spec__']\n",
    "\n",
    ">>> qux = [1, 2, 3, 4, 5]\n",
    ">>> dir()\n",
    "['__annotations__', '__builtins__', '__doc__', '__loader__', '__name__',\n",
    "'__package__', '__spec__', 'qux']\n",
    "\n",
    ">>> class Bar():\n",
    "...     pass\n",
    "...\n",
    ">>> x = Bar()\n",
    ">>> dir()\n",
    "['Bar', '__annotations__', '__builtins__', '__doc__', '__loader__', '__name__',\n",
    "'__package__', '__spec__', 'qux', 'x']\n",
    "```\n",
    "\n",
    "Pada panggilan pertama ke dir() di atas mencantumkan beberapa nama yang ditentukan secara otomatis dan sudah ada di namespace saat penerjemah dimulai. Saat nama baru didefinisikan (qux, Bar, x), mereka muncul pada pemanggilan dir() berikutnya.\n"
   ]
  },
  {
   "cell_type": "markdown",
   "id": "60ff5ac7",
   "metadata": {},
   "source": [
    "Ini berguna untuk mengidentifikasi apa yang sebenarnya telah ditambahkan ke namespace dengan import statement:\n",
    "```python\n",
    ">>> dir()\n",
    "['__annotations__', '__builtins__', '__doc__', '__loader__', '__name__',\n",
    "'__package__', '__spec__']\n",
    "\n",
    ">>> import mod\n",
    ">>> dir()\n",
    "['__annotations__', '__builtins__', '__doc__', '__loader__', '__name__',\n",
    "'__package__', '__spec__', 'mod']\n",
    ">>> mod.s\n",
    "'Hacktiv8-PTP Python For Data Science'\n",
    ">>> mod.foo([1, 2, 3])\n",
    "arg = [1, 2, 3]\n",
    "\n",
    ">>> from mod import a, Foo\n",
    ">>> dir()\n",
    "['Foo', '__annotations__', '__builtins__', '__doc__', '__loader__', '__name__',\n",
    "'__package__', '__spec__', 'a', 'mod']\n",
    ">>> a\n",
    "[100, 200, 300]\n",
    ">>> x = Foo()\n",
    ">>> x\n",
    "<mod.Foo object at 0x002EAD50>\n",
    "\n",
    ">>> from mod import s as string\n",
    ">>> dir()\n",
    "['Foo', '__annotations__', '__builtins__', '__doc__', '__loader__', '__name__',\n",
    "'__package__', '__spec__', 'a', 'mod', 'string', 'x']\n",
    ">>> string\n",
    "'Hacktiv8-PTP Python For Data Science'\n",
    "```"
   ]
  },
  {
   "cell_type": "markdown",
   "id": "20f1044b",
   "metadata": {},
   "source": [
    "Ketika diberi argumen yaitu nama modul, dir() mencantumkan nama yang ditentukan dalam modul:\n",
    "```python\n",
    ">>> import mod\n",
    ">>> dir(mod)\n",
    "['Foo', '__builtins__', '__cached__', '__doc__', '__file__', '__loader__',\n",
    "'__name__', '__package__', '__spec__', 'a', 'foo', 's']\n",
    ">>> dir()\n",
    "['__annotations__', '__builtins__', '__doc__', '__loader__', '__name__',\n",
    "'__package__', '__spec__']\n",
    ">>> from mod import *\n",
    ">>> dir()\n",
    "['Foo', '__annotations__', '__builtins__', '__doc__', '__loader__', '__name__',\n",
    "'__package__', '__spec__', 'a', 'foo', 's']\n",
    "```"
   ]
  },
  {
   "cell_type": "markdown",
   "id": "04fb125b",
   "metadata": {},
   "source": [
    "### Executing a Module as a script\n",
    "Pada file _(.py)_ apa pun yang berisi modul pada dasarnya juga merupakan skrip Python, dan dapat dijalankan. Di sini sekali lagi adalah mod.py seperti yang didefinisikan di atas:"
   ]
  },
  {
   "cell_type": "markdown",
   "id": "53f221da",
   "metadata": {},
   "source": [
    "```python\n",
    "# disimpan dengan nama mod.py\n",
    "s = \"Hacktiv8-PTP Python For Data Science\"\n",
    "a = [100, 200, 300]\n",
    "\n",
    "def foo(arg):\n",
    "    print(f'arg = {arg}')\n",
    "\n",
    "class Foo:\n",
    "    pass\n",
    "\n",
    "print(s)\n",
    "print(a)\n",
    "foo('quux')\n",
    "x = Foo()\n",
    "print(x)\n",
    "```"
   ]
  },
  {
   "cell_type": "markdown",
   "id": "4a6449a3",
   "metadata": {},
   "source": [
    "Dan dijalankan dengan Script\n",
    "```python\n",
    "(base) ardhiraka@rakas-Macbook-Very-Pro ~ % mod.py \n",
    "Hacktiv8-PTP Python For Data Science \n",
    "[100, 200, 300] \n",
    "arg = quux \n",
    "<__main__.Foo object at 0x02F101D0>\n",
    "```"
   ]
  },
  {
   "cell_type": "markdown",
   "id": "a2f3ddd1",
   "metadata": {},
   "source": [
    "modul tersebut menghasilkan keluaran saat diimpor sebagai modul:\n",
    "```python\n",
    ">>> import mod\n",
    "Hacktiv8-PTP Python For Data Science\n",
    "[100, 200, 300]\n",
    "arg = quux\n",
    "<mod.Foo object at 0x0169AD50>\n",
    "```"
   ]
  },
  {
   "cell_type": "markdown",
   "id": "407436cc",
   "metadata": {},
   "source": [
    "Pada proses Ketika file _(.py)_ diimpor sebagai modul, Python menetapkan nama variabel khusus ke nama modul. Namun, jika file dijalankan sebagai skrip standalone, namanya disetel ke string 'main'. Dengan ini, kalian dapat membedakan mana yang terjadi pada waktu proses dan mengubahnya dengan perilaku yang sesuai:\n",
    "```python\n",
    "# disimpan dengan nama mod1.py\n",
    "s = \"Hacktiv8-PTP Python For Data Science\"\n",
    "a = [100, 200, 300]\n",
    "\n",
    "def foo(arg):\n",
    "    print(f'arg = {arg}')\n",
    "\n",
    "class Foo:\n",
    "    pass\n",
    "\n",
    "if (__name__ == '__main__'):\n",
    "    print('Executing as standalone script')\n",
    "    print(s)\n",
    "    print(a)\n",
    "    foo('quux')\n",
    "    x = Foo()\n",
    "    print(x)\n",
    "```"
   ]
  },
  {
   "cell_type": "markdown",
   "id": "98344ad0",
   "metadata": {},
   "source": [
    "Sekarang kalian menjalankannya sebagai skrip, kalian mendapatkan keluaran:\n",
    "```python\n",
    "(base) ardhiraka@rakas-Macbook-Very-Pro ~ % python mod.py \n",
    "Executing as standalone script \n",
    "Hacktiv8-PTP Python For Data Science \n",
    "[100, 200, 300] \n",
    "arg = quux \n",
    "<__main__.Foo object at 0x03450690>\n",
    "\n",
    "```"
   ]
  },
  {
   "cell_type": "markdown",
   "id": "7e94d09e",
   "metadata": {},
   "source": [
    "Tetapi jika kalian menimport sebagai module, kalian tidak akan mendapatkan luaran"
   ]
  },
  {
   "cell_type": "code",
   "execution_count": 1,
   "id": "9551fd3a",
   "metadata": {},
   "outputs": [],
   "source": [
    "import mod1 as m1"
   ]
  },
  {
   "cell_type": "code",
   "execution_count": 2,
   "id": "bdbde3ec",
   "metadata": {},
   "outputs": [
    {
     "name": "stdout",
     "output_type": "stream",
     "text": [
      "arg = grault\n"
     ]
    }
   ],
   "source": [
    "m1.foo('grault')"
   ]
  },
  {
   "cell_type": "markdown",
   "id": "34ba2c07",
   "metadata": {},
   "source": [
    "Modul juga sering kali dirancang dengan kemampuan untuk dijalankan sebagai skrip standalone, bertujuan testing fungsionalitas yang terdapat dalam modul. Hal ini disebut sebagai unit testing. Misalnya, kalian telah membuat modul fact.py berisi factorial function, sebagai berikut:\n",
    "```python\n",
    "# disimpan dnegan fact1.py\n",
    "def fact(n):\n",
    "    return 1 if n == 1 else n * fact(n-1)\n",
    "\n",
    "if (__name__ == '__main__'):\n",
    "    import sys\n",
    "    if len(sys.argv) > 1:\n",
    "        print(fact(int(sys.argv[1])))\n",
    "```"
   ]
  },
  {
   "cell_type": "code",
   "execution_count": 2,
   "id": "0797966d",
   "metadata": {},
   "outputs": [],
   "source": [
    "from fact1 import fact"
   ]
  },
  {
   "cell_type": "code",
   "execution_count": 3,
   "id": "cfe2094e",
   "metadata": {},
   "outputs": [
    {
     "data": {
      "text/plain": [
       "720"
      ]
     },
     "execution_count": 3,
     "metadata": {},
     "output_type": "execute_result"
    }
   ],
   "source": [
    "fact(6)"
   ]
  },
  {
   "cell_type": "markdown",
   "id": "9fdf56fe",
   "metadata": {},
   "source": [
    "Tapi modul tersebut juga bisa dijalankan sebagai standalone dengan meneruskan argumen integer pada baris command-line untuk pengujian:\n",
    "```python\n",
    "base) ardhiraka@rakas-Macbook-Very-Pro ~ % python fact.py 6 \n",
    "720\n",
    "```"
   ]
  },
  {
   "cell_type": "markdown",
   "id": "f137a219",
   "metadata": {},
   "source": [
    "### Reloading a Module\n",
    "Untuk alasan efisiensi, modul hanya dimuat sekali per sesi interpreter. Tidak masalah untuk definisi fungsi dan kelas, yang biasanya merupakan bagian terbesar dari konten modul. Tapi modul juga bisa berisi pernyataan yang dapat dieksekusi, biasanya untuk inisialisasi. Perhatikan bahwa statements hanya akan dijalankan saat pertama kali modul diimpor."
   ]
  },
  {
   "cell_type": "code",
   "execution_count": 3,
   "id": "f9fb83ce",
   "metadata": {},
   "outputs": [],
   "source": [
    "import fact1 as f1\n",
    "import importlib"
   ]
  },
  {
   "cell_type": "code",
   "execution_count": 2,
   "id": "25538361",
   "metadata": {},
   "outputs": [
    {
     "data": {
      "text/plain": [
       "[100, 200, 300]"
      ]
     },
     "execution_count": 2,
     "metadata": {},
     "output_type": "execute_result"
    }
   ],
   "source": [
    "f1.a"
   ]
  },
  {
   "cell_type": "markdown",
   "id": "563e723a",
   "metadata": {},
   "source": [
    "Jika kalian membuat perubahan pada modul dan perlu memuatnya kembali, kalian perlu memulai ulang interpreter atau menggunakan fungsi yang disebut reload() dari modul importlib:\n",
    "```python\n",
    ">>> import mod\n",
    "a = [100, 200, 300]\n",
    "\n",
    ">>> import mod\n",
    "\n",
    ">>> import importlib\n",
    ">>> importlib.reload(mod)\n",
    "a = [100, 200, 300]\n",
    "<module 'mod' from '/Users/ardhiraka/Desktop/H8Py'>\n",
    "```"
   ]
  },
  {
   "cell_type": "code",
   "execution_count": 5,
   "id": "70e3f0f5",
   "metadata": {},
   "outputs": [
    {
     "name": "stdout",
     "output_type": "stream",
     "text": [
      "a = [100, 200, 300]\n"
     ]
    },
    {
     "data": {
      "text/plain": [
       "<module 'fact1' from 'C:\\\\Users\\\\Thendro\\\\Documents\\\\Python\\\\fact1.py'>"
      ]
     },
     "execution_count": 5,
     "metadata": {},
     "output_type": "execute_result"
    }
   ],
   "source": [
    "importlib.reload(f1)"
   ]
  },
  {
   "cell_type": "markdown",
   "id": "4fc48efe",
   "metadata": {},
   "source": [
    "# Python Packages\n",
    "Misalkan kalian sebagai mengembangkan aplikasi yang sangat besar yang mencakup banyak modul. Seiring bertambahnya jumlah modul, akan sulit untuk melacak semuanya jika dimasukan ke satu lokasi. Ini terjadi jika mereka memiliki nama atau fungsi yang mirip. Kalian mungkin harus mencari cara untuk mengelompokkan dan mengaturnya. \n",
    "\n",
    "Packages memungkinkan penataan hierarki nama modul menggunakan notasi titik. Dengan cara yang sama seperti modul membantu menghindari tabrakan antara nama variabel global, packages membantu menghindari tabrakan antara nama modul. \n",
    "\n",
    "Membuat package cukup mudah, karena menggunakan struktur file hierarki yang sama pada sistem operasi. Lihat pengaturan berikut:\n"
   ]
  },
  {
   "cell_type": "markdown",
   "id": "f062b65f",
   "metadata": {},
   "source": [
    "![picture](packages.png)"
   ]
  },
  {
   "cell_type": "markdown",
   "id": "94b1a2e2",
   "metadata": {},
   "source": [
    "Di sini, ada direktori bernama folder pkg yang berisi dua modul : mod1.py dan mod2.py. Isi dari modul tersebut adalah:\n",
    "```python\n",
    "# mod1.py\n",
    "\n",
    "def foo():\n",
    "    print('[mod1] foo()')\n",
    "\n",
    "class Foo:\n",
    "    pass\n",
    "```\n",
    "Dan\n",
    "```python\n",
    "# mod2.py \n",
    "\n",
    "def bar():\n",
    "    print('[mod2] bar()')\n",
    "\n",
    "class Bar:\n",
    "    pass\n",
    "```"
   ]
  },
  {
   "cell_type": "markdown",
   "id": "f85880f3",
   "metadata": {},
   "source": [
    "Dengan struktur ini, jika direktori pkg berada di lokasi di mana ia dapat ditemukan (di salah satu direktori yang terdapat dalam sys.path), kalian dapat merujuk ke dua modul dengan notasi titik (pkg.mod1, pkg.mod2) dan impor dengan sintaks yang sudah kalian pelajari:\n",
    "```python\n",
    "import <module_name>[, <module_name> ...]\n",
    "```"
   ]
  },
  {
   "cell_type": "code",
   "execution_count": 4,
   "id": "f0392f1d",
   "metadata": {},
   "outputs": [],
   "source": [
    "import pkg.mod1, pkg.mod2"
   ]
  },
  {
   "cell_type": "code",
   "execution_count": 6,
   "id": "7e55dc86",
   "metadata": {},
   "outputs": [
    {
     "name": "stdout",
     "output_type": "stream",
     "text": [
      "[mod1] foo()\n",
      "None\n",
      "[mod2] bar()\n",
      "None\n"
     ]
    }
   ],
   "source": [
    "print(pkg.mod1.foo())\n",
    "print(pkg.mod2.bar())"
   ]
  },
  {
   "cell_type": "markdown",
   "id": "0b0d5739",
   "metadata": {},
   "source": [
    "Hasil Tampilan\n",
    "```python\n",
    ">>> import pkg.mod1, pkg.mod2 \n",
    ">>> pkg.mod1.foo() \n",
    "[mod1] foo() \n",
    ">>> x = pkg.mod2.Bar() \n",
    ">>> x \n",
    "<pkg.mod2.Bar object at 0x033F7290>\n",
    "```"
   ]
  },
  {
   "cell_type": "code",
   "execution_count": 8,
   "id": "50987259",
   "metadata": {},
   "outputs": [],
   "source": [
    "from pkg.mod1 import foo"
   ]
  },
  {
   "cell_type": "code",
   "execution_count": 9,
   "id": "a74e4c2a",
   "metadata": {},
   "outputs": [
    {
     "name": "stdout",
     "output_type": "stream",
     "text": [
      "[mod1] foo()\n"
     ]
    }
   ],
   "source": [
    "foo()"
   ]
  },
  {
   "cell_type": "markdown",
   "id": "5471947b",
   "metadata": {},
   "source": [
    "Hasil Tampilan\n",
    "```python\n",
    ">>> from pkg.mod1 import foo \n",
    ">>> foo() \n",
    "[mod1] foo()\n",
    "```"
   ]
  },
  {
   "cell_type": "code",
   "execution_count": 11,
   "id": "626dbd27",
   "metadata": {},
   "outputs": [],
   "source": [
    "from pkg.mod2 import Bar as Qux"
   ]
  },
  {
   "cell_type": "code",
   "execution_count": 12,
   "id": "0ad73472",
   "metadata": {},
   "outputs": [],
   "source": [
    "x = Qux()"
   ]
  },
  {
   "cell_type": "markdown",
   "id": "71557824",
   "metadata": {},
   "source": [
    "Hasil Tampilan\n",
    "```python\n",
    ">>> from pkg.mod2 import Bar as Qux \n",
    ">>> x = Qux() \n",
    ">>> x \n",
    "<pkg.mod2.Bar object at 0x036DFFD0>\n",
    "```"
   ]
  },
  {
   "cell_type": "markdown",
   "id": "1e956a58",
   "metadata": {},
   "source": [
    "Kalian juga dapat mengimport module dengan pernyataan dibawah ini:\n",
    "```python\n",
    "from <package_name> import <modules_name>[, <module_name> ...] \n",
    "from <package_name> import <module_name> as <alt_name>\n",
    "```"
   ]
  },
  {
   "cell_type": "markdown",
   "id": "3db81f99",
   "metadata": {},
   "source": [
    "```python\n",
    ">>> from pkg import mod1 \n",
    ">>> mod1.foo() \n",
    "[mod1] foo() \n",
    ">>> from pkg import mod2 as quux \n",
    ">>> quux.bar() \n",
    "[mod2] bar()\n",
    "```"
   ]
  },
  {
   "cell_type": "code",
   "execution_count": 20,
   "id": "e65a6f63",
   "metadata": {},
   "outputs": [],
   "source": [
    "import pkg"
   ]
  },
  {
   "cell_type": "code",
   "execution_count": 21,
   "id": "93c8fc31",
   "metadata": {},
   "outputs": [
    {
     "data": {
      "text/plain": [
       "<module 'pkg' (namespace)>"
      ]
     },
     "execution_count": 21,
     "metadata": {},
     "output_type": "execute_result"
    }
   ],
   "source": [
    "pkg"
   ]
  },
  {
   "cell_type": "markdown",
   "id": "eb2790dd",
   "metadata": {},
   "source": [
    "Secara Teknis kalian juga dapat mengimport packages\n",
    "```python\n",
    ">>> import pkg \n",
    ">>> pkg \n",
    "<module 'pkg' (namespace)>\n",
    "```"
   ]
  },
  {
   "cell_type": "markdown",
   "id": "25bcf1eb",
   "metadata": {},
   "source": [
    "```python\n",
    ">>> pkg.mod1\n",
    "Traceback (most recent call last):\n",
    "  File \"<pyshell#34>\", line 1, in <module>\n",
    "    pkg.mod1\n",
    "AttributeError: module 'pkg' has no attribute 'mod1'\n",
    ">>> pkg.mod1.foo()\n",
    "Traceback (most recent call last):\n",
    "  File \"<pyshell#35>\", line 1, in <module>\n",
    "    pkg.mod1.foo()\n",
    "AttributeError: module 'pkg' has no attribute 'mod1'\n",
    ">>> pkg.mod2.Bar()\n",
    "Traceback (most recent call last):\n",
    "  File \"<pyshell#36>\", line 1, in <module>\n",
    "    pkg.mod2.Bar()\n",
    "AttributeError: module 'pkg' has no attribute 'mod2'\n",
    "To actually import the modules or their contents, you need to use one of the forms shown above.\n",
    "```"
   ]
  },
  {
   "cell_type": "markdown",
   "id": "98759135",
   "metadata": {},
   "source": [
    "## PIP (Packages)\n",
    "Atau disebut Manajer paket pada paket python atau modul. Adalah alat yang memungkinkan kalian menginstal dan mengelola library dan dependensi tambahan yang tidak didistribusikan sebagai bagian dari library standar. \n",
    "\n",
    "Konsep manajer paket mungkin tidak asing bagi kalian jika kalian berasal dari bahasa lain. JavaScript menggunakan npm untuk package management, Ruby menggunakan gem, dan .NET menggunakan NuGet. \n",
    "\n",
    "Di Python, pip telah menjadi package manager standar."
   ]
  },
  {
   "cell_type": "markdown",
   "id": "08006e89",
   "metadata": {},
   "source": [
    "### Basic Packet Installation \n",
    "PyPI menghosting pustaka yang sangat populer untuk melakukan HTTP requests yang disebut requests. kalian dapat mempelajari semua tentang request di situs dokumentasi resminya. \n",
    "\n",
    "Langkah pertama adalah menginstal requests package ke environment kalian. kalian dapat mempelajari tentang perintah yang didukung pip dengan menjalankan help: \n",
    "```python\n",
    "pip help \n",
    "```\n",
    "Seperti yang kalian lihat, pip menyediakan perintah install untuk menginstal paket. Kalian dapat menjalankannya untuk menginstal requests package:\n",
    "```python\n",
    "pip install \n",
    "```\n",
    "requests Kalian menggunakan pip dengan perintah install diikuti dengan nama paket yang ingin kalian instal. pip mencari package di PyPI, menghitung dependensinya, dan menginstalnya untuk memastikan requests akan berfungsi. Perintah untuk memperbaharui pip: \n",
    "```python\n",
    "python -m pip install --upgrade pip\n",
    "```\n",
    "Perhatikan bahwa kalian menggunakan _python -m_ untuk memperbarui _pip. -m_ memberi tahu Python untuk menjalankan modul sebagai executable. Hal ini diperlukan agar kalian dapat memperbarui pip, versi lama harus dicopot sebelum menginstal versi baru. \n",
    "\n",
    "Saat kalian menjalankan pip sebagai modul, Python memuat modul dalam memori dan mengizinkan package dihapus saat sedang digunakan. Kalian dapat menjalankan package seolah-olah itu adalah skrip jika package menyediakan top-level script _main.py_.\n",
    "\n",
    "Sekarang kalian telah menginstal request dan mengupgrade pip, kalian dapat menggunakan perintah list untuk melihat packages yang diinstal di environment kalian:\n",
    "```python\n",
    "pip list\n",
    "```\n",
    "Perintah pip install selalu mencari versi terbaru dari package dan menginstalnya. Ia juga mencari dependensi yang terdaftar dalam metadata package dan menginstal dependensi tersebut untuk memastikan bahwa package tersebut memiliki semua persyaratan yang dibutuhkannya. \n",
    "\n",
    "Seperti yang kalian lihat, beberapa package telah diinstal. Kalian dapat melihat metadata package dengan menggunakan perintah show di pip: \n",
    "```python\n",
    "pip show requests \n",
    "```\n",
    "Metadata mencantumkan certifi, chardet, idna, dan urllib3 sebagai dependensi, dan kalian dapat melihat package tersebut juga diinstal. Dengan requests package terinstal, kalian dapat mengubah contoh di atas dan melihat betapa mudahnya mengambil konten halaman web:\n"
   ]
  },
  {
   "cell_type": "markdown",
   "id": "271b8a1a",
   "metadata": {},
   "source": [
    "```python\n",
    "# In using-requests.py \n",
    "import requests \n",
    "\n",
    "url = 'https://www.google.com' \n",
    "response = requests.get(url)\n",
    "print(f'Response returned: {response.status_code}, {response.reason}') \n",
    "print(response.text)\n",
    "```\n",
    "Anda dapat mengimpor requests package sebagai paket standar karena sekarang package tersebut sudah diinstal di environment kalian. \n",
    "\n",
    "Seperti yang kalian lihat, _requests.get()_ menangani koneksi HTTP untuk kalian dan mengembalikan objek respons yang mirip dengan contoh asli tetapi dengan beberapa peningkatan antarmuka.\n"
   ]
  },
  {
   "cell_type": "markdown",
   "id": "a6f42fd4",
   "metadata": {},
   "source": [
    "### Using Requirement Files\n",
    "Perintah pip install selalu menginstal versi terbaru dari sebuah paket, tetapi terkadang, kalian mungkin ingin menginstal versi tertentu yang kalian tahu berfungsi dengan kode kalian. \n",
    "\n",
    "Kalian harus membuat spesifikasi dependensi dan versi yang kalian gunakan untuk mengembangkan dan menguji aplikasi kalian, jadi tidak ada masalah ketika kalian menggunakan aplikasi dalam produksi. \n",
    "\n",
    "Requirement files memungkinkan kalian menentukan dengan tepat paket dan versi mana yang harus diinstal. Menjalankan pip help menunjukkan bahwa ada freeze command yang mengeluarkan paket yang diinstal dalam format requirements. Kalian dapat menggunakan perintah ini, mengarahkan output ke file untuk menghasilkan requirements file:"
   ]
  },
  {
   "cell_type": "markdown",
   "id": "c0dc2875",
   "metadata": {},
   "source": [
    "```python\n",
    "pip freeze > requirements.txt \n",
    "cat requirements.txt\n",
    "```\n",
    "Perintah freeze membuang semua paket dan versinya ke output standar, sehingga kalian dapat mengarahkan output ke file yang dapat digunakan untuk menginstal persyaratan yang tepat ke sistem lain. Ketentuannya adalah menamai file ini Requirement.txt, tetapi kalian dapat memberikannya nama apa pun yang kalian inginkan. \n",
    "\n",
    "Saat kalian ingin mereplikasi environment di sistem lain, kalian dapat menjalankan pip install dengan menentukan requirements file menggunakan -r: \n",
    "```python\n",
    "pip install-r requirements.txt\n",
    "```\n",
    "Versi paket akan cocok dengan yang tercantum di requirement.txt:\n",
    "```python\n",
    "pip list\n",
    "```\n",
    "Kalian dapat mengirimkan file requirement.txt ke source control dan menggunakannya untuk membuat environment yang tepat di komputer lain. "
   ]
  },
  {
   "cell_type": "markdown",
   "id": "43866e65",
   "metadata": {},
   "source": [
    "### Uninstalling Packages\n",
    "Sebelum kalian menghapus paket, pastikan kalian menjalankan perintah show untuk package tersebut: \n",
    "```pyhton\n",
    "pip show requests\n",
    "```\n",
    "Perhatikan dua kolom terakhir Requires dan Required-by. Perintah show memberi tahu kita bahwa requests membutuhkan urllib3, certifi, chardet, dan idna. Kalian mungkin ingin menghapus keduanya. Kalian juga dapat melihat bahwa requests tidak diperlukan oleh paket lain, jadi aman untuk menghapusnya. \n",
    "\n",
    "Kalian harus menjalankan perintah show terhadap semua dependensi permintaan untuk memastikan tidak ada library lain yang juga bergantung padanya. Setelah kalian memahami urutan ketergantungan paket yang ingin kalian copot pemasangannya, kalian dapat menghapusnya menggunakan perintah uninstall: \n",
    "```pyhton\n",
    "pip uninstall certifi\n",
    "```\n",
    "Menghapus instalan paket menunjukkan kepada kalian file yang akan dihapus dan akan meminta konfirmasi. Jika kalian yakin ingin menghapus paket karena kalian telah memeriksa dependensinya dan mengetahui bahwa tidak ada orang lain yang menggunakannya, kalian dapat meneruskan -y untuk menyembunyikan daftar file dan konfirmasi:\n",
    "```python\n",
    "pip uninstall urllib3 -y\n",
    "```"
   ]
  },
  {
   "cell_type": "markdown",
   "id": "8a51fc36",
   "metadata": {},
   "source": [
    "## Untuk Apa init.py?\n",
    "Python mendefinisikan dua jenis paket, paket reguler dan paket namespace. Paket reguler adalah paket tradisional seperti yang ada di Python 3.2 dan sebelumnya. Paket reguler biasanya diimplementasikan sebagai direktori yang berisi file init.py. Ketika paket reguler diimpor, file init.py ini dieksekusi secara implisit, dan objek yang didefinisikannya terikat dengan nama-nama di namespace paket. File init.py dapat berisi kode Python yang sama dengan modul lainnya, dan Python akan menambahkan beberapa atribut tambahan ke modul saat diimpor."
   ]
  },
  {
   "cell_type": "markdown",
   "id": "ffee260c",
   "metadata": {},
   "source": [
    "Ada 2 alasan utama untuk _init.py_. \n",
    "\n",
    "1. Untuk kenyamanan: pengguna lain tidak perlu mengetahui lokasi pasti fungsi Anda di hierarki paket Anda.\n",
    "\n",
    "```python\n",
    "your_package/\n",
    "  __init__.py\n",
    "  file1.py/\n",
    "  file2.py/\n",
    "    ...\n",
    "  fileN.py\n",
    "\n",
    "# in __init__.py\n",
    "from file1 import *\n",
    "from file2 import *\n",
    "...\n",
    "from fileN import *\n",
    "\n",
    "# in file1.py\n",
    "def add():\n",
    "    pass\n",
    "```\n",
    "kemudian orang lain dapat memanggil add () oleh\n",
    "    ``` from your_package import add  ```\n",
    "\n",
    "tanpa mengetahui file1, suka\n",
    "\n",
    "    ``` from your_package.file1 import add ``` \n",
    "    "
   ]
  },
  {
   "cell_type": "markdown",
   "id": "a65ad837",
   "metadata": {},
   "source": [
    "2. Jika Anda ingin sesuatu diinisialisasi; misalnya, pencatatan (yang harus diletakkan di tingkat atas):\n",
    "```python\n",
    "import logging.config\n",
    "logging.config.dictConfig(Your_logging_config)\n",
    "```"
   ]
  },
  {
   "cell_type": "markdown",
   "id": "a303f221",
   "metadata": {},
   "source": [
    "Fungsi-fungsi yang terdapat di dalam class di sebut juga dengan method, \n",
    "\n",
    "pada pemrograman python terdapat sebuah method dengan nama __init__(), Fungsi Method Init Pada Pemrograman Python yaitu merupakan method yang pertama kali di jalankan atau di proses sebelum method-method yang lainnya dan method __init__() berguna untuk melakukan inisialisasi pembuatan object dari class.\n",
    "\n",
    "Untuk struktur penulisan dari method __init__() di dalam sebuah class yaitu seperti dibawah ini :"
   ]
  },
  {
   "cell_type": "code",
   "execution_count": 26,
   "id": "8cc26864",
   "metadata": {},
   "outputs": [
    {
     "name": "stdout",
     "output_type": "stream",
     "text": [
      "ini init\n"
     ]
    }
   ],
   "source": [
    "class namaClass():\n",
    "    def __init__(self):\n",
    "        print(\"ini init\")\n",
    " \n",
    "cetak = namaClass()"
   ]
  },
  {
   "cell_type": "code",
   "execution_count": 27,
   "id": "535923bb",
   "metadata": {},
   "outputs": [
    {
     "name": "stdout",
     "output_type": "stream",
     "text": [
      "ini adalah init\n"
     ]
    }
   ],
   "source": [
    "## membuat Class Mahasiswa \n",
    "class Mahasiswa():\n",
    "    def __init__(self):\n",
    "        print(\"ini adalah init\")\n",
    "\n",
    "mhs = Mahasiswa()"
   ]
  },
  {
   "cell_type": "code",
   "execution_count": 28,
   "id": "710b5dc4",
   "metadata": {},
   "outputs": [
    {
     "name": "stdout",
     "output_type": "stream",
     "text": [
      "Joko Python\n"
     ]
    }
   ],
   "source": [
    "class Mahasiswa():\n",
    "\n",
    "    def __init__(self, masukan_nama):\n",
    "        self.nama = masukan_nama\n",
    "\n",
    "mhs = Mahasiswa(\"Joko Python\")\n",
    "print(mhs.nama)"
   ]
  },
  {
   "cell_type": "markdown",
   "id": "bbea97bf",
   "metadata": {},
   "source": [
    "Namun perbedaan method _init_ dan method yang lainya yaitu, \n",
    "jika method pada umumnya untuk mengakses method tersebut kita harus memanggil nama methodnya, \n",
    "nah sedangkan method _init_ kita tidak perlu memanggil nama methodnya \n",
    "dan secara otomatis proses yang terdapat di dalam method tersebut akan \n",
    "di jalankan seperti script dibawah ini :"
   ]
  },
  {
   "cell_type": "code",
   "execution_count": 31,
   "id": "e95816d3",
   "metadata": {},
   "outputs": [
    {
     "name": "stdout",
     "output_type": "stream",
     "text": [
      "Budi Hartono\n",
      "Budi Hartono lulus dengan nilai : 60\n"
     ]
    }
   ],
   "source": [
    "class Mahasiswa():\n",
    "    def __init__(self, masukan_nama):\n",
    "        self.nama = masukan_nama\n",
    " \n",
    "    def nilai(self, nilai): # dijalankan ketika dipangil\n",
    "        if nilai >= 60:\n",
    "            print(self.nama,'lulus dengan nilai :',nilai)\n",
    "        else:\n",
    "            print(self.nama,'tidak lulus dengan nilai :',nilai)\n",
    " \n",
    "mhs = Mahasiswa(\"Budi Hartono\")\n",
    "print(mhs.nama) # dipanggil tanpa menggunakan nama method\n",
    " \n",
    "mhs.nilai(60); # dipanggil dengan menggunakan nama method"
   ]
  },
  {
   "cell_type": "code",
   "execution_count": null,
   "id": "0b95d5b4",
   "metadata": {},
   "outputs": [],
   "source": []
  }
 ],
 "metadata": {
  "kernelspec": {
   "display_name": "Python 3 (ipykernel)",
   "language": "python",
   "name": "python3"
  },
  "language_info": {
   "codemirror_mode": {
    "name": "ipython",
    "version": 3
   },
   "file_extension": ".py",
   "mimetype": "text/x-python",
   "name": "python",
   "nbconvert_exporter": "python",
   "pygments_lexer": "ipython3",
   "version": "3.9.7"
  },
  "toc": {
   "base_numbering": 1,
   "nav_menu": {},
   "number_sections": true,
   "sideBar": true,
   "skip_h1_title": false,
   "title_cell": "Table of Contents",
   "title_sidebar": "Contents",
   "toc_cell": false,
   "toc_position": {},
   "toc_section_display": true,
   "toc_window_display": false
  }
 },
 "nbformat": 4,
 "nbformat_minor": 5
}
