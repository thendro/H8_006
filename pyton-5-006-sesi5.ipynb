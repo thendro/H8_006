{
 "cells": [
  {
   "cell_type": "markdown",
   "id": "7790c820",
   "metadata": {},
   "source": [
    "# Pengertian Pandas\n",
    "Sebuah library di Python yang berlisensi BSD dan open source yang menyediakan struktur data dan analisis data yang mudah digunakan. Pandas biasa digunakan untuk membuat tabel, mengubah dimensi data, mengecek data, dan lain sebagainya. Struktur data dasar pada Pandas dinamakan __DataFrame__, yang memudahkan kita untuk membaca sebuah file dengan banyak jenis format seperti file _.txt, .csv, dan .tsv_. Fitur ini akan menjadikannya table dan juga dapat mengolah suatu data dengan menggunakan operasi seperti __join, distinct, group by, agregasi, dan teknik lainnya yang terdapat pada SQL__. \n",
    "\n",
    "Struktur data utama di Pandas diimplementasikan dengan __Series__ dan __DataFrame__ serta satu deprecated struktur data yaitu _Panel (deprecated)_. Pada __Series__ diibaratkan sebagai _array satu dimensi_ sama halnya dengan __NumPy__ _array_, hanya bedanya mempunyai index dan kita dapat mengontrol index dari setiap elemen tersebut. Sedangkan __Data Frame__ merupakan _array dua dimensi_ dengan baris dan kolom, baris sesuai dengan instance (__objek__, __observasi__, __dll__.), dan kolom sesuai dengan features untuk setiap instance. Struktur data ini merupakan cara paling standar untuk menyimpan data dalam bentuk tabel/data tabular. Dapat disimpulkan, bahwa _Pandas_ merupakan __library analisis data__ yang diperlukan untuk __membersihkan data mentah__ ke dalam sebuah bentuk yang bisa untuk diolah."
   ]
  },
  {
   "cell_type": "markdown",
   "id": "1fcc4a1e",
   "metadata": {},
   "source": [
    "## Penggunaan Pandas Library"
   ]
  },
  {
   "cell_type": "markdown",
   "id": "4df0aa06",
   "metadata": {},
   "source": [
    "Data scientist sering kali bekerja dengan data yang disimpan dalam format tabel seperti _.csv_, _.tsv_, atau _.xlsx_. __Pandas__ membuatnya sangat nyaman untuk _load_, _memproses_, dan _menganalisis data_ tabel tersebut menggunakan _kueri_ seperti _SQL_. Dalam hubungannya dengan __Matplotlib__ dan __Seaborn__, __Pandas__ memberikan berbagai peluang untuk _analisis visual data tabel_. \n",
    "\n",
    "Struktur data utama di Pandas diimplementasikan dengan __Series__ dan __DataFrame__. _DataFrames sangat bagus untuk merepresentasikan data nyata: baris sesuai dengan instance (objek, observasi, dll.)_, dan kolom sesuai dengan features untuk setiap instance.\n",
    "```python\n",
    "# berikut instalasi Pandas di Anaconda Jupyter Notebook\n",
    "conda install -c conda-forge pandas\n",
    "```"
   ]
  },
  {
   "cell_type": "code",
   "execution_count": 2,
   "id": "aea76cbc",
   "metadata": {},
   "outputs": [],
   "source": [
    "# mengaktifkan library NumPy dan Pandas\n",
    "import numpy as np\n",
    "import pandas as pd"
   ]
  },
  {
   "cell_type": "markdown",
   "id": "091bc41e",
   "metadata": {},
   "source": [
    "Mengakses dataset hasil NBA yang diberikan oleh FiveThirtyEight dalam file CSV 17MB.\n",
    "```python\n",
    "# (.read_csv() untuk mengimport dan membaca dataset dalam folder nbaallelo.csv\n",
    "df1 =pd.read_csv('nbaallelo.csv')\n",
    "```"
   ]
  },
  {
   "cell_type": "code",
   "execution_count": 3,
   "id": "e105196a",
   "metadata": {},
   "outputs": [],
   "source": [
    "# (.read_csv() untuk mengimport dan membaca dataset dengan format csv dan menyimpan objek sebagai dataframe didalam variabel df\n",
    "df= pd.read_csv('https://raw.githubusercontent.com/ardhiraka/PFDS_sources/master/nbaallelo.csv')"
   ]
  },
  {
   "cell_type": "code",
   "execution_count": 4,
   "id": "f503a1fe",
   "metadata": {},
   "outputs": [
    {
     "name": "stdout",
     "output_type": "stream",
     "text": [
      "126314\n",
      "(126314, 23)\n"
     ]
    }
   ],
   "source": [
    "# (len(df) untuk menampilkan jumlah baris)\n",
    "print(len(df))\n",
    "# (df.shape) untuk menampilkan jumlah dimensi dan hasilnya adalah data tuples yang berisi jumlah baris dan kolom\n",
    "print(df.shape)"
   ]
  },
  {
   "cell_type": "code",
   "execution_count": 5,
   "id": "30858165",
   "metadata": {},
   "outputs": [
    {
     "data": {
      "text/html": [
       "<div>\n",
       "<style scoped>\n",
       "    .dataframe tbody tr th:only-of-type {\n",
       "        vertical-align: middle;\n",
       "    }\n",
       "\n",
       "    .dataframe tbody tr th {\n",
       "        vertical-align: top;\n",
       "    }\n",
       "\n",
       "    .dataframe thead th {\n",
       "        text-align: right;\n",
       "    }\n",
       "</style>\n",
       "<table border=\"1\" class=\"dataframe\">\n",
       "  <thead>\n",
       "    <tr style=\"text-align: right;\">\n",
       "      <th></th>\n",
       "      <th>gameorder</th>\n",
       "      <th>game_id</th>\n",
       "      <th>lg_id</th>\n",
       "      <th>_iscopy</th>\n",
       "      <th>year_id</th>\n",
       "      <th>date_game</th>\n",
       "      <th>seasongame</th>\n",
       "      <th>is_playoffs</th>\n",
       "      <th>team_id</th>\n",
       "      <th>fran_id</th>\n",
       "      <th>...</th>\n",
       "      <th>win_equiv</th>\n",
       "      <th>opp_id</th>\n",
       "      <th>opp_fran</th>\n",
       "      <th>opp_pts</th>\n",
       "      <th>opp_elo_i</th>\n",
       "      <th>opp_elo_n</th>\n",
       "      <th>game_location</th>\n",
       "      <th>game_result</th>\n",
       "      <th>forecast</th>\n",
       "      <th>notes</th>\n",
       "    </tr>\n",
       "  </thead>\n",
       "  <tbody>\n",
       "    <tr>\n",
       "      <th>0</th>\n",
       "      <td>1</td>\n",
       "      <td>194611010TRH</td>\n",
       "      <td>NBA</td>\n",
       "      <td>0</td>\n",
       "      <td>1947</td>\n",
       "      <td>11/1/1946</td>\n",
       "      <td>1</td>\n",
       "      <td>0</td>\n",
       "      <td>TRH</td>\n",
       "      <td>Huskies</td>\n",
       "      <td>...</td>\n",
       "      <td>40.294830</td>\n",
       "      <td>NYK</td>\n",
       "      <td>Knicks</td>\n",
       "      <td>68</td>\n",
       "      <td>1300.0000</td>\n",
       "      <td>1306.7233</td>\n",
       "      <td>H</td>\n",
       "      <td>L</td>\n",
       "      <td>0.640065</td>\n",
       "      <td>NaN</td>\n",
       "    </tr>\n",
       "    <tr>\n",
       "      <th>1</th>\n",
       "      <td>1</td>\n",
       "      <td>194611010TRH</td>\n",
       "      <td>NBA</td>\n",
       "      <td>1</td>\n",
       "      <td>1947</td>\n",
       "      <td>11/1/1946</td>\n",
       "      <td>1</td>\n",
       "      <td>0</td>\n",
       "      <td>NYK</td>\n",
       "      <td>Knicks</td>\n",
       "      <td>...</td>\n",
       "      <td>41.705170</td>\n",
       "      <td>TRH</td>\n",
       "      <td>Huskies</td>\n",
       "      <td>66</td>\n",
       "      <td>1300.0000</td>\n",
       "      <td>1293.2767</td>\n",
       "      <td>A</td>\n",
       "      <td>W</td>\n",
       "      <td>0.359935</td>\n",
       "      <td>NaN</td>\n",
       "    </tr>\n",
       "    <tr>\n",
       "      <th>2</th>\n",
       "      <td>2</td>\n",
       "      <td>194611020CHS</td>\n",
       "      <td>NBA</td>\n",
       "      <td>0</td>\n",
       "      <td>1947</td>\n",
       "      <td>11/2/1946</td>\n",
       "      <td>1</td>\n",
       "      <td>0</td>\n",
       "      <td>CHS</td>\n",
       "      <td>Stags</td>\n",
       "      <td>...</td>\n",
       "      <td>42.012257</td>\n",
       "      <td>NYK</td>\n",
       "      <td>Knicks</td>\n",
       "      <td>47</td>\n",
       "      <td>1306.7233</td>\n",
       "      <td>1297.0712</td>\n",
       "      <td>H</td>\n",
       "      <td>W</td>\n",
       "      <td>0.631101</td>\n",
       "      <td>NaN</td>\n",
       "    </tr>\n",
       "    <tr>\n",
       "      <th>3</th>\n",
       "      <td>2</td>\n",
       "      <td>194611020CHS</td>\n",
       "      <td>NBA</td>\n",
       "      <td>1</td>\n",
       "      <td>1947</td>\n",
       "      <td>11/2/1946</td>\n",
       "      <td>2</td>\n",
       "      <td>0</td>\n",
       "      <td>NYK</td>\n",
       "      <td>Knicks</td>\n",
       "      <td>...</td>\n",
       "      <td>40.692783</td>\n",
       "      <td>CHS</td>\n",
       "      <td>Stags</td>\n",
       "      <td>63</td>\n",
       "      <td>1300.0000</td>\n",
       "      <td>1309.6521</td>\n",
       "      <td>A</td>\n",
       "      <td>L</td>\n",
       "      <td>0.368899</td>\n",
       "      <td>NaN</td>\n",
       "    </tr>\n",
       "    <tr>\n",
       "      <th>4</th>\n",
       "      <td>3</td>\n",
       "      <td>194611020DTF</td>\n",
       "      <td>NBA</td>\n",
       "      <td>0</td>\n",
       "      <td>1947</td>\n",
       "      <td>11/2/1946</td>\n",
       "      <td>1</td>\n",
       "      <td>0</td>\n",
       "      <td>DTF</td>\n",
       "      <td>Falcons</td>\n",
       "      <td>...</td>\n",
       "      <td>38.864048</td>\n",
       "      <td>WSC</td>\n",
       "      <td>Capitols</td>\n",
       "      <td>50</td>\n",
       "      <td>1300.0000</td>\n",
       "      <td>1320.3811</td>\n",
       "      <td>H</td>\n",
       "      <td>L</td>\n",
       "      <td>0.640065</td>\n",
       "      <td>NaN</td>\n",
       "    </tr>\n",
       "  </tbody>\n",
       "</table>\n",
       "<p>5 rows × 23 columns</p>\n",
       "</div>"
      ],
      "text/plain": [
       "   gameorder       game_id lg_id  _iscopy  year_id  date_game  seasongame  \\\n",
       "0          1  194611010TRH   NBA        0     1947  11/1/1946           1   \n",
       "1          1  194611010TRH   NBA        1     1947  11/1/1946           1   \n",
       "2          2  194611020CHS   NBA        0     1947  11/2/1946           1   \n",
       "3          2  194611020CHS   NBA        1     1947  11/2/1946           2   \n",
       "4          3  194611020DTF   NBA        0     1947  11/2/1946           1   \n",
       "\n",
       "   is_playoffs team_id  fran_id  ...  win_equiv  opp_id  opp_fran  opp_pts  \\\n",
       "0            0     TRH  Huskies  ...  40.294830     NYK    Knicks       68   \n",
       "1            0     NYK   Knicks  ...  41.705170     TRH   Huskies       66   \n",
       "2            0     CHS    Stags  ...  42.012257     NYK    Knicks       47   \n",
       "3            0     NYK   Knicks  ...  40.692783     CHS     Stags       63   \n",
       "4            0     DTF  Falcons  ...  38.864048     WSC  Capitols       50   \n",
       "\n",
       "   opp_elo_i  opp_elo_n  game_location  game_result  forecast notes  \n",
       "0  1300.0000  1306.7233              H            L  0.640065   NaN  \n",
       "1  1300.0000  1293.2767              A            W  0.359935   NaN  \n",
       "2  1306.7233  1297.0712              H            W  0.631101   NaN  \n",
       "3  1300.0000  1309.6521              A            L  0.368899   NaN  \n",
       "4  1300.0000  1320.3811              H            L  0.640065   NaN  \n",
       "\n",
       "[5 rows x 23 columns]"
      ]
     },
     "execution_count": 5,
     "metadata": {},
     "output_type": "execute_result"
    }
   ],
   "source": [
    "#  (df.head(range)) untuk menampilkan lima baris pertama dan range untuk menampilkan jumlah baris. \n",
    "#  (df.tail(range)) untuk menampilkan lima baris terakhir dan range untuk menampilkan jumlah baris.\n",
    "df.head()"
   ]
  },
  {
   "cell_type": "markdown",
   "id": "b4a41e13",
   "metadata": {},
   "source": [
    "__ellipsis (...)__ menunjukkan data yang hilang dan tidak ditampilkan"
   ]
  },
  {
   "cell_type": "code",
   "execution_count": 6,
   "id": "5ff44f92",
   "metadata": {},
   "outputs": [
    {
     "data": {
      "text/html": [
       "<div>\n",
       "<style scoped>\n",
       "    .dataframe tbody tr th:only-of-type {\n",
       "        vertical-align: middle;\n",
       "    }\n",
       "\n",
       "    .dataframe tbody tr th {\n",
       "        vertical-align: top;\n",
       "    }\n",
       "\n",
       "    .dataframe thead th {\n",
       "        text-align: right;\n",
       "    }\n",
       "</style>\n",
       "<table border=\"1\" class=\"dataframe\">\n",
       "  <thead>\n",
       "    <tr style=\"text-align: right;\">\n",
       "      <th></th>\n",
       "      <th>gameorder</th>\n",
       "      <th>game_id</th>\n",
       "      <th>lg_id</th>\n",
       "      <th>_iscopy</th>\n",
       "      <th>year_id</th>\n",
       "      <th>date_game</th>\n",
       "      <th>seasongame</th>\n",
       "      <th>is_playoffs</th>\n",
       "      <th>team_id</th>\n",
       "      <th>fran_id</th>\n",
       "      <th>pts</th>\n",
       "      <th>elo_i</th>\n",
       "      <th>elo_n</th>\n",
       "      <th>win_equiv</th>\n",
       "      <th>opp_id</th>\n",
       "      <th>opp_fran</th>\n",
       "      <th>opp_pts</th>\n",
       "      <th>opp_elo_i</th>\n",
       "      <th>opp_elo_n</th>\n",
       "      <th>game_location</th>\n",
       "      <th>game_result</th>\n",
       "      <th>forecast</th>\n",
       "      <th>notes</th>\n",
       "    </tr>\n",
       "  </thead>\n",
       "  <tbody>\n",
       "    <tr>\n",
       "      <th>0</th>\n",
       "      <td>1</td>\n",
       "      <td>194611010TRH</td>\n",
       "      <td>NBA</td>\n",
       "      <td>0</td>\n",
       "      <td>1947</td>\n",
       "      <td>11/1/1946</td>\n",
       "      <td>1</td>\n",
       "      <td>0</td>\n",
       "      <td>TRH</td>\n",
       "      <td>Huskies</td>\n",
       "      <td>66</td>\n",
       "      <td>1300.0000</td>\n",
       "      <td>1293.2767</td>\n",
       "      <td>40.294830</td>\n",
       "      <td>NYK</td>\n",
       "      <td>Knicks</td>\n",
       "      <td>68</td>\n",
       "      <td>1300.0000</td>\n",
       "      <td>1306.7233</td>\n",
       "      <td>H</td>\n",
       "      <td>L</td>\n",
       "      <td>0.640065</td>\n",
       "      <td>NaN</td>\n",
       "    </tr>\n",
       "    <tr>\n",
       "      <th>1</th>\n",
       "      <td>1</td>\n",
       "      <td>194611010TRH</td>\n",
       "      <td>NBA</td>\n",
       "      <td>1</td>\n",
       "      <td>1947</td>\n",
       "      <td>11/1/1946</td>\n",
       "      <td>1</td>\n",
       "      <td>0</td>\n",
       "      <td>NYK</td>\n",
       "      <td>Knicks</td>\n",
       "      <td>68</td>\n",
       "      <td>1300.0000</td>\n",
       "      <td>1306.7233</td>\n",
       "      <td>41.705170</td>\n",
       "      <td>TRH</td>\n",
       "      <td>Huskies</td>\n",
       "      <td>66</td>\n",
       "      <td>1300.0000</td>\n",
       "      <td>1293.2767</td>\n",
       "      <td>A</td>\n",
       "      <td>W</td>\n",
       "      <td>0.359935</td>\n",
       "      <td>NaN</td>\n",
       "    </tr>\n",
       "    <tr>\n",
       "      <th>2</th>\n",
       "      <td>2</td>\n",
       "      <td>194611020CHS</td>\n",
       "      <td>NBA</td>\n",
       "      <td>0</td>\n",
       "      <td>1947</td>\n",
       "      <td>11/2/1946</td>\n",
       "      <td>1</td>\n",
       "      <td>0</td>\n",
       "      <td>CHS</td>\n",
       "      <td>Stags</td>\n",
       "      <td>63</td>\n",
       "      <td>1300.0000</td>\n",
       "      <td>1309.6521</td>\n",
       "      <td>42.012257</td>\n",
       "      <td>NYK</td>\n",
       "      <td>Knicks</td>\n",
       "      <td>47</td>\n",
       "      <td>1306.7233</td>\n",
       "      <td>1297.0712</td>\n",
       "      <td>H</td>\n",
       "      <td>W</td>\n",
       "      <td>0.631101</td>\n",
       "      <td>NaN</td>\n",
       "    </tr>\n",
       "    <tr>\n",
       "      <th>3</th>\n",
       "      <td>2</td>\n",
       "      <td>194611020CHS</td>\n",
       "      <td>NBA</td>\n",
       "      <td>1</td>\n",
       "      <td>1947</td>\n",
       "      <td>11/2/1946</td>\n",
       "      <td>2</td>\n",
       "      <td>0</td>\n",
       "      <td>NYK</td>\n",
       "      <td>Knicks</td>\n",
       "      <td>47</td>\n",
       "      <td>1306.7233</td>\n",
       "      <td>1297.0712</td>\n",
       "      <td>40.692783</td>\n",
       "      <td>CHS</td>\n",
       "      <td>Stags</td>\n",
       "      <td>63</td>\n",
       "      <td>1300.0000</td>\n",
       "      <td>1309.6521</td>\n",
       "      <td>A</td>\n",
       "      <td>L</td>\n",
       "      <td>0.368899</td>\n",
       "      <td>NaN</td>\n",
       "    </tr>\n",
       "    <tr>\n",
       "      <th>4</th>\n",
       "      <td>3</td>\n",
       "      <td>194611020DTF</td>\n",
       "      <td>NBA</td>\n",
       "      <td>0</td>\n",
       "      <td>1947</td>\n",
       "      <td>11/2/1946</td>\n",
       "      <td>1</td>\n",
       "      <td>0</td>\n",
       "      <td>DTF</td>\n",
       "      <td>Falcons</td>\n",
       "      <td>33</td>\n",
       "      <td>1300.0000</td>\n",
       "      <td>1279.6189</td>\n",
       "      <td>38.864048</td>\n",
       "      <td>WSC</td>\n",
       "      <td>Capitols</td>\n",
       "      <td>50</td>\n",
       "      <td>1300.0000</td>\n",
       "      <td>1320.3811</td>\n",
       "      <td>H</td>\n",
       "      <td>L</td>\n",
       "      <td>0.640065</td>\n",
       "      <td>NaN</td>\n",
       "    </tr>\n",
       "  </tbody>\n",
       "</table>\n",
       "</div>"
      ],
      "text/plain": [
       "   gameorder       game_id lg_id  _iscopy  year_id  date_game  seasongame  \\\n",
       "0          1  194611010TRH   NBA        0     1947  11/1/1946           1   \n",
       "1          1  194611010TRH   NBA        1     1947  11/1/1946           1   \n",
       "2          2  194611020CHS   NBA        0     1947  11/2/1946           1   \n",
       "3          2  194611020CHS   NBA        1     1947  11/2/1946           2   \n",
       "4          3  194611020DTF   NBA        0     1947  11/2/1946           1   \n",
       "\n",
       "   is_playoffs team_id  fran_id  pts      elo_i      elo_n  win_equiv opp_id  \\\n",
       "0            0     TRH  Huskies   66  1300.0000  1293.2767  40.294830    NYK   \n",
       "1            0     NYK   Knicks   68  1300.0000  1306.7233  41.705170    TRH   \n",
       "2            0     CHS    Stags   63  1300.0000  1309.6521  42.012257    NYK   \n",
       "3            0     NYK   Knicks   47  1306.7233  1297.0712  40.692783    CHS   \n",
       "4            0     DTF  Falcons   33  1300.0000  1279.6189  38.864048    WSC   \n",
       "\n",
       "   opp_fran  opp_pts  opp_elo_i  opp_elo_n game_location game_result  \\\n",
       "0    Knicks       68  1300.0000  1306.7233             H           L   \n",
       "1   Huskies       66  1300.0000  1293.2767             A           W   \n",
       "2    Knicks       47  1306.7233  1297.0712             H           W   \n",
       "3     Stags       63  1300.0000  1309.6521             A           L   \n",
       "4  Capitols       50  1300.0000  1320.3811             H           L   \n",
       "\n",
       "   forecast notes  \n",
       "0  0.640065   NaN  \n",
       "1  0.359935   NaN  \n",
       "2  0.631101   NaN  \n",
       "3  0.368899   NaN  \n",
       "4  0.640065   NaN  "
      ]
     },
     "execution_count": 6,
     "metadata": {},
     "output_type": "execute_result"
    }
   ],
   "source": [
    "# (.set_option()) pengguna dapat berinteraksi pada opsi yangs sudah ditentukan\n",
    "# (\"display.max.colomn\",range) untuk menampilkan jumlah kolom maksimal dan range jangkauan kolom yang dapat ditampilkan\n",
    "# untuk dapat menampilakan jumlah kolomnya kembali dapat menggunakan fungsi (.head())\n",
    "pd.set_option(\"display.max.columns\",23)\n",
    "df.head()"
   ]
  },
  {
   "cell_type": "code",
   "execution_count": 7,
   "id": "6a117aa8",
   "metadata": {},
   "outputs": [
    {
     "name": "stdout",
     "output_type": "stream",
     "text": [
      "6\n"
     ]
    }
   ],
   "source": [
    "print(int(15-9))"
   ]
  },
  {
   "cell_type": "markdown",
   "id": "ecb65bb9",
   "metadata": {},
   "source": [
    "##### Dalam file data nbaallelo.csv terdapat variabel berikut:\n",
    "\n",
    "|Header\t|Definition|\n",
    "|:------|---------|\n",
    "|gameorder|\tPlay order of game in NBA history |\n",
    "| game_id\t| Unique ID for each game |\n",
    "|lg_id\t| Which league the game was played in |\n",
    "| `_iscopy` | \tEach row of data is tied to a single team for a single game, so `_iscopy` flags if this game_id has already occured for the opposing team in the same matchup\n",
    "| year_id\t| Season id, named based on year in which the season ended |\n",
    "| date_game\t| Game date |\n",
    "| is_playoffs\t| Flag for playoff games |\n",
    "| team_id\t| Three letter code for team name, from Basketball Reference |\n",
    "| fran_id\t| Franchise id. Multiple team_ids can fall under the same fran_id due to name changes or moves. Interactive is grouped by fran_id. \n",
    "| pts |\tPoints scored by team |\n",
    "| elo_i\t| Team elo entering the game |\n",
    "| elo_n\t| Team elo following the game |\n",
    "| win_equiv\t| Equivalent number of wins in a 82-game season for a team of elo_n quality |\n",
    "| opp_id |\tTeam id of opponent |\n",
    "| opp_fran |\tFranchise id of opponent |\n",
    "| opp_pts |\tPoints scored by opponent / point pertandingan |\n",
    "| opp_elo_i\t | Opponent elo entering the game, sebagai team lawan (Elo sebelum main ) | \n",
    "| opp_elo_n\t| Opponent elo following the game, sebagai team lawan (Elo setelah main) |\n",
    "| game_location\t| Home (H), away (A), or neutral (N) |\n",
    "| game_result |\tWin or loss for team in the team_id column |\n",
    "| forecast |\tElo-based chances of winning for the team in the team_id column, based on elo  ratings and game location\n",
    "|notes|\tAdditional informatio |"
   ]
  },
  {
   "cell_type": "markdown",
   "id": "1e5516dd",
   "metadata": {},
   "source": [
    "## Displaying Data Types\n",
    "Hal yang pertama adalah menjelelajahi berbagai tipe data didalam data set. Pada data DataFrame *df* berisi **nilai** dari **tipe data** tertentu. Fungsi Utama Pandas adalah untuk pengguna dapat mengakses **dataframe** dengan cepat dan mengelola data lebih efisien.\n",
    "\n",
    "Berikut contoh untuk menampilkan tipe data dari kolom dataframe *df*."
   ]
  },
  {
   "cell_type": "code",
   "execution_count": 8,
   "id": "703faea5",
   "metadata": {},
   "outputs": [
    {
     "name": "stdout",
     "output_type": "stream",
     "text": [
      "<class 'pandas.core.frame.DataFrame'>\n",
      "RangeIndex: 126314 entries, 0 to 126313\n",
      "Data columns (total 23 columns):\n",
      " #   Column         Non-Null Count   Dtype  \n",
      "---  ------         --------------   -----  \n",
      " 0   gameorder      126314 non-null  int64  \n",
      " 1   game_id        126314 non-null  object \n",
      " 2   lg_id          126314 non-null  object \n",
      " 3   _iscopy        126314 non-null  int64  \n",
      " 4   year_id        126314 non-null  int64  \n",
      " 5   date_game      126314 non-null  object \n",
      " 6   seasongame     126314 non-null  int64  \n",
      " 7   is_playoffs    126314 non-null  int64  \n",
      " 8   team_id        126314 non-null  object \n",
      " 9   fran_id        126314 non-null  object \n",
      " 10  pts            126314 non-null  int64  \n",
      " 11  elo_i          126314 non-null  float64\n",
      " 12  elo_n          126314 non-null  float64\n",
      " 13  win_equiv      126314 non-null  float64\n",
      " 14  opp_id         126314 non-null  object \n",
      " 15  opp_fran       126314 non-null  object \n",
      " 16  opp_pts        126314 non-null  int64  \n",
      " 17  opp_elo_i      126314 non-null  float64\n",
      " 18  opp_elo_n      126314 non-null  float64\n",
      " 19  game_location  126314 non-null  object \n",
      " 20  game_result    126314 non-null  object \n",
      " 21  forecast       126314 non-null  float64\n",
      " 22  notes          5424 non-null    object \n",
      "dtypes: float64(6), int64(7), object(10)\n",
      "memory usage: 22.2+ MB\n"
     ]
    }
   ],
   "source": [
    "# (.info()) untuk menampilkan semua kolom dari tipe data dataframe\n",
    "df.info()"
   ]
  },
  {
   "cell_type": "markdown",
   "id": "965633d3",
   "metadata": {},
   "source": [
    "### Showing Basics Statistic\n",
    "Pada hal ini kalian dapat melihat overview tentang nilai yang ada di setiap kolom dataframe df."
   ]
  },
  {
   "cell_type": "code",
   "execution_count": 9,
   "id": "51e4e868",
   "metadata": {},
   "outputs": [
    {
     "data": {
      "text/html": [
       "<div>\n",
       "<style scoped>\n",
       "    .dataframe tbody tr th:only-of-type {\n",
       "        vertical-align: middle;\n",
       "    }\n",
       "\n",
       "    .dataframe tbody tr th {\n",
       "        vertical-align: top;\n",
       "    }\n",
       "\n",
       "    .dataframe thead th {\n",
       "        text-align: right;\n",
       "    }\n",
       "</style>\n",
       "<table border=\"1\" class=\"dataframe\">\n",
       "  <thead>\n",
       "    <tr style=\"text-align: right;\">\n",
       "      <th></th>\n",
       "      <th>gameorder</th>\n",
       "      <th>_iscopy</th>\n",
       "      <th>year_id</th>\n",
       "      <th>seasongame</th>\n",
       "      <th>is_playoffs</th>\n",
       "      <th>pts</th>\n",
       "      <th>elo_i</th>\n",
       "      <th>elo_n</th>\n",
       "      <th>win_equiv</th>\n",
       "      <th>opp_pts</th>\n",
       "      <th>opp_elo_i</th>\n",
       "      <th>opp_elo_n</th>\n",
       "      <th>forecast</th>\n",
       "    </tr>\n",
       "  </thead>\n",
       "  <tbody>\n",
       "    <tr>\n",
       "      <th>count</th>\n",
       "      <td>126314.000000</td>\n",
       "      <td>126314.000000</td>\n",
       "      <td>126314.000000</td>\n",
       "      <td>126314.000000</td>\n",
       "      <td>126314.000000</td>\n",
       "      <td>126314.000000</td>\n",
       "      <td>126314.000000</td>\n",
       "      <td>126314.000000</td>\n",
       "      <td>126314.000000</td>\n",
       "      <td>126314.000000</td>\n",
       "      <td>126314.000000</td>\n",
       "      <td>126314.000000</td>\n",
       "      <td>126314.000000</td>\n",
       "    </tr>\n",
       "    <tr>\n",
       "      <th>mean</th>\n",
       "      <td>31579.000000</td>\n",
       "      <td>0.500000</td>\n",
       "      <td>1988.200374</td>\n",
       "      <td>43.533733</td>\n",
       "      <td>0.063857</td>\n",
       "      <td>102.729982</td>\n",
       "      <td>1495.236055</td>\n",
       "      <td>1495.236055</td>\n",
       "      <td>41.707889</td>\n",
       "      <td>102.729982</td>\n",
       "      <td>1495.236055</td>\n",
       "      <td>1495.236055</td>\n",
       "      <td>0.500000</td>\n",
       "    </tr>\n",
       "    <tr>\n",
       "      <th>std</th>\n",
       "      <td>18231.927643</td>\n",
       "      <td>0.500002</td>\n",
       "      <td>17.582309</td>\n",
       "      <td>25.375178</td>\n",
       "      <td>0.244499</td>\n",
       "      <td>14.814845</td>\n",
       "      <td>112.139945</td>\n",
       "      <td>112.461687</td>\n",
       "      <td>10.627332</td>\n",
       "      <td>14.814845</td>\n",
       "      <td>112.139945</td>\n",
       "      <td>112.461687</td>\n",
       "      <td>0.215252</td>\n",
       "    </tr>\n",
       "    <tr>\n",
       "      <th>min</th>\n",
       "      <td>1.000000</td>\n",
       "      <td>0.000000</td>\n",
       "      <td>1947.000000</td>\n",
       "      <td>1.000000</td>\n",
       "      <td>0.000000</td>\n",
       "      <td>0.000000</td>\n",
       "      <td>1091.644500</td>\n",
       "      <td>1085.774400</td>\n",
       "      <td>10.152501</td>\n",
       "      <td>0.000000</td>\n",
       "      <td>1091.644500</td>\n",
       "      <td>1085.774400</td>\n",
       "      <td>0.020447</td>\n",
       "    </tr>\n",
       "    <tr>\n",
       "      <th>25%</th>\n",
       "      <td>15790.000000</td>\n",
       "      <td>0.000000</td>\n",
       "      <td>1975.000000</td>\n",
       "      <td>22.000000</td>\n",
       "      <td>0.000000</td>\n",
       "      <td>93.000000</td>\n",
       "      <td>1417.237975</td>\n",
       "      <td>1416.994900</td>\n",
       "      <td>34.103035</td>\n",
       "      <td>93.000000</td>\n",
       "      <td>1417.237975</td>\n",
       "      <td>1416.994900</td>\n",
       "      <td>0.327989</td>\n",
       "    </tr>\n",
       "    <tr>\n",
       "      <th>50%</th>\n",
       "      <td>31579.000000</td>\n",
       "      <td>0.500000</td>\n",
       "      <td>1990.000000</td>\n",
       "      <td>43.000000</td>\n",
       "      <td>0.000000</td>\n",
       "      <td>103.000000</td>\n",
       "      <td>1500.945550</td>\n",
       "      <td>1500.954400</td>\n",
       "      <td>42.113357</td>\n",
       "      <td>103.000000</td>\n",
       "      <td>1500.945550</td>\n",
       "      <td>1500.954400</td>\n",
       "      <td>0.500000</td>\n",
       "    </tr>\n",
       "    <tr>\n",
       "      <th>75%</th>\n",
       "      <td>47368.000000</td>\n",
       "      <td>1.000000</td>\n",
       "      <td>2003.000000</td>\n",
       "      <td>65.000000</td>\n",
       "      <td>0.000000</td>\n",
       "      <td>112.000000</td>\n",
       "      <td>1576.060000</td>\n",
       "      <td>1576.291625</td>\n",
       "      <td>49.635328</td>\n",
       "      <td>112.000000</td>\n",
       "      <td>1576.060000</td>\n",
       "      <td>1576.291625</td>\n",
       "      <td>0.672011</td>\n",
       "    </tr>\n",
       "    <tr>\n",
       "      <th>max</th>\n",
       "      <td>63157.000000</td>\n",
       "      <td>1.000000</td>\n",
       "      <td>2015.000000</td>\n",
       "      <td>108.000000</td>\n",
       "      <td>1.000000</td>\n",
       "      <td>186.000000</td>\n",
       "      <td>1853.104500</td>\n",
       "      <td>1853.104500</td>\n",
       "      <td>71.112038</td>\n",
       "      <td>186.000000</td>\n",
       "      <td>1853.104500</td>\n",
       "      <td>1853.104500</td>\n",
       "      <td>0.979553</td>\n",
       "    </tr>\n",
       "  </tbody>\n",
       "</table>\n",
       "</div>"
      ],
      "text/plain": [
       "           gameorder        _iscopy        year_id     seasongame  \\\n",
       "count  126314.000000  126314.000000  126314.000000  126314.000000   \n",
       "mean    31579.000000       0.500000    1988.200374      43.533733   \n",
       "std     18231.927643       0.500002      17.582309      25.375178   \n",
       "min         1.000000       0.000000    1947.000000       1.000000   \n",
       "25%     15790.000000       0.000000    1975.000000      22.000000   \n",
       "50%     31579.000000       0.500000    1990.000000      43.000000   \n",
       "75%     47368.000000       1.000000    2003.000000      65.000000   \n",
       "max     63157.000000       1.000000    2015.000000     108.000000   \n",
       "\n",
       "         is_playoffs            pts          elo_i          elo_n  \\\n",
       "count  126314.000000  126314.000000  126314.000000  126314.000000   \n",
       "mean        0.063857     102.729982    1495.236055    1495.236055   \n",
       "std         0.244499      14.814845     112.139945     112.461687   \n",
       "min         0.000000       0.000000    1091.644500    1085.774400   \n",
       "25%         0.000000      93.000000    1417.237975    1416.994900   \n",
       "50%         0.000000     103.000000    1500.945550    1500.954400   \n",
       "75%         0.000000     112.000000    1576.060000    1576.291625   \n",
       "max         1.000000     186.000000    1853.104500    1853.104500   \n",
       "\n",
       "           win_equiv        opp_pts      opp_elo_i      opp_elo_n  \\\n",
       "count  126314.000000  126314.000000  126314.000000  126314.000000   \n",
       "mean       41.707889     102.729982    1495.236055    1495.236055   \n",
       "std        10.627332      14.814845     112.139945     112.461687   \n",
       "min        10.152501       0.000000    1091.644500    1085.774400   \n",
       "25%        34.103035      93.000000    1417.237975    1416.994900   \n",
       "50%        42.113357     103.000000    1500.945550    1500.954400   \n",
       "75%        49.635328     112.000000    1576.060000    1576.291625   \n",
       "max        71.112038     186.000000    1853.104500    1853.104500   \n",
       "\n",
       "            forecast  \n",
       "count  126314.000000  \n",
       "mean        0.500000  \n",
       "std         0.215252  \n",
       "min         0.020447  \n",
       "25%         0.327989  \n",
       "50%         0.500000  \n",
       "75%         0.672011  \n",
       "max         0.979553  "
      ]
     },
     "execution_count": 9,
     "metadata": {},
     "output_type": "execute_result"
    }
   ],
   "source": [
    "# (.describe()) untuk menampilkan nilai pada dalam setiap kolom dataframe df.\n",
    "df.describe()"
   ]
  },
  {
   "cell_type": "markdown",
   "id": "5d40ce28",
   "metadata": {},
   "source": [
    "Berikut daftar dasar dasar penjumlahan dalam data statistika\n",
    "\n",
    "https://en.wikipedia.org/wiki/Quantile \n",
    "\n",
    "* count - The number of not-empty values.\n",
    "* mean - The average (mean) value.\n",
    "* std - The standard deviation.\n",
    "* min - the minimum value.\n",
    "* 25% - The 25% percentile*.\n",
    "* 50% - The 50% percentile*.\n",
    "* 75% - The 75% percentile*.\n",
    "* max - the maximum value.\n",
    "\n",
    "**Percentile : 25% berapa banyak nilai yang lebih kecil dari persentil yang diberikan.\n",
    "  numbers between: 0 and 1**"
   ]
  },
  {
   "cell_type": "code",
   "execution_count": 10,
   "id": "61dac8d7",
   "metadata": {},
   "outputs": [
    {
     "data": {
      "text/plain": [
       "gameorder      31579.000000\n",
       "_iscopy            0.500000\n",
       "year_id         1990.000000\n",
       "seasongame        43.000000\n",
       "is_playoffs        0.000000\n",
       "pts              103.000000\n",
       "elo_i           1500.945550\n",
       "elo_n           1500.954400\n",
       "win_equiv         42.113357\n",
       "opp_pts          103.000000\n",
       "opp_elo_i       1500.945550\n",
       "opp_elo_n       1500.954400\n",
       "forecast           0.500000\n",
       "Name: 0.5, dtype: float64"
      ]
     },
     "execution_count": 10,
     "metadata": {},
     "output_type": "execute_result"
    }
   ],
   "source": [
    "# (.quantile(range)) untuk menampilkan jumlah pengelompokan pengeluaran rumah tangga dengan jangkauannya .50\n",
    "df.quantile(.50)"
   ]
  },
  {
   "cell_type": "markdown",
   "id": "123f72ec",
   "metadata": {},
   "source": [
    ">Contoh lainnya."
   ]
  },
  {
   "cell_type": "code",
   "execution_count": 11,
   "id": "6ca99df9",
   "metadata": {},
   "outputs": [
    {
     "data": {
      "text/plain": [
       "count    4.000000\n",
       "mean     1.750000\n",
       "std      0.957427\n",
       "min      1.000000\n",
       "25%      1.000000\n",
       "50%      1.500000\n",
       "75%      2.250000\n",
       "max      3.000000\n",
       "dtype: float64"
      ]
     },
     "execution_count": 11,
     "metadata": {},
     "output_type": "execute_result"
    }
   ],
   "source": [
    "# (.series()) untuk menampung index array\n",
    "s = pd.Series([1, 2, 3, 1])\n",
    "s.describe()"
   ]
  },
  {
   "cell_type": "code",
   "execution_count": 12,
   "id": "a858187e",
   "metadata": {},
   "outputs": [
    {
     "name": "stdout",
     "output_type": "stream",
     "text": [
      "1.0\n",
      "1.5\n",
      "2.25\n"
     ]
    }
   ],
   "source": [
    "print(s.quantile(.25))\n",
    "print(s.quantile(.50))\n",
    "print(s.quantile(.75))"
   ]
  },
  {
   "cell_type": "code",
   "execution_count": 13,
   "id": "2d8d3e68",
   "metadata": {},
   "outputs": [
    {
     "name": "stdout",
     "output_type": "stream",
     "text": [
      "[1 1 2 3]\n",
      "0.75\n",
      "Percentile .25% :  1.0\n",
      "Percentile .25% use pandas series quantile func :  1.0\n",
      "Percentile .25% use numpy quantile func :  1.0\n"
     ]
    }
   ],
   "source": [
    "#https://en.wikipedia.org/wiki/Quantile \n",
    "sarr = np.sort([1, 2, 3, 1])\n",
    "print(sarr)\n",
    "sidx = (sarr.size-1)*.25\n",
    "print(sidx)\n",
    "print(\"Percentile .25% : \",sarr[0] + (sarr[1]-sarr[0]) * .75 )\n",
    "seria = pd.Series(sarr)\n",
    "print(\"Percentile .25% use pandas series quantile func : \",seria.quantile(.25)) \n",
    "print(\"Percentile .25% use numpy quantile func : \",np.percentile(sarr,.25)) "
   ]
  },
  {
   "cell_type": "code",
   "execution_count": 14,
   "id": "912b23d2",
   "metadata": {},
   "outputs": [
    {
     "name": "stdout",
     "output_type": "stream",
     "text": [
      "[ 0  0  3  3  3  4  4  4  4  4  5  5  6  6  6  7  8  8  8 11 12 12 13 13\n",
      " 13 13 14 15 15 15 15 16 17 17 18 19 22 22 22 23 23 24 25 26 28 28 29 30\n",
      " 31 32]\n",
      "18.13\n",
      "8.39\n"
     ]
    },
    {
     "data": {
      "text/plain": [
       "8.389999999999997"
      ]
     },
     "execution_count": 14,
     "metadata": {},
     "output_type": "execute_result"
    }
   ],
   "source": [
    "## percentile \n",
    "\n",
    "arr = np.sort(np.random.randint(33,size=50))\n",
    "print(arr)\n",
    "pindex = (arr.size -1) * .37\n",
    "print(pindex) # 18.13\n",
    "## no value exis at arr [18.13] there is value at arr[18] and arr[19] \n",
    "## linear slop between 18 and 19 position (arr[19]-arr[18])\n",
    "# value 18.13 is = value at 18 + linear slop * .13 \n",
    "print(arr[18] + (arr[19]-arr[18]) * .13)\n",
    "\n",
    "np.percentile(arr, 37)"
   ]
  },
  {
   "cell_type": "markdown",
   "id": "acf52500",
   "metadata": {},
   "source": [
    "### Exploring Your Dataset\n",
    "Pada perintah ini kalian dapat melihat beberapa kumpulan dari dataset df (Exploratory data analysis)."
   ]
  },
  {
   "cell_type": "markdown",
   "id": "39c45d56",
   "metadata": {},
   "source": [
    ">Pada perintah fungsi dibawah ini digunakan untuk **mencari kumpulan data didalam dataframe df**"
   ]
  },
  {
   "cell_type": "code",
   "execution_count": 15,
   "id": "0e658797",
   "metadata": {},
   "outputs": [
    {
     "data": {
      "text/plain": [
       "BOS    5997\n",
       "NYK    5769\n",
       "LAL    5078\n",
       "DET    4985\n",
       "PHI    4533\n",
       "       ... \n",
       "INJ      60\n",
       "PIT      60\n",
       "DTF      60\n",
       "TRH      60\n",
       "SDS      11\n",
       "Name: team_id, Length: 104, dtype: int64"
      ]
     },
     "execution_count": 15,
     "metadata": {},
     "output_type": "execute_result"
    }
   ],
   "source": [
    "# (.value_counts()) untuk menampilkan beberapa nilai yang muncul didalam kolom dataframe df.\n",
    "# ([\"Column_Name\"]) untuk menampilkan nilai dari kolom  dar yang terbesar sampai terkecil.\n",
    "df[\"team_id\"].value_counts()"
   ]
  },
  {
   "cell_type": "code",
   "execution_count": 16,
   "id": "18f07efa",
   "metadata": {},
   "outputs": [
    {
     "data": {
      "text/plain": [
       "Lakers          6024\n",
       "Celtics         5997\n",
       "Knicks          5769\n",
       "Warriors        5657\n",
       "Pistons         5650\n",
       "Sixers          5644\n",
       "Hawks           5572\n",
       "Kings           5475\n",
       "Wizards         4582\n",
       "Spurs           4309\n",
       "Bulls           4307\n",
       "Pacers          4227\n",
       "Thunder         4178\n",
       "Rockets         4154\n",
       "Nuggets         4120\n",
       "Nets            4106\n",
       "Suns            4080\n",
       "Bucks           4034\n",
       "Trailblazers    3870\n",
       "Cavaliers       3810\n",
       "Clippers        3733\n",
       "Jazz            3555\n",
       "Mavericks       3013\n",
       "Heat            2371\n",
       "Pelicans        2254\n",
       "Magic           2207\n",
       "Timberwolves    2131\n",
       "Grizzlies       1657\n",
       "Raptors         1634\n",
       "Hornets          894\n",
       "Colonels         846\n",
       "Squires          799\n",
       "Spirits          777\n",
       "Stars            756\n",
       "Sounds           697\n",
       "Baltimore        467\n",
       "Floridians       440\n",
       "Condors          430\n",
       "Capitols         291\n",
       "Olympians        282\n",
       "Sails            274\n",
       "Stags            260\n",
       "Bombers          249\n",
       "Steamrollers     168\n",
       "Packers           72\n",
       "Redskins          65\n",
       "Rebels            63\n",
       "Waterloo          62\n",
       "Denver            62\n",
       "Falcons           60\n",
       "Jets              60\n",
       "Ironmen           60\n",
       "Huskies           60\n",
       "Name: fran_id, dtype: int64"
      ]
     },
     "execution_count": 16,
     "metadata": {},
     "output_type": "execute_result"
    }
   ],
   "source": [
    "df[\"fran_id\"].value_counts()"
   ]
  },
  {
   "cell_type": "markdown",
   "id": "0fc13a66",
   "metadata": {},
   "source": [
    "Berikut dapat  dilihat dilihat pada tim bernama \"Lakers\" memainkan **6024** pertandingan. Kalian dapat menggali lebih dalam berapa tim yang diperankan tim Laker."
   ]
  },
  {
   "cell_type": "code",
   "execution_count": 17,
   "id": "d777e831",
   "metadata": {},
   "outputs": [
    {
     "data": {
      "text/plain": [
       "LAL    5078\n",
       "MNL     946\n",
       "Name: team_id, dtype: int64"
      ]
     },
     "execution_count": 17,
     "metadata": {},
     "output_type": "execute_result"
    }
   ],
   "source": [
    "# (.loc()) untuk menampilkan jumlah pertandingan dari tim Lakers dengan perintah lokasi dari kolom [\"fran_id\"] pada tim id [\"Laker\"]\n",
    "df.loc[df[\"fran_id\"] == \"Lakers\", \"team_id\"].value_counts()"
   ]
  },
  {
   "cell_type": "markdown",
   "id": "3c9eef8c",
   "metadata": {},
   "source": [
    "Di Posisi Pertama \"Los Angeles\" memiliki 5078 pertandingan."
   ]
  },
  {
   "cell_type": "code",
   "execution_count": 18,
   "id": "a319e524",
   "metadata": {},
   "outputs": [
    {
     "data": {
      "text/plain": [
       "1136      MNL\n",
       "1152      MNL\n",
       "1159      MNL\n",
       "1170      MNL\n",
       "1183      MNL\n",
       "         ... \n",
       "126016    LAL\n",
       "126052    LAL\n",
       "126086    LAL\n",
       "126115    LAL\n",
       "126137    LAL\n",
       "Name: team_id, Length: 6024, dtype: object"
      ]
     },
     "execution_count": 18,
     "metadata": {},
     "output_type": "execute_result"
    }
   ],
   "source": [
    "df.loc[df[\"fran_id\"] == \"Lakers\", \"team_id\"]"
   ]
  },
  {
   "cell_type": "markdown",
   "id": "901a5cad",
   "metadata": {},
   "source": [
    "Tampilannya Lakers mempunyai dua tim, tim pertama *\"LAL\"* dan tim kedua dimainkan Tim *\"MNL\"* **(Minneapolis Laker)** sebanyak *946* pertandingan. Kalian dapat mencari tahu kapan tim *MLN* ikut pertandingan terakhir kali."
   ]
  },
  {
   "cell_type": "code",
   "execution_count": 21,
   "id": "8f20dd42",
   "metadata": {},
   "outputs": [
    {
     "data": {
      "text/plain": [
       "'4/9/1959'"
      ]
     },
     "execution_count": 21,
     "metadata": {},
     "output_type": "execute_result"
    }
   ],
   "source": [
    "# (.min()) untuk menampilkan minimum tanggal pertandingan dari TIM MNL\n",
    "df.loc[df[\"team_id\"] == \"MNL\", \"date_game\"].max()"
   ]
  },
  {
   "cell_type": "code",
   "execution_count": 20,
   "id": "693043fa",
   "metadata": {},
   "outputs": [
    {
     "data": {
      "text/plain": [
       "1136     11/4/1948\n",
       "1152     11/6/1948\n",
       "1159     11/9/1948\n",
       "1170    11/11/1948\n",
       "1183    11/13/1948\n",
       "           ...    \n",
       "9701     3/19/1960\n",
       "9702     3/20/1960\n",
       "9709     3/22/1960\n",
       "9711     3/24/1960\n",
       "9715     3/26/1960\n",
       "Name: date_game, Length: 946, dtype: object"
      ]
     },
     "execution_count": 20,
     "metadata": {},
     "output_type": "execute_result"
    }
   ],
   "source": [
    "df.loc[df['team_id']=='MNL', 'date_game'] "
   ]
  },
  {
   "cell_type": "markdown",
   "id": "38d231a0",
   "metadata": {},
   "source": [
    "Kalian dapat melihat dari data tanggal diatas merupakan tipe data *string* Namun, _string_ dan tanggal ditafsirkan secara berbeda oleh _Python_, dan _Pandas_ tidak secara implisit melemparkan _string_ dalam format tanggal ke tanggal.\n",
    "\n",
    "Namun, ini __menyediakan fungsi pembantu untuk melakukan hal itu__. Fungsi _**pd.to_datetime()**_ akan mengubah _kolom string_ menjadi *tanggal*, dengan _asumsi string_ adalah format tanggal yang valid.\n",
    "\n",
    "Agar kalian dapat membandingkan _string_ dan tanggal, simpan tanggal di kolom baru. Membuat kolom baru pada _DataFrame_ semudah menetapkan nama kolom. Sekarang jika kalian menjalankan kode yang sama lagi tetapi pada kolom _'date_played'_, ia mengembalikan tanggal _26 Maret 1960_. Namun, karena representasi _string 26 Maret 1960_, yang akan menjadi _'26/3/1960'_, mendahului _string '4/9/1959'_, yang terakhir salah dikembalikan sebagai tanggal terbaru di kolom _'date_game'_."
   ]
  },
  {
   "cell_type": "markdown",
   "id": "695962b0",
   "metadata": {},
   "source": [
    ">Membuat Kolom Baru dengan tipe data Date"
   ]
  },
  {
   "cell_type": "code",
   "execution_count": 23,
   "id": "3a78c482",
   "metadata": {},
   "outputs": [],
   "source": [
    "df['date_played'] = pd.to_datetime(df['date_game'])\n",
    "# perintah diatas untuk membuat kolom baru ['date_played'] dengan tipe date "
   ]
  },
  {
   "cell_type": "code",
   "execution_count": 24,
   "id": "a0814471",
   "metadata": {},
   "outputs": [
    {
     "data": {
      "text/plain": [
       "Timestamp('1960-03-26 00:00:00')"
      ]
     },
     "execution_count": 24,
     "metadata": {},
     "output_type": "execute_result"
    }
   ],
   "source": [
    "df.loc[df['team_id']=='MNL','date_played'].max()"
   ]
  },
  {
   "cell_type": "code",
   "execution_count": 25,
   "id": "3f78c873",
   "metadata": {},
   "outputs": [
    {
     "name": "stdout",
     "output_type": "stream",
     "text": [
      "<class 'pandas.core.frame.DataFrame'>\n",
      "RangeIndex: 126314 entries, 0 to 126313\n",
      "Data columns (total 24 columns):\n",
      " #   Column         Non-Null Count   Dtype         \n",
      "---  ------         --------------   -----         \n",
      " 0   gameorder      126314 non-null  int64         \n",
      " 1   game_id        126314 non-null  object        \n",
      " 2   lg_id          126314 non-null  object        \n",
      " 3   _iscopy        126314 non-null  int64         \n",
      " 4   year_id        126314 non-null  int64         \n",
      " 5   date_game      126314 non-null  object        \n",
      " 6   seasongame     126314 non-null  int64         \n",
      " 7   is_playoffs    126314 non-null  int64         \n",
      " 8   team_id        126314 non-null  object        \n",
      " 9   fran_id        126314 non-null  object        \n",
      " 10  pts            126314 non-null  int64         \n",
      " 11  elo_i          126314 non-null  float64       \n",
      " 12  elo_n          126314 non-null  float64       \n",
      " 13  win_equiv      126314 non-null  float64       \n",
      " 14  opp_id         126314 non-null  object        \n",
      " 15  opp_fran       126314 non-null  object        \n",
      " 16  opp_pts        126314 non-null  int64         \n",
      " 17  opp_elo_i      126314 non-null  float64       \n",
      " 18  opp_elo_n      126314 non-null  float64       \n",
      " 19  game_location  126314 non-null  object        \n",
      " 20  game_result    126314 non-null  object        \n",
      " 21  forecast       126314 non-null  float64       \n",
      " 22  notes          5424 non-null    object        \n",
      " 23  date_played    126314 non-null  datetime64[ns]\n",
      "dtypes: datetime64[ns](1), float64(6), int64(7), object(10)\n",
      "memory usage: 23.1+ MB\n"
     ]
    }
   ],
   "source": [
    "df.info()"
   ]
  },
  {
   "cell_type": "code",
   "execution_count": 26,
   "id": "6fb06708",
   "metadata": {},
   "outputs": [
    {
     "data": {
      "text/plain": [
       "'1/1/1949'"
      ]
     },
     "execution_count": 26,
     "metadata": {},
     "output_type": "execute_result"
    }
   ],
   "source": [
    "df.loc[df[\"team_id\"] == \"MNL\", \"date_game\"].min() ## tidak sesuai"
   ]
  },
  {
   "cell_type": "code",
   "execution_count": 27,
   "id": "7269b106",
   "metadata": {},
   "outputs": [
    {
     "data": {
      "text/plain": [
       "Timestamp('1948-11-04 00:00:00')"
      ]
     },
     "execution_count": 27,
     "metadata": {},
     "output_type": "execute_result"
    }
   ],
   "source": [
    "df.loc[df['team_id']=='MNL','date_played'].min()"
   ]
  },
  {
   "cell_type": "code",
   "execution_count": 29,
   "id": "81172325",
   "metadata": {},
   "outputs": [
    {
     "data": {
      "text/plain": [
       "min    1/1/1949\n",
       "max    4/9/1959\n",
       "Name: date_game, dtype: object"
      ]
     },
     "execution_count": 29,
     "metadata": {},
     "output_type": "execute_result"
    }
   ],
   "source": [
    "# (.agg(range)) untuk menampilkan data tanggal terkecil dan terbesar dalam pertandingan tim \"MNL\"\n",
    "df.loc[df[\"team_id\"] == \"MNL\", \"date_game\"].agg((\"min\", \"max\")) ## tidak sesuai"
   ]
  },
  {
   "cell_type": "markdown",
   "id": "e985aac3",
   "metadata": {},
   "source": [
    ">Sepertinya Minneapolis Lakers dimainkan main tahun 1948 dan 1960. Itu menjelaskan mengapa kalian mungkin tidak mengenali tim ini!"
   ]
  },
  {
   "cell_type": "markdown",
   "id": "2d8b8cd0",
   "metadata": {},
   "source": [
    "Kalian juga telah mengetahui mengapa tim Boston Celtics \"BOS\" memainkan game paling banyak dalam kumpulan data. Mari kita analisis sedikit tentang sejarah mereka. Cari tahu berapa banyak poin yang telah dicetak Boston Celtics selama semua pertandingan yang terdapat dalam dataset ini."
   ]
  },
  {
   "cell_type": "code",
   "execution_count": 30,
   "id": "404c2d24",
   "metadata": {},
   "outputs": [
    {
     "data": {
      "text/plain": [
       "626484"
      ]
     },
     "execution_count": 30,
     "metadata": {},
     "output_type": "execute_result"
    }
   ],
   "source": [
    "# Untuk menampilkan jumlah point paling banyak yang dicetak tim BOS\n",
    "# Kalian dapat menggunakan kolom pts\n",
    "# (pts) point scored by team, untuk menampilkan jumlah skor poin didalam tim BOS\n",
    "df.loc[df[\"team_id\"] == \"BOS\", \"pts\"].sum()"
   ]
  },
  {
   "cell_type": "markdown",
   "id": "86ef8c89",
   "metadata": {},
   "source": [
    "Hal yang Pertama, dengan mendapatkan nilai tanggal permainan yang dimainkan oleh Boston Celtics, dan Anda sudah tahu cara melakukannya. Anda hanya menarik pada date tahun, sehingga Anda dapat menerapkan fungsi lambda ke setiap tanggal.\n",
    "\n",
    "Untuk mendapatkan jumlah poin lagi dan menyimpannya, Anda cukup memodifikasi sel yang memanggil metode .sum().\n",
    "\n",
    "Sekarang Anda dapat menghitung poin rata-rata per tahun."
   ]
  },
  {
   "cell_type": "code",
   "execution_count": 31,
   "id": "1bb4eb65",
   "metadata": {},
   "outputs": [
    {
     "data": {
      "text/plain": [
       "<bound method NDFrame._add_numeric_operations.<locals>.sum of 6        1946-11-02\n",
       "14       1946-11-05\n",
       "28       1946-11-09\n",
       "40       1946-11-13\n",
       "46       1946-11-14\n",
       "            ...    \n",
       "126141   2015-04-15\n",
       "126162   2015-04-19\n",
       "126173   2015-04-21\n",
       "126185   2015-04-23\n",
       "126205   2015-04-26\n",
       "Name: date_played, Length: 5997, dtype: datetime64[ns]>"
      ]
     },
     "execution_count": 31,
     "metadata": {},
     "output_type": "execute_result"
    }
   ],
   "source": [
    "df.loc[df['team_id']=='BOS','date_played'].sum"
   ]
  },
  {
   "cell_type": "code",
   "execution_count": 35,
   "id": "5de12326",
   "metadata": {},
   "outputs": [
    {
     "data": {
      "text/plain": [
       "6         1946\n",
       "14        1946\n",
       "28        1946\n",
       "40        1946\n",
       "46        1946\n",
       "          ... \n",
       "126141    2015\n",
       "126162    2015\n",
       "126173    2015\n",
       "126185    2015\n",
       "126205    2015\n",
       "Name: date_played, Length: 5997, dtype: int64"
      ]
     },
     "execution_count": 35,
     "metadata": {},
     "output_type": "execute_result"
    }
   ],
   "source": [
    "# (.apply()) untuk meneruskan nilai ke lambda dan kemudian kalian hanya perlu mengekstrak atribut (.year)\n",
    "# Terdapat tahun yang duplikat kita hapus dengan panggil metode .unique(),\n",
    "df.loc[df['team_id']=='BOS','date_played'].apply(lambda v: v.year)"
   ]
  },
  {
   "cell_type": "markdown",
   "id": "6ce59e4a",
   "metadata": {},
   "source": [
    ">lambda expresion, sebuah ekspresi untuk membuat fungsi."
   ]
  },
  {
   "cell_type": "markdown",
   "id": "37591f55",
   "metadata": {},
   "source": [
    "![picture](lambda.png)"
   ]
  },
  {
   "cell_type": "code",
   "execution_count": 45,
   "id": "64b32ab4",
   "metadata": {},
   "outputs": [
    {
     "data": {
      "text/plain": [
       "626484"
      ]
     },
     "execution_count": 45,
     "metadata": {},
     "output_type": "execute_result"
    }
   ],
   "source": [
    "# kita siapkan variabel total point boston dengan nilai \"626484\"\n",
    "total_poin_BOS = df.loc[df[\"team_id\"] == \"BOS\", \"pts\"].sum()"
   ]
  },
  {
   "cell_type": "code",
   "execution_count": 46,
   "id": "16684dbc",
   "metadata": {},
   "outputs": [],
   "source": [
    "# mengembalikan jumlah data tahum dari tim bos kedalam variabel dengan jumlah \"70\"\n",
    "tahun_main_BOS = len(df.loc[df['team_id']=='BOS','date_played'].apply(lambda v: v.year).unique())"
   ]
  },
  {
   "cell_type": "code",
   "execution_count": 48,
   "id": "0fb32738",
   "metadata": {},
   "outputs": [
    {
     "data": {
      "text/plain": [
       "8949.771428571428"
      ]
     },
     "execution_count": 48,
     "metadata": {},
     "output_type": "execute_result"
    }
   ],
   "source": [
    "# total poin bos [626484] / jumlah tahun main bos [70] dan hasilnya adalah rata rata point tiap tahunnya\n",
    "total_poin_BOS / tahun_main_BOS"
   ]
  },
  {
   "cell_type": "markdown",
   "id": "41e9f5dd",
   "metadata": {},
   "source": [
    "## Getting to Know Pandas’ Data Structures\n",
    "Meskipun DataFrame menyediakan fungsi yang bisa terasa cukup intuitif, konsep dasarnya agak lebih rumit untuk dipahami. Oleh karena itu, kalian akan menyisihkan NBA DataFrame yang luas dan membuat beberapa objek Pandas yang lebih kecil dari awal."
   ]
  },
  {
   "cell_type": "markdown",
   "id": "862f4a12",
   "metadata": {},
   "source": [
    "### Series Object\n",
    "Struktur data Python yang paling dasar adalah list, yang juga merupakan titik awal yang baik untuk mengenal objek pandas.Series. Buat objek Series baru menggunakan list:\n",
    "\n",
    "The Series mempunyai 2 part : values and identifiers. \n",
    ">The values are a sequence, similar to a list in Python. \n",
    "\n",
    ">The identifiers are mapped to the values. with index"
   ]
  },
  {
   "cell_type": "code",
   "execution_count": 51,
   "id": "f9ef3841",
   "metadata": {},
   "outputs": [],
   "source": [
    "# contoh dengan membuat variabel dengan objek series didalamnya\n",
    "revenues = pd.Series([5555, 7000, 1980])"
   ]
  },
  {
   "cell_type": "markdown",
   "id": "3f652379",
   "metadata": {},
   "source": [
    "Kalian menggunakan list *[5555, 7000, 1980]* untuk membuat objek Series yang disebut *revenues*. Objek Series mempunyai dua komponen:\n",
    "\n",
    "  * *A sequence of values*\n",
    "  * *A sequence of identifiers, which is the index*\n",
    "  \n",
    "Kalian dapat mengakses komponen ini masing-masing dengan *.values* dan *.index*:"
   ]
  },
  {
   "cell_type": "code",
   "execution_count": 53,
   "id": "3aa8f5fc",
   "metadata": {},
   "outputs": [
    {
     "data": {
      "text/plain": [
       "0    5555\n",
       "1    7000\n",
       "2    1980\n",
       "dtype: int64"
      ]
     },
     "execution_count": 53,
     "metadata": {},
     "output_type": "execute_result"
    }
   ],
   "source": [
    "revenues"
   ]
  },
  {
   "cell_type": "code",
   "execution_count": 58,
   "id": "11b6c029",
   "metadata": {},
   "outputs": [
    {
     "data": {
      "text/plain": [
       "array([5555, 7000, 1980], dtype=int64)"
      ]
     },
     "execution_count": 58,
     "metadata": {},
     "output_type": "execute_result"
    }
   ],
   "source": [
    "# (.values()) untuk menampilkan jumlah objek yang dikembalikan dalam seri variabel revenues\n",
    "revenues.values"
   ]
  },
  {
   "cell_type": "markdown",
   "id": "9378382b",
   "metadata": {},
   "source": [
    "Meskipun *Pandas* dibuat di atas *NumPy*, perbedaan yang signifikan terletak pada **pengindeksannya**. Sama seperti *array NumPy*, *Pandas Series* juga memiliki **indeks integer** yang ditentukan secara *implisit*. *Indeks implisit* ini menunjukkan posisi elemen dalam *Series*.\n",
    "\n",
    "Namun, *Series* juga dapat memiliki jenis indeks yang berubah-ubah. Kalian dapat menganggap indeks eksplisit ini sebagai label untuk baris tertentu:"
   ]
  },
  {
   "cell_type": "code",
   "execution_count": 59,
   "id": "ca1129b0",
   "metadata": {},
   "outputs": [
    {
     "data": {
      "text/plain": [
       "RangeIndex(start=0, stop=3, step=1)"
      ]
     },
     "execution_count": 59,
     "metadata": {},
     "output_type": "execute_result"
    }
   ],
   "source": [
    "revenues.index"
   ]
  },
  {
   "cell_type": "code",
   "execution_count": 61,
   "id": "8e217223",
   "metadata": {},
   "outputs": [
    {
     "data": {
      "text/plain": [
       "Amsterdam    4200\n",
       "Toronto      8000\n",
       "Tokyo        6500\n",
       "dtype: int64"
      ]
     },
     "execution_count": 61,
     "metadata": {},
     "output_type": "execute_result"
    }
   ],
   "source": [
    "# contoh lainnya, membuat variabel dengan tipe series\n",
    "city_revenues = pd.Series(\n",
    "    [4200, 8000, 6500],\n",
    "    index=[\"Amsterdam\", \"Toronto\", \"Tokyo\"]\n",
    ")\n",
    "city_revenues"
   ]
  },
  {
   "cell_type": "markdown",
   "id": "dcc5edd2",
   "metadata": {},
   "source": [
    "Di sini, daftar nama kota adalah indeksnya yang diwakili oleh string. Kalian mungkin telah memperhatikan bahwa *dictionaries Python* menggunakan indeks string juga, dan ini adalah analogi yang berguna untuk diingat! Kalian dapat menggunakan blok kode di atas untuk membedakan antara dua jenis Series:\n",
    "\n",
    "__Setiap series akan menyimpan indeks numerik secara default__. Sama halnya dengan tipe koleksi *python primitif List*\n",
    "* revenues: Seri ini berperilaku seperti list Python karena hanya memiliki indeks posisi. \n",
    "* city_revenues: Seri ini bertindak seperti dictonary Python karena kita dpt menggunakan indeks untuk mengambil value terkait, atau posisi dan label.\n",
    "\n",
    "Berikut cara membuat Series dengan indeks label dari dictionary Python:"
   ]
  },
  {
   "cell_type": "code",
   "execution_count": 64,
   "id": "c056cd49",
   "metadata": {},
   "outputs": [
    {
     "name": "stdout",
     "output_type": "stream",
     "text": [
      "6500\n"
     ]
    },
    {
     "data": {
      "text/plain": [
       "Amsterdam    5\n",
       "Tokyo        8\n",
       "dtype: int64"
      ]
     },
     "execution_count": 64,
     "metadata": {},
     "output_type": "execute_result"
    }
   ],
   "source": [
    "# perintah ini untuk memanggil pada indeks nama kota [Tokyo]\n",
    "print(city_revenues['Tokyo'])\n",
    "\n",
    "# perintah dibawah ini untuk mengembalikan isi varibel city_emp_data kedalam variabel city_employee_count\n",
    "city_emp_data = {\"Amsterdam\": 5, \"Tokyo\": 8}\n",
    "city_employee_count = pd.Series(city_emp_data)\n",
    "city_employee_count"
   ]
  },
  {
   "cell_type": "markdown",
   "id": "e6c08c17",
   "metadata": {},
   "source": [
    ">Pada Dictionary *keys* adalah indeks di *series*, dan nilai *dictionary* adalah nilai *Series*."
   ]
  },
  {
   "cell_type": "markdown",
   "id": "80b3649a",
   "metadata": {},
   "source": [
    "Penggunaanya Sama seperti dictionaries, Series juga mendukung _.keys()_ dan keyword in:"
   ]
  },
  {
   "cell_type": "code",
   "execution_count": 68,
   "id": "5219abbc",
   "metadata": {},
   "outputs": [
    {
     "name": "stdout",
     "output_type": "stream",
     "text": [
      "Index(['Amsterdam', 'Toronto', 'Tokyo'], dtype='object')\n"
     ]
    },
    {
     "data": {
      "text/plain": [
       "dict_keys(['Amsterdam', 'Tokyo'])"
      ]
     },
     "execution_count": 68,
     "metadata": {},
     "output_type": "execute_result"
    }
   ],
   "source": [
    "# berikut perbedaan indeks dan dict_key\n",
    "print(city_revenues.keys())\n",
    "city_emp_data.keys()"
   ]
  },
  {
   "cell_type": "code",
   "execution_count": 69,
   "id": "9e9efe32",
   "metadata": {},
   "outputs": [
    {
     "name": "stdout",
     "output_type": "stream",
     "text": [
      "True\n"
     ]
    },
    {
     "data": {
      "text/plain": [
       "True"
      ]
     },
     "execution_count": 69,
     "metadata": {},
     "output_type": "execute_result"
    }
   ],
   "source": [
    "print(\"Tokyo\" in city_employee_count)\n",
    "\"Tokyo\" in city_revenues"
   ]
  },
  {
   "cell_type": "markdown",
   "id": "feaed3df",
   "metadata": {},
   "source": [
    "### DataFrame Object\n",
    "Meskipun Series adalah struktur data yang cukup kuat, ia memiliki keterbatasan. misalnya, kalian hanya dapat menyimpan satu atribut per kunci. Seperti yang kalian lihat dengan kumpulan data nba, yang menampilkan 23 kolom, pustaka Pandas Python memiliki lebih banyak hal untuk ditawarkan dengan DataFrame-nya. Struktur data ini adalah **sequence objek** kalian yang memiliki indeks yang sama.\n",
    "\n",
    "Jika kalian telah mengikuti contoh *Series* diatas, kalian seharusnya sudah memiliki dua *objek Series* dengan cities sebagai kuncinya:\n",
    "\n",
    "* *city_revenues*\n",
    "* *city_employee_count*\n",
    "\n",
    "**Kalian dapat menggabungkan objek-objek ini ke dalam DataFrame dengan memberikan dictionary di *konstruktor*. Dictionary keys akan menjadi nama kolom, dan nilainya akan berisi *objek Series*:**"
   ]
  },
  {
   "cell_type": "code",
   "execution_count": 71,
   "id": "88a7f0a0",
   "metadata": {},
   "outputs": [
    {
     "data": {
      "text/html": [
       "<div>\n",
       "<style scoped>\n",
       "    .dataframe tbody tr th:only-of-type {\n",
       "        vertical-align: middle;\n",
       "    }\n",
       "\n",
       "    .dataframe tbody tr th {\n",
       "        vertical-align: top;\n",
       "    }\n",
       "\n",
       "    .dataframe thead th {\n",
       "        text-align: right;\n",
       "    }\n",
       "</style>\n",
       "<table border=\"1\" class=\"dataframe\">\n",
       "  <thead>\n",
       "    <tr style=\"text-align: right;\">\n",
       "      <th></th>\n",
       "      <th>revenue</th>\n",
       "      <th>employee_count</th>\n",
       "    </tr>\n",
       "  </thead>\n",
       "  <tbody>\n",
       "    <tr>\n",
       "      <th>Amsterdam</th>\n",
       "      <td>4200</td>\n",
       "      <td>5.0</td>\n",
       "    </tr>\n",
       "    <tr>\n",
       "      <th>Tokyo</th>\n",
       "      <td>6500</td>\n",
       "      <td>8.0</td>\n",
       "    </tr>\n",
       "    <tr>\n",
       "      <th>Toronto</th>\n",
       "      <td>8000</td>\n",
       "      <td>NaN</td>\n",
       "    </tr>\n",
       "  </tbody>\n",
       "</table>\n",
       "</div>"
      ],
      "text/plain": [
       "           revenue  employee_count\n",
       "Amsterdam     4200             5.0\n",
       "Tokyo         6500             8.0\n",
       "Toronto       8000             NaN"
      ]
     },
     "execution_count": 71,
     "metadata": {},
     "output_type": "execute_result"
    }
   ],
   "source": [
    "# perintah diawah ini untuk menggabungkan objek objek didalam variabel city_revenues dan city_employee_count\n",
    "city_data = pd.DataFrame({\n",
    "    \"revenue\": city_revenues,\n",
    "    \"employee_count\": city_employee_count\n",
    "})\n",
    "city_data"
   ]
  },
  {
   "cell_type": "markdown",
   "id": "4fd7acb2",
   "metadata": {},
   "source": [
    ">Sehinngga menghasilkan data yang **hilang pada atribut toronro - Employee_count disebut *NaN***"
   ]
  },
  {
   "cell_type": "markdown",
   "id": "dde47c12",
   "metadata": {},
   "source": [
    "Indeks DataFrame baru adalah gabungan dari dua indeks Series *city_revenues* dan *city_employee_count* :"
   ]
  },
  {
   "cell_type": "code",
   "execution_count": 74,
   "id": "2673173b",
   "metadata": {},
   "outputs": [
    {
     "data": {
      "text/plain": [
       "Index(['Amsterdam', 'Tokyo', 'Toronto'], dtype='object')"
      ]
     },
     "execution_count": 74,
     "metadata": {},
     "output_type": "execute_result"
    }
   ],
   "source": [
    "city_data.index\n",
    "# pada index dataframe terdapat 3 kota "
   ]
  },
  {
   "cell_type": "code",
   "execution_count": 75,
   "id": "31c79999",
   "metadata": {},
   "outputs": [
    {
     "data": {
      "text/plain": [
       "array([[4.2e+03, 5.0e+00],\n",
       "       [6.5e+03, 8.0e+00],\n",
       "       [8.0e+03,     nan]])"
      ]
     },
     "execution_count": 75,
     "metadata": {},
     "output_type": "execute_result"
    }
   ],
   "source": [
    "city_data.values\n",
    "# pada values terdapat 5 data dan 1 data yang hilang"
   ]
  },
  {
   "cell_type": "code",
   "execution_count": 77,
   "id": "212f09b9",
   "metadata": {},
   "outputs": [
    {
     "name": "stdout",
     "output_type": "stream",
     "text": [
      "[Index(['Amsterdam', 'Tokyo', 'Toronto'], dtype='object'), Index(['revenue', 'employee_count'], dtype='object')]\n"
     ]
    }
   ],
   "source": [
    "# (.axes) untuk menampilkan 2 dimensi index dari dataframe city_data\n",
    "print(city_data.axes)"
   ]
  },
  {
   "cell_type": "markdown",
   "id": "25f5ce98",
   "metadata": {},
   "source": [
    ">Penggunaanya pemanggilan dataframe juga mirip dan dapat diakses seperti list, bedanya series yang digunakan memiliki 2 index"
   ]
  },
  {
   "cell_type": "code",
   "execution_count": 97,
   "id": "dc66cbec",
   "metadata": {},
   "outputs": [
    {
     "name": "stdout",
     "output_type": "stream",
     "text": [
      "           revenue  employee_count\n",
      "Amsterdam     4200             5.0\n",
      "Tokyo         6500             8.0\n",
      "Toronto       8000             NaN\n",
      "===============\n",
      "Amsterdam\n",
      "Tokyo\n"
     ]
    }
   ],
   "source": [
    "print(city_data)\n",
    "print(\"===============\")\n",
    "print(city_data.axes[0][0])\n",
    "print(city_data.axes[0][1])"
   ]
  },
  {
   "cell_type": "markdown",
   "id": "4df75b6b",
   "metadata": {},
   "source": [
    ">Axis bertanda 0 adalah indeks baris, \n",
    "\n",
    ">Axis bertanda 1 adalah indeks kolom. \n",
    "\n",
    "Terminologi ini penting untuk diketahui karena kalian akan menemukan beberapa metode *DataFrame* yang menerima *parameter axis*.\n",
    "\n",
    "*DataFrame* juga merupakan struktur data seperti *dictionary*, sehingga juga mendukung *.keys()* dan *keyword in*. Namun, untuk *DataFrame*, hal ini tidak terkait dengan indeks, tetapi dengan kolom:"
   ]
  },
  {
   "cell_type": "code",
   "execution_count": 98,
   "id": "47f522af",
   "metadata": {},
   "outputs": [
    {
     "data": {
      "text/plain": [
       "True"
      ]
     },
     "execution_count": 98,
     "metadata": {},
     "output_type": "execute_result"
    }
   ],
   "source": [
    "'Tokyo' in city_data.axes[0]"
   ]
  },
  {
   "cell_type": "code",
   "execution_count": 99,
   "id": "3d97122d",
   "metadata": {},
   "outputs": [
    {
     "name": "stdout",
     "output_type": "stream",
     "text": [
      "Index(['revenue', 'employee_count'], dtype='object')\n"
     ]
    },
    {
     "data": {
      "text/plain": [
       "array([[4.2e+03, 5.0e+00],\n",
       "       [6.5e+03, 8.0e+00],\n",
       "       [8.0e+03,     nan]])"
      ]
     },
     "execution_count": 99,
     "metadata": {},
     "output_type": "execute_result"
    }
   ],
   "source": [
    "print(city_data.keys())\n",
    "city_data.values"
   ]
  },
  {
   "cell_type": "markdown",
   "id": "6458a388",
   "metadata": {},
   "source": [
    "Kalian dapat melihat konsep ini diimplementasikan dengan kumpulan data *NBA* yang lebih besar. Apakah dataset tersebut berisi kolom yang disebut *\"points\"*, atau apakah disebut *\"pts\"*?\n",
    "\n",
    "Karena kalian tidak menentukan kolom indeks saat kalian membaca di file *CSV*, Pandas telah menetapkan *RangeIndex* ke *DataFrame*:"
   ]
  },
  {
   "cell_type": "code",
   "execution_count": 100,
   "id": "5f8d8e60",
   "metadata": {},
   "outputs": [
    {
     "name": "stdout",
     "output_type": "stream",
     "text": [
      "RangeIndex(start=0, stop=126314, step=1)\n"
     ]
    },
    {
     "data": {
      "text/plain": [
       "[RangeIndex(start=0, stop=126314, step=1),\n",
       " Index(['gameorder', 'game_id', 'lg_id', '_iscopy', 'year_id', 'date_game',\n",
       "        'seasongame', 'is_playoffs', 'team_id', 'fran_id', 'pts', 'elo_i',\n",
       "        'elo_n', 'win_equiv', 'opp_id', 'opp_fran', 'opp_pts', 'opp_elo_i',\n",
       "        'opp_elo_n', 'game_location', 'game_result', 'forecast', 'notes',\n",
       "        'date_played'],\n",
       "       dtype='object')]"
      ]
     },
     "execution_count": 100,
     "metadata": {},
     "output_type": "execute_result"
    }
   ],
   "source": [
    "print(df.index)\n",
    "df.axes"
   ]
  },
  {
   "cell_type": "code",
   "execution_count": 101,
   "id": "2cdf1451",
   "metadata": {},
   "outputs": [
    {
     "name": "stdout",
     "output_type": "stream",
     "text": [
      "False\n"
     ]
    },
    {
     "data": {
      "text/plain": [
       "True"
      ]
     },
     "execution_count": 101,
     "metadata": {},
     "output_type": "execute_result"
    }
   ],
   "source": [
    "print(\"points\" in df.keys())\n",
    "# kalian dapat melihat keberadaan kolom dengan perintah .keys()\n",
    "\"pts\" in df.keys()"
   ]
  },
  {
   "cell_type": "markdown",
   "id": "704aba80",
   "metadata": {},
   "source": [
    "### Accessending Series element\n",
    "Pada bagian di atas, kalian telah membuat *Series Pandas* berdasarkan *list Python* dan membandingkan kedua struktur datanya. Kalian telah melihat kemiripan *objek Series* dengan *list* dan *dictionaries* dalam beberapa cara. Kesamaan lebih lanjut adalah kalian dapat menggunakan operator pengindeksan *([-])* untuk Series juga.\n",
    "\n",
    "Kalian juga akan mempelajari cara menggunakan dua metode akses khusus Pandas:\n",
    "* *.loc*\n",
    "* *.iloc*\n",
    "\n",
    "Kalian akan melihat bahwa metode akses data ini bisa jauh lebih mudah dibaca daripada operator pengindeksan.\n",
    "\n",
    "#### Using the Indexing Operator\n",
    "Ingatlah bahwa Series memiliki dua indeks:\n",
    "* A positional or implicit index, which is always a *RangeIndex*\n",
    "* A label or explicit index, which can contain any *hashable objects*\n",
    "\n",
    "Selanjutnya, kunjungi kembali objek *city_revenues*:"
   ]
  },
  {
   "cell_type": "code",
   "execution_count": 102,
   "id": "acec7663",
   "metadata": {},
   "outputs": [
    {
     "data": {
      "text/plain": [
       "Amsterdam    4200\n",
       "Toronto      8000\n",
       "Tokyo        6500\n",
       "dtype: int64"
      ]
     },
     "execution_count": 102,
     "metadata": {},
     "output_type": "execute_result"
    }
   ],
   "source": [
    "city_revenues"
   ]
  },
  {
   "cell_type": "code",
   "execution_count": 106,
   "id": "f3b4ef34",
   "metadata": {},
   "outputs": [
    {
     "name": "stdout",
     "output_type": "stream",
     "text": [
      "8000\n"
     ]
    },
    {
     "data": {
      "text/plain": [
       "8000"
      ]
     },
     "execution_count": 106,
     "metadata": {},
     "output_type": "execute_result"
    }
   ],
   "source": [
    "# Penggunaanya hampir sama \n",
    "# Kalian dapat dengan mudah mengakses nilai dalam Series dengan indeks label dan posisi:\n",
    "print(city_revenues[\"Toronto\"])\n",
    "city_revenues[1]"
   ]
  },
  {
   "cell_type": "code",
   "execution_count": 107,
   "id": "c1b2cfe6",
   "metadata": {},
   "outputs": [
    {
     "data": {
      "text/plain": [
       "6500"
      ]
     },
     "execution_count": 107,
     "metadata": {},
     "output_type": "execute_result"
    }
   ],
   "source": [
    "# Kalian juga dapat menggunakan indeks dan slicing negatif, seperti yang kalian lakukan untuk list:\n",
    "city_revenues[-1]"
   ]
  },
  {
   "cell_type": "code",
   "execution_count": 108,
   "id": "92dcc2d8",
   "metadata": {},
   "outputs": [
    {
     "data": {
      "text/plain": [
       "Amsterdam    4200\n",
       "dtype: int64"
      ]
     },
     "execution_count": 108,
     "metadata": {},
     "output_type": "execute_result"
    }
   ],
   "source": [
    "city_revenues[:1]"
   ]
  },
  {
   "cell_type": "code",
   "execution_count": 109,
   "id": "822f41ca",
   "metadata": {},
   "outputs": [
    {
     "data": {
      "text/plain": [
       "Toronto    8000\n",
       "Tokyo      6500\n",
       "dtype: int64"
      ]
     },
     "execution_count": 109,
     "metadata": {},
     "output_type": "execute_result"
    }
   ],
   "source": [
    "# atau bisa juga menggunakan key untuk memanggil semua value\n",
    "city_revenues[\"Toronto\":]"
   ]
  },
  {
   "cell_type": "markdown",
   "id": "c50adf22",
   "metadata": {},
   "source": [
    "##### Using .loc and .iloc\n",
    "\n",
    "Operator pengindeksan _([-])_ memang mudah digunakan, tetapi ada peringatan. **Bagaimana jika labelnya juga angka? Katakanlah kalian harus bekerja dengan objek Series seperti ini:**"
   ]
  },
  {
   "cell_type": "code",
   "execution_count": 110,
   "id": "88c8bada",
   "metadata": {},
   "outputs": [
    {
     "data": {
      "text/plain": [
       "1       red\n",
       "2    purple\n",
       "3      blue\n",
       "5     green\n",
       "8    yellow\n",
       "dtype: object"
      ]
     },
     "execution_count": 110,
     "metadata": {},
     "output_type": "execute_result"
    }
   ],
   "source": [
    "# contoh objek series dengan index default atau angka\n",
    "colors = pd.Series(\n",
    "    [\"red\", \"purple\", \"blue\", \"green\", \"yellow\"],\n",
    "    index=[1, 2, 3, 5, 8]\n",
    ")\n",
    "colors"
   ]
  },
  {
   "cell_type": "code",
   "execution_count": 112,
   "id": "6af194b3",
   "metadata": {},
   "outputs": [
    {
     "data": {
      "text/plain": [
       "'green'"
      ]
     },
     "execution_count": 112,
     "metadata": {},
     "output_type": "execute_result"
    }
   ],
   "source": [
    "# pada penggunaanya index 1, 2, 3, 5, 8 adalah key/kunci atau indeks\n",
    "# jika kalian menggunakan angka tersebut untuk memanggilnya maka value dari angka tersebut akan ditampilkan\n",
    "colors[5]"
   ]
  },
  {
   "cell_type": "markdown",
   "id": "b58c3d7c",
   "metadata": {},
   "source": [
    "Untuk menghindari kebingungan, pustaka Pandas Python menyediakan dua metode akses data:\n",
    "\n",
    ">*.loc* mengacu pada indeks label (refers to the label index).\n",
    "\n",
    ">*.iloc* mengacu pada indeks posisi (refers to the positional index).\n",
    "\n",
    "Metode akses data ini jauh lebih mudah dibaca:"
   ]
  },
  {
   "cell_type": "code",
   "execution_count": 113,
   "id": "8bb597da",
   "metadata": {},
   "outputs": [
    {
     "data": {
      "text/plain": [
       "'red'"
      ]
     },
     "execution_count": 113,
     "metadata": {},
     "output_type": "execute_result"
    }
   ],
   "source": [
    "# (.loc[range]) untuk mengambil kunci atau key dari label 1 sesuai dengan penomoran indexing\n",
    "colors.loc[1]  ## mengambil key / label 1 "
   ]
  },
  {
   "cell_type": "code",
   "execution_count": 114,
   "id": "b5153a7c",
   "metadata": {},
   "outputs": [
    {
     "data": {
      "text/plain": [
       "'red'"
      ]
     },
     "execution_count": 114,
     "metadata": {},
     "output_type": "execute_result"
    }
   ],
   "source": [
    "# (.iloc[range]) untuk mengambil kunci atau key dari label 1 sesuai urutan indexing 0-4\n",
    "colors.iloc[0]  ## berbeda dengan .iloc mengambil pada indeks pertama"
   ]
  },
  {
   "cell_type": "markdown",
   "id": "e9c35bff",
   "metadata": {},
   "source": [
    "Lebih mudah mengingat perbedaan antara *.loc* dan *.iloc* daripada mencari tahu apa yang akan dikembalikan oleh operator pengindeksan. Meskipun kalian terbiasa dengan semua kebiasaan operator pengindeksan, dapat berbahaya untuk berasumsi bahwa setiap orang yang membaca kode kalian telah menginternalisasi aturan tersebut juga.\n",
    "\n",
    "*```.loc```* dan *```.iloc```* juga mendukung fitur yang kalian harapkan dari operator pengindeksan, seperti slicing. \n",
    "\n",
    "Namun, metode akses data ini memiliki perbedaan penting. \n",
    "\n",
    ">Sementara *```.iloc```* mengecualikan elemen penutup, \n",
    "\n",
    ">sedangkan *```.loc```* menyertakannya. Lihatlah blok kode ini:"
   ]
  },
  {
   "cell_type": "code",
   "execution_count": 120,
   "id": "10536c2a",
   "metadata": {},
   "outputs": [
    {
     "name": "stdout",
     "output_type": "stream",
     "text": [
      "1       red\n",
      "2    purple\n",
      "3      blue\n",
      "5     green\n",
      "8    yellow\n",
      "dtype: object\n"
     ]
    },
    {
     "data": {
      "text/plain": [
       "2    purple\n",
       "3      blue\n",
       "dtype: object"
      ]
     },
     "execution_count": 120,
     "metadata": {},
     "output_type": "execute_result"
    }
   ],
   "source": [
    "print(colors)\n",
    "\n",
    "# mengembalikan elemen dengan inplisit index pertama [red] dan dimulai dari index ke dua [pruple]\n",
    "colors.iloc[1:3] # dari indeks kedua [purple] sampai indeks ke empat [green]"
   ]
  },
  {
   "cell_type": "markdown",
   "id": "0a211269",
   "metadata": {},
   "source": [
    "Jika kalian membandingkan kode ini dengan contoh di atas, maka Anda dapat melihat bahwa *```colors.iloc[1:3]```* mengembalikan elemen dengan indeks posisi 1 dan 2. Item penutup \"hijau\" dengan indeks posisi 3 dikecualikan.\n",
    "\n",
    "Di sisi lain, *```.loc```* menyertakan elemen penutup:"
   ]
  },
  {
   "cell_type": "code",
   "execution_count": 122,
   "id": "5f609547",
   "metadata": {},
   "outputs": [
    {
     "data": {
      "text/plain": [
       "3      blue\n",
       "5     green\n",
       "8    yellow\n",
       "dtype: object"
      ]
     },
     "execution_count": 122,
     "metadata": {},
     "output_type": "execute_result"
    }
   ],
   "source": [
    "# mengembalikan elemen dengan implisit index diantara nomor 3 [blue] sampai nomor 8 [yellow] \n",
    "colors.loc[3:8]"
   ]
  },
  {
   "cell_type": "markdown",
   "id": "10fa2bcd",
   "metadata": {},
   "source": [
    "Blok kode ini mengatakan untuk mengembalikan semua elemen dengan indeks label antara 3 dan 8. Di sini, item penutup \"kuning\" memiliki indeks label 8 dan disertakan dalam keluaran.\n",
    "\n",
    "Kalian juga dapat menyertakan indeks posisi negatif ke *```.iloc```*:"
   ]
  },
  {
   "cell_type": "code",
   "execution_count": 124,
   "id": "61dff36e",
   "metadata": {},
   "outputs": [
    {
     "data": {
      "text/plain": [
       "'green'"
      ]
     },
     "execution_count": 124,
     "metadata": {},
     "output_type": "execute_result"
    }
   ],
   "source": [
    "# [-2] penggunaan indexing min dihitung index paling atas sampai kebawah\n",
    "colors.iloc[-2]"
   ]
  },
  {
   "cell_type": "markdown",
   "id": "47dc66d9",
   "metadata": {},
   "source": [
    "perintah [-2] dimulai dari akhir *Series* dan mengembalikan elemen kedua.\n",
    "\n",
    "Kalian dapat menggunakan blok kode di atas untuk membedakan antara dua perilaku *Series*:\n",
    "\n",
    ">*```.iloc```* pada series sama penggunaan dg list *```[]```*\n",
    "\n",
    ">*```.loc```* pada series sama penggunaan dg Dictionary  *```{}```*"
   ]
  },
  {
   "cell_type": "markdown",
   "id": "6df308b9",
   "metadata": {},
   "source": [
    "### Accessing DataFrame Elements\n",
    "Karena DataFrame terdiri dari objek *Series*, kalian dapat menggunakan alat yang sama untuk mengakses elemennya. \n",
    "\n",
    "Perbedaan krusialnya adalah dimensi tambahan dari *DataFrame*. Kalian akan menggunakan operator pengindeksan untuk kolom dan metode akses *```.loc```* and *```.iloc```* di baris.\n",
    "\n",
    "#### Using the Indexing Operator\n",
    "Jika kalian menganggap **DataFrame sebagai *dictionary* yang nilainya adalah *Series***, maka masuk akal jika kalian dapat mengakses kolomnya dengan operator pengindeksan:"
   ]
  },
  {
   "cell_type": "code",
   "execution_count": 128,
   "id": "5ed0fc06",
   "metadata": {},
   "outputs": [
    {
     "name": "stdout",
     "output_type": "stream",
     "text": [
      "           revenue  employee_count\n",
      "Amsterdam     4200             5.0\n",
      "Tokyo         6500             8.0\n",
      "Toronto       8000             NaN\n"
     ]
    },
    {
     "data": {
      "text/plain": [
       "Amsterdam    4200\n",
       "Tokyo        6500\n",
       "Toronto      8000\n",
       "Name: revenue, dtype: int64"
      ]
     },
     "execution_count": 128,
     "metadata": {},
     "output_type": "execute_result"
    }
   ],
   "source": [
    "print(city_data)\n",
    "# perintah ini untuk menampilkan value atau nilai dari atribut revanue\n",
    "city_data[\"revenue\"]"
   ]
  },
  {
   "cell_type": "markdown",
   "id": "be254f2a",
   "metadata": {},
   "source": [
    ">Jika nama kolom adalah *string*, maka kalian juga dapat menggunakan akses attribute-style dengan ```dot notation```:\n",
    "\n",
    "Di sini, kalian menggunakan operator pengindeksan untuk memilih kolom berlabel \"revenue\"."
   ]
  },
  {
   "cell_type": "code",
   "execution_count": 129,
   "id": "a363e9f6",
   "metadata": {},
   "outputs": [
    {
     "data": {
      "text/plain": [
       "Amsterdam    4200\n",
       "Tokyo        6500\n",
       "Toronto      8000\n",
       "Name: revenue, dtype: int64"
      ]
     },
     "execution_count": 129,
     "metadata": {},
     "output_type": "execute_result"
    }
   ],
   "source": [
    "city_data.revenue"
   ]
  },
  {
   "cell_type": "markdown",
   "id": "3bc36272",
   "metadata": {},
   "source": [
    ">*```city_data[\"revenue\"]```* dan *```city_data.revenue```* mengembalikan output yang sama.\n",
    "\n",
    "Ada satu situasi di mana mengakses elemen DataFrame dengan notasi titik mungkin tidak berfungsi atau dapat menimbulkan kesalahan.\n",
    "\n",
    "Adalah saat nama kolom bertepatan dengan atribut *DataFrame* atau nama method :"
   ]
  },
  {
   "cell_type": "code",
   "execution_count": 131,
   "id": "f8a47bd7",
   "metadata": {},
   "outputs": [
    {
     "data": {
      "text/html": [
       "<div>\n",
       "<style scoped>\n",
       "    .dataframe tbody tr th:only-of-type {\n",
       "        vertical-align: middle;\n",
       "    }\n",
       "\n",
       "    .dataframe tbody tr th {\n",
       "        vertical-align: top;\n",
       "    }\n",
       "\n",
       "    .dataframe thead th {\n",
       "        text-align: right;\n",
       "    }\n",
       "</style>\n",
       "<table border=\"1\" class=\"dataframe\">\n",
       "  <thead>\n",
       "    <tr style=\"text-align: right;\">\n",
       "      <th></th>\n",
       "      <th>name</th>\n",
       "      <th>shape</th>\n",
       "    </tr>\n",
       "  </thead>\n",
       "  <tbody>\n",
       "    <tr>\n",
       "      <th>0</th>\n",
       "      <td>ball</td>\n",
       "      <td>sphere</td>\n",
       "    </tr>\n",
       "    <tr>\n",
       "      <th>1</th>\n",
       "      <td>Rubik's cube</td>\n",
       "      <td>cube</td>\n",
       "    </tr>\n",
       "  </tbody>\n",
       "</table>\n",
       "</div>"
      ],
      "text/plain": [
       "           name   shape\n",
       "0          ball  sphere\n",
       "1  Rubik's cube    cube"
      ]
     },
     "execution_count": 131,
     "metadata": {},
     "output_type": "execute_result"
    }
   ],
   "source": [
    "# contoh menggunakan dataframe \n",
    "toys = pd.DataFrame([\n",
    "    {\"name\": \"ball\", \"shape\": \"sphere\"},\n",
    "    {\"name\": \"Rubik's cube\", \"shape\": \"cube\"},\n",
    "])\n",
    "toys"
   ]
  },
  {
   "cell_type": "code",
   "execution_count": 135,
   "id": "8c48a8d9",
   "metadata": {},
   "outputs": [
    {
     "data": {
      "text/plain": [
       "0    sphere\n",
       "1      cube\n",
       "Name: shape, dtype: object"
      ]
     },
     "execution_count": 135,
     "metadata": {},
     "output_type": "execute_result"
    }
   ],
   "source": [
    "# perintah ini untuk menampilkan value atau nilai dari atribut shape\n",
    "toys[\"shape\"]"
   ]
  },
  {
   "cell_type": "code",
   "execution_count": 137,
   "id": "30f51007",
   "metadata": {},
   "outputs": [
    {
     "data": {
      "text/plain": [
       "(2, 2)"
      ]
     },
     "execution_count": 137,
     "metadata": {},
     "output_type": "execute_result"
    }
   ],
   "source": [
    "# pemanggilannya juga bis menggunakan perintah attribute-style\n",
    "toys.shape"
   ]
  },
  {
   "cell_type": "markdown",
   "id": "f595dc0f",
   "metadata": {},
   "source": [
    "Operasi pengindeksan *```toys[\"shape\"]```* mengembalikan data yang benar, tetapi *```toys.shape```* mengembalikan bentuk *DataFrame*. \n",
    "\n",
    "Kalian sebaiknya hanya menggunakan pengaksesan bergaya atribut dalam sesi interaktif atau untuk operasi read. **Kalian tidak boleh menggunakannya untuk kode produksi atau untuk memanipulasi data (seperti menentukan kolom baru).**\n",
    "\n",
    "**Gunakan ```.loc and .iloc```**\n",
    "\n",
    ">Mirip dengan Series, DataFrame juga menyediakan metode akses data *```.loc```* and *```.iloc.```*\n",
    "\n",
    "Ingat, \n",
    "\n",
    ">*```.loc```* menggunakan label dan\n",
    "\n",
    ">*```.iloc```* indeks posisi:"
   ]
  },
  {
   "cell_type": "code",
   "execution_count": 143,
   "id": "2d5d6d47",
   "metadata": {},
   "outputs": [
    {
     "name": "stdout",
     "output_type": "stream",
     "text": [
      "           revenue  employee_count\n",
      "Amsterdam     4200             5.0\n",
      "Tokyo         6500             8.0\n",
      "Toronto       8000             NaN\n"
     ]
    },
    {
     "data": {
      "text/plain": [
       "revenue           4200.0\n",
       "employee_count       5.0\n",
       "Name: Amsterdam, dtype: float64"
      ]
     },
     "execution_count": 143,
     "metadata": {},
     "output_type": "execute_result"
    }
   ],
   "source": [
    "print(city_data)\n",
    "\n",
    "city_data.loc[\"Amsterdam\"]"
   ]
  },
  {
   "cell_type": "code",
   "execution_count": 145,
   "id": "fe94ba2b",
   "metadata": {},
   "outputs": [
    {
     "data": {
      "text/html": [
       "<div>\n",
       "<style scoped>\n",
       "    .dataframe tbody tr th:only-of-type {\n",
       "        vertical-align: middle;\n",
       "    }\n",
       "\n",
       "    .dataframe tbody tr th {\n",
       "        vertical-align: top;\n",
       "    }\n",
       "\n",
       "    .dataframe thead th {\n",
       "        text-align: right;\n",
       "    }\n",
       "</style>\n",
       "<table border=\"1\" class=\"dataframe\">\n",
       "  <thead>\n",
       "    <tr style=\"text-align: right;\">\n",
       "      <th></th>\n",
       "      <th>revenue</th>\n",
       "      <th>employee_count</th>\n",
       "    </tr>\n",
       "  </thead>\n",
       "  <tbody>\n",
       "    <tr>\n",
       "      <th>Tokyo</th>\n",
       "      <td>6500</td>\n",
       "      <td>8.0</td>\n",
       "    </tr>\n",
       "    <tr>\n",
       "      <th>Toronto</th>\n",
       "      <td>8000</td>\n",
       "      <td>NaN</td>\n",
       "    </tr>\n",
       "  </tbody>\n",
       "</table>\n",
       "</div>"
      ],
      "text/plain": [
       "         revenue  employee_count\n",
       "Tokyo       6500             8.0\n",
       "Toronto     8000             NaN"
      ]
     },
     "execution_count": 145,
     "metadata": {},
     "output_type": "execute_result"
    }
   ],
   "source": [
    "# perintah ini untuk menampilkan isi value dari indexing tokyo dan toronto\n",
    "city_data.loc[\"Tokyo\": \"Toronto\"]"
   ]
  },
  {
   "cell_type": "code",
   "execution_count": 146,
   "id": "862e4a33",
   "metadata": {},
   "outputs": [
    {
     "data": {
      "text/plain": [
       "Tokyo      6500\n",
       "Toronto    8000\n",
       "Name: revenue, dtype: int64"
      ]
     },
     "execution_count": 146,
     "metadata": {},
     "output_type": "execute_result"
    }
   ],
   "source": [
    "# perintah ini untuk menampilkan isi value dari indexing tokyo dan toronto pada atribut revenue\n",
    "city_data.loc[\"Tokyo\": \"Toronto\",'revenue']"
   ]
  },
  {
   "cell_type": "code",
   "execution_count": 153,
   "id": "170c399e",
   "metadata": {},
   "outputs": [
    {
     "data": {
      "text/plain": [
       "revenue           6500.0\n",
       "employee_count       8.0\n",
       "Name: Tokyo, dtype: float64"
      ]
     },
     "execution_count": 153,
     "metadata": {},
     "output_type": "execute_result"
    }
   ],
   "source": [
    "# perintah ini untuk menampilkan isi value index kedua\n",
    "city_data.iloc[1]"
   ]
  },
  {
   "cell_type": "markdown",
   "id": "b36d3ae6",
   "metadata": {},
   "source": [
    "Setiap baris kode memilih baris yang berbeda dari *city_data*:\n",
    "\n",
    "*```city_data.loc[\"Amsterdam\"]```* selects the row with the label index \"Amsterdam\".\n",
    "\n",
    "Kalian telah menggunakan *.loc* dan *.iloc* pada struktur data kecil. Sekarang, saatnya berlatih dengan data yang lebih besar! Gunakan metode akses data untuk menampilkan baris kedua hingga terakhir dari dataset nba.\n",
    "\n",
    "Baris kedua hingga terakhir adalah baris dengan indeks posisi -2. Kalian dapat menampilkannya dengan .iloc:"
   ]
  },
  {
   "cell_type": "code",
   "execution_count": 158,
   "id": "73b1c08f",
   "metadata": {},
   "outputs": [
    {
     "data": {
      "text/html": [
       "<div>\n",
       "<style scoped>\n",
       "    .dataframe tbody tr th:only-of-type {\n",
       "        vertical-align: middle;\n",
       "    }\n",
       "\n",
       "    .dataframe tbody tr th {\n",
       "        vertical-align: top;\n",
       "    }\n",
       "\n",
       "    .dataframe thead th {\n",
       "        text-align: right;\n",
       "    }\n",
       "</style>\n",
       "<table border=\"1\" class=\"dataframe\">\n",
       "  <thead>\n",
       "    <tr style=\"text-align: right;\">\n",
       "      <th></th>\n",
       "      <th>gameorder</th>\n",
       "      <th>game_id</th>\n",
       "      <th>lg_id</th>\n",
       "      <th>_iscopy</th>\n",
       "      <th>year_id</th>\n",
       "      <th>date_game</th>\n",
       "      <th>seasongame</th>\n",
       "      <th>is_playoffs</th>\n",
       "      <th>team_id</th>\n",
       "      <th>fran_id</th>\n",
       "      <th>pts</th>\n",
       "      <th>...</th>\n",
       "      <th>win_equiv</th>\n",
       "      <th>opp_id</th>\n",
       "      <th>opp_fran</th>\n",
       "      <th>opp_pts</th>\n",
       "      <th>opp_elo_i</th>\n",
       "      <th>opp_elo_n</th>\n",
       "      <th>game_location</th>\n",
       "      <th>game_result</th>\n",
       "      <th>forecast</th>\n",
       "      <th>notes</th>\n",
       "      <th>date_played</th>\n",
       "    </tr>\n",
       "  </thead>\n",
       "  <tbody>\n",
       "    <tr>\n",
       "      <th>0</th>\n",
       "      <td>1</td>\n",
       "      <td>194611010TRH</td>\n",
       "      <td>NBA</td>\n",
       "      <td>0</td>\n",
       "      <td>1947</td>\n",
       "      <td>11/1/1946</td>\n",
       "      <td>1</td>\n",
       "      <td>0</td>\n",
       "      <td>TRH</td>\n",
       "      <td>Huskies</td>\n",
       "      <td>66</td>\n",
       "      <td>...</td>\n",
       "      <td>40.294830</td>\n",
       "      <td>NYK</td>\n",
       "      <td>Knicks</td>\n",
       "      <td>68</td>\n",
       "      <td>1300.0000</td>\n",
       "      <td>1306.7233</td>\n",
       "      <td>H</td>\n",
       "      <td>L</td>\n",
       "      <td>0.640065</td>\n",
       "      <td>NaN</td>\n",
       "      <td>1946-11-01</td>\n",
       "    </tr>\n",
       "    <tr>\n",
       "      <th>1</th>\n",
       "      <td>1</td>\n",
       "      <td>194611010TRH</td>\n",
       "      <td>NBA</td>\n",
       "      <td>1</td>\n",
       "      <td>1947</td>\n",
       "      <td>11/1/1946</td>\n",
       "      <td>1</td>\n",
       "      <td>0</td>\n",
       "      <td>NYK</td>\n",
       "      <td>Knicks</td>\n",
       "      <td>68</td>\n",
       "      <td>...</td>\n",
       "      <td>41.705170</td>\n",
       "      <td>TRH</td>\n",
       "      <td>Huskies</td>\n",
       "      <td>66</td>\n",
       "      <td>1300.0000</td>\n",
       "      <td>1293.2767</td>\n",
       "      <td>A</td>\n",
       "      <td>W</td>\n",
       "      <td>0.359935</td>\n",
       "      <td>NaN</td>\n",
       "      <td>1946-11-01</td>\n",
       "    </tr>\n",
       "    <tr>\n",
       "      <th>2</th>\n",
       "      <td>2</td>\n",
       "      <td>194611020CHS</td>\n",
       "      <td>NBA</td>\n",
       "      <td>0</td>\n",
       "      <td>1947</td>\n",
       "      <td>11/2/1946</td>\n",
       "      <td>1</td>\n",
       "      <td>0</td>\n",
       "      <td>CHS</td>\n",
       "      <td>Stags</td>\n",
       "      <td>63</td>\n",
       "      <td>...</td>\n",
       "      <td>42.012257</td>\n",
       "      <td>NYK</td>\n",
       "      <td>Knicks</td>\n",
       "      <td>47</td>\n",
       "      <td>1306.7233</td>\n",
       "      <td>1297.0712</td>\n",
       "      <td>H</td>\n",
       "      <td>W</td>\n",
       "      <td>0.631101</td>\n",
       "      <td>NaN</td>\n",
       "      <td>1946-11-02</td>\n",
       "    </tr>\n",
       "    <tr>\n",
       "      <th>3</th>\n",
       "      <td>2</td>\n",
       "      <td>194611020CHS</td>\n",
       "      <td>NBA</td>\n",
       "      <td>1</td>\n",
       "      <td>1947</td>\n",
       "      <td>11/2/1946</td>\n",
       "      <td>2</td>\n",
       "      <td>0</td>\n",
       "      <td>NYK</td>\n",
       "      <td>Knicks</td>\n",
       "      <td>47</td>\n",
       "      <td>...</td>\n",
       "      <td>40.692783</td>\n",
       "      <td>CHS</td>\n",
       "      <td>Stags</td>\n",
       "      <td>63</td>\n",
       "      <td>1300.0000</td>\n",
       "      <td>1309.6521</td>\n",
       "      <td>A</td>\n",
       "      <td>L</td>\n",
       "      <td>0.368899</td>\n",
       "      <td>NaN</td>\n",
       "      <td>1946-11-02</td>\n",
       "    </tr>\n",
       "    <tr>\n",
       "      <th>4</th>\n",
       "      <td>3</td>\n",
       "      <td>194611020DTF</td>\n",
       "      <td>NBA</td>\n",
       "      <td>0</td>\n",
       "      <td>1947</td>\n",
       "      <td>11/2/1946</td>\n",
       "      <td>1</td>\n",
       "      <td>0</td>\n",
       "      <td>DTF</td>\n",
       "      <td>Falcons</td>\n",
       "      <td>33</td>\n",
       "      <td>...</td>\n",
       "      <td>38.864048</td>\n",
       "      <td>WSC</td>\n",
       "      <td>Capitols</td>\n",
       "      <td>50</td>\n",
       "      <td>1300.0000</td>\n",
       "      <td>1320.3811</td>\n",
       "      <td>H</td>\n",
       "      <td>L</td>\n",
       "      <td>0.640065</td>\n",
       "      <td>NaN</td>\n",
       "      <td>1946-11-02</td>\n",
       "    </tr>\n",
       "    <tr>\n",
       "      <th>...</th>\n",
       "      <td>...</td>\n",
       "      <td>...</td>\n",
       "      <td>...</td>\n",
       "      <td>...</td>\n",
       "      <td>...</td>\n",
       "      <td>...</td>\n",
       "      <td>...</td>\n",
       "      <td>...</td>\n",
       "      <td>...</td>\n",
       "      <td>...</td>\n",
       "      <td>...</td>\n",
       "      <td>...</td>\n",
       "      <td>...</td>\n",
       "      <td>...</td>\n",
       "      <td>...</td>\n",
       "      <td>...</td>\n",
       "      <td>...</td>\n",
       "      <td>...</td>\n",
       "      <td>...</td>\n",
       "      <td>...</td>\n",
       "      <td>...</td>\n",
       "      <td>...</td>\n",
       "      <td>...</td>\n",
       "    </tr>\n",
       "    <tr>\n",
       "      <th>126309</th>\n",
       "      <td>63155</td>\n",
       "      <td>201506110CLE</td>\n",
       "      <td>NBA</td>\n",
       "      <td>0</td>\n",
       "      <td>2015</td>\n",
       "      <td>6/11/2015</td>\n",
       "      <td>100</td>\n",
       "      <td>1</td>\n",
       "      <td>CLE</td>\n",
       "      <td>Cavaliers</td>\n",
       "      <td>82</td>\n",
       "      <td>...</td>\n",
       "      <td>60.309792</td>\n",
       "      <td>GSW</td>\n",
       "      <td>Warriors</td>\n",
       "      <td>103</td>\n",
       "      <td>1790.9591</td>\n",
       "      <td>1809.9791</td>\n",
       "      <td>H</td>\n",
       "      <td>L</td>\n",
       "      <td>0.546572</td>\n",
       "      <td>NaN</td>\n",
       "      <td>2015-06-11</td>\n",
       "    </tr>\n",
       "    <tr>\n",
       "      <th>126310</th>\n",
       "      <td>63156</td>\n",
       "      <td>201506140GSW</td>\n",
       "      <td>NBA</td>\n",
       "      <td>0</td>\n",
       "      <td>2015</td>\n",
       "      <td>6/14/2015</td>\n",
       "      <td>102</td>\n",
       "      <td>1</td>\n",
       "      <td>GSW</td>\n",
       "      <td>Warriors</td>\n",
       "      <td>104</td>\n",
       "      <td>...</td>\n",
       "      <td>68.013329</td>\n",
       "      <td>CLE</td>\n",
       "      <td>Cavaliers</td>\n",
       "      <td>91</td>\n",
       "      <td>1704.3949</td>\n",
       "      <td>1700.7391</td>\n",
       "      <td>H</td>\n",
       "      <td>W</td>\n",
       "      <td>0.765565</td>\n",
       "      <td>NaN</td>\n",
       "      <td>2015-06-14</td>\n",
       "    </tr>\n",
       "    <tr>\n",
       "      <th>126311</th>\n",
       "      <td>63156</td>\n",
       "      <td>201506140GSW</td>\n",
       "      <td>NBA</td>\n",
       "      <td>1</td>\n",
       "      <td>2015</td>\n",
       "      <td>6/14/2015</td>\n",
       "      <td>101</td>\n",
       "      <td>1</td>\n",
       "      <td>CLE</td>\n",
       "      <td>Cavaliers</td>\n",
       "      <td>91</td>\n",
       "      <td>...</td>\n",
       "      <td>60.010067</td>\n",
       "      <td>GSW</td>\n",
       "      <td>Warriors</td>\n",
       "      <td>104</td>\n",
       "      <td>1809.9791</td>\n",
       "      <td>1813.6349</td>\n",
       "      <td>A</td>\n",
       "      <td>L</td>\n",
       "      <td>0.234435</td>\n",
       "      <td>NaN</td>\n",
       "      <td>2015-06-14</td>\n",
       "    </tr>\n",
       "    <tr>\n",
       "      <th>126312</th>\n",
       "      <td>63157</td>\n",
       "      <td>201506170CLE</td>\n",
       "      <td>NBA</td>\n",
       "      <td>0</td>\n",
       "      <td>2015</td>\n",
       "      <td>6/16/2015</td>\n",
       "      <td>102</td>\n",
       "      <td>1</td>\n",
       "      <td>CLE</td>\n",
       "      <td>Cavaliers</td>\n",
       "      <td>97</td>\n",
       "      <td>...</td>\n",
       "      <td>59.290245</td>\n",
       "      <td>GSW</td>\n",
       "      <td>Warriors</td>\n",
       "      <td>105</td>\n",
       "      <td>1813.6349</td>\n",
       "      <td>1822.2881</td>\n",
       "      <td>H</td>\n",
       "      <td>L</td>\n",
       "      <td>0.481450</td>\n",
       "      <td>NaN</td>\n",
       "      <td>2015-06-16</td>\n",
       "    </tr>\n",
       "    <tr>\n",
       "      <th>126313</th>\n",
       "      <td>63157</td>\n",
       "      <td>201506170CLE</td>\n",
       "      <td>NBA</td>\n",
       "      <td>1</td>\n",
       "      <td>2015</td>\n",
       "      <td>6/16/2015</td>\n",
       "      <td>103</td>\n",
       "      <td>1</td>\n",
       "      <td>GSW</td>\n",
       "      <td>Warriors</td>\n",
       "      <td>105</td>\n",
       "      <td>...</td>\n",
       "      <td>68.519516</td>\n",
       "      <td>CLE</td>\n",
       "      <td>Cavaliers</td>\n",
       "      <td>97</td>\n",
       "      <td>1700.7391</td>\n",
       "      <td>1692.0859</td>\n",
       "      <td>A</td>\n",
       "      <td>W</td>\n",
       "      <td>0.518550</td>\n",
       "      <td>NaN</td>\n",
       "      <td>2015-06-16</td>\n",
       "    </tr>\n",
       "  </tbody>\n",
       "</table>\n",
       "<p>126314 rows × 24 columns</p>\n",
       "</div>"
      ],
      "text/plain": [
       "        gameorder       game_id lg_id  _iscopy  year_id  date_game  \\\n",
       "0               1  194611010TRH   NBA        0     1947  11/1/1946   \n",
       "1               1  194611010TRH   NBA        1     1947  11/1/1946   \n",
       "2               2  194611020CHS   NBA        0     1947  11/2/1946   \n",
       "3               2  194611020CHS   NBA        1     1947  11/2/1946   \n",
       "4               3  194611020DTF   NBA        0     1947  11/2/1946   \n",
       "...           ...           ...   ...      ...      ...        ...   \n",
       "126309      63155  201506110CLE   NBA        0     2015  6/11/2015   \n",
       "126310      63156  201506140GSW   NBA        0     2015  6/14/2015   \n",
       "126311      63156  201506140GSW   NBA        1     2015  6/14/2015   \n",
       "126312      63157  201506170CLE   NBA        0     2015  6/16/2015   \n",
       "126313      63157  201506170CLE   NBA        1     2015  6/16/2015   \n",
       "\n",
       "        seasongame  is_playoffs team_id    fran_id  pts  ...  win_equiv  \\\n",
       "0                1            0     TRH    Huskies   66  ...  40.294830   \n",
       "1                1            0     NYK     Knicks   68  ...  41.705170   \n",
       "2                1            0     CHS      Stags   63  ...  42.012257   \n",
       "3                2            0     NYK     Knicks   47  ...  40.692783   \n",
       "4                1            0     DTF    Falcons   33  ...  38.864048   \n",
       "...            ...          ...     ...        ...  ...  ...        ...   \n",
       "126309         100            1     CLE  Cavaliers   82  ...  60.309792   \n",
       "126310         102            1     GSW   Warriors  104  ...  68.013329   \n",
       "126311         101            1     CLE  Cavaliers   91  ...  60.010067   \n",
       "126312         102            1     CLE  Cavaliers   97  ...  59.290245   \n",
       "126313         103            1     GSW   Warriors  105  ...  68.519516   \n",
       "\n",
       "        opp_id   opp_fran opp_pts  opp_elo_i  opp_elo_n  game_location  \\\n",
       "0          NYK     Knicks      68  1300.0000  1306.7233              H   \n",
       "1          TRH    Huskies      66  1300.0000  1293.2767              A   \n",
       "2          NYK     Knicks      47  1306.7233  1297.0712              H   \n",
       "3          CHS      Stags      63  1300.0000  1309.6521              A   \n",
       "4          WSC   Capitols      50  1300.0000  1320.3811              H   \n",
       "...        ...        ...     ...        ...        ...            ...   \n",
       "126309     GSW   Warriors     103  1790.9591  1809.9791              H   \n",
       "126310     CLE  Cavaliers      91  1704.3949  1700.7391              H   \n",
       "126311     GSW   Warriors     104  1809.9791  1813.6349              A   \n",
       "126312     GSW   Warriors     105  1813.6349  1822.2881              H   \n",
       "126313     CLE  Cavaliers      97  1700.7391  1692.0859              A   \n",
       "\n",
       "        game_result  forecast notes  date_played  \n",
       "0                 L  0.640065   NaN   1946-11-01  \n",
       "1                 W  0.359935   NaN   1946-11-01  \n",
       "2                 W  0.631101   NaN   1946-11-02  \n",
       "3                 L  0.368899   NaN   1946-11-02  \n",
       "4                 L  0.640065   NaN   1946-11-02  \n",
       "...             ...       ...   ...          ...  \n",
       "126309            L  0.546572   NaN   2015-06-11  \n",
       "126310            W  0.765565   NaN   2015-06-14  \n",
       "126311            L  0.234435   NaN   2015-06-14  \n",
       "126312            L  0.481450   NaN   2015-06-16  \n",
       "126313            W  0.518550   NaN   2015-06-16  \n",
       "\n",
       "[126314 rows x 24 columns]"
      ]
     },
     "execution_count": 158,
     "metadata": {},
     "output_type": "execute_result"
    }
   ],
   "source": [
    "df"
   ]
  },
  {
   "cell_type": "code",
   "execution_count": 162,
   "id": "beed5ca5",
   "metadata": {},
   "outputs": [
    {
     "data": {
      "text/plain": [
       "gameorder                      63157\n",
       "game_id                 201506170CLE\n",
       "lg_id                            NBA\n",
       "_iscopy                            0\n",
       "year_id                         2015\n",
       "date_game                  6/16/2015\n",
       "seasongame                       102\n",
       "is_playoffs                        1\n",
       "team_id                          CLE\n",
       "fran_id                    Cavaliers\n",
       "pts                               97\n",
       "elo_i                      1700.7391\n",
       "elo_n                      1692.0859\n",
       "win_equiv                  59.290245\n",
       "opp_id                           GSW\n",
       "opp_fran                    Warriors\n",
       "opp_pts                          105\n",
       "opp_elo_i                  1813.6349\n",
       "opp_elo_n                  1822.2881\n",
       "game_location                      H\n",
       "game_result                        L\n",
       "forecast                     0.48145\n",
       "notes                            NaN\n",
       "date_played      2015-06-16 00:00:00\n",
       "Name: 126312, dtype: object"
      ]
     },
     "execution_count": 162,
     "metadata": {},
     "output_type": "execute_result"
    }
   ],
   "source": [
    "# perintah ini untuk menampilkan secara detail dari seluruh atribut atau colom pada data indexing paling terakhir nomor 2\n",
    "df.iloc[-2]"
   ]
  },
  {
   "cell_type": "markdown",
   "id": "7a680625",
   "metadata": {},
   "source": [
    "Untuk *DataFrame*, metode akses data *.loc* dan *.iloc* juga menerima parameter kedua. Sementara parameter pertama memilih baris berdasarkan indeks, parameter kedua memilih kolom. Kalian dapat menggunakan parameter ini bersama-sama untuk memilih subset baris dan kolom dari *DataFrame* kalian:"
   ]
  },
  {
   "cell_type": "code",
   "execution_count": 164,
   "id": "3683468c",
   "metadata": {},
   "outputs": [
    {
     "data": {
      "text/plain": [
       "Amsterdam    4200\n",
       "Tokyo        6500\n",
       "Name: revenue, dtype: int64"
      ]
     },
     "execution_count": 164,
     "metadata": {},
     "output_type": "execute_result"
    }
   ],
   "source": [
    "city_data.loc[\"Amsterdam\": \"Tokyo\", \"revenue\"]"
   ]
  },
  {
   "cell_type": "markdown",
   "id": "d471c210",
   "metadata": {},
   "source": [
    ">Perhatikan bahwa kalian memisahkan parameter dengan koma (,). Parameter pertama, \"Amsterdam\" : \"Tokyo,\", menyatakan untuk memilih semua baris di antara dua label tersebut. Parameter kedua muncul setelah koma dan mengatakan untuk memilih kolom \"revenue\".\n",
    "\n",
    "Saatnya untuk melihat konstruksi yang sama bekerja dengan kumpulan data nba yang lebih besar. Pilih semua game di antara label 5555 dan 5559. Kalian hanya tertarik pada nama tim dan skor, jadi pilih juga elemen tersebut."
   ]
  },
  {
   "cell_type": "code",
   "execution_count": 166,
   "id": "fa3b0323",
   "metadata": {},
   "outputs": [
    {
     "data": {
      "text/html": [
       "<div>\n",
       "<style scoped>\n",
       "    .dataframe tbody tr th:only-of-type {\n",
       "        vertical-align: middle;\n",
       "    }\n",
       "\n",
       "    .dataframe tbody tr th {\n",
       "        vertical-align: top;\n",
       "    }\n",
       "\n",
       "    .dataframe thead th {\n",
       "        text-align: right;\n",
       "    }\n",
       "</style>\n",
       "<table border=\"1\" class=\"dataframe\">\n",
       "  <thead>\n",
       "    <tr style=\"text-align: right;\">\n",
       "      <th></th>\n",
       "      <th>fran_id</th>\n",
       "      <th>opp_fran</th>\n",
       "      <th>pts</th>\n",
       "      <th>opp_pts</th>\n",
       "    </tr>\n",
       "  </thead>\n",
       "  <tbody>\n",
       "    <tr>\n",
       "      <th>5555</th>\n",
       "      <td>Pistons</td>\n",
       "      <td>Warriors</td>\n",
       "      <td>83</td>\n",
       "      <td>56</td>\n",
       "    </tr>\n",
       "    <tr>\n",
       "      <th>5556</th>\n",
       "      <td>Celtics</td>\n",
       "      <td>Knicks</td>\n",
       "      <td>95</td>\n",
       "      <td>74</td>\n",
       "    </tr>\n",
       "    <tr>\n",
       "      <th>5557</th>\n",
       "      <td>Knicks</td>\n",
       "      <td>Celtics</td>\n",
       "      <td>74</td>\n",
       "      <td>95</td>\n",
       "    </tr>\n",
       "    <tr>\n",
       "      <th>5558</th>\n",
       "      <td>Kings</td>\n",
       "      <td>Sixers</td>\n",
       "      <td>81</td>\n",
       "      <td>86</td>\n",
       "    </tr>\n",
       "    <tr>\n",
       "      <th>5559</th>\n",
       "      <td>Sixers</td>\n",
       "      <td>Kings</td>\n",
       "      <td>86</td>\n",
       "      <td>81</td>\n",
       "    </tr>\n",
       "  </tbody>\n",
       "</table>\n",
       "</div>"
      ],
      "text/plain": [
       "      fran_id  opp_fran  pts  opp_pts\n",
       "5555  Pistons  Warriors   83       56\n",
       "5556  Celtics    Knicks   95       74\n",
       "5557   Knicks   Celtics   74       95\n",
       "5558    Kings    Sixers   81       86\n",
       "5559   Sixers     Kings   86       81"
      ]
     },
     "execution_count": 166,
     "metadata": {},
     "output_type": "execute_result"
    }
   ],
   "source": [
    "# perintah ini untuk menampilan index label diantara \"5555\" dan \"5559\"\n",
    "# serta menampilkan atribut fran_id, opp_fran, pts, dan opp_pts\n",
    "df.loc[5555:5559, [\"fran_id\", \"opp_fran\", \"pts\", \"opp_pts\"]]"
   ]
  },
  {
   "cell_type": "markdown",
   "id": "cc11eb28",
   "metadata": {},
   "source": [
    "#### Querying Your Dataset\n",
    "Kalian telah melihat cara mengakses *subsets* kumpulan data yang sangat besar berdasarkan indeksnya. Sekarang, **kalian akan memilih baris berdasarkan nilai di kolom kumpulan data kalian untuk query data Anda. Misalnya, kalian dapat membuat *DataFrame* baru yang hanya berisi game yang dimainkan setelah 2010:**"
   ]
  },
  {
   "cell_type": "code",
   "execution_count": 167,
   "id": "ccead320",
   "metadata": {},
   "outputs": [
    {
     "data": {
      "text/html": [
       "<div>\n",
       "<style scoped>\n",
       "    .dataframe tbody tr th:only-of-type {\n",
       "        vertical-align: middle;\n",
       "    }\n",
       "\n",
       "    .dataframe tbody tr th {\n",
       "        vertical-align: top;\n",
       "    }\n",
       "\n",
       "    .dataframe thead th {\n",
       "        text-align: right;\n",
       "    }\n",
       "</style>\n",
       "<table border=\"1\" class=\"dataframe\">\n",
       "  <thead>\n",
       "    <tr style=\"text-align: right;\">\n",
       "      <th></th>\n",
       "      <th>gameorder</th>\n",
       "      <th>game_id</th>\n",
       "      <th>lg_id</th>\n",
       "      <th>_iscopy</th>\n",
       "      <th>year_id</th>\n",
       "      <th>date_game</th>\n",
       "      <th>seasongame</th>\n",
       "      <th>is_playoffs</th>\n",
       "      <th>team_id</th>\n",
       "      <th>fran_id</th>\n",
       "      <th>pts</th>\n",
       "      <th>...</th>\n",
       "      <th>win_equiv</th>\n",
       "      <th>opp_id</th>\n",
       "      <th>opp_fran</th>\n",
       "      <th>opp_pts</th>\n",
       "      <th>opp_elo_i</th>\n",
       "      <th>opp_elo_n</th>\n",
       "      <th>game_location</th>\n",
       "      <th>game_result</th>\n",
       "      <th>forecast</th>\n",
       "      <th>notes</th>\n",
       "      <th>date_played</th>\n",
       "    </tr>\n",
       "  </thead>\n",
       "  <tbody>\n",
       "    <tr>\n",
       "      <th>0</th>\n",
       "      <td>1</td>\n",
       "      <td>194611010TRH</td>\n",
       "      <td>NBA</td>\n",
       "      <td>0</td>\n",
       "      <td>1947</td>\n",
       "      <td>11/1/1946</td>\n",
       "      <td>1</td>\n",
       "      <td>0</td>\n",
       "      <td>TRH</td>\n",
       "      <td>Huskies</td>\n",
       "      <td>66</td>\n",
       "      <td>...</td>\n",
       "      <td>40.294830</td>\n",
       "      <td>NYK</td>\n",
       "      <td>Knicks</td>\n",
       "      <td>68</td>\n",
       "      <td>1300.0000</td>\n",
       "      <td>1306.7233</td>\n",
       "      <td>H</td>\n",
       "      <td>L</td>\n",
       "      <td>0.640065</td>\n",
       "      <td>NaN</td>\n",
       "      <td>1946-11-01</td>\n",
       "    </tr>\n",
       "    <tr>\n",
       "      <th>1</th>\n",
       "      <td>1</td>\n",
       "      <td>194611010TRH</td>\n",
       "      <td>NBA</td>\n",
       "      <td>1</td>\n",
       "      <td>1947</td>\n",
       "      <td>11/1/1946</td>\n",
       "      <td>1</td>\n",
       "      <td>0</td>\n",
       "      <td>NYK</td>\n",
       "      <td>Knicks</td>\n",
       "      <td>68</td>\n",
       "      <td>...</td>\n",
       "      <td>41.705170</td>\n",
       "      <td>TRH</td>\n",
       "      <td>Huskies</td>\n",
       "      <td>66</td>\n",
       "      <td>1300.0000</td>\n",
       "      <td>1293.2767</td>\n",
       "      <td>A</td>\n",
       "      <td>W</td>\n",
       "      <td>0.359935</td>\n",
       "      <td>NaN</td>\n",
       "      <td>1946-11-01</td>\n",
       "    </tr>\n",
       "    <tr>\n",
       "      <th>2</th>\n",
       "      <td>2</td>\n",
       "      <td>194611020CHS</td>\n",
       "      <td>NBA</td>\n",
       "      <td>0</td>\n",
       "      <td>1947</td>\n",
       "      <td>11/2/1946</td>\n",
       "      <td>1</td>\n",
       "      <td>0</td>\n",
       "      <td>CHS</td>\n",
       "      <td>Stags</td>\n",
       "      <td>63</td>\n",
       "      <td>...</td>\n",
       "      <td>42.012257</td>\n",
       "      <td>NYK</td>\n",
       "      <td>Knicks</td>\n",
       "      <td>47</td>\n",
       "      <td>1306.7233</td>\n",
       "      <td>1297.0712</td>\n",
       "      <td>H</td>\n",
       "      <td>W</td>\n",
       "      <td>0.631101</td>\n",
       "      <td>NaN</td>\n",
       "      <td>1946-11-02</td>\n",
       "    </tr>\n",
       "    <tr>\n",
       "      <th>3</th>\n",
       "      <td>2</td>\n",
       "      <td>194611020CHS</td>\n",
       "      <td>NBA</td>\n",
       "      <td>1</td>\n",
       "      <td>1947</td>\n",
       "      <td>11/2/1946</td>\n",
       "      <td>2</td>\n",
       "      <td>0</td>\n",
       "      <td>NYK</td>\n",
       "      <td>Knicks</td>\n",
       "      <td>47</td>\n",
       "      <td>...</td>\n",
       "      <td>40.692783</td>\n",
       "      <td>CHS</td>\n",
       "      <td>Stags</td>\n",
       "      <td>63</td>\n",
       "      <td>1300.0000</td>\n",
       "      <td>1309.6521</td>\n",
       "      <td>A</td>\n",
       "      <td>L</td>\n",
       "      <td>0.368899</td>\n",
       "      <td>NaN</td>\n",
       "      <td>1946-11-02</td>\n",
       "    </tr>\n",
       "    <tr>\n",
       "      <th>4</th>\n",
       "      <td>3</td>\n",
       "      <td>194611020DTF</td>\n",
       "      <td>NBA</td>\n",
       "      <td>0</td>\n",
       "      <td>1947</td>\n",
       "      <td>11/2/1946</td>\n",
       "      <td>1</td>\n",
       "      <td>0</td>\n",
       "      <td>DTF</td>\n",
       "      <td>Falcons</td>\n",
       "      <td>33</td>\n",
       "      <td>...</td>\n",
       "      <td>38.864048</td>\n",
       "      <td>WSC</td>\n",
       "      <td>Capitols</td>\n",
       "      <td>50</td>\n",
       "      <td>1300.0000</td>\n",
       "      <td>1320.3811</td>\n",
       "      <td>H</td>\n",
       "      <td>L</td>\n",
       "      <td>0.640065</td>\n",
       "      <td>NaN</td>\n",
       "      <td>1946-11-02</td>\n",
       "    </tr>\n",
       "    <tr>\n",
       "      <th>...</th>\n",
       "      <td>...</td>\n",
       "      <td>...</td>\n",
       "      <td>...</td>\n",
       "      <td>...</td>\n",
       "      <td>...</td>\n",
       "      <td>...</td>\n",
       "      <td>...</td>\n",
       "      <td>...</td>\n",
       "      <td>...</td>\n",
       "      <td>...</td>\n",
       "      <td>...</td>\n",
       "      <td>...</td>\n",
       "      <td>...</td>\n",
       "      <td>...</td>\n",
       "      <td>...</td>\n",
       "      <td>...</td>\n",
       "      <td>...</td>\n",
       "      <td>...</td>\n",
       "      <td>...</td>\n",
       "      <td>...</td>\n",
       "      <td>...</td>\n",
       "      <td>...</td>\n",
       "      <td>...</td>\n",
       "    </tr>\n",
       "    <tr>\n",
       "      <th>126309</th>\n",
       "      <td>63155</td>\n",
       "      <td>201506110CLE</td>\n",
       "      <td>NBA</td>\n",
       "      <td>0</td>\n",
       "      <td>2015</td>\n",
       "      <td>6/11/2015</td>\n",
       "      <td>100</td>\n",
       "      <td>1</td>\n",
       "      <td>CLE</td>\n",
       "      <td>Cavaliers</td>\n",
       "      <td>82</td>\n",
       "      <td>...</td>\n",
       "      <td>60.309792</td>\n",
       "      <td>GSW</td>\n",
       "      <td>Warriors</td>\n",
       "      <td>103</td>\n",
       "      <td>1790.9591</td>\n",
       "      <td>1809.9791</td>\n",
       "      <td>H</td>\n",
       "      <td>L</td>\n",
       "      <td>0.546572</td>\n",
       "      <td>NaN</td>\n",
       "      <td>2015-06-11</td>\n",
       "    </tr>\n",
       "    <tr>\n",
       "      <th>126310</th>\n",
       "      <td>63156</td>\n",
       "      <td>201506140GSW</td>\n",
       "      <td>NBA</td>\n",
       "      <td>0</td>\n",
       "      <td>2015</td>\n",
       "      <td>6/14/2015</td>\n",
       "      <td>102</td>\n",
       "      <td>1</td>\n",
       "      <td>GSW</td>\n",
       "      <td>Warriors</td>\n",
       "      <td>104</td>\n",
       "      <td>...</td>\n",
       "      <td>68.013329</td>\n",
       "      <td>CLE</td>\n",
       "      <td>Cavaliers</td>\n",
       "      <td>91</td>\n",
       "      <td>1704.3949</td>\n",
       "      <td>1700.7391</td>\n",
       "      <td>H</td>\n",
       "      <td>W</td>\n",
       "      <td>0.765565</td>\n",
       "      <td>NaN</td>\n",
       "      <td>2015-06-14</td>\n",
       "    </tr>\n",
       "    <tr>\n",
       "      <th>126311</th>\n",
       "      <td>63156</td>\n",
       "      <td>201506140GSW</td>\n",
       "      <td>NBA</td>\n",
       "      <td>1</td>\n",
       "      <td>2015</td>\n",
       "      <td>6/14/2015</td>\n",
       "      <td>101</td>\n",
       "      <td>1</td>\n",
       "      <td>CLE</td>\n",
       "      <td>Cavaliers</td>\n",
       "      <td>91</td>\n",
       "      <td>...</td>\n",
       "      <td>60.010067</td>\n",
       "      <td>GSW</td>\n",
       "      <td>Warriors</td>\n",
       "      <td>104</td>\n",
       "      <td>1809.9791</td>\n",
       "      <td>1813.6349</td>\n",
       "      <td>A</td>\n",
       "      <td>L</td>\n",
       "      <td>0.234435</td>\n",
       "      <td>NaN</td>\n",
       "      <td>2015-06-14</td>\n",
       "    </tr>\n",
       "    <tr>\n",
       "      <th>126312</th>\n",
       "      <td>63157</td>\n",
       "      <td>201506170CLE</td>\n",
       "      <td>NBA</td>\n",
       "      <td>0</td>\n",
       "      <td>2015</td>\n",
       "      <td>6/16/2015</td>\n",
       "      <td>102</td>\n",
       "      <td>1</td>\n",
       "      <td>CLE</td>\n",
       "      <td>Cavaliers</td>\n",
       "      <td>97</td>\n",
       "      <td>...</td>\n",
       "      <td>59.290245</td>\n",
       "      <td>GSW</td>\n",
       "      <td>Warriors</td>\n",
       "      <td>105</td>\n",
       "      <td>1813.6349</td>\n",
       "      <td>1822.2881</td>\n",
       "      <td>H</td>\n",
       "      <td>L</td>\n",
       "      <td>0.481450</td>\n",
       "      <td>NaN</td>\n",
       "      <td>2015-06-16</td>\n",
       "    </tr>\n",
       "    <tr>\n",
       "      <th>126313</th>\n",
       "      <td>63157</td>\n",
       "      <td>201506170CLE</td>\n",
       "      <td>NBA</td>\n",
       "      <td>1</td>\n",
       "      <td>2015</td>\n",
       "      <td>6/16/2015</td>\n",
       "      <td>103</td>\n",
       "      <td>1</td>\n",
       "      <td>GSW</td>\n",
       "      <td>Warriors</td>\n",
       "      <td>105</td>\n",
       "      <td>...</td>\n",
       "      <td>68.519516</td>\n",
       "      <td>CLE</td>\n",
       "      <td>Cavaliers</td>\n",
       "      <td>97</td>\n",
       "      <td>1700.7391</td>\n",
       "      <td>1692.0859</td>\n",
       "      <td>A</td>\n",
       "      <td>W</td>\n",
       "      <td>0.518550</td>\n",
       "      <td>NaN</td>\n",
       "      <td>2015-06-16</td>\n",
       "    </tr>\n",
       "  </tbody>\n",
       "</table>\n",
       "<p>126314 rows × 24 columns</p>\n",
       "</div>"
      ],
      "text/plain": [
       "        gameorder       game_id lg_id  _iscopy  year_id  date_game  \\\n",
       "0               1  194611010TRH   NBA        0     1947  11/1/1946   \n",
       "1               1  194611010TRH   NBA        1     1947  11/1/1946   \n",
       "2               2  194611020CHS   NBA        0     1947  11/2/1946   \n",
       "3               2  194611020CHS   NBA        1     1947  11/2/1946   \n",
       "4               3  194611020DTF   NBA        0     1947  11/2/1946   \n",
       "...           ...           ...   ...      ...      ...        ...   \n",
       "126309      63155  201506110CLE   NBA        0     2015  6/11/2015   \n",
       "126310      63156  201506140GSW   NBA        0     2015  6/14/2015   \n",
       "126311      63156  201506140GSW   NBA        1     2015  6/14/2015   \n",
       "126312      63157  201506170CLE   NBA        0     2015  6/16/2015   \n",
       "126313      63157  201506170CLE   NBA        1     2015  6/16/2015   \n",
       "\n",
       "        seasongame  is_playoffs team_id    fran_id  pts  ...  win_equiv  \\\n",
       "0                1            0     TRH    Huskies   66  ...  40.294830   \n",
       "1                1            0     NYK     Knicks   68  ...  41.705170   \n",
       "2                1            0     CHS      Stags   63  ...  42.012257   \n",
       "3                2            0     NYK     Knicks   47  ...  40.692783   \n",
       "4                1            0     DTF    Falcons   33  ...  38.864048   \n",
       "...            ...          ...     ...        ...  ...  ...        ...   \n",
       "126309         100            1     CLE  Cavaliers   82  ...  60.309792   \n",
       "126310         102            1     GSW   Warriors  104  ...  68.013329   \n",
       "126311         101            1     CLE  Cavaliers   91  ...  60.010067   \n",
       "126312         102            1     CLE  Cavaliers   97  ...  59.290245   \n",
       "126313         103            1     GSW   Warriors  105  ...  68.519516   \n",
       "\n",
       "        opp_id   opp_fran opp_pts  opp_elo_i  opp_elo_n  game_location  \\\n",
       "0          NYK     Knicks      68  1300.0000  1306.7233              H   \n",
       "1          TRH    Huskies      66  1300.0000  1293.2767              A   \n",
       "2          NYK     Knicks      47  1306.7233  1297.0712              H   \n",
       "3          CHS      Stags      63  1300.0000  1309.6521              A   \n",
       "4          WSC   Capitols      50  1300.0000  1320.3811              H   \n",
       "...        ...        ...     ...        ...        ...            ...   \n",
       "126309     GSW   Warriors     103  1790.9591  1809.9791              H   \n",
       "126310     CLE  Cavaliers      91  1704.3949  1700.7391              H   \n",
       "126311     GSW   Warriors     104  1809.9791  1813.6349              A   \n",
       "126312     GSW   Warriors     105  1813.6349  1822.2881              H   \n",
       "126313     CLE  Cavaliers      97  1700.7391  1692.0859              A   \n",
       "\n",
       "        game_result  forecast notes  date_played  \n",
       "0                 L  0.640065   NaN   1946-11-01  \n",
       "1                 W  0.359935   NaN   1946-11-01  \n",
       "2                 W  0.631101   NaN   1946-11-02  \n",
       "3                 L  0.368899   NaN   1946-11-02  \n",
       "4                 L  0.640065   NaN   1946-11-02  \n",
       "...             ...       ...   ...          ...  \n",
       "126309            L  0.546572   NaN   2015-06-11  \n",
       "126310            W  0.765565   NaN   2015-06-14  \n",
       "126311            L  0.234435   NaN   2015-06-14  \n",
       "126312            L  0.481450   NaN   2015-06-16  \n",
       "126313            W  0.518550   NaN   2015-06-16  \n",
       "\n",
       "[126314 rows x 24 columns]"
      ]
     },
     "execution_count": 167,
     "metadata": {},
     "output_type": "execute_result"
    }
   ],
   "source": [
    "df"
   ]
  },
  {
   "cell_type": "code",
   "execution_count": 172,
   "id": "94465b14",
   "metadata": {},
   "outputs": [
    {
     "data": {
      "text/html": [
       "<div>\n",
       "<style scoped>\n",
       "    .dataframe tbody tr th:only-of-type {\n",
       "        vertical-align: middle;\n",
       "    }\n",
       "\n",
       "    .dataframe tbody tr th {\n",
       "        vertical-align: top;\n",
       "    }\n",
       "\n",
       "    .dataframe thead th {\n",
       "        text-align: right;\n",
       "    }\n",
       "</style>\n",
       "<table border=\"1\" class=\"dataframe\">\n",
       "  <thead>\n",
       "    <tr style=\"text-align: right;\">\n",
       "      <th></th>\n",
       "      <th>gameorder</th>\n",
       "      <th>game_id</th>\n",
       "      <th>lg_id</th>\n",
       "      <th>_iscopy</th>\n",
       "      <th>year_id</th>\n",
       "      <th>date_game</th>\n",
       "      <th>seasongame</th>\n",
       "      <th>is_playoffs</th>\n",
       "      <th>team_id</th>\n",
       "      <th>fran_id</th>\n",
       "      <th>pts</th>\n",
       "      <th>...</th>\n",
       "      <th>win_equiv</th>\n",
       "      <th>opp_id</th>\n",
       "      <th>opp_fran</th>\n",
       "      <th>opp_pts</th>\n",
       "      <th>opp_elo_i</th>\n",
       "      <th>opp_elo_n</th>\n",
       "      <th>game_location</th>\n",
       "      <th>game_result</th>\n",
       "      <th>forecast</th>\n",
       "      <th>notes</th>\n",
       "      <th>date_played</th>\n",
       "    </tr>\n",
       "  </thead>\n",
       "  <tbody>\n",
       "    <tr>\n",
       "      <th>113656</th>\n",
       "      <td>56829</td>\n",
       "      <td>201010260BOS</td>\n",
       "      <td>NBA</td>\n",
       "      <td>1</td>\n",
       "      <td>2011</td>\n",
       "      <td>10/26/2010</td>\n",
       "      <td>1</td>\n",
       "      <td>0</td>\n",
       "      <td>MIA</td>\n",
       "      <td>Heat</td>\n",
       "      <td>80</td>\n",
       "      <td>...</td>\n",
       "      <td>45.141479</td>\n",
       "      <td>BOS</td>\n",
       "      <td>Celtics</td>\n",
       "      <td>88</td>\n",
       "      <td>1625.0994</td>\n",
       "      <td>1629.3031</td>\n",
       "      <td>A</td>\n",
       "      <td>L</td>\n",
       "      <td>0.264418</td>\n",
       "      <td>NaN</td>\n",
       "      <td>2010-10-26</td>\n",
       "    </tr>\n",
       "    <tr>\n",
       "      <th>113657</th>\n",
       "      <td>56829</td>\n",
       "      <td>201010260BOS</td>\n",
       "      <td>NBA</td>\n",
       "      <td>0</td>\n",
       "      <td>2011</td>\n",
       "      <td>10/26/2010</td>\n",
       "      <td>1</td>\n",
       "      <td>0</td>\n",
       "      <td>BOS</td>\n",
       "      <td>Celtics</td>\n",
       "      <td>88</td>\n",
       "      <td>...</td>\n",
       "      <td>53.754559</td>\n",
       "      <td>MIA</td>\n",
       "      <td>Heat</td>\n",
       "      <td>80</td>\n",
       "      <td>1547.3638</td>\n",
       "      <td>1543.1600</td>\n",
       "      <td>H</td>\n",
       "      <td>W</td>\n",
       "      <td>0.735582</td>\n",
       "      <td>NaN</td>\n",
       "      <td>2010-10-26</td>\n",
       "    </tr>\n",
       "    <tr>\n",
       "      <th>113658</th>\n",
       "      <td>56830</td>\n",
       "      <td>201010260LAL</td>\n",
       "      <td>NBA</td>\n",
       "      <td>1</td>\n",
       "      <td>2011</td>\n",
       "      <td>10/26/2010</td>\n",
       "      <td>1</td>\n",
       "      <td>0</td>\n",
       "      <td>HOU</td>\n",
       "      <td>Rockets</td>\n",
       "      <td>110</td>\n",
       "      <td>...</td>\n",
       "      <td>40.900764</td>\n",
       "      <td>LAL</td>\n",
       "      <td>Lakers</td>\n",
       "      <td>112</td>\n",
       "      <td>1647.6016</td>\n",
       "      <td>1649.2002</td>\n",
       "      <td>A</td>\n",
       "      <td>L</td>\n",
       "      <td>0.197632</td>\n",
       "      <td>NaN</td>\n",
       "      <td>2010-10-26</td>\n",
       "    </tr>\n",
       "    <tr>\n",
       "      <th>113659</th>\n",
       "      <td>56830</td>\n",
       "      <td>201010260LAL</td>\n",
       "      <td>NBA</td>\n",
       "      <td>0</td>\n",
       "      <td>2011</td>\n",
       "      <td>10/26/2010</td>\n",
       "      <td>1</td>\n",
       "      <td>0</td>\n",
       "      <td>LAL</td>\n",
       "      <td>Lakers</td>\n",
       "      <td>112</td>\n",
       "      <td>...</td>\n",
       "      <td>55.608730</td>\n",
       "      <td>HOU</td>\n",
       "      <td>Rockets</td>\n",
       "      <td>110</td>\n",
       "      <td>1504.1956</td>\n",
       "      <td>1502.5969</td>\n",
       "      <td>H</td>\n",
       "      <td>W</td>\n",
       "      <td>0.802368</td>\n",
       "      <td>NaN</td>\n",
       "      <td>2010-10-26</td>\n",
       "    </tr>\n",
       "    <tr>\n",
       "      <th>113660</th>\n",
       "      <td>56831</td>\n",
       "      <td>201010260POR</td>\n",
       "      <td>NBA</td>\n",
       "      <td>1</td>\n",
       "      <td>2011</td>\n",
       "      <td>10/26/2010</td>\n",
       "      <td>1</td>\n",
       "      <td>0</td>\n",
       "      <td>PHO</td>\n",
       "      <td>Suns</td>\n",
       "      <td>92</td>\n",
       "      <td>...</td>\n",
       "      <td>53.879230</td>\n",
       "      <td>POR</td>\n",
       "      <td>Trailblazers</td>\n",
       "      <td>106</td>\n",
       "      <td>1552.8141</td>\n",
       "      <td>1565.2162</td>\n",
       "      <td>A</td>\n",
       "      <td>L</td>\n",
       "      <td>0.485912</td>\n",
       "      <td>NaN</td>\n",
       "      <td>2010-10-26</td>\n",
       "    </tr>\n",
       "    <tr>\n",
       "      <th>...</th>\n",
       "      <td>...</td>\n",
       "      <td>...</td>\n",
       "      <td>...</td>\n",
       "      <td>...</td>\n",
       "      <td>...</td>\n",
       "      <td>...</td>\n",
       "      <td>...</td>\n",
       "      <td>...</td>\n",
       "      <td>...</td>\n",
       "      <td>...</td>\n",
       "      <td>...</td>\n",
       "      <td>...</td>\n",
       "      <td>...</td>\n",
       "      <td>...</td>\n",
       "      <td>...</td>\n",
       "      <td>...</td>\n",
       "      <td>...</td>\n",
       "      <td>...</td>\n",
       "      <td>...</td>\n",
       "      <td>...</td>\n",
       "      <td>...</td>\n",
       "      <td>...</td>\n",
       "      <td>...</td>\n",
       "    </tr>\n",
       "    <tr>\n",
       "      <th>126309</th>\n",
       "      <td>63155</td>\n",
       "      <td>201506110CLE</td>\n",
       "      <td>NBA</td>\n",
       "      <td>0</td>\n",
       "      <td>2015</td>\n",
       "      <td>6/11/2015</td>\n",
       "      <td>100</td>\n",
       "      <td>1</td>\n",
       "      <td>CLE</td>\n",
       "      <td>Cavaliers</td>\n",
       "      <td>82</td>\n",
       "      <td>...</td>\n",
       "      <td>60.309792</td>\n",
       "      <td>GSW</td>\n",
       "      <td>Warriors</td>\n",
       "      <td>103</td>\n",
       "      <td>1790.9591</td>\n",
       "      <td>1809.9791</td>\n",
       "      <td>H</td>\n",
       "      <td>L</td>\n",
       "      <td>0.546572</td>\n",
       "      <td>NaN</td>\n",
       "      <td>2015-06-11</td>\n",
       "    </tr>\n",
       "    <tr>\n",
       "      <th>126310</th>\n",
       "      <td>63156</td>\n",
       "      <td>201506140GSW</td>\n",
       "      <td>NBA</td>\n",
       "      <td>0</td>\n",
       "      <td>2015</td>\n",
       "      <td>6/14/2015</td>\n",
       "      <td>102</td>\n",
       "      <td>1</td>\n",
       "      <td>GSW</td>\n",
       "      <td>Warriors</td>\n",
       "      <td>104</td>\n",
       "      <td>...</td>\n",
       "      <td>68.013329</td>\n",
       "      <td>CLE</td>\n",
       "      <td>Cavaliers</td>\n",
       "      <td>91</td>\n",
       "      <td>1704.3949</td>\n",
       "      <td>1700.7391</td>\n",
       "      <td>H</td>\n",
       "      <td>W</td>\n",
       "      <td>0.765565</td>\n",
       "      <td>NaN</td>\n",
       "      <td>2015-06-14</td>\n",
       "    </tr>\n",
       "    <tr>\n",
       "      <th>126311</th>\n",
       "      <td>63156</td>\n",
       "      <td>201506140GSW</td>\n",
       "      <td>NBA</td>\n",
       "      <td>1</td>\n",
       "      <td>2015</td>\n",
       "      <td>6/14/2015</td>\n",
       "      <td>101</td>\n",
       "      <td>1</td>\n",
       "      <td>CLE</td>\n",
       "      <td>Cavaliers</td>\n",
       "      <td>91</td>\n",
       "      <td>...</td>\n",
       "      <td>60.010067</td>\n",
       "      <td>GSW</td>\n",
       "      <td>Warriors</td>\n",
       "      <td>104</td>\n",
       "      <td>1809.9791</td>\n",
       "      <td>1813.6349</td>\n",
       "      <td>A</td>\n",
       "      <td>L</td>\n",
       "      <td>0.234435</td>\n",
       "      <td>NaN</td>\n",
       "      <td>2015-06-14</td>\n",
       "    </tr>\n",
       "    <tr>\n",
       "      <th>126312</th>\n",
       "      <td>63157</td>\n",
       "      <td>201506170CLE</td>\n",
       "      <td>NBA</td>\n",
       "      <td>0</td>\n",
       "      <td>2015</td>\n",
       "      <td>6/16/2015</td>\n",
       "      <td>102</td>\n",
       "      <td>1</td>\n",
       "      <td>CLE</td>\n",
       "      <td>Cavaliers</td>\n",
       "      <td>97</td>\n",
       "      <td>...</td>\n",
       "      <td>59.290245</td>\n",
       "      <td>GSW</td>\n",
       "      <td>Warriors</td>\n",
       "      <td>105</td>\n",
       "      <td>1813.6349</td>\n",
       "      <td>1822.2881</td>\n",
       "      <td>H</td>\n",
       "      <td>L</td>\n",
       "      <td>0.481450</td>\n",
       "      <td>NaN</td>\n",
       "      <td>2015-06-16</td>\n",
       "    </tr>\n",
       "    <tr>\n",
       "      <th>126313</th>\n",
       "      <td>63157</td>\n",
       "      <td>201506170CLE</td>\n",
       "      <td>NBA</td>\n",
       "      <td>1</td>\n",
       "      <td>2015</td>\n",
       "      <td>6/16/2015</td>\n",
       "      <td>103</td>\n",
       "      <td>1</td>\n",
       "      <td>GSW</td>\n",
       "      <td>Warriors</td>\n",
       "      <td>105</td>\n",
       "      <td>...</td>\n",
       "      <td>68.519516</td>\n",
       "      <td>CLE</td>\n",
       "      <td>Cavaliers</td>\n",
       "      <td>97</td>\n",
       "      <td>1700.7391</td>\n",
       "      <td>1692.0859</td>\n",
       "      <td>A</td>\n",
       "      <td>W</td>\n",
       "      <td>0.518550</td>\n",
       "      <td>NaN</td>\n",
       "      <td>2015-06-16</td>\n",
       "    </tr>\n",
       "  </tbody>\n",
       "</table>\n",
       "<p>12658 rows × 24 columns</p>\n",
       "</div>"
      ],
      "text/plain": [
       "        gameorder       game_id lg_id  _iscopy  year_id   date_game  \\\n",
       "113656      56829  201010260BOS   NBA        1     2011  10/26/2010   \n",
       "113657      56829  201010260BOS   NBA        0     2011  10/26/2010   \n",
       "113658      56830  201010260LAL   NBA        1     2011  10/26/2010   \n",
       "113659      56830  201010260LAL   NBA        0     2011  10/26/2010   \n",
       "113660      56831  201010260POR   NBA        1     2011  10/26/2010   \n",
       "...           ...           ...   ...      ...      ...         ...   \n",
       "126309      63155  201506110CLE   NBA        0     2015   6/11/2015   \n",
       "126310      63156  201506140GSW   NBA        0     2015   6/14/2015   \n",
       "126311      63156  201506140GSW   NBA        1     2015   6/14/2015   \n",
       "126312      63157  201506170CLE   NBA        0     2015   6/16/2015   \n",
       "126313      63157  201506170CLE   NBA        1     2015   6/16/2015   \n",
       "\n",
       "        seasongame  is_playoffs team_id    fran_id  pts  ...  win_equiv  \\\n",
       "113656           1            0     MIA       Heat   80  ...  45.141479   \n",
       "113657           1            0     BOS    Celtics   88  ...  53.754559   \n",
       "113658           1            0     HOU    Rockets  110  ...  40.900764   \n",
       "113659           1            0     LAL     Lakers  112  ...  55.608730   \n",
       "113660           1            0     PHO       Suns   92  ...  53.879230   \n",
       "...            ...          ...     ...        ...  ...  ...        ...   \n",
       "126309         100            1     CLE  Cavaliers   82  ...  60.309792   \n",
       "126310         102            1     GSW   Warriors  104  ...  68.013329   \n",
       "126311         101            1     CLE  Cavaliers   91  ...  60.010067   \n",
       "126312         102            1     CLE  Cavaliers   97  ...  59.290245   \n",
       "126313         103            1     GSW   Warriors  105  ...  68.519516   \n",
       "\n",
       "        opp_id      opp_fran opp_pts  opp_elo_i  opp_elo_n  game_location  \\\n",
       "113656     BOS       Celtics      88  1625.0994  1629.3031              A   \n",
       "113657     MIA          Heat      80  1547.3638  1543.1600              H   \n",
       "113658     LAL        Lakers     112  1647.6016  1649.2002              A   \n",
       "113659     HOU       Rockets     110  1504.1956  1502.5969              H   \n",
       "113660     POR  Trailblazers     106  1552.8141  1565.2162              A   \n",
       "...        ...           ...     ...        ...        ...            ...   \n",
       "126309     GSW      Warriors     103  1790.9591  1809.9791              H   \n",
       "126310     CLE     Cavaliers      91  1704.3949  1700.7391              H   \n",
       "126311     GSW      Warriors     104  1809.9791  1813.6349              A   \n",
       "126312     GSW      Warriors     105  1813.6349  1822.2881              H   \n",
       "126313     CLE     Cavaliers      97  1700.7391  1692.0859              A   \n",
       "\n",
       "        game_result  forecast notes  date_played  \n",
       "113656            L  0.264418   NaN   2010-10-26  \n",
       "113657            W  0.735582   NaN   2010-10-26  \n",
       "113658            L  0.197632   NaN   2010-10-26  \n",
       "113659            W  0.802368   NaN   2010-10-26  \n",
       "113660            L  0.485912   NaN   2010-10-26  \n",
       "...             ...       ...   ...          ...  \n",
       "126309            L  0.546572   NaN   2015-06-11  \n",
       "126310            W  0.765565   NaN   2015-06-14  \n",
       "126311            L  0.234435   NaN   2015-06-14  \n",
       "126312            L  0.481450   NaN   2015-06-16  \n",
       "126313            W  0.518550   NaN   2015-06-16  \n",
       "\n",
       "[12658 rows x 24 columns]"
      ]
     },
     "execution_count": 172,
     "metadata": {},
     "output_type": "execute_result"
    }
   ],
   "source": [
    "# untuk menyaring isi value data dengan atribut statement tahun harus di atas 2010\n",
    "current_decade = df[df[\"year_id\"] > 2010]\n",
    "current_decade"
   ]
  },
  {
   "cell_type": "code",
   "execution_count": 171,
   "id": "3b84f68b",
   "metadata": {},
   "outputs": [
    {
     "data": {
      "text/plain": [
       "(12658, 24)"
      ]
     },
     "execution_count": 171,
     "metadata": {},
     "output_type": "execute_result"
    }
   ],
   "source": [
    "# untuk menampilkan jumlah baris dan kolom yang tedapat dalam variabel\n",
    "current_decade.shape"
   ]
  },
  {
   "cell_type": "code",
   "execution_count": 173,
   "id": "454776ab",
   "metadata": {},
   "outputs": [
    {
     "data": {
      "text/plain": [
       "0         False\n",
       "1         False\n",
       "2         False\n",
       "3         False\n",
       "4         False\n",
       "          ...  \n",
       "126309     True\n",
       "126310     True\n",
       "126311     True\n",
       "126312     True\n",
       "126313     True\n",
       "Name: year_id, Length: 126314, dtype: bool"
      ]
     },
     "execution_count": 173,
     "metadata": {},
     "output_type": "execute_result"
    }
   ],
   "source": [
    "df[\"year_id\"] > 2010"
   ]
  },
  {
   "cell_type": "markdown",
   "id": "aa056556",
   "metadata": {},
   "source": [
    ">Kalian masih memiliki seluruh 24 kolom, tetapi *DataFrame* baru kalian hanya terdiri dari baris-baris yang nilai dalam kolom \"year_id\" lebih besar dari 2010.\n",
    "\n",
    "Kalian juga dapat memilih baris di mana field tertentu yang bukan null:"
   ]
  },
  {
   "cell_type": "code",
   "execution_count": 177,
   "id": "159386a7",
   "metadata": {},
   "outputs": [
    {
     "data": {
      "text/plain": [
       "0         False\n",
       "1         False\n",
       "2         False\n",
       "3         False\n",
       "4         False\n",
       "          ...  \n",
       "126309    False\n",
       "126310    False\n",
       "126311    False\n",
       "126312    False\n",
       "126313    False\n",
       "Name: notes, Length: 126314, dtype: bool"
      ]
     },
     "execution_count": 177,
     "metadata": {},
     "output_type": "execute_result"
    }
   ],
   "source": [
    "df[\"notes\"].notnull() "
   ]
  },
  {
   "cell_type": "code",
   "execution_count": 178,
   "id": "59f8bc0c",
   "metadata": {},
   "outputs": [
    {
     "data": {
      "text/plain": [
       "(5424, 24)"
      ]
     },
     "execution_count": 178,
     "metadata": {},
     "output_type": "execute_result"
    }
   ],
   "source": [
    "# menyimpan seluruh nilai yang memiliki kondisi dimana field tertentu bukan null\n",
    "games_with_notes = df[df[\"notes\"].notnull()]\n",
    "games_with_notes.shape"
   ]
  },
  {
   "cell_type": "markdown",
   "id": "3d722047",
   "metadata": {},
   "source": [
    ">Hal ini dapat membantu kalian, jika kalian ingin menghindari nilai yang hilang/missing values dalam kolom. Kalian juga dapat menggunakan *```.notna()```* untuk mencapai tujuan yang sama.\n",
    "\n",
    "Kalian bahkan dapat mengakses nilai dari tipe data objek sebagai str dan melakukan metode string padanya:"
   ]
  },
  {
   "cell_type": "code",
   "execution_count": 187,
   "id": "e604a5c6",
   "metadata": {},
   "outputs": [
    {
     "name": "stdout",
     "output_type": "stream",
     "text": [
      "(27797, 24)\n"
     ]
    },
    {
     "data": {
      "text/html": [
       "<div>\n",
       "<style scoped>\n",
       "    .dataframe tbody tr th:only-of-type {\n",
       "        vertical-align: middle;\n",
       "    }\n",
       "\n",
       "    .dataframe tbody tr th {\n",
       "        vertical-align: top;\n",
       "    }\n",
       "\n",
       "    .dataframe thead th {\n",
       "        text-align: right;\n",
       "    }\n",
       "</style>\n",
       "<table border=\"1\" class=\"dataframe\">\n",
       "  <thead>\n",
       "    <tr style=\"text-align: right;\">\n",
       "      <th></th>\n",
       "      <th>gameorder</th>\n",
       "      <th>game_id</th>\n",
       "      <th>lg_id</th>\n",
       "      <th>_iscopy</th>\n",
       "      <th>year_id</th>\n",
       "      <th>date_game</th>\n",
       "      <th>seasongame</th>\n",
       "      <th>is_playoffs</th>\n",
       "      <th>team_id</th>\n",
       "      <th>fran_id</th>\n",
       "      <th>pts</th>\n",
       "      <th>...</th>\n",
       "      <th>win_equiv</th>\n",
       "      <th>opp_id</th>\n",
       "      <th>opp_fran</th>\n",
       "      <th>opp_pts</th>\n",
       "      <th>opp_elo_i</th>\n",
       "      <th>opp_elo_n</th>\n",
       "      <th>game_location</th>\n",
       "      <th>game_result</th>\n",
       "      <th>forecast</th>\n",
       "      <th>notes</th>\n",
       "      <th>date_played</th>\n",
       "    </tr>\n",
       "  </thead>\n",
       "  <tbody>\n",
       "    <tr>\n",
       "      <th>7</th>\n",
       "      <td>4</td>\n",
       "      <td>194611020PRO</td>\n",
       "      <td>NBA</td>\n",
       "      <td>0</td>\n",
       "      <td>1947</td>\n",
       "      <td>11/2/1946</td>\n",
       "      <td>1</td>\n",
       "      <td>0</td>\n",
       "      <td>PRO</td>\n",
       "      <td>Steamrollers</td>\n",
       "      <td>59</td>\n",
       "      <td>...</td>\n",
       "      <td>41.540619</td>\n",
       "      <td>BOS</td>\n",
       "      <td>Celtics</td>\n",
       "      <td>53</td>\n",
       "      <td>1300.0000</td>\n",
       "      <td>1294.8458</td>\n",
       "      <td>H</td>\n",
       "      <td>W</td>\n",
       "      <td>0.640065</td>\n",
       "      <td>NaN</td>\n",
       "      <td>1946-11-02</td>\n",
       "    </tr>\n",
       "    <tr>\n",
       "      <th>9</th>\n",
       "      <td>5</td>\n",
       "      <td>194611020STB</td>\n",
       "      <td>NBA</td>\n",
       "      <td>0</td>\n",
       "      <td>1947</td>\n",
       "      <td>11/2/1946</td>\n",
       "      <td>1</td>\n",
       "      <td>0</td>\n",
       "      <td>STB</td>\n",
       "      <td>Bombers</td>\n",
       "      <td>56</td>\n",
       "      <td>...</td>\n",
       "      <td>41.492020</td>\n",
       "      <td>PIT</td>\n",
       "      <td>Ironmen</td>\n",
       "      <td>51</td>\n",
       "      <td>1300.0000</td>\n",
       "      <td>1295.3092</td>\n",
       "      <td>H</td>\n",
       "      <td>W</td>\n",
       "      <td>0.640065</td>\n",
       "      <td>NaN</td>\n",
       "      <td>1946-11-02</td>\n",
       "    </tr>\n",
       "    <tr>\n",
       "      <th>16</th>\n",
       "      <td>9</td>\n",
       "      <td>194611050DTF</td>\n",
       "      <td>NBA</td>\n",
       "      <td>1</td>\n",
       "      <td>1947</td>\n",
       "      <td>11/5/1946</td>\n",
       "      <td>2</td>\n",
       "      <td>0</td>\n",
       "      <td>STB</td>\n",
       "      <td>Bombers</td>\n",
       "      <td>53</td>\n",
       "      <td>...</td>\n",
       "      <td>42.347137</td>\n",
       "      <td>DTF</td>\n",
       "      <td>Falcons</td>\n",
       "      <td>49</td>\n",
       "      <td>1279.6189</td>\n",
       "      <td>1271.4624</td>\n",
       "      <td>A</td>\n",
       "      <td>W</td>\n",
       "      <td>0.393811</td>\n",
       "      <td>NaN</td>\n",
       "      <td>1946-11-05</td>\n",
       "    </tr>\n",
       "    <tr>\n",
       "      <th>20</th>\n",
       "      <td>11</td>\n",
       "      <td>194611070PRO</td>\n",
       "      <td>NBA</td>\n",
       "      <td>0</td>\n",
       "      <td>1947</td>\n",
       "      <td>11/7/1946</td>\n",
       "      <td>2</td>\n",
       "      <td>0</td>\n",
       "      <td>PRO</td>\n",
       "      <td>Steamrollers</td>\n",
       "      <td>73</td>\n",
       "      <td>...</td>\n",
       "      <td>42.206284</td>\n",
       "      <td>CHS</td>\n",
       "      <td>Stags</td>\n",
       "      <td>65</td>\n",
       "      <td>1316.0840</td>\n",
       "      <td>1309.7350</td>\n",
       "      <td>H</td>\n",
       "      <td>W</td>\n",
       "      <td>0.625446</td>\n",
       "      <td>NaN</td>\n",
       "      <td>1946-11-07</td>\n",
       "    </tr>\n",
       "    <tr>\n",
       "      <th>22</th>\n",
       "      <td>12</td>\n",
       "      <td>194611070STB</td>\n",
       "      <td>NBA</td>\n",
       "      <td>0</td>\n",
       "      <td>1947</td>\n",
       "      <td>11/7/1946</td>\n",
       "      <td>3</td>\n",
       "      <td>0</td>\n",
       "      <td>STB</td>\n",
       "      <td>Bombers</td>\n",
       "      <td>63</td>\n",
       "      <td>...</td>\n",
       "      <td>41.272594</td>\n",
       "      <td>NYK</td>\n",
       "      <td>Knicks</td>\n",
       "      <td>68</td>\n",
       "      <td>1297.0712</td>\n",
       "      <td>1307.3197</td>\n",
       "      <td>H</td>\n",
       "      <td>L</td>\n",
       "      <td>0.660710</td>\n",
       "      <td>NaN</td>\n",
       "      <td>1946-11-07</td>\n",
       "    </tr>\n",
       "    <tr>\n",
       "      <th>...</th>\n",
       "      <td>...</td>\n",
       "      <td>...</td>\n",
       "      <td>...</td>\n",
       "      <td>...</td>\n",
       "      <td>...</td>\n",
       "      <td>...</td>\n",
       "      <td>...</td>\n",
       "      <td>...</td>\n",
       "      <td>...</td>\n",
       "      <td>...</td>\n",
       "      <td>...</td>\n",
       "      <td>...</td>\n",
       "      <td>...</td>\n",
       "      <td>...</td>\n",
       "      <td>...</td>\n",
       "      <td>...</td>\n",
       "      <td>...</td>\n",
       "      <td>...</td>\n",
       "      <td>...</td>\n",
       "      <td>...</td>\n",
       "      <td>...</td>\n",
       "      <td>...</td>\n",
       "      <td>...</td>\n",
       "    </tr>\n",
       "    <tr>\n",
       "      <th>126304</th>\n",
       "      <td>63153</td>\n",
       "      <td>201506070GSW</td>\n",
       "      <td>NBA</td>\n",
       "      <td>1</td>\n",
       "      <td>2015</td>\n",
       "      <td>6/7/2015</td>\n",
       "      <td>98</td>\n",
       "      <td>1</td>\n",
       "      <td>CLE</td>\n",
       "      <td>Cavaliers</td>\n",
       "      <td>95</td>\n",
       "      <td>...</td>\n",
       "      <td>61.312763</td>\n",
       "      <td>GSW</td>\n",
       "      <td>Warriors</td>\n",
       "      <td>93</td>\n",
       "      <td>1806.2035</td>\n",
       "      <td>1797.5032</td>\n",
       "      <td>A</td>\n",
       "      <td>W</td>\n",
       "      <td>0.242326</td>\n",
       "      <td>NaN</td>\n",
       "      <td>2015-06-07</td>\n",
       "    </tr>\n",
       "    <tr>\n",
       "      <th>126307</th>\n",
       "      <td>63154</td>\n",
       "      <td>201506090CLE</td>\n",
       "      <td>NBA</td>\n",
       "      <td>0</td>\n",
       "      <td>2015</td>\n",
       "      <td>6/9/2015</td>\n",
       "      <td>99</td>\n",
       "      <td>1</td>\n",
       "      <td>CLE</td>\n",
       "      <td>Cavaliers</td>\n",
       "      <td>96</td>\n",
       "      <td>...</td>\n",
       "      <td>61.826408</td>\n",
       "      <td>GSW</td>\n",
       "      <td>Warriors</td>\n",
       "      <td>91</td>\n",
       "      <td>1797.5032</td>\n",
       "      <td>1790.9591</td>\n",
       "      <td>H</td>\n",
       "      <td>W</td>\n",
       "      <td>0.527843</td>\n",
       "      <td>NaN</td>\n",
       "      <td>2015-06-09</td>\n",
       "    </tr>\n",
       "    <tr>\n",
       "      <th>126309</th>\n",
       "      <td>63155</td>\n",
       "      <td>201506110CLE</td>\n",
       "      <td>NBA</td>\n",
       "      <td>0</td>\n",
       "      <td>2015</td>\n",
       "      <td>6/11/2015</td>\n",
       "      <td>100</td>\n",
       "      <td>1</td>\n",
       "      <td>CLE</td>\n",
       "      <td>Cavaliers</td>\n",
       "      <td>82</td>\n",
       "      <td>...</td>\n",
       "      <td>60.309792</td>\n",
       "      <td>GSW</td>\n",
       "      <td>Warriors</td>\n",
       "      <td>103</td>\n",
       "      <td>1790.9591</td>\n",
       "      <td>1809.9791</td>\n",
       "      <td>H</td>\n",
       "      <td>L</td>\n",
       "      <td>0.546572</td>\n",
       "      <td>NaN</td>\n",
       "      <td>2015-06-11</td>\n",
       "    </tr>\n",
       "    <tr>\n",
       "      <th>126311</th>\n",
       "      <td>63156</td>\n",
       "      <td>201506140GSW</td>\n",
       "      <td>NBA</td>\n",
       "      <td>1</td>\n",
       "      <td>2015</td>\n",
       "      <td>6/14/2015</td>\n",
       "      <td>101</td>\n",
       "      <td>1</td>\n",
       "      <td>CLE</td>\n",
       "      <td>Cavaliers</td>\n",
       "      <td>91</td>\n",
       "      <td>...</td>\n",
       "      <td>60.010067</td>\n",
       "      <td>GSW</td>\n",
       "      <td>Warriors</td>\n",
       "      <td>104</td>\n",
       "      <td>1809.9791</td>\n",
       "      <td>1813.6349</td>\n",
       "      <td>A</td>\n",
       "      <td>L</td>\n",
       "      <td>0.234435</td>\n",
       "      <td>NaN</td>\n",
       "      <td>2015-06-14</td>\n",
       "    </tr>\n",
       "    <tr>\n",
       "      <th>126312</th>\n",
       "      <td>63157</td>\n",
       "      <td>201506170CLE</td>\n",
       "      <td>NBA</td>\n",
       "      <td>0</td>\n",
       "      <td>2015</td>\n",
       "      <td>6/16/2015</td>\n",
       "      <td>102</td>\n",
       "      <td>1</td>\n",
       "      <td>CLE</td>\n",
       "      <td>Cavaliers</td>\n",
       "      <td>97</td>\n",
       "      <td>...</td>\n",
       "      <td>59.290245</td>\n",
       "      <td>GSW</td>\n",
       "      <td>Warriors</td>\n",
       "      <td>105</td>\n",
       "      <td>1813.6349</td>\n",
       "      <td>1822.2881</td>\n",
       "      <td>H</td>\n",
       "      <td>L</td>\n",
       "      <td>0.481450</td>\n",
       "      <td>NaN</td>\n",
       "      <td>2015-06-16</td>\n",
       "    </tr>\n",
       "  </tbody>\n",
       "</table>\n",
       "<p>27797 rows × 24 columns</p>\n",
       "</div>"
      ],
      "text/plain": [
       "        gameorder       game_id lg_id  _iscopy  year_id  date_game  \\\n",
       "7               4  194611020PRO   NBA        0     1947  11/2/1946   \n",
       "9               5  194611020STB   NBA        0     1947  11/2/1946   \n",
       "16              9  194611050DTF   NBA        1     1947  11/5/1946   \n",
       "20             11  194611070PRO   NBA        0     1947  11/7/1946   \n",
       "22             12  194611070STB   NBA        0     1947  11/7/1946   \n",
       "...           ...           ...   ...      ...      ...        ...   \n",
       "126304      63153  201506070GSW   NBA        1     2015   6/7/2015   \n",
       "126307      63154  201506090CLE   NBA        0     2015   6/9/2015   \n",
       "126309      63155  201506110CLE   NBA        0     2015  6/11/2015   \n",
       "126311      63156  201506140GSW   NBA        1     2015  6/14/2015   \n",
       "126312      63157  201506170CLE   NBA        0     2015  6/16/2015   \n",
       "\n",
       "        seasongame  is_playoffs team_id       fran_id  pts  ...  win_equiv  \\\n",
       "7                1            0     PRO  Steamrollers   59  ...  41.540619   \n",
       "9                1            0     STB       Bombers   56  ...  41.492020   \n",
       "16               2            0     STB       Bombers   53  ...  42.347137   \n",
       "20               2            0     PRO  Steamrollers   73  ...  42.206284   \n",
       "22               3            0     STB       Bombers   63  ...  41.272594   \n",
       "...            ...          ...     ...           ...  ...  ...        ...   \n",
       "126304          98            1     CLE     Cavaliers   95  ...  61.312763   \n",
       "126307          99            1     CLE     Cavaliers   96  ...  61.826408   \n",
       "126309         100            1     CLE     Cavaliers   82  ...  60.309792   \n",
       "126311         101            1     CLE     Cavaliers   91  ...  60.010067   \n",
       "126312         102            1     CLE     Cavaliers   97  ...  59.290245   \n",
       "\n",
       "        opp_id  opp_fran opp_pts  opp_elo_i  opp_elo_n  game_location  \\\n",
       "7          BOS   Celtics      53  1300.0000  1294.8458              H   \n",
       "9          PIT   Ironmen      51  1300.0000  1295.3092              H   \n",
       "16         DTF   Falcons      49  1279.6189  1271.4624              A   \n",
       "20         CHS     Stags      65  1316.0840  1309.7350              H   \n",
       "22         NYK    Knicks      68  1297.0712  1307.3197              H   \n",
       "...        ...       ...     ...        ...        ...            ...   \n",
       "126304     GSW  Warriors      93  1806.2035  1797.5032              A   \n",
       "126307     GSW  Warriors      91  1797.5032  1790.9591              H   \n",
       "126309     GSW  Warriors     103  1790.9591  1809.9791              H   \n",
       "126311     GSW  Warriors     104  1809.9791  1813.6349              A   \n",
       "126312     GSW  Warriors     105  1813.6349  1822.2881              H   \n",
       "\n",
       "        game_result  forecast notes  date_played  \n",
       "7                 W  0.640065   NaN   1946-11-02  \n",
       "9                 W  0.640065   NaN   1946-11-02  \n",
       "16                W  0.393811   NaN   1946-11-05  \n",
       "20                W  0.625446   NaN   1946-11-07  \n",
       "22                L  0.660710   NaN   1946-11-07  \n",
       "...             ...       ...   ...          ...  \n",
       "126304            W  0.242326   NaN   2015-06-07  \n",
       "126307            W  0.527843   NaN   2015-06-09  \n",
       "126309            L  0.546572   NaN   2015-06-11  \n",
       "126311            L  0.234435   NaN   2015-06-14  \n",
       "126312            L  0.481450   NaN   2015-06-16  \n",
       "\n",
       "[27797 rows x 24 columns]"
      ]
     },
     "execution_count": 187,
     "metadata": {},
     "output_type": "execute_result"
    }
   ],
   "source": [
    "# perintah ini untuk menyimpan nilai atau semua value dengan memfilter kumpulan data semua game yang nama tim tuan rumah diakhiri dengan \"ers\".\n",
    "# (.endswith(range)) untuk memeriksa apakah string diakhiri dengan suatu subtr atau tidak. Fungsi ini akan menghasilkan nilai boolean.\n",
    "ers_teams = df[df[\"fran_id\"].str.endswith(\"ers\")]\n",
    "print(ers_teams.shape)\n",
    "ers_teams"
   ]
  },
  {
   "cell_type": "markdown",
   "id": "94c1c151",
   "metadata": {},
   "source": [
    ">Kalian menggunakan *```.str.endswith()```* untuk memfilter kumpulan data kalian dan menemukan semua game yang nama tim tuan rumah diakhiri dengan \"ers\"."
   ]
  },
  {
   "cell_type": "code",
   "execution_count": 186,
   "id": "f34e4350",
   "metadata": {},
   "outputs": [
    {
     "data": {
      "text/html": [
       "<div>\n",
       "<style scoped>\n",
       "    .dataframe tbody tr th:only-of-type {\n",
       "        vertical-align: middle;\n",
       "    }\n",
       "\n",
       "    .dataframe tbody tr th {\n",
       "        vertical-align: top;\n",
       "    }\n",
       "\n",
       "    .dataframe thead th {\n",
       "        text-align: right;\n",
       "    }\n",
       "</style>\n",
       "<table border=\"1\" class=\"dataframe\">\n",
       "  <thead>\n",
       "    <tr style=\"text-align: right;\">\n",
       "      <th></th>\n",
       "      <th>gameorder</th>\n",
       "      <th>game_id</th>\n",
       "      <th>lg_id</th>\n",
       "      <th>_iscopy</th>\n",
       "      <th>year_id</th>\n",
       "      <th>date_game</th>\n",
       "      <th>seasongame</th>\n",
       "      <th>is_playoffs</th>\n",
       "      <th>team_id</th>\n",
       "      <th>fran_id</th>\n",
       "      <th>pts</th>\n",
       "      <th>...</th>\n",
       "      <th>win_equiv</th>\n",
       "      <th>opp_id</th>\n",
       "      <th>opp_fran</th>\n",
       "      <th>opp_pts</th>\n",
       "      <th>opp_elo_i</th>\n",
       "      <th>opp_elo_n</th>\n",
       "      <th>game_location</th>\n",
       "      <th>game_result</th>\n",
       "      <th>forecast</th>\n",
       "      <th>notes</th>\n",
       "      <th>date_played</th>\n",
       "    </tr>\n",
       "  </thead>\n",
       "  <tbody>\n",
       "    <tr>\n",
       "      <th>1726</th>\n",
       "      <td>864</td>\n",
       "      <td>194902260BLB</td>\n",
       "      <td>NBA</td>\n",
       "      <td>0</td>\n",
       "      <td>1949</td>\n",
       "      <td>2/26/1949</td>\n",
       "      <td>53</td>\n",
       "      <td>0</td>\n",
       "      <td>BLB</td>\n",
       "      <td>Baltimore</td>\n",
       "      <td>114</td>\n",
       "      <td>...</td>\n",
       "      <td>38.557545</td>\n",
       "      <td>MNL</td>\n",
       "      <td>Lakers</td>\n",
       "      <td>115</td>\n",
       "      <td>1637.9852</td>\n",
       "      <td>1640.4923</td>\n",
       "      <td>H</td>\n",
       "      <td>L</td>\n",
       "      <td>0.338936</td>\n",
       "      <td>NaN</td>\n",
       "      <td>1949-02-26</td>\n",
       "    </tr>\n",
       "    <tr>\n",
       "      <th>4890</th>\n",
       "      <td>2446</td>\n",
       "      <td>195301100BLB</td>\n",
       "      <td>NBA</td>\n",
       "      <td>0</td>\n",
       "      <td>1953</td>\n",
       "      <td>1/10/1953</td>\n",
       "      <td>32</td>\n",
       "      <td>0</td>\n",
       "      <td>BLB</td>\n",
       "      <td>Baltimore</td>\n",
       "      <td>126</td>\n",
       "      <td>...</td>\n",
       "      <td>25.797792</td>\n",
       "      <td>BOS</td>\n",
       "      <td>Celtics</td>\n",
       "      <td>105</td>\n",
       "      <td>1591.1434</td>\n",
       "      <td>1563.1652</td>\n",
       "      <td>H</td>\n",
       "      <td>W</td>\n",
       "      <td>0.281855</td>\n",
       "      <td>NaN</td>\n",
       "      <td>1953-01-10</td>\n",
       "    </tr>\n",
       "    <tr>\n",
       "      <th>4909</th>\n",
       "      <td>2455</td>\n",
       "      <td>195301140BLB</td>\n",
       "      <td>NBA</td>\n",
       "      <td>0</td>\n",
       "      <td>1953</td>\n",
       "      <td>1/14/1953</td>\n",
       "      <td>34</td>\n",
       "      <td>0</td>\n",
       "      <td>BLB</td>\n",
       "      <td>Baltimore</td>\n",
       "      <td>104</td>\n",
       "      <td>...</td>\n",
       "      <td>24.876236</td>\n",
       "      <td>MNL</td>\n",
       "      <td>Lakers</td>\n",
       "      <td>112</td>\n",
       "      <td>1665.4396</td>\n",
       "      <td>1668.9125</td>\n",
       "      <td>H</td>\n",
       "      <td>L</td>\n",
       "      <td>0.224238</td>\n",
       "      <td>NaN</td>\n",
       "      <td>1953-01-14</td>\n",
       "    </tr>\n",
       "    <tr>\n",
       "      <th>5208</th>\n",
       "      <td>2605</td>\n",
       "      <td>195303110BLB</td>\n",
       "      <td>NBA</td>\n",
       "      <td>0</td>\n",
       "      <td>1953</td>\n",
       "      <td>3/11/1953</td>\n",
       "      <td>66</td>\n",
       "      <td>0</td>\n",
       "      <td>BLB</td>\n",
       "      <td>Baltimore</td>\n",
       "      <td>107</td>\n",
       "      <td>...</td>\n",
       "      <td>19.579676</td>\n",
       "      <td>NYK</td>\n",
       "      <td>Knicks</td>\n",
       "      <td>113</td>\n",
       "      <td>1649.1516</td>\n",
       "      <td>1651.4359</td>\n",
       "      <td>H</td>\n",
       "      <td>L</td>\n",
       "      <td>0.178973</td>\n",
       "      <td>at Boston MA</td>\n",
       "      <td>1953-03-11</td>\n",
       "    </tr>\n",
       "    <tr>\n",
       "      <th>5825</th>\n",
       "      <td>2913</td>\n",
       "      <td>195402220BLB</td>\n",
       "      <td>NBA</td>\n",
       "      <td>0</td>\n",
       "      <td>1954</td>\n",
       "      <td>2/22/1954</td>\n",
       "      <td>60</td>\n",
       "      <td>0</td>\n",
       "      <td>BLB</td>\n",
       "      <td>Baltimore</td>\n",
       "      <td>110</td>\n",
       "      <td>...</td>\n",
       "      <td>20.736986</td>\n",
       "      <td>BOS</td>\n",
       "      <td>Celtics</td>\n",
       "      <td>111</td>\n",
       "      <td>1591.4943</td>\n",
       "      <td>1593.2749</td>\n",
       "      <td>H</td>\n",
       "      <td>L</td>\n",
       "      <td>0.253365</td>\n",
       "      <td>at Worcester MA</td>\n",
       "      <td>1954-02-22</td>\n",
       "    </tr>\n",
       "  </tbody>\n",
       "</table>\n",
       "<p>5 rows × 24 columns</p>\n",
       "</div>"
      ],
      "text/plain": [
       "      gameorder       game_id lg_id  _iscopy  year_id  date_game  seasongame  \\\n",
       "1726        864  194902260BLB   NBA        0     1949  2/26/1949          53   \n",
       "4890       2446  195301100BLB   NBA        0     1953  1/10/1953          32   \n",
       "4909       2455  195301140BLB   NBA        0     1953  1/14/1953          34   \n",
       "5208       2605  195303110BLB   NBA        0     1953  3/11/1953          66   \n",
       "5825       2913  195402220BLB   NBA        0     1954  2/22/1954          60   \n",
       "\n",
       "      is_playoffs team_id    fran_id  pts  ...  win_equiv  opp_id  opp_fran  \\\n",
       "1726            0     BLB  Baltimore  114  ...  38.557545     MNL    Lakers   \n",
       "4890            0     BLB  Baltimore  126  ...  25.797792     BOS   Celtics   \n",
       "4909            0     BLB  Baltimore  104  ...  24.876236     MNL    Lakers   \n",
       "5208            0     BLB  Baltimore  107  ...  19.579676     NYK    Knicks   \n",
       "5825            0     BLB  Baltimore  110  ...  20.736986     BOS   Celtics   \n",
       "\n",
       "     opp_pts  opp_elo_i  opp_elo_n  game_location  game_result  forecast  \\\n",
       "1726     115  1637.9852  1640.4923              H            L  0.338936   \n",
       "4890     105  1591.1434  1563.1652              H            W  0.281855   \n",
       "4909     112  1665.4396  1668.9125              H            L  0.224238   \n",
       "5208     113  1649.1516  1651.4359              H            L  0.178973   \n",
       "5825     111  1591.4943  1593.2749              H            L  0.253365   \n",
       "\n",
       "                notes  date_played  \n",
       "1726              NaN   1949-02-26  \n",
       "4890              NaN   1953-01-10  \n",
       "4909              NaN   1953-01-14  \n",
       "5208     at Boston MA   1953-03-11  \n",
       "5825  at Worcester MA   1954-02-22  \n",
       "\n",
       "[5 rows x 24 columns]"
      ]
     },
     "execution_count": 186,
     "metadata": {},
     "output_type": "execute_result"
    }
   ],
   "source": [
    "# perintah ini untuk menampilkan semua data dari tim blb dan score nya diatas 100 dan point yang dicetak oleh lawan diatas 100\n",
    "df[ ( df['team_id']=='BLB') & (df['pts'] > 100 ) & (df['opp_pts'] > 100) ]"
   ]
  },
  {
   "cell_type": "markdown",
   "id": "f9ee9125",
   "metadata": {},
   "source": [
    ">Lakukan pencarian untuk game Baltimore dimana kedua tim mencetak lebih dari 100 poin. Dan kalian harus exclude duplicates:"
   ]
  },
  {
   "cell_type": "code",
   "execution_count": 189,
   "id": "55f19c83",
   "metadata": {},
   "outputs": [
    {
     "data": {
      "text/html": [
       "<div>\n",
       "<style scoped>\n",
       "    .dataframe tbody tr th:only-of-type {\n",
       "        vertical-align: middle;\n",
       "    }\n",
       "\n",
       "    .dataframe tbody tr th {\n",
       "        vertical-align: top;\n",
       "    }\n",
       "\n",
       "    .dataframe thead th {\n",
       "        text-align: right;\n",
       "    }\n",
       "</style>\n",
       "<table border=\"1\" class=\"dataframe\">\n",
       "  <thead>\n",
       "    <tr style=\"text-align: right;\">\n",
       "      <th></th>\n",
       "      <th>gameorder</th>\n",
       "      <th>game_id</th>\n",
       "      <th>lg_id</th>\n",
       "      <th>_iscopy</th>\n",
       "      <th>year_id</th>\n",
       "      <th>date_game</th>\n",
       "      <th>seasongame</th>\n",
       "      <th>is_playoffs</th>\n",
       "      <th>team_id</th>\n",
       "      <th>fran_id</th>\n",
       "      <th>pts</th>\n",
       "      <th>...</th>\n",
       "      <th>win_equiv</th>\n",
       "      <th>opp_id</th>\n",
       "      <th>opp_fran</th>\n",
       "      <th>opp_pts</th>\n",
       "      <th>opp_elo_i</th>\n",
       "      <th>opp_elo_n</th>\n",
       "      <th>game_location</th>\n",
       "      <th>game_result</th>\n",
       "      <th>forecast</th>\n",
       "      <th>notes</th>\n",
       "      <th>date_played</th>\n",
       "    </tr>\n",
       "  </thead>\n",
       "  <tbody>\n",
       "    <tr>\n",
       "      <th>1726</th>\n",
       "      <td>864</td>\n",
       "      <td>194902260BLB</td>\n",
       "      <td>NBA</td>\n",
       "      <td>0</td>\n",
       "      <td>1949</td>\n",
       "      <td>2/26/1949</td>\n",
       "      <td>53</td>\n",
       "      <td>0</td>\n",
       "      <td>BLB</td>\n",
       "      <td>Baltimore</td>\n",
       "      <td>114</td>\n",
       "      <td>...</td>\n",
       "      <td>38.557545</td>\n",
       "      <td>MNL</td>\n",
       "      <td>Lakers</td>\n",
       "      <td>115</td>\n",
       "      <td>1637.9852</td>\n",
       "      <td>1640.4923</td>\n",
       "      <td>H</td>\n",
       "      <td>L</td>\n",
       "      <td>0.338936</td>\n",
       "      <td>NaN</td>\n",
       "      <td>1949-02-26</td>\n",
       "    </tr>\n",
       "    <tr>\n",
       "      <th>4890</th>\n",
       "      <td>2446</td>\n",
       "      <td>195301100BLB</td>\n",
       "      <td>NBA</td>\n",
       "      <td>0</td>\n",
       "      <td>1953</td>\n",
       "      <td>1/10/1953</td>\n",
       "      <td>32</td>\n",
       "      <td>0</td>\n",
       "      <td>BLB</td>\n",
       "      <td>Baltimore</td>\n",
       "      <td>126</td>\n",
       "      <td>...</td>\n",
       "      <td>25.797792</td>\n",
       "      <td>BOS</td>\n",
       "      <td>Celtics</td>\n",
       "      <td>105</td>\n",
       "      <td>1591.1434</td>\n",
       "      <td>1563.1652</td>\n",
       "      <td>H</td>\n",
       "      <td>W</td>\n",
       "      <td>0.281855</td>\n",
       "      <td>NaN</td>\n",
       "      <td>1953-01-10</td>\n",
       "    </tr>\n",
       "    <tr>\n",
       "      <th>4909</th>\n",
       "      <td>2455</td>\n",
       "      <td>195301140BLB</td>\n",
       "      <td>NBA</td>\n",
       "      <td>0</td>\n",
       "      <td>1953</td>\n",
       "      <td>1/14/1953</td>\n",
       "      <td>34</td>\n",
       "      <td>0</td>\n",
       "      <td>BLB</td>\n",
       "      <td>Baltimore</td>\n",
       "      <td>104</td>\n",
       "      <td>...</td>\n",
       "      <td>24.876236</td>\n",
       "      <td>MNL</td>\n",
       "      <td>Lakers</td>\n",
       "      <td>112</td>\n",
       "      <td>1665.4396</td>\n",
       "      <td>1668.9125</td>\n",
       "      <td>H</td>\n",
       "      <td>L</td>\n",
       "      <td>0.224238</td>\n",
       "      <td>NaN</td>\n",
       "      <td>1953-01-14</td>\n",
       "    </tr>\n",
       "    <tr>\n",
       "      <th>5208</th>\n",
       "      <td>2605</td>\n",
       "      <td>195303110BLB</td>\n",
       "      <td>NBA</td>\n",
       "      <td>0</td>\n",
       "      <td>1953</td>\n",
       "      <td>3/11/1953</td>\n",
       "      <td>66</td>\n",
       "      <td>0</td>\n",
       "      <td>BLB</td>\n",
       "      <td>Baltimore</td>\n",
       "      <td>107</td>\n",
       "      <td>...</td>\n",
       "      <td>19.579676</td>\n",
       "      <td>NYK</td>\n",
       "      <td>Knicks</td>\n",
       "      <td>113</td>\n",
       "      <td>1649.1516</td>\n",
       "      <td>1651.4359</td>\n",
       "      <td>H</td>\n",
       "      <td>L</td>\n",
       "      <td>0.178973</td>\n",
       "      <td>at Boston MA</td>\n",
       "      <td>1953-03-11</td>\n",
       "    </tr>\n",
       "    <tr>\n",
       "      <th>5825</th>\n",
       "      <td>2913</td>\n",
       "      <td>195402220BLB</td>\n",
       "      <td>NBA</td>\n",
       "      <td>0</td>\n",
       "      <td>1954</td>\n",
       "      <td>2/22/1954</td>\n",
       "      <td>60</td>\n",
       "      <td>0</td>\n",
       "      <td>BLB</td>\n",
       "      <td>Baltimore</td>\n",
       "      <td>110</td>\n",
       "      <td>...</td>\n",
       "      <td>20.736986</td>\n",
       "      <td>BOS</td>\n",
       "      <td>Celtics</td>\n",
       "      <td>111</td>\n",
       "      <td>1591.4943</td>\n",
       "      <td>1593.2749</td>\n",
       "      <td>H</td>\n",
       "      <td>L</td>\n",
       "      <td>0.253365</td>\n",
       "      <td>at Worcester MA</td>\n",
       "      <td>1954-02-22</td>\n",
       "    </tr>\n",
       "  </tbody>\n",
       "</table>\n",
       "<p>5 rows × 24 columns</p>\n",
       "</div>"
      ],
      "text/plain": [
       "      gameorder       game_id lg_id  _iscopy  year_id  date_game  seasongame  \\\n",
       "1726        864  194902260BLB   NBA        0     1949  2/26/1949          53   \n",
       "4890       2446  195301100BLB   NBA        0     1953  1/10/1953          32   \n",
       "4909       2455  195301140BLB   NBA        0     1953  1/14/1953          34   \n",
       "5208       2605  195303110BLB   NBA        0     1953  3/11/1953          66   \n",
       "5825       2913  195402220BLB   NBA        0     1954  2/22/1954          60   \n",
       "\n",
       "      is_playoffs team_id    fran_id  pts  ...  win_equiv  opp_id  opp_fran  \\\n",
       "1726            0     BLB  Baltimore  114  ...  38.557545     MNL    Lakers   \n",
       "4890            0     BLB  Baltimore  126  ...  25.797792     BOS   Celtics   \n",
       "4909            0     BLB  Baltimore  104  ...  24.876236     MNL    Lakers   \n",
       "5208            0     BLB  Baltimore  107  ...  19.579676     NYK    Knicks   \n",
       "5825            0     BLB  Baltimore  110  ...  20.736986     BOS   Celtics   \n",
       "\n",
       "     opp_pts  opp_elo_i  opp_elo_n  game_location  game_result  forecast  \\\n",
       "1726     115  1637.9852  1640.4923              H            L  0.338936   \n",
       "4890     105  1591.1434  1563.1652              H            W  0.281855   \n",
       "4909     112  1665.4396  1668.9125              H            L  0.224238   \n",
       "5208     113  1649.1516  1651.4359              H            L  0.178973   \n",
       "5825     111  1591.4943  1593.2749              H            L  0.253365   \n",
       "\n",
       "                notes  date_played  \n",
       "1726              NaN   1949-02-26  \n",
       "4890              NaN   1953-01-10  \n",
       "4909              NaN   1953-01-14  \n",
       "5208     at Boston MA   1953-03-11  \n",
       "5825  at Worcester MA   1954-02-22  \n",
       "\n",
       "[5 rows x 24 columns]"
      ]
     },
     "execution_count": 189,
     "metadata": {},
     "output_type": "execute_result"
    }
   ],
   "source": [
    "# perintah ini untuk menampilakan semua data dengan kondisi pertarungan yang sama sama dengan 0 dan score poin 100, dan score poin lawan 100, dengan tim blb \n",
    "df[\n",
    "    (df[\"_iscopy\"] == 0) &\n",
    "    (df[\"pts\"] > 100) &\n",
    "    (df[\"opp_pts\"] > 100) &\n",
    "    (df[\"team_id\"] == \"BLB\")\n",
    "]"
   ]
  },
  {
   "cell_type": "markdown",
   "id": "259829cd",
   "metadata": {},
   "source": [
    ">Di sini, kalian menggunakan *```df[\"_iscopy\"] == 0```* untuk hanya menyertakan entri yang bukan salinan/duplikat.\n",
    "Output kalian harusnya berisi lima game.\n",
    "\n",
    "Coba buat query lain dengan beberapa kriteria : di musim semi tahun 1992, kedua tim dari Los Angeles harus memainkan pertandingan kandang di lapangan lain. Buat kueri set data kalian untuk menemukan dua game tersebut. Kedua tim memiliki ID yang dimulai dengan \"LA\".\n",
    "\n",
    "Kalian dapat menggunakan *.str* untuk menemukan ID tim yang dimulai dengan *\"LA\"*, dan kalian dapat berasumsi bahwa game yang tidak biasa seperti itu akan memiliki *\"notes\"*:"
   ]
  },
  {
   "cell_type": "code",
   "execution_count": 191,
   "id": "9a28516b",
   "metadata": {},
   "outputs": [
    {
     "data": {
      "text/html": [
       "<div>\n",
       "<style scoped>\n",
       "    .dataframe tbody tr th:only-of-type {\n",
       "        vertical-align: middle;\n",
       "    }\n",
       "\n",
       "    .dataframe tbody tr th {\n",
       "        vertical-align: top;\n",
       "    }\n",
       "\n",
       "    .dataframe thead th {\n",
       "        text-align: right;\n",
       "    }\n",
       "</style>\n",
       "<table border=\"1\" class=\"dataframe\">\n",
       "  <thead>\n",
       "    <tr style=\"text-align: right;\">\n",
       "      <th></th>\n",
       "      <th>gameorder</th>\n",
       "      <th>game_id</th>\n",
       "      <th>lg_id</th>\n",
       "      <th>_iscopy</th>\n",
       "      <th>year_id</th>\n",
       "      <th>date_game</th>\n",
       "      <th>seasongame</th>\n",
       "      <th>is_playoffs</th>\n",
       "      <th>team_id</th>\n",
       "      <th>fran_id</th>\n",
       "      <th>pts</th>\n",
       "      <th>...</th>\n",
       "      <th>win_equiv</th>\n",
       "      <th>opp_id</th>\n",
       "      <th>opp_fran</th>\n",
       "      <th>opp_pts</th>\n",
       "      <th>opp_elo_i</th>\n",
       "      <th>opp_elo_n</th>\n",
       "      <th>game_location</th>\n",
       "      <th>game_result</th>\n",
       "      <th>forecast</th>\n",
       "      <th>notes</th>\n",
       "      <th>date_played</th>\n",
       "    </tr>\n",
       "  </thead>\n",
       "  <tbody>\n",
       "    <tr>\n",
       "      <th>68901</th>\n",
       "      <td>34451</td>\n",
       "      <td>199205030LAC</td>\n",
       "      <td>NBA</td>\n",
       "      <td>0</td>\n",
       "      <td>1992</td>\n",
       "      <td>5/3/1992</td>\n",
       "      <td>86</td>\n",
       "      <td>1</td>\n",
       "      <td>LAC</td>\n",
       "      <td>Clippers</td>\n",
       "      <td>115</td>\n",
       "      <td>...</td>\n",
       "      <td>47.888252</td>\n",
       "      <td>UTA</td>\n",
       "      <td>Jazz</td>\n",
       "      <td>107</td>\n",
       "      <td>1647.5092</td>\n",
       "      <td>1638.4095</td>\n",
       "      <td>H</td>\n",
       "      <td>W</td>\n",
       "      <td>0.499125</td>\n",
       "      <td>at Anaheim, CA (Anaheim Convention Center)</td>\n",
       "      <td>1992-05-03</td>\n",
       "    </tr>\n",
       "    <tr>\n",
       "      <th>68903</th>\n",
       "      <td>34452</td>\n",
       "      <td>199205030LAL</td>\n",
       "      <td>NBA</td>\n",
       "      <td>0</td>\n",
       "      <td>1992</td>\n",
       "      <td>5/3/1992</td>\n",
       "      <td>86</td>\n",
       "      <td>1</td>\n",
       "      <td>LAL</td>\n",
       "      <td>Lakers</td>\n",
       "      <td>76</td>\n",
       "      <td>...</td>\n",
       "      <td>39.395412</td>\n",
       "      <td>POR</td>\n",
       "      <td>Trailblazers</td>\n",
       "      <td>102</td>\n",
       "      <td>1655.1210</td>\n",
       "      <td>1670.3677</td>\n",
       "      <td>H</td>\n",
       "      <td>L</td>\n",
       "      <td>0.406874</td>\n",
       "      <td>at Las Vegas, NV</td>\n",
       "      <td>1992-05-03</td>\n",
       "    </tr>\n",
       "  </tbody>\n",
       "</table>\n",
       "<p>2 rows × 24 columns</p>\n",
       "</div>"
      ],
      "text/plain": [
       "       gameorder       game_id lg_id  _iscopy  year_id date_game  seasongame  \\\n",
       "68901      34451  199205030LAC   NBA        0     1992  5/3/1992          86   \n",
       "68903      34452  199205030LAL   NBA        0     1992  5/3/1992          86   \n",
       "\n",
       "       is_playoffs team_id   fran_id  pts  ...  win_equiv  opp_id  \\\n",
       "68901            1     LAC  Clippers  115  ...  47.888252     UTA   \n",
       "68903            1     LAL    Lakers   76  ...  39.395412     POR   \n",
       "\n",
       "           opp_fran opp_pts  opp_elo_i  opp_elo_n  game_location  game_result  \\\n",
       "68901          Jazz     107  1647.5092  1638.4095              H            W   \n",
       "68903  Trailblazers     102  1655.1210  1670.3677              H            L   \n",
       "\n",
       "       forecast                                       notes  date_played  \n",
       "68901  0.499125  at Anaheim, CA (Anaheim Convention Center)   1992-05-03  \n",
       "68903  0.406874                            at Las Vegas, NV   1992-05-03  \n",
       "\n",
       "[2 rows x 24 columns]"
      ]
     },
     "execution_count": 191,
     "metadata": {},
     "output_type": "execute_result"
    }
   ],
   "source": [
    "# (.str.startswith(range)) untuk menampilkan semua data dengan kondisi tim id 'LA' dan mengembalikan nilai ke bolean\n",
    "df[\n",
    "    (df[\"_iscopy\"] == 0) &\n",
    "    (df[\"team_id\"].str.startswith(\"LA\")) &\n",
    "    (df[\"year_id\"] == 1992) &\n",
    "    (df[\"notes\"].notnull())\n",
    "]"
   ]
  },
  {
   "cell_type": "markdown",
   "id": "c26697bb",
   "metadata": {},
   "source": [
    "Ketika kalian mengetahui cara query dataset kalian dengan beberapa kriteria, kalian akan dapat menjawab pertanyaan yang lebih spesifik tentang kumpulan data kalian.\n",
    "\n",
    "### Grouping and Aggregating Your Data\n",
    "Kalian mungkin juga ingin mempelajari fitur lain dari kumpulan data kalian, seperti jumlah, rata-rata, atau nilai rata-rata dari sekelompok elemen. Untungnya, pustaka Pandas Python menawarkan fungsi **grouping** dan **aggregation** untuk membantu kalian menyelesaikan tugas ini.\n",
    "\n",
    "Series memiliki lebih dari dua puluh metode berbeda untuk menghitung *statistik deskriptif*. Berikut beberapa contohnya:"
   ]
  },
  {
   "cell_type": "code",
   "execution_count": 194,
   "id": "2bdbe02b",
   "metadata": {},
   "outputs": [
    {
     "name": "stdout",
     "output_type": "stream",
     "text": [
      "Amsterdam    4200\n",
      "Toronto      8000\n",
      "Tokyo        6500\n",
      "dtype: int64\n"
     ]
    },
    {
     "data": {
      "text/plain": [
       "18700"
      ]
     },
     "execution_count": 194,
     "metadata": {},
     "output_type": "execute_result"
    }
   ],
   "source": [
    "print(city_revenues)\n",
    "city_revenues.sum()"
   ]
  },
  {
   "cell_type": "code",
   "execution_count": 198,
   "id": "efcfc144",
   "metadata": {},
   "outputs": [
    {
     "name": "stdout",
     "output_type": "stream",
     "text": [
      "jumlah paling besar :  8000\n",
      "jumlah paling kecil :  4200\n"
     ]
    }
   ],
   "source": [
    "print(\"jumlah paling besar : \", city_revenues.max())\n",
    "print(\"jumlah paling kecil : \", city_revenues.min())"
   ]
  },
  {
   "cell_type": "code",
   "execution_count": 199,
   "id": "c828645d",
   "metadata": {},
   "outputs": [
    {
     "data": {
      "text/plain": [
       "6233.333333333333"
      ]
     },
     "execution_count": 199,
     "metadata": {},
     "output_type": "execute_result"
    }
   ],
   "source": [
    "city_revenues.mean()"
   ]
  },
  {
   "cell_type": "code",
   "execution_count": 207,
   "id": "81b994d3",
   "metadata": {},
   "outputs": [
    {
     "name": "stdout",
     "output_type": "stream",
     "text": [
      "Total point :  12976235\n"
     ]
    },
    {
     "data": {
      "text/plain": [
       "0          66\n",
       "1          68\n",
       "2          63\n",
       "3          47\n",
       "4          33\n",
       "         ... \n",
       "126309     82\n",
       "126310    104\n",
       "126311     91\n",
       "126312     97\n",
       "126313    105\n",
       "Name: pts, Length: 126314, dtype: int64"
      ]
     },
     "execution_count": 207,
     "metadata": {},
     "output_type": "execute_result"
    }
   ],
   "source": [
    "points = df.pts\n",
    "print(\"Total point : \", points.sum())\n",
    "points"
   ]
  },
  {
   "cell_type": "code",
   "execution_count": 212,
   "id": "f793576d",
   "metadata": {},
   "outputs": [
    {
     "data": {
      "text/plain": [
       "array(['Huskies', 'Knicks', 'Stags', 'Falcons', 'Capitols', 'Celtics',\n",
       "       'Steamrollers', 'Ironmen', 'Bombers', 'Rebels', 'Warriors',\n",
       "       'Baltimore', 'Jets', 'Pistons', 'Lakers', 'Kings', 'Hawks',\n",
       "       'Denver', 'Olympians', 'Redskins', 'Waterloo', 'Packers', 'Sixers',\n",
       "       'Wizards', 'Bulls', 'Thunder', 'Squires', 'Stars', 'Rockets',\n",
       "       'Colonels', 'Pacers', 'Nuggets', 'Spurs', 'Spirits', 'Sounds',\n",
       "       'Floridians', 'Nets', 'Condors', 'Bucks', 'Suns', 'Clippers',\n",
       "       'Cavaliers', 'Trailblazers', 'Sails', 'Jazz', 'Mavericks',\n",
       "       'Pelicans', 'Heat', 'Timberwolves', 'Magic', 'Grizzlies',\n",
       "       'Raptors', 'Hornets'], dtype=object)"
      ]
     },
     "execution_count": 212,
     "metadata": {},
     "output_type": "execute_result"
    }
   ],
   "source": [
    "# (.unique()) untuk mengembalikan array berisi nilai unik dari dataset\n",
    "# (.nunique()) untuk mengembalikan jumlah nilai unik tersebut, perlu diperhatikan nilai NaN tidak akan dihitung.\n",
    "df['fran_id'].unique()"
   ]
  },
  {
   "cell_type": "markdown",
   "id": "e213c8a7",
   "metadata": {},
   "source": [
    "DataFrame dapat memiliki beberapa kolom, yang memperkenalkan kita terhadap kemungkinan baru untuk agregasi, seperti grouping:"
   ]
  },
  {
   "cell_type": "code",
   "execution_count": 218,
   "id": "911f3022",
   "metadata": {},
   "outputs": [
    {
     "data": {
      "text/plain": [
       "<pandas.core.groupby.generic.DataFrameGroupBy object at 0x000001F1AF1C9C10>"
      ]
     },
     "execution_count": 218,
     "metadata": {},
     "output_type": "execute_result"
    }
   ],
   "source": [
    "# perintah ini untuk  untuk mengelompokkan data dalam kumpulan item yang sama misalnya dalam lokasi, produk, dan kategori lainnya.\n",
    "group_fran = df.groupby('fran_id',sort=False)\n",
    "group_fran"
   ]
  },
  {
   "cell_type": "code",
   "execution_count": 220,
   "id": "152577ec",
   "metadata": {},
   "outputs": [
    {
     "data": {
      "text/plain": [
       "fran_id\n",
       "Huskies           3995\n",
       "Knicks          582497\n",
       "Stags            20398\n",
       "Falcons           3797\n",
       "Capitols         22387\n",
       "Celtics         626484\n",
       "Steamrollers     12372\n",
       "Ironmen           3674\n",
       "Bombers          17793\n",
       "Rebels            4474\n",
       "Warriors        591224\n",
       "Baltimore        37219\n",
       "Jets              4482\n",
       "Pistons         572758\n",
       "Lakers          637444\n",
       "Kings           569245\n",
       "Hawks           567261\n",
       "Denver            4818\n",
       "Olympians        22864\n",
       "Redskins          5372\n",
       "Waterloo          4921\n",
       "Packers           6193\n",
       "Sixers          585891\n",
       "Wizards         474809\n",
       "Bulls           437269\n",
       "Thunder         437735\n",
       "Squires          91127\n",
       "Stars            84940\n",
       "Rockets         432504\n",
       "Colonels         94435\n",
       "Pacers          438288\n",
       "Nuggets         445780\n",
       "Spurs           453822\n",
       "Spirits          85874\n",
       "Sounds           75582\n",
       "Floridians       49568\n",
       "Nets            417809\n",
       "Condors          49642\n",
       "Bucks           418326\n",
       "Suns            437486\n",
       "Clippers        380523\n",
       "Cavaliers       380416\n",
       "Trailblazers    402695\n",
       "Sails            30080\n",
       "Jazz            363155\n",
       "Mavericks       309239\n",
       "Pelicans        220794\n",
       "Heat            229103\n",
       "Timberwolves    207693\n",
       "Magic           219436\n",
       "Grizzlies       157683\n",
       "Raptors         158370\n",
       "Hornets          84489\n",
       "Name: pts, dtype: int64"
      ]
     },
     "execution_count": 220,
     "metadata": {},
     "output_type": "execute_result"
    }
   ],
   "source": [
    "# perintah ini untuk menampilkan semua jumlah dari atribut pts/point dari semua frand id yang sudah digrouping\n",
    "group_fran['pts'].sum()"
   ]
  },
  {
   "cell_type": "code",
   "execution_count": 229,
   "id": "b324a762",
   "metadata": {},
   "outputs": [
    {
     "data": {
      "text/plain": [
       "year_id  game_result\n",
       "1967     L              51\n",
       "         W              33\n",
       "1968     L              57\n",
       "         W              30\n",
       "1969     L              49\n",
       "                        ..\n",
       "2013     W              50\n",
       "2014     L              38\n",
       "         W              49\n",
       "2015     L              38\n",
       "         W              56\n",
       "Name: game_id, Length: 98, dtype: int64"
      ]
     },
     "execution_count": 229,
     "metadata": {},
     "output_type": "execute_result"
    }
   ],
   "source": [
    "# perintah ini untuk menyimpan semua artibut tahun id dan game result dengan kondisi fran id = bulls\n",
    "year_results = df[df['fran_id'] == 'Bulls'].groupby(['year_id','game_result'])\n",
    "year_results[\"game_id\"].count()"
   ]
  },
  {
   "cell_type": "markdown",
   "id": "5d1ff8f9",
   "metadata": {},
   "source": [
    ">Secara default, Pandas mengurutkan keys/kunci grup selama memanggil ke *```.groupby()```*. Jika kalian tidak ingin mengurutkan, berikan ```sort=False```. Parameter ini dapat menghasilkan peningkatan kinerja.\n",
    "\n",
    "kalian juga dapat mengelompokkan beberapa kolom:"
   ]
  },
  {
   "cell_type": "code",
   "execution_count": 231,
   "id": "8702ee57",
   "metadata": {},
   "outputs": [
    {
     "data": {
      "text/plain": [
       "year_id  game_result\n",
       "2011     L              25\n",
       "         W              63\n",
       "2012     L              20\n",
       "         W              60\n",
       "2013     L              30\n",
       "         W              73\n",
       "2014     L              27\n",
       "         W              78\n",
       "2015     L              31\n",
       "         W              58\n",
       "Name: game_id, dtype: int64"
      ]
     },
     "execution_count": 231,
     "metadata": {},
     "output_type": "execute_result"
    }
   ],
   "source": [
    "# perintah ini untuk menampilkan jumlah data dengan kondisi tim spurs dan tahun diatas 2010 melihat hasil game beranding\n",
    "# dan memubat grup dari atribut dari year id dan game result\n",
    "df[\n",
    "    (df[\"fran_id\"] == \"Spurs\") &\n",
    "    (df[\"year_id\"] > 2010)\n",
    "].groupby([\"year_id\", \"game_result\"])[\"game_id\"].count()"
   ]
  },
  {
   "cell_type": "markdown",
   "id": "5b17c180",
   "metadata": {},
   "source": [
    "Kalian dapat mempraktikkan dasar-dasar ini dengan latihan. Coba lihat musim Golden State Warriors 2014-15 *(year_id: 2015)*.\n",
    "Berapa banyak kemenangan dan kekalahan yang mereka cetak selama musim reguler dan babak playoff?\n",
    "\n",
    "Hal yang Pertama kalian lakukan dengan mengelompokkan berdasarkan **\"is_playoffs\"**, lalu berdasarkan result:"
   ]
  },
  {
   "cell_type": "code",
   "execution_count": 234,
   "id": "0142902f",
   "metadata": {},
   "outputs": [
    {
     "data": {
      "text/plain": [
       "is_playoffs  game_result\n",
       "0            L              15\n",
       "             W              67\n",
       "1            L               5\n",
       "             W              16\n",
       "Name: game_id, dtype: int64"
      ]
     },
     "execution_count": 234,
     "metadata": {},
     "output_type": "execute_result"
    }
   ],
   "source": [
    "# perintah ini untuk menampilkan hasil game dari tim warriors di tahun 2015\n",
    "# pada atribut bendera untuk game playoff\n",
    "df[\n",
    "    (df[\"fran_id\"] == \"Warriors\") &\n",
    "    (df[\"year_id\"] == 2015)\n",
    "].groupby([\"is_playoffs\", \"game_result\"])[\"game_id\"].count()"
   ]
  },
  {
   "cell_type": "markdown",
   "id": "ff43bc90",
   "metadata": {},
   "source": [
    ">is_playoffs=0 menunjukkan hasil untuk musim reguler, dan is_playoffs=1 menunjukkan hasil untuk playoff.\n",
    "\n",
    "### Manipulating Columns\n",
    "Kalian perlu mengetahui cara memanipulasi kolom set data kalian dalam cara yang berbeda dari proses analisis data. Kalian dapat ``add`` dan ```drop``` kolom sebagai bagian dari *fase cleaning data* awal, atau nanti, berdasarkan *insights analisis* Anda.\n",
    "\n",
    "Buat salinan DataFrame asli kalian untuk digunakan:"
   ]
  },
  {
   "cell_type": "markdown",
   "id": "e6f3c0e8",
   "metadata": {},
   "source": [
    "#### Changing Columns in a DataFrame"
   ]
  },
  {
   "cell_type": "code",
   "execution_count": 236,
   "id": "2095d4fa",
   "metadata": {},
   "outputs": [
    {
     "data": {
      "text/html": [
       "<div>\n",
       "<style scoped>\n",
       "    .dataframe tbody tr th:only-of-type {\n",
       "        vertical-align: middle;\n",
       "    }\n",
       "\n",
       "    .dataframe tbody tr th {\n",
       "        vertical-align: top;\n",
       "    }\n",
       "\n",
       "    .dataframe thead th {\n",
       "        text-align: right;\n",
       "    }\n",
       "</style>\n",
       "<table border=\"1\" class=\"dataframe\">\n",
       "  <thead>\n",
       "    <tr style=\"text-align: right;\">\n",
       "      <th></th>\n",
       "      <th>gameorder</th>\n",
       "      <th>game_id</th>\n",
       "      <th>lg_id</th>\n",
       "      <th>_iscopy</th>\n",
       "      <th>year_id</th>\n",
       "      <th>date_game</th>\n",
       "      <th>seasongame</th>\n",
       "      <th>is_playoffs</th>\n",
       "      <th>team_id</th>\n",
       "      <th>fran_id</th>\n",
       "      <th>pts</th>\n",
       "      <th>...</th>\n",
       "      <th>win_equiv</th>\n",
       "      <th>opp_id</th>\n",
       "      <th>opp_fran</th>\n",
       "      <th>opp_pts</th>\n",
       "      <th>opp_elo_i</th>\n",
       "      <th>opp_elo_n</th>\n",
       "      <th>game_location</th>\n",
       "      <th>game_result</th>\n",
       "      <th>forecast</th>\n",
       "      <th>notes</th>\n",
       "      <th>date_played</th>\n",
       "    </tr>\n",
       "  </thead>\n",
       "  <tbody>\n",
       "    <tr>\n",
       "      <th>0</th>\n",
       "      <td>1</td>\n",
       "      <td>194611010TRH</td>\n",
       "      <td>NBA</td>\n",
       "      <td>0</td>\n",
       "      <td>1947</td>\n",
       "      <td>11/1/1946</td>\n",
       "      <td>1</td>\n",
       "      <td>0</td>\n",
       "      <td>TRH</td>\n",
       "      <td>Huskies</td>\n",
       "      <td>66</td>\n",
       "      <td>...</td>\n",
       "      <td>40.294830</td>\n",
       "      <td>NYK</td>\n",
       "      <td>Knicks</td>\n",
       "      <td>68</td>\n",
       "      <td>1300.0000</td>\n",
       "      <td>1306.7233</td>\n",
       "      <td>H</td>\n",
       "      <td>L</td>\n",
       "      <td>0.640065</td>\n",
       "      <td>NaN</td>\n",
       "      <td>1946-11-01</td>\n",
       "    </tr>\n",
       "    <tr>\n",
       "      <th>1</th>\n",
       "      <td>1</td>\n",
       "      <td>194611010TRH</td>\n",
       "      <td>NBA</td>\n",
       "      <td>1</td>\n",
       "      <td>1947</td>\n",
       "      <td>11/1/1946</td>\n",
       "      <td>1</td>\n",
       "      <td>0</td>\n",
       "      <td>NYK</td>\n",
       "      <td>Knicks</td>\n",
       "      <td>68</td>\n",
       "      <td>...</td>\n",
       "      <td>41.705170</td>\n",
       "      <td>TRH</td>\n",
       "      <td>Huskies</td>\n",
       "      <td>66</td>\n",
       "      <td>1300.0000</td>\n",
       "      <td>1293.2767</td>\n",
       "      <td>A</td>\n",
       "      <td>W</td>\n",
       "      <td>0.359935</td>\n",
       "      <td>NaN</td>\n",
       "      <td>1946-11-01</td>\n",
       "    </tr>\n",
       "    <tr>\n",
       "      <th>2</th>\n",
       "      <td>2</td>\n",
       "      <td>194611020CHS</td>\n",
       "      <td>NBA</td>\n",
       "      <td>0</td>\n",
       "      <td>1947</td>\n",
       "      <td>11/2/1946</td>\n",
       "      <td>1</td>\n",
       "      <td>0</td>\n",
       "      <td>CHS</td>\n",
       "      <td>Stags</td>\n",
       "      <td>63</td>\n",
       "      <td>...</td>\n",
       "      <td>42.012257</td>\n",
       "      <td>NYK</td>\n",
       "      <td>Knicks</td>\n",
       "      <td>47</td>\n",
       "      <td>1306.7233</td>\n",
       "      <td>1297.0712</td>\n",
       "      <td>H</td>\n",
       "      <td>W</td>\n",
       "      <td>0.631101</td>\n",
       "      <td>NaN</td>\n",
       "      <td>1946-11-02</td>\n",
       "    </tr>\n",
       "    <tr>\n",
       "      <th>3</th>\n",
       "      <td>2</td>\n",
       "      <td>194611020CHS</td>\n",
       "      <td>NBA</td>\n",
       "      <td>1</td>\n",
       "      <td>1947</td>\n",
       "      <td>11/2/1946</td>\n",
       "      <td>2</td>\n",
       "      <td>0</td>\n",
       "      <td>NYK</td>\n",
       "      <td>Knicks</td>\n",
       "      <td>47</td>\n",
       "      <td>...</td>\n",
       "      <td>40.692783</td>\n",
       "      <td>CHS</td>\n",
       "      <td>Stags</td>\n",
       "      <td>63</td>\n",
       "      <td>1300.0000</td>\n",
       "      <td>1309.6521</td>\n",
       "      <td>A</td>\n",
       "      <td>L</td>\n",
       "      <td>0.368899</td>\n",
       "      <td>NaN</td>\n",
       "      <td>1946-11-02</td>\n",
       "    </tr>\n",
       "    <tr>\n",
       "      <th>4</th>\n",
       "      <td>3</td>\n",
       "      <td>194611020DTF</td>\n",
       "      <td>NBA</td>\n",
       "      <td>0</td>\n",
       "      <td>1947</td>\n",
       "      <td>11/2/1946</td>\n",
       "      <td>1</td>\n",
       "      <td>0</td>\n",
       "      <td>DTF</td>\n",
       "      <td>Falcons</td>\n",
       "      <td>33</td>\n",
       "      <td>...</td>\n",
       "      <td>38.864048</td>\n",
       "      <td>WSC</td>\n",
       "      <td>Capitols</td>\n",
       "      <td>50</td>\n",
       "      <td>1300.0000</td>\n",
       "      <td>1320.3811</td>\n",
       "      <td>H</td>\n",
       "      <td>L</td>\n",
       "      <td>0.640065</td>\n",
       "      <td>NaN</td>\n",
       "      <td>1946-11-02</td>\n",
       "    </tr>\n",
       "    <tr>\n",
       "      <th>...</th>\n",
       "      <td>...</td>\n",
       "      <td>...</td>\n",
       "      <td>...</td>\n",
       "      <td>...</td>\n",
       "      <td>...</td>\n",
       "      <td>...</td>\n",
       "      <td>...</td>\n",
       "      <td>...</td>\n",
       "      <td>...</td>\n",
       "      <td>...</td>\n",
       "      <td>...</td>\n",
       "      <td>...</td>\n",
       "      <td>...</td>\n",
       "      <td>...</td>\n",
       "      <td>...</td>\n",
       "      <td>...</td>\n",
       "      <td>...</td>\n",
       "      <td>...</td>\n",
       "      <td>...</td>\n",
       "      <td>...</td>\n",
       "      <td>...</td>\n",
       "      <td>...</td>\n",
       "      <td>...</td>\n",
       "    </tr>\n",
       "    <tr>\n",
       "      <th>126309</th>\n",
       "      <td>63155</td>\n",
       "      <td>201506110CLE</td>\n",
       "      <td>NBA</td>\n",
       "      <td>0</td>\n",
       "      <td>2015</td>\n",
       "      <td>6/11/2015</td>\n",
       "      <td>100</td>\n",
       "      <td>1</td>\n",
       "      <td>CLE</td>\n",
       "      <td>Cavaliers</td>\n",
       "      <td>82</td>\n",
       "      <td>...</td>\n",
       "      <td>60.309792</td>\n",
       "      <td>GSW</td>\n",
       "      <td>Warriors</td>\n",
       "      <td>103</td>\n",
       "      <td>1790.9591</td>\n",
       "      <td>1809.9791</td>\n",
       "      <td>H</td>\n",
       "      <td>L</td>\n",
       "      <td>0.546572</td>\n",
       "      <td>NaN</td>\n",
       "      <td>2015-06-11</td>\n",
       "    </tr>\n",
       "    <tr>\n",
       "      <th>126310</th>\n",
       "      <td>63156</td>\n",
       "      <td>201506140GSW</td>\n",
       "      <td>NBA</td>\n",
       "      <td>0</td>\n",
       "      <td>2015</td>\n",
       "      <td>6/14/2015</td>\n",
       "      <td>102</td>\n",
       "      <td>1</td>\n",
       "      <td>GSW</td>\n",
       "      <td>Warriors</td>\n",
       "      <td>104</td>\n",
       "      <td>...</td>\n",
       "      <td>68.013329</td>\n",
       "      <td>CLE</td>\n",
       "      <td>Cavaliers</td>\n",
       "      <td>91</td>\n",
       "      <td>1704.3949</td>\n",
       "      <td>1700.7391</td>\n",
       "      <td>H</td>\n",
       "      <td>W</td>\n",
       "      <td>0.765565</td>\n",
       "      <td>NaN</td>\n",
       "      <td>2015-06-14</td>\n",
       "    </tr>\n",
       "    <tr>\n",
       "      <th>126311</th>\n",
       "      <td>63156</td>\n",
       "      <td>201506140GSW</td>\n",
       "      <td>NBA</td>\n",
       "      <td>1</td>\n",
       "      <td>2015</td>\n",
       "      <td>6/14/2015</td>\n",
       "      <td>101</td>\n",
       "      <td>1</td>\n",
       "      <td>CLE</td>\n",
       "      <td>Cavaliers</td>\n",
       "      <td>91</td>\n",
       "      <td>...</td>\n",
       "      <td>60.010067</td>\n",
       "      <td>GSW</td>\n",
       "      <td>Warriors</td>\n",
       "      <td>104</td>\n",
       "      <td>1809.9791</td>\n",
       "      <td>1813.6349</td>\n",
       "      <td>A</td>\n",
       "      <td>L</td>\n",
       "      <td>0.234435</td>\n",
       "      <td>NaN</td>\n",
       "      <td>2015-06-14</td>\n",
       "    </tr>\n",
       "    <tr>\n",
       "      <th>126312</th>\n",
       "      <td>63157</td>\n",
       "      <td>201506170CLE</td>\n",
       "      <td>NBA</td>\n",
       "      <td>0</td>\n",
       "      <td>2015</td>\n",
       "      <td>6/16/2015</td>\n",
       "      <td>102</td>\n",
       "      <td>1</td>\n",
       "      <td>CLE</td>\n",
       "      <td>Cavaliers</td>\n",
       "      <td>97</td>\n",
       "      <td>...</td>\n",
       "      <td>59.290245</td>\n",
       "      <td>GSW</td>\n",
       "      <td>Warriors</td>\n",
       "      <td>105</td>\n",
       "      <td>1813.6349</td>\n",
       "      <td>1822.2881</td>\n",
       "      <td>H</td>\n",
       "      <td>L</td>\n",
       "      <td>0.481450</td>\n",
       "      <td>NaN</td>\n",
       "      <td>2015-06-16</td>\n",
       "    </tr>\n",
       "    <tr>\n",
       "      <th>126313</th>\n",
       "      <td>63157</td>\n",
       "      <td>201506170CLE</td>\n",
       "      <td>NBA</td>\n",
       "      <td>1</td>\n",
       "      <td>2015</td>\n",
       "      <td>6/16/2015</td>\n",
       "      <td>103</td>\n",
       "      <td>1</td>\n",
       "      <td>GSW</td>\n",
       "      <td>Warriors</td>\n",
       "      <td>105</td>\n",
       "      <td>...</td>\n",
       "      <td>68.519516</td>\n",
       "      <td>CLE</td>\n",
       "      <td>Cavaliers</td>\n",
       "      <td>97</td>\n",
       "      <td>1700.7391</td>\n",
       "      <td>1692.0859</td>\n",
       "      <td>A</td>\n",
       "      <td>W</td>\n",
       "      <td>0.518550</td>\n",
       "      <td>NaN</td>\n",
       "      <td>2015-06-16</td>\n",
       "    </tr>\n",
       "  </tbody>\n",
       "</table>\n",
       "<p>126314 rows × 24 columns</p>\n",
       "</div>"
      ],
      "text/plain": [
       "        gameorder       game_id lg_id  _iscopy  year_id  date_game  \\\n",
       "0               1  194611010TRH   NBA        0     1947  11/1/1946   \n",
       "1               1  194611010TRH   NBA        1     1947  11/1/1946   \n",
       "2               2  194611020CHS   NBA        0     1947  11/2/1946   \n",
       "3               2  194611020CHS   NBA        1     1947  11/2/1946   \n",
       "4               3  194611020DTF   NBA        0     1947  11/2/1946   \n",
       "...           ...           ...   ...      ...      ...        ...   \n",
       "126309      63155  201506110CLE   NBA        0     2015  6/11/2015   \n",
       "126310      63156  201506140GSW   NBA        0     2015  6/14/2015   \n",
       "126311      63156  201506140GSW   NBA        1     2015  6/14/2015   \n",
       "126312      63157  201506170CLE   NBA        0     2015  6/16/2015   \n",
       "126313      63157  201506170CLE   NBA        1     2015  6/16/2015   \n",
       "\n",
       "        seasongame  is_playoffs team_id    fran_id  pts  ...  win_equiv  \\\n",
       "0                1            0     TRH    Huskies   66  ...  40.294830   \n",
       "1                1            0     NYK     Knicks   68  ...  41.705170   \n",
       "2                1            0     CHS      Stags   63  ...  42.012257   \n",
       "3                2            0     NYK     Knicks   47  ...  40.692783   \n",
       "4                1            0     DTF    Falcons   33  ...  38.864048   \n",
       "...            ...          ...     ...        ...  ...  ...        ...   \n",
       "126309         100            1     CLE  Cavaliers   82  ...  60.309792   \n",
       "126310         102            1     GSW   Warriors  104  ...  68.013329   \n",
       "126311         101            1     CLE  Cavaliers   91  ...  60.010067   \n",
       "126312         102            1     CLE  Cavaliers   97  ...  59.290245   \n",
       "126313         103            1     GSW   Warriors  105  ...  68.519516   \n",
       "\n",
       "        opp_id   opp_fran opp_pts  opp_elo_i  opp_elo_n  game_location  \\\n",
       "0          NYK     Knicks      68  1300.0000  1306.7233              H   \n",
       "1          TRH    Huskies      66  1300.0000  1293.2767              A   \n",
       "2          NYK     Knicks      47  1306.7233  1297.0712              H   \n",
       "3          CHS      Stags      63  1300.0000  1309.6521              A   \n",
       "4          WSC   Capitols      50  1300.0000  1320.3811              H   \n",
       "...        ...        ...     ...        ...        ...            ...   \n",
       "126309     GSW   Warriors     103  1790.9591  1809.9791              H   \n",
       "126310     CLE  Cavaliers      91  1704.3949  1700.7391              H   \n",
       "126311     GSW   Warriors     104  1809.9791  1813.6349              A   \n",
       "126312     GSW   Warriors     105  1813.6349  1822.2881              H   \n",
       "126313     CLE  Cavaliers      97  1700.7391  1692.0859              A   \n",
       "\n",
       "        game_result  forecast notes  date_played  \n",
       "0                 L  0.640065   NaN   1946-11-01  \n",
       "1                 W  0.359935   NaN   1946-11-01  \n",
       "2                 W  0.631101   NaN   1946-11-02  \n",
       "3                 L  0.368899   NaN   1946-11-02  \n",
       "4                 L  0.640065   NaN   1946-11-02  \n",
       "...             ...       ...   ...          ...  \n",
       "126309            L  0.546572   NaN   2015-06-11  \n",
       "126310            W  0.765565   NaN   2015-06-14  \n",
       "126311            L  0.234435   NaN   2015-06-14  \n",
       "126312            L  0.481450   NaN   2015-06-16  \n",
       "126313            W  0.518550   NaN   2015-06-16  \n",
       "\n",
       "[126314 rows x 24 columns]"
      ]
     },
     "execution_count": 236,
     "metadata": {},
     "output_type": "execute_result"
    }
   ],
   "source": [
    "df"
   ]
  },
  {
   "cell_type": "code",
   "execution_count": 237,
   "id": "5c688427",
   "metadata": {},
   "outputs": [],
   "source": [
    "# (.copy()) untuk menyalin dataset df kedalam varibel nba\n",
    "nba = df.copy()"
   ]
  },
  {
   "cell_type": "code",
   "execution_count": 240,
   "id": "b114c3d3",
   "metadata": {},
   "outputs": [
    {
     "data": {
      "text/plain": [
       "0         -2\n",
       "1          2\n",
       "2         16\n",
       "3        -16\n",
       "4        -17\n",
       "          ..\n",
       "126309   -21\n",
       "126310    13\n",
       "126311   -13\n",
       "126312    -8\n",
       "126313     8\n",
       "Length: 126314, dtype: int64"
      ]
     },
     "execution_count": 240,
     "metadata": {},
     "output_type": "execute_result"
    }
   ],
   "source": [
    "# perintah ini menampilkan jumlah poin dikurang dengan poin lawan\n",
    "nba['pts'] - nba['opp_pts']"
   ]
  },
  {
   "cell_type": "code",
   "execution_count": 241,
   "id": "91841ebe",
   "metadata": {},
   "outputs": [
    {
     "data": {
      "text/plain": [
       "0         -2\n",
       "1          2\n",
       "2         16\n",
       "3        -16\n",
       "4        -17\n",
       "          ..\n",
       "126309   -21\n",
       "126310    13\n",
       "126311   -13\n",
       "126312    -8\n",
       "126313     8\n",
       "Length: 126314, dtype: int64"
      ]
     },
     "execution_count": 241,
     "metadata": {},
     "output_type": "execute_result"
    }
   ],
   "source": [
    "df.pts - df.opp_pts"
   ]
  },
  {
   "cell_type": "code",
   "execution_count": 243,
   "id": "a25d1658",
   "metadata": {},
   "outputs": [
    {
     "data": {
      "text/html": [
       "<div>\n",
       "<style scoped>\n",
       "    .dataframe tbody tr th:only-of-type {\n",
       "        vertical-align: middle;\n",
       "    }\n",
       "\n",
       "    .dataframe tbody tr th {\n",
       "        vertical-align: top;\n",
       "    }\n",
       "\n",
       "    .dataframe thead th {\n",
       "        text-align: right;\n",
       "    }\n",
       "</style>\n",
       "<table border=\"1\" class=\"dataframe\">\n",
       "  <thead>\n",
       "    <tr style=\"text-align: right;\">\n",
       "      <th></th>\n",
       "      <th>gameorder</th>\n",
       "      <th>game_id</th>\n",
       "      <th>lg_id</th>\n",
       "      <th>_iscopy</th>\n",
       "      <th>year_id</th>\n",
       "      <th>date_game</th>\n",
       "      <th>seasongame</th>\n",
       "      <th>is_playoffs</th>\n",
       "      <th>team_id</th>\n",
       "      <th>fran_id</th>\n",
       "      <th>pts</th>\n",
       "      <th>...</th>\n",
       "      <th>opp_id</th>\n",
       "      <th>opp_fran</th>\n",
       "      <th>opp_pts</th>\n",
       "      <th>opp_elo_i</th>\n",
       "      <th>opp_elo_n</th>\n",
       "      <th>game_location</th>\n",
       "      <th>game_result</th>\n",
       "      <th>forecast</th>\n",
       "      <th>notes</th>\n",
       "      <th>date_played</th>\n",
       "      <th>difference</th>\n",
       "    </tr>\n",
       "  </thead>\n",
       "  <tbody>\n",
       "    <tr>\n",
       "      <th>0</th>\n",
       "      <td>1</td>\n",
       "      <td>194611010TRH</td>\n",
       "      <td>NBA</td>\n",
       "      <td>0</td>\n",
       "      <td>1947</td>\n",
       "      <td>11/1/1946</td>\n",
       "      <td>1</td>\n",
       "      <td>0</td>\n",
       "      <td>TRH</td>\n",
       "      <td>Huskies</td>\n",
       "      <td>66</td>\n",
       "      <td>...</td>\n",
       "      <td>NYK</td>\n",
       "      <td>Knicks</td>\n",
       "      <td>68</td>\n",
       "      <td>1300.0000</td>\n",
       "      <td>1306.7233</td>\n",
       "      <td>H</td>\n",
       "      <td>L</td>\n",
       "      <td>0.640065</td>\n",
       "      <td>NaN</td>\n",
       "      <td>1946-11-01</td>\n",
       "      <td>-2</td>\n",
       "    </tr>\n",
       "    <tr>\n",
       "      <th>1</th>\n",
       "      <td>1</td>\n",
       "      <td>194611010TRH</td>\n",
       "      <td>NBA</td>\n",
       "      <td>1</td>\n",
       "      <td>1947</td>\n",
       "      <td>11/1/1946</td>\n",
       "      <td>1</td>\n",
       "      <td>0</td>\n",
       "      <td>NYK</td>\n",
       "      <td>Knicks</td>\n",
       "      <td>68</td>\n",
       "      <td>...</td>\n",
       "      <td>TRH</td>\n",
       "      <td>Huskies</td>\n",
       "      <td>66</td>\n",
       "      <td>1300.0000</td>\n",
       "      <td>1293.2767</td>\n",
       "      <td>A</td>\n",
       "      <td>W</td>\n",
       "      <td>0.359935</td>\n",
       "      <td>NaN</td>\n",
       "      <td>1946-11-01</td>\n",
       "      <td>2</td>\n",
       "    </tr>\n",
       "    <tr>\n",
       "      <th>2</th>\n",
       "      <td>2</td>\n",
       "      <td>194611020CHS</td>\n",
       "      <td>NBA</td>\n",
       "      <td>0</td>\n",
       "      <td>1947</td>\n",
       "      <td>11/2/1946</td>\n",
       "      <td>1</td>\n",
       "      <td>0</td>\n",
       "      <td>CHS</td>\n",
       "      <td>Stags</td>\n",
       "      <td>63</td>\n",
       "      <td>...</td>\n",
       "      <td>NYK</td>\n",
       "      <td>Knicks</td>\n",
       "      <td>47</td>\n",
       "      <td>1306.7233</td>\n",
       "      <td>1297.0712</td>\n",
       "      <td>H</td>\n",
       "      <td>W</td>\n",
       "      <td>0.631101</td>\n",
       "      <td>NaN</td>\n",
       "      <td>1946-11-02</td>\n",
       "      <td>16</td>\n",
       "    </tr>\n",
       "    <tr>\n",
       "      <th>3</th>\n",
       "      <td>2</td>\n",
       "      <td>194611020CHS</td>\n",
       "      <td>NBA</td>\n",
       "      <td>1</td>\n",
       "      <td>1947</td>\n",
       "      <td>11/2/1946</td>\n",
       "      <td>2</td>\n",
       "      <td>0</td>\n",
       "      <td>NYK</td>\n",
       "      <td>Knicks</td>\n",
       "      <td>47</td>\n",
       "      <td>...</td>\n",
       "      <td>CHS</td>\n",
       "      <td>Stags</td>\n",
       "      <td>63</td>\n",
       "      <td>1300.0000</td>\n",
       "      <td>1309.6521</td>\n",
       "      <td>A</td>\n",
       "      <td>L</td>\n",
       "      <td>0.368899</td>\n",
       "      <td>NaN</td>\n",
       "      <td>1946-11-02</td>\n",
       "      <td>-16</td>\n",
       "    </tr>\n",
       "    <tr>\n",
       "      <th>4</th>\n",
       "      <td>3</td>\n",
       "      <td>194611020DTF</td>\n",
       "      <td>NBA</td>\n",
       "      <td>0</td>\n",
       "      <td>1947</td>\n",
       "      <td>11/2/1946</td>\n",
       "      <td>1</td>\n",
       "      <td>0</td>\n",
       "      <td>DTF</td>\n",
       "      <td>Falcons</td>\n",
       "      <td>33</td>\n",
       "      <td>...</td>\n",
       "      <td>WSC</td>\n",
       "      <td>Capitols</td>\n",
       "      <td>50</td>\n",
       "      <td>1300.0000</td>\n",
       "      <td>1320.3811</td>\n",
       "      <td>H</td>\n",
       "      <td>L</td>\n",
       "      <td>0.640065</td>\n",
       "      <td>NaN</td>\n",
       "      <td>1946-11-02</td>\n",
       "      <td>-17</td>\n",
       "    </tr>\n",
       "  </tbody>\n",
       "</table>\n",
       "<p>5 rows × 25 columns</p>\n",
       "</div>"
      ],
      "text/plain": [
       "   gameorder       game_id lg_id  _iscopy  year_id  date_game  seasongame  \\\n",
       "0          1  194611010TRH   NBA        0     1947  11/1/1946           1   \n",
       "1          1  194611010TRH   NBA        1     1947  11/1/1946           1   \n",
       "2          2  194611020CHS   NBA        0     1947  11/2/1946           1   \n",
       "3          2  194611020CHS   NBA        1     1947  11/2/1946           2   \n",
       "4          3  194611020DTF   NBA        0     1947  11/2/1946           1   \n",
       "\n",
       "   is_playoffs team_id  fran_id  pts  ...  opp_id  opp_fran  opp_pts  \\\n",
       "0            0     TRH  Huskies   66  ...     NYK    Knicks       68   \n",
       "1            0     NYK   Knicks   68  ...     TRH   Huskies       66   \n",
       "2            0     CHS    Stags   63  ...     NYK    Knicks       47   \n",
       "3            0     NYK   Knicks   47  ...     CHS     Stags       63   \n",
       "4            0     DTF  Falcons   33  ...     WSC  Capitols       50   \n",
       "\n",
       "   opp_elo_i  opp_elo_n  game_location  game_result  forecast notes  \\\n",
       "0  1300.0000  1306.7233              H            L  0.640065   NaN   \n",
       "1  1300.0000  1293.2767              A            W  0.359935   NaN   \n",
       "2  1306.7233  1297.0712              H            W  0.631101   NaN   \n",
       "3  1300.0000  1309.6521              A            L  0.368899   NaN   \n",
       "4  1300.0000  1320.3811              H            L  0.640065   NaN   \n",
       "\n",
       "  date_played  difference  \n",
       "0  1946-11-01          -2  \n",
       "1  1946-11-01           2  \n",
       "2  1946-11-02          16  \n",
       "3  1946-11-02         -16  \n",
       "4  1946-11-02         -17  \n",
       "\n",
       "[5 rows x 25 columns]"
      ]
     },
     "execution_count": 243,
     "metadata": {},
     "output_type": "execute_result"
    }
   ],
   "source": [
    "# perintah ini untuk menggabungkan nilai selisih dari score poin kedalam atribut kolom \"defference\"\n",
    "nba[\"difference\"] = df.pts - df.opp_pts\n",
    "nba.head()"
   ]
  },
  {
   "cell_type": "markdown",
   "id": "358a2ed4",
   "metadata": {},
   "source": [
    ">Di sini, kalian menggunakan kolom ```\"pts\"``` dan ```\"opp_pts\"``` untuk membuat kolom baru yang disebut \"difference\". Kolom baru ini memiliki fungsi yang sama dengan yang lama:"
   ]
  },
  {
   "cell_type": "code",
   "execution_count": 244,
   "id": "16e2cb60",
   "metadata": {},
   "outputs": [
    {
     "data": {
      "text/plain": [
       "68"
      ]
     },
     "execution_count": 244,
     "metadata": {},
     "output_type": "execute_result"
    }
   ],
   "source": [
    "nba['difference'].max() ## nilai skore poin tertinggiperbedaan point "
   ]
  },
  {
   "cell_type": "code",
   "execution_count": 245,
   "id": "28b10ae4",
   "metadata": {},
   "outputs": [
    {
     "data": {
      "text/plain": [
       "0           0.0000\n",
       "1           0.0000\n",
       "2          -6.7233\n",
       "3           6.7233\n",
       "4           0.0000\n",
       "            ...   \n",
       "126309    -67.5442\n",
       "126310    105.5842\n",
       "126311   -105.5842\n",
       "126312   -112.8958\n",
       "126313    112.8958\n",
       "Length: 126314, dtype: float64"
      ]
     },
     "execution_count": 245,
     "metadata": {},
     "output_type": "execute_result"
    }
   ],
   "source": [
    " df.elo_i - df.opp_elo_i"
   ]
  },
  {
   "cell_type": "code",
   "execution_count": 249,
   "id": "58451012",
   "metadata": {},
   "outputs": [
    {
     "data": {
      "text/html": [
       "<div>\n",
       "<style scoped>\n",
       "    .dataframe tbody tr th:only-of-type {\n",
       "        vertical-align: middle;\n",
       "    }\n",
       "\n",
       "    .dataframe tbody tr th {\n",
       "        vertical-align: top;\n",
       "    }\n",
       "\n",
       "    .dataframe thead th {\n",
       "        text-align: right;\n",
       "    }\n",
       "</style>\n",
       "<table border=\"1\" class=\"dataframe\">\n",
       "  <thead>\n",
       "    <tr style=\"text-align: right;\">\n",
       "      <th></th>\n",
       "      <th>gameorder</th>\n",
       "      <th>game_id</th>\n",
       "      <th>lg_id</th>\n",
       "      <th>_iscopy</th>\n",
       "      <th>year_id</th>\n",
       "      <th>date_game</th>\n",
       "      <th>seasongame</th>\n",
       "      <th>is_playoffs</th>\n",
       "      <th>team_id</th>\n",
       "      <th>fran_id</th>\n",
       "      <th>pts</th>\n",
       "      <th>...</th>\n",
       "      <th>opp_fran</th>\n",
       "      <th>opp_pts</th>\n",
       "      <th>opp_elo_i</th>\n",
       "      <th>opp_elo_n</th>\n",
       "      <th>game_location</th>\n",
       "      <th>game_result</th>\n",
       "      <th>forecast</th>\n",
       "      <th>notes</th>\n",
       "      <th>date_played</th>\n",
       "      <th>difference</th>\n",
       "      <th>elo_difference</th>\n",
       "    </tr>\n",
       "  </thead>\n",
       "  <tbody>\n",
       "    <tr>\n",
       "      <th>0</th>\n",
       "      <td>1</td>\n",
       "      <td>194611010TRH</td>\n",
       "      <td>NBA</td>\n",
       "      <td>0</td>\n",
       "      <td>1947</td>\n",
       "      <td>11/1/1946</td>\n",
       "      <td>1</td>\n",
       "      <td>0</td>\n",
       "      <td>TRH</td>\n",
       "      <td>Huskies</td>\n",
       "      <td>66</td>\n",
       "      <td>...</td>\n",
       "      <td>Knicks</td>\n",
       "      <td>68</td>\n",
       "      <td>1300.0000</td>\n",
       "      <td>1306.7233</td>\n",
       "      <td>H</td>\n",
       "      <td>L</td>\n",
       "      <td>0.640065</td>\n",
       "      <td>NaN</td>\n",
       "      <td>1946-11-01</td>\n",
       "      <td>-2</td>\n",
       "      <td>0.0000</td>\n",
       "    </tr>\n",
       "    <tr>\n",
       "      <th>1</th>\n",
       "      <td>1</td>\n",
       "      <td>194611010TRH</td>\n",
       "      <td>NBA</td>\n",
       "      <td>1</td>\n",
       "      <td>1947</td>\n",
       "      <td>11/1/1946</td>\n",
       "      <td>1</td>\n",
       "      <td>0</td>\n",
       "      <td>NYK</td>\n",
       "      <td>Knicks</td>\n",
       "      <td>68</td>\n",
       "      <td>...</td>\n",
       "      <td>Huskies</td>\n",
       "      <td>66</td>\n",
       "      <td>1300.0000</td>\n",
       "      <td>1293.2767</td>\n",
       "      <td>A</td>\n",
       "      <td>W</td>\n",
       "      <td>0.359935</td>\n",
       "      <td>NaN</td>\n",
       "      <td>1946-11-01</td>\n",
       "      <td>2</td>\n",
       "      <td>0.0000</td>\n",
       "    </tr>\n",
       "    <tr>\n",
       "      <th>2</th>\n",
       "      <td>2</td>\n",
       "      <td>194611020CHS</td>\n",
       "      <td>NBA</td>\n",
       "      <td>0</td>\n",
       "      <td>1947</td>\n",
       "      <td>11/2/1946</td>\n",
       "      <td>1</td>\n",
       "      <td>0</td>\n",
       "      <td>CHS</td>\n",
       "      <td>Stags</td>\n",
       "      <td>63</td>\n",
       "      <td>...</td>\n",
       "      <td>Knicks</td>\n",
       "      <td>47</td>\n",
       "      <td>1306.7233</td>\n",
       "      <td>1297.0712</td>\n",
       "      <td>H</td>\n",
       "      <td>W</td>\n",
       "      <td>0.631101</td>\n",
       "      <td>NaN</td>\n",
       "      <td>1946-11-02</td>\n",
       "      <td>16</td>\n",
       "      <td>-6.7233</td>\n",
       "    </tr>\n",
       "    <tr>\n",
       "      <th>3</th>\n",
       "      <td>2</td>\n",
       "      <td>194611020CHS</td>\n",
       "      <td>NBA</td>\n",
       "      <td>1</td>\n",
       "      <td>1947</td>\n",
       "      <td>11/2/1946</td>\n",
       "      <td>2</td>\n",
       "      <td>0</td>\n",
       "      <td>NYK</td>\n",
       "      <td>Knicks</td>\n",
       "      <td>47</td>\n",
       "      <td>...</td>\n",
       "      <td>Stags</td>\n",
       "      <td>63</td>\n",
       "      <td>1300.0000</td>\n",
       "      <td>1309.6521</td>\n",
       "      <td>A</td>\n",
       "      <td>L</td>\n",
       "      <td>0.368899</td>\n",
       "      <td>NaN</td>\n",
       "      <td>1946-11-02</td>\n",
       "      <td>-16</td>\n",
       "      <td>6.7233</td>\n",
       "    </tr>\n",
       "    <tr>\n",
       "      <th>4</th>\n",
       "      <td>3</td>\n",
       "      <td>194611020DTF</td>\n",
       "      <td>NBA</td>\n",
       "      <td>0</td>\n",
       "      <td>1947</td>\n",
       "      <td>11/2/1946</td>\n",
       "      <td>1</td>\n",
       "      <td>0</td>\n",
       "      <td>DTF</td>\n",
       "      <td>Falcons</td>\n",
       "      <td>33</td>\n",
       "      <td>...</td>\n",
       "      <td>Capitols</td>\n",
       "      <td>50</td>\n",
       "      <td>1300.0000</td>\n",
       "      <td>1320.3811</td>\n",
       "      <td>H</td>\n",
       "      <td>L</td>\n",
       "      <td>0.640065</td>\n",
       "      <td>NaN</td>\n",
       "      <td>1946-11-02</td>\n",
       "      <td>-17</td>\n",
       "      <td>0.0000</td>\n",
       "    </tr>\n",
       "  </tbody>\n",
       "</table>\n",
       "<p>5 rows × 26 columns</p>\n",
       "</div>"
      ],
      "text/plain": [
       "   gameorder       game_id lg_id  _iscopy  year_id  date_game  seasongame  \\\n",
       "0          1  194611010TRH   NBA        0     1947  11/1/1946           1   \n",
       "1          1  194611010TRH   NBA        1     1947  11/1/1946           1   \n",
       "2          2  194611020CHS   NBA        0     1947  11/2/1946           1   \n",
       "3          2  194611020CHS   NBA        1     1947  11/2/1946           2   \n",
       "4          3  194611020DTF   NBA        0     1947  11/2/1946           1   \n",
       "\n",
       "   is_playoffs team_id  fran_id  pts  ...  opp_fran  opp_pts  opp_elo_i  \\\n",
       "0            0     TRH  Huskies   66  ...    Knicks       68  1300.0000   \n",
       "1            0     NYK   Knicks   68  ...   Huskies       66  1300.0000   \n",
       "2            0     CHS    Stags   63  ...    Knicks       47  1306.7233   \n",
       "3            0     NYK   Knicks   47  ...     Stags       63  1300.0000   \n",
       "4            0     DTF  Falcons   33  ...  Capitols       50  1300.0000   \n",
       "\n",
       "   opp_elo_n game_location  game_result  forecast  notes date_played  \\\n",
       "0  1306.7233             H            L  0.640065    NaN  1946-11-01   \n",
       "1  1293.2767             A            W  0.359935    NaN  1946-11-01   \n",
       "2  1297.0712             H            W  0.631101    NaN  1946-11-02   \n",
       "3  1309.6521             A            L  0.368899    NaN  1946-11-02   \n",
       "4  1320.3811             H            L  0.640065    NaN  1946-11-02   \n",
       "\n",
       "  difference  elo_difference  \n",
       "0         -2          0.0000  \n",
       "1          2          0.0000  \n",
       "2         16         -6.7233  \n",
       "3        -16          6.7233  \n",
       "4        -17          0.0000  \n",
       "\n",
       "[5 rows x 26 columns]"
      ]
     },
     "execution_count": 249,
     "metadata": {},
     "output_type": "execute_result"
    }
   ],
   "source": [
    "# perintah ini untuk menyimpan nilai selisih tim memasuki pertandingan\n",
    "nba[\"elo_difference\"] =df.elo_i - df.opp_elo_i\n",
    "nba.head()"
   ]
  },
  {
   "cell_type": "code",
   "execution_count": 257,
   "id": "d671c408",
   "metadata": {},
   "outputs": [
    {
     "data": {
      "text/plain": [
       "572.1608999999999"
      ]
     },
     "execution_count": 257,
     "metadata": {},
     "output_type": "execute_result"
    }
   ],
   "source": [
    "# (.round(range)) untuk membulatkan bilangan berkoma (desimal)\n",
    "nba[\"elo_difference\"].max().round(2)"
   ]
  },
  {
   "cell_type": "code",
   "execution_count": 260,
   "id": "efc153ce",
   "metadata": {},
   "outputs": [
    {
     "name": "stdout",
     "output_type": "stream",
     "text": [
      "23539\n"
     ]
    },
    {
     "data": {
      "text/plain": [
       "gameorder                       11770\n",
       "game_id                  197103040MIL\n",
       "lg_id                             NBA\n",
       "_iscopy                             0\n",
       "year_id                          1971\n",
       "date_game                    3/4/1971\n",
       "seasongame                         74\n",
       "is_playoffs                         0\n",
       "team_id                           MIL\n",
       "fran_id                         Bucks\n",
       "pts                               116\n",
       "elo_i                       1751.4414\n",
       "elo_n                       1751.5901\n",
       "win_equiv                   68.131248\n",
       "opp_id                            BUF\n",
       "opp_fran                     Clippers\n",
       "opp_pts                           113\n",
       "opp_elo_i                   1179.2805\n",
       "opp_elo_n                   1179.1318\n",
       "game_location                       H\n",
       "game_result                         W\n",
       "forecast                     0.979553\n",
       "notes                             NaN\n",
       "date_played       1971-03-04 00:00:00\n",
       "difference                          3\n",
       "elo_difference               572.1609\n",
       "Name: 23539, dtype: object"
      ]
     },
     "execution_count": 260,
     "metadata": {},
     "output_type": "execute_result"
    }
   ],
   "source": [
    "# (.argmax()) untuk mendapatkan index dari nilai minimum dan maksimum\n",
    "# perintah ini untuk mengembalikan index value terbesar dari atribut elo_difference\n",
    "print(nba[\"elo_difference\"].argmax())\n",
    "#nba[\"elo_difference\"].argmin()\n",
    "# perintah ini untuk mengembalikan index value terbesar dari indexing atribut elo_difference\n",
    "nba.iloc[nba[\"elo_difference\"].argmax()]"
   ]
  },
  {
   "cell_type": "code",
   "execution_count": 261,
   "id": "703e0300",
   "metadata": {},
   "outputs": [
    {
     "data": {
      "text/plain": [
       "gameorder                       33617\n",
       "game_id                  199112170CLE\n",
       "lg_id                             NBA\n",
       "_iscopy                             0\n",
       "year_id                          1992\n",
       "date_game                  12/17/1991\n",
       "seasongame                         21\n",
       "is_playoffs                         0\n",
       "team_id                           CLE\n",
       "fran_id                     Cavaliers\n",
       "pts                               148\n",
       "elo_i                       1510.3507\n",
       "elo_n                       1527.7137\n",
       "win_equiv                    44.97451\n",
       "opp_id                            MIA\n",
       "opp_fran                         Heat\n",
       "opp_pts                            80\n",
       "opp_elo_i                   1417.8585\n",
       "opp_elo_n                   1400.4955\n",
       "game_location                       H\n",
       "game_result                         W\n",
       "forecast                      0.75177\n",
       "notes                             NaN\n",
       "date_played       1991-12-17 00:00:00\n",
       "difference                         68\n",
       "elo_difference                92.4922\n",
       "Name: 67232, dtype: object"
      ]
     },
     "execution_count": 261,
     "metadata": {},
     "output_type": "execute_result"
    }
   ],
   "source": [
    "# perintah ini untuk mengembalikan index value terbesar dari indexing atribut difference\n",
    "nba.iloc[nba['difference'].argmax()]"
   ]
  },
  {
   "cell_type": "markdown",
   "id": "15d7bb4a",
   "metadata": {},
   "source": [
    ">Di sini, kalian menggunakan fungsi agregasi *```.max()```* untuk menemukan nilai terbesar kolom baru kalian.\n",
    "\n",
    "Kalian juga dapat mengganti nama kolom set data kalian. Tampaknya *\"game_result\"* dan *\"game_location\"* terlalu panjang, jadi ganti namanya:"
   ]
  },
  {
   "cell_type": "code",
   "execution_count": 262,
   "id": "074a2df9",
   "metadata": {},
   "outputs": [
    {
     "data": {
      "text/html": [
       "<div>\n",
       "<style scoped>\n",
       "    .dataframe tbody tr th:only-of-type {\n",
       "        vertical-align: middle;\n",
       "    }\n",
       "\n",
       "    .dataframe tbody tr th {\n",
       "        vertical-align: top;\n",
       "    }\n",
       "\n",
       "    .dataframe thead th {\n",
       "        text-align: right;\n",
       "    }\n",
       "</style>\n",
       "<table border=\"1\" class=\"dataframe\">\n",
       "  <thead>\n",
       "    <tr style=\"text-align: right;\">\n",
       "      <th></th>\n",
       "      <th>gameorder</th>\n",
       "      <th>game_id</th>\n",
       "      <th>lg_id</th>\n",
       "      <th>_iscopy</th>\n",
       "      <th>year_id</th>\n",
       "      <th>date_game</th>\n",
       "      <th>seasongame</th>\n",
       "      <th>is_playoffs</th>\n",
       "      <th>team_id</th>\n",
       "      <th>fran_id</th>\n",
       "      <th>pts</th>\n",
       "      <th>...</th>\n",
       "      <th>opp_fran</th>\n",
       "      <th>opp_pts</th>\n",
       "      <th>opp_elo_i</th>\n",
       "      <th>opp_elo_n</th>\n",
       "      <th>location</th>\n",
       "      <th>result</th>\n",
       "      <th>forecast</th>\n",
       "      <th>notes</th>\n",
       "      <th>date_played</th>\n",
       "      <th>difference</th>\n",
       "      <th>elo_difference</th>\n",
       "    </tr>\n",
       "  </thead>\n",
       "  <tbody>\n",
       "    <tr>\n",
       "      <th>0</th>\n",
       "      <td>1</td>\n",
       "      <td>194611010TRH</td>\n",
       "      <td>NBA</td>\n",
       "      <td>0</td>\n",
       "      <td>1947</td>\n",
       "      <td>11/1/1946</td>\n",
       "      <td>1</td>\n",
       "      <td>0</td>\n",
       "      <td>TRH</td>\n",
       "      <td>Huskies</td>\n",
       "      <td>66</td>\n",
       "      <td>...</td>\n",
       "      <td>Knicks</td>\n",
       "      <td>68</td>\n",
       "      <td>1300.0000</td>\n",
       "      <td>1306.7233</td>\n",
       "      <td>H</td>\n",
       "      <td>L</td>\n",
       "      <td>0.640065</td>\n",
       "      <td>NaN</td>\n",
       "      <td>1946-11-01</td>\n",
       "      <td>-2</td>\n",
       "      <td>0.0000</td>\n",
       "    </tr>\n",
       "    <tr>\n",
       "      <th>1</th>\n",
       "      <td>1</td>\n",
       "      <td>194611010TRH</td>\n",
       "      <td>NBA</td>\n",
       "      <td>1</td>\n",
       "      <td>1947</td>\n",
       "      <td>11/1/1946</td>\n",
       "      <td>1</td>\n",
       "      <td>0</td>\n",
       "      <td>NYK</td>\n",
       "      <td>Knicks</td>\n",
       "      <td>68</td>\n",
       "      <td>...</td>\n",
       "      <td>Huskies</td>\n",
       "      <td>66</td>\n",
       "      <td>1300.0000</td>\n",
       "      <td>1293.2767</td>\n",
       "      <td>A</td>\n",
       "      <td>W</td>\n",
       "      <td>0.359935</td>\n",
       "      <td>NaN</td>\n",
       "      <td>1946-11-01</td>\n",
       "      <td>2</td>\n",
       "      <td>0.0000</td>\n",
       "    </tr>\n",
       "    <tr>\n",
       "      <th>2</th>\n",
       "      <td>2</td>\n",
       "      <td>194611020CHS</td>\n",
       "      <td>NBA</td>\n",
       "      <td>0</td>\n",
       "      <td>1947</td>\n",
       "      <td>11/2/1946</td>\n",
       "      <td>1</td>\n",
       "      <td>0</td>\n",
       "      <td>CHS</td>\n",
       "      <td>Stags</td>\n",
       "      <td>63</td>\n",
       "      <td>...</td>\n",
       "      <td>Knicks</td>\n",
       "      <td>47</td>\n",
       "      <td>1306.7233</td>\n",
       "      <td>1297.0712</td>\n",
       "      <td>H</td>\n",
       "      <td>W</td>\n",
       "      <td>0.631101</td>\n",
       "      <td>NaN</td>\n",
       "      <td>1946-11-02</td>\n",
       "      <td>16</td>\n",
       "      <td>-6.7233</td>\n",
       "    </tr>\n",
       "    <tr>\n",
       "      <th>3</th>\n",
       "      <td>2</td>\n",
       "      <td>194611020CHS</td>\n",
       "      <td>NBA</td>\n",
       "      <td>1</td>\n",
       "      <td>1947</td>\n",
       "      <td>11/2/1946</td>\n",
       "      <td>2</td>\n",
       "      <td>0</td>\n",
       "      <td>NYK</td>\n",
       "      <td>Knicks</td>\n",
       "      <td>47</td>\n",
       "      <td>...</td>\n",
       "      <td>Stags</td>\n",
       "      <td>63</td>\n",
       "      <td>1300.0000</td>\n",
       "      <td>1309.6521</td>\n",
       "      <td>A</td>\n",
       "      <td>L</td>\n",
       "      <td>0.368899</td>\n",
       "      <td>NaN</td>\n",
       "      <td>1946-11-02</td>\n",
       "      <td>-16</td>\n",
       "      <td>6.7233</td>\n",
       "    </tr>\n",
       "    <tr>\n",
       "      <th>4</th>\n",
       "      <td>3</td>\n",
       "      <td>194611020DTF</td>\n",
       "      <td>NBA</td>\n",
       "      <td>0</td>\n",
       "      <td>1947</td>\n",
       "      <td>11/2/1946</td>\n",
       "      <td>1</td>\n",
       "      <td>0</td>\n",
       "      <td>DTF</td>\n",
       "      <td>Falcons</td>\n",
       "      <td>33</td>\n",
       "      <td>...</td>\n",
       "      <td>Capitols</td>\n",
       "      <td>50</td>\n",
       "      <td>1300.0000</td>\n",
       "      <td>1320.3811</td>\n",
       "      <td>H</td>\n",
       "      <td>L</td>\n",
       "      <td>0.640065</td>\n",
       "      <td>NaN</td>\n",
       "      <td>1946-11-02</td>\n",
       "      <td>-17</td>\n",
       "      <td>0.0000</td>\n",
       "    </tr>\n",
       "  </tbody>\n",
       "</table>\n",
       "<p>5 rows × 26 columns</p>\n",
       "</div>"
      ],
      "text/plain": [
       "   gameorder       game_id lg_id  _iscopy  year_id  date_game  seasongame  \\\n",
       "0          1  194611010TRH   NBA        0     1947  11/1/1946           1   \n",
       "1          1  194611010TRH   NBA        1     1947  11/1/1946           1   \n",
       "2          2  194611020CHS   NBA        0     1947  11/2/1946           1   \n",
       "3          2  194611020CHS   NBA        1     1947  11/2/1946           2   \n",
       "4          3  194611020DTF   NBA        0     1947  11/2/1946           1   \n",
       "\n",
       "   is_playoffs team_id  fran_id  pts  ...  opp_fran  opp_pts  opp_elo_i  \\\n",
       "0            0     TRH  Huskies   66  ...    Knicks       68  1300.0000   \n",
       "1            0     NYK   Knicks   68  ...   Huskies       66  1300.0000   \n",
       "2            0     CHS    Stags   63  ...    Knicks       47  1306.7233   \n",
       "3            0     NYK   Knicks   47  ...     Stags       63  1300.0000   \n",
       "4            0     DTF  Falcons   33  ...  Capitols       50  1300.0000   \n",
       "\n",
       "   opp_elo_n location  result  forecast  notes date_played difference  \\\n",
       "0  1306.7233        H       L  0.640065    NaN  1946-11-01         -2   \n",
       "1  1293.2767        A       W  0.359935    NaN  1946-11-01          2   \n",
       "2  1297.0712        H       W  0.631101    NaN  1946-11-02         16   \n",
       "3  1309.6521        A       L  0.368899    NaN  1946-11-02        -16   \n",
       "4  1320.3811        H       L  0.640065    NaN  1946-11-02        -17   \n",
       "\n",
       "   elo_difference  \n",
       "0          0.0000  \n",
       "1          0.0000  \n",
       "2         -6.7233  \n",
       "3          6.7233  \n",
       "4          0.0000  \n",
       "\n",
       "[5 rows x 26 columns]"
      ]
     },
     "execution_count": 262,
     "metadata": {},
     "output_type": "execute_result"
    }
   ],
   "source": [
    "# nba = nba.rename(\n",
    "#     columns={\n",
    "#         \"game_result\": \"result\", \n",
    "#         \"game_location\": \"location\"\n",
    "#     }, \n",
    "#     inplace=True\n",
    "# )\n",
    "\n",
    "nba = nba.rename(\n",
    "    columns={\n",
    "        \"game_result\": \"result\", \n",
    "        \"game_location\": \"location\"\n",
    "    }\n",
    ")\n",
    "\n",
    "nba.head()"
   ]
  },
  {
   "cell_type": "markdown",
   "id": "6cb77030",
   "metadata": {},
   "source": [
    ">```.rename()``` secara default, mengembalikan *DataFrame* yang diperbarui, membiarkan aslinya tidak terubah. \n",
    "\n",
    ">Namun, Anda dapat memberikan argumen kata kunci inplace dan menyetelnya ke True.\n",
    "``` inplace=True ```\n",
    "\n",
    "```python\n",
    " nba = nba.rename(\n",
    "     columns={\n",
    "         \"game_result\": \"result\", \n",
    "         \"game_location\": \"location\"\n",
    "     }, \n",
    "     inplace=True\n",
    " )\n",
    "``` "
   ]
  },
  {
   "cell_type": "markdown",
   "id": "deecc243",
   "metadata": {},
   "source": [
    "Kumpulan data kalian mungkin berisi kolom yang tidak kalian butuhkan. Misalnya, *rating_Elo* mungkin merupakan konsep yang menarik bagi sebagian orang, tetapi kalian tidak akan menganalisisnya dalam sesi ini. Kalian dapat menghapus empat kolom yang terkait dengan Elo:"
   ]
  },
  {
   "cell_type": "code",
   "execution_count": null,
   "id": "7ffd321a",
   "metadata": {},
   "outputs": [],
   "source": [
    "# perintah ini untuk menggabungkan dan mengembalikan atribut elo menjadi list\n",
    "elo_columns = [\"elo_i\", \"elo_n\", \"opp_elo_i\", \"opp_elo_n\"]\n",
    "# perintah ini untuk menghapus atribut elo di dataset nba dari list elo_column\n",
    "# (.drop(range)) untuk mengahapus atribut atau yang lainnya\n",
    "nba.drop(elo_columns, inplace=True, axis=1)"
   ]
  },
  {
   "cell_type": "code",
   "execution_count": 274,
   "id": "bd4b246f",
   "metadata": {},
   "outputs": [
    {
     "name": "stdout",
     "output_type": "stream",
     "text": [
      "<class 'pandas.core.frame.DataFrame'>\n",
      "RangeIndex: 126314 entries, 0 to 126313\n",
      "Data columns (total 22 columns):\n",
      " #   Column          Non-Null Count   Dtype         \n",
      "---  ------          --------------   -----         \n",
      " 0   gameorder       126314 non-null  int64         \n",
      " 1   game_id         126314 non-null  object        \n",
      " 2   lg_id           126314 non-null  object        \n",
      " 3   _iscopy         126314 non-null  int64         \n",
      " 4   year_id         126314 non-null  int64         \n",
      " 5   date_game       126314 non-null  object        \n",
      " 6   seasongame      126314 non-null  int64         \n",
      " 7   is_playoffs     126314 non-null  int64         \n",
      " 8   team_id         126314 non-null  object        \n",
      " 9   fran_id         126314 non-null  object        \n",
      " 10  pts             126314 non-null  int64         \n",
      " 11  win_equiv       126314 non-null  float64       \n",
      " 12  opp_id          126314 non-null  object        \n",
      " 13  opp_fran        126314 non-null  object        \n",
      " 14  opp_pts         126314 non-null  int64         \n",
      " 15  location        126314 non-null  object        \n",
      " 16  result          126314 non-null  object        \n",
      " 17  forecast        126314 non-null  float64       \n",
      " 18  notes           5424 non-null    object        \n",
      " 19  date_played     126314 non-null  datetime64[ns]\n",
      " 20  difference      126314 non-null  int64         \n",
      " 21  elo_difference  126314 non-null  float64       \n",
      "dtypes: datetime64[ns](1), float64(3), int64(8), object(10)\n",
      "memory usage: 21.2+ MB\n"
     ]
    }
   ],
   "source": [
    "nba.info()"
   ]
  },
  {
   "cell_type": "markdown",
   "id": "646d8447",
   "metadata": {},
   "source": [
    "### Specifying Data Types\n",
    "Saat kalian membuat *DataFrame* baru, baik dengan memanggil konstruktor atau membaca file *```CSV```*, Pandas menetapkan tipe data ke setiap kolom berdasarkan nilainya. Meskipun pandas melakukan pekerjaan yang cukup baik, namun tidak sempurna. Jika kalian memilih jenis data yang tepat untuk kolom kalian di awal, kalian dapat meningkatkan kinerja kode kalian secara signifikan.\n",
    "\n",
    "Lihat lagi kolom dari dataset nba:"
   ]
  },
  {
   "cell_type": "code",
   "execution_count": 276,
   "id": "ce5b31dd",
   "metadata": {},
   "outputs": [
    {
     "name": "stdout",
     "output_type": "stream",
     "text": [
      "<class 'pandas.core.frame.DataFrame'>\n",
      "RangeIndex: 126314 entries, 0 to 126313\n",
      "Data columns (total 22 columns):\n",
      " #   Column          Non-Null Count   Dtype         \n",
      "---  ------          --------------   -----         \n",
      " 0   gameorder       126314 non-null  int64         \n",
      " 1   game_id         126314 non-null  object        \n",
      " 2   lg_id           126314 non-null  object        \n",
      " 3   _iscopy         126314 non-null  int64         \n",
      " 4   year_id         126314 non-null  int64         \n",
      " 5   date_game       126314 non-null  object        \n",
      " 6   seasongame      126314 non-null  int64         \n",
      " 7   is_playoffs     126314 non-null  int64         \n",
      " 8   team_id         126314 non-null  object        \n",
      " 9   fran_id         126314 non-null  object        \n",
      " 10  pts             126314 non-null  int64         \n",
      " 11  win_equiv       126314 non-null  float64       \n",
      " 12  opp_id          126314 non-null  object        \n",
      " 13  opp_fran        126314 non-null  object        \n",
      " 14  opp_pts         126314 non-null  int64         \n",
      " 15  location        126314 non-null  object        \n",
      " 16  result          126314 non-null  object        \n",
      " 17  forecast        126314 non-null  float64       \n",
      " 18  notes           5424 non-null    object        \n",
      " 19  date_played     126314 non-null  datetime64[ns]\n",
      " 20  difference      126314 non-null  int64         \n",
      " 21  elo_difference  126314 non-null  float64       \n",
      "dtypes: datetime64[ns](1), float64(3), int64(8), object(10)\n",
      "memory usage: 21.2+ MB\n"
     ]
    }
   ],
   "source": [
    "nba.info()"
   ]
  },
  {
   "cell_type": "markdown",
   "id": "55da393b",
   "metadata": {},
   "source": [
    "Sepuluh kolom kalian memiliki objek tipe data. Sebagian besar kolom objek ini berisi **teks arbitrer**, tetapi ada juga beberapa kandidat untuk dilakukan konversi tipe data. Misalnya, lihat kolom **date_game**:"
   ]
  },
  {
   "cell_type": "code",
   "execution_count": 278,
   "id": "e210b2ed",
   "metadata": {},
   "outputs": [
    {
     "name": "stdout",
     "output_type": "stream",
     "text": [
      "<class 'pandas.core.frame.DataFrame'>\n",
      "RangeIndex: 126314 entries, 0 to 126313\n",
      "Data columns (total 22 columns):\n",
      " #   Column          Non-Null Count   Dtype         \n",
      "---  ------          --------------   -----         \n",
      " 0   gameorder       126314 non-null  int64         \n",
      " 1   game_id         126314 non-null  object        \n",
      " 2   lg_id           126314 non-null  object        \n",
      " 3   _iscopy         126314 non-null  int64         \n",
      " 4   year_id         126314 non-null  int64         \n",
      " 5   date_game       126314 non-null  datetime64[ns]\n",
      " 6   seasongame      126314 non-null  int64         \n",
      " 7   is_playoffs     126314 non-null  int64         \n",
      " 8   team_id         126314 non-null  object        \n",
      " 9   fran_id         126314 non-null  object        \n",
      " 10  pts             126314 non-null  int64         \n",
      " 11  win_equiv       126314 non-null  float64       \n",
      " 12  opp_id          126314 non-null  object        \n",
      " 13  opp_fran        126314 non-null  object        \n",
      " 14  opp_pts         126314 non-null  int64         \n",
      " 15  location        126314 non-null  object        \n",
      " 16  result          126314 non-null  object        \n",
      " 17  forecast        126314 non-null  float64       \n",
      " 18  notes           5424 non-null    object        \n",
      " 19  date_played     126314 non-null  datetime64[ns]\n",
      " 20  difference      126314 non-null  int64         \n",
      " 21  elo_difference  126314 non-null  float64       \n",
      "dtypes: datetime64[ns](2), float64(3), int64(8), object(9)\n",
      "memory usage: 21.2+ MB\n"
     ]
    }
   ],
   "source": [
    "# perintah ini untuk mengkonversi atribut datgame menajadi atribut datetime\n",
    "nba[\"date_game\"] = pd.to_datetime(nba[\"date_game\"])\n",
    "nba.info()"
   ]
  },
  {
   "cell_type": "markdown",
   "id": "a74001bc",
   "metadata": {},
   "source": [
    ">Di sini, kalian menggunakan *```.to_datetime()```* untuk menetapkan semua tanggal game sebagai objek datetime.\n",
    "\n",
    "Kolom lain berisi teks yang sedikit lebih terstruktur. Kolom *game_location* hanya dapat memiliki tiga nilai berbeda:"
   ]
  },
  {
   "cell_type": "code",
   "execution_count": 284,
   "id": "35a1c35c",
   "metadata": {},
   "outputs": [
    {
     "data": {
      "text/plain": [
       "array(['H', 'A', 'N'], dtype=object)"
      ]
     },
     "execution_count": 284,
     "metadata": {},
     "output_type": "execute_result"
    }
   ],
   "source": [
    "# df[\"game_location\"].nunique()\n",
    "# perintah ini untuk menampilkan jumlah data dengan objek yang unik dari game_location\n",
    "df[\"game_location\"].unique()"
   ]
  },
  {
   "cell_type": "markdown",
   "id": "a93a7446",
   "metadata": {},
   "source": [
    "Tipe data apa yang akan kalian gunakan dalam database relasional untuk kolom seperti itu? Kalian mungkin tidak akan menggunakan *tipe varchar*, melainkan *enum*. Pandas menyediakan tipe data categorical untuk tujuan yang sama:"
   ]
  },
  {
   "cell_type": "code",
   "execution_count": 290,
   "id": "9455caab",
   "metadata": {},
   "outputs": [
    {
     "data": {
      "text/plain": [
       "A    63138\n",
       "H    63138\n",
       "N       38\n",
       "Name: game_location, dtype: int64"
      ]
     },
     "execution_count": 290,
     "metadata": {},
     "output_type": "execute_result"
    }
   ],
   "source": [
    "# perintah ini untuk meenampilkan jumlah data dari objek game_location\n",
    "df[\"game_location\"].value_counts()"
   ]
  },
  {
   "cell_type": "code",
   "execution_count": 291,
   "id": "dde5a6c7",
   "metadata": {},
   "outputs": [
    {
     "name": "stdout",
     "output_type": "stream",
     "text": [
      "<class 'pandas.core.frame.DataFrame'>\n",
      "RangeIndex: 126314 entries, 0 to 126313\n",
      "Data columns (total 24 columns):\n",
      " #   Column         Non-Null Count   Dtype         \n",
      "---  ------         --------------   -----         \n",
      " 0   gameorder      126314 non-null  int64         \n",
      " 1   game_id        126314 non-null  object        \n",
      " 2   lg_id          126314 non-null  object        \n",
      " 3   _iscopy        126314 non-null  int64         \n",
      " 4   year_id        126314 non-null  int64         \n",
      " 5   date_game      126314 non-null  object        \n",
      " 6   seasongame     126314 non-null  int64         \n",
      " 7   is_playoffs    126314 non-null  int64         \n",
      " 8   team_id        126314 non-null  object        \n",
      " 9   fran_id        126314 non-null  object        \n",
      " 10  pts            126314 non-null  int64         \n",
      " 11  elo_i          126314 non-null  float64       \n",
      " 12  elo_n          126314 non-null  float64       \n",
      " 13  win_equiv      126314 non-null  float64       \n",
      " 14  opp_id         126314 non-null  object        \n",
      " 15  opp_fran       126314 non-null  object        \n",
      " 16  opp_pts        126314 non-null  int64         \n",
      " 17  opp_elo_i      126314 non-null  float64       \n",
      " 18  opp_elo_n      126314 non-null  float64       \n",
      " 19  game_location  126314 non-null  category      \n",
      " 20  game_result    126314 non-null  object        \n",
      " 21  forecast       126314 non-null  float64       \n",
      " 22  notes          5424 non-null    object        \n",
      " 23  date_played    126314 non-null  datetime64[ns]\n",
      "dtypes: category(1), datetime64[ns](1), float64(6), int64(7), object(9)\n",
      "memory usage: 22.3+ MB\n"
     ]
    }
   ],
   "source": [
    "# perintah ini untuk membuat kategori dari game location dan mengganti tipe datanya menjadi kategori\n",
    "# (.Categorical(range)) untuk kumpulan informasi yang berbentuk kelompok/group dan menjadikan tipe data yang sama\n",
    "df[\"game_location\"] = pd.Categorical(df[\"game_location\"])\n",
    "df.info()"
   ]
  },
  {
   "cell_type": "markdown",
   "id": "63c4f327",
   "metadata": {},
   "source": [
    ">*```.Categorical(range)```* untuk mengumpulkan informasi yang berbentuk kelompok/group dan menjadikan tipe data yang sama. Jadi beberapa tipe data yang samaa dalam sebuah atribut kolom dapat dikategorikan menjadikan satu.\n",
    "\n",
    ">Categorical ini juga berfungsi untuk mengecilkan penggunaan memory"
   ]
  },
  {
   "cell_type": "code",
   "execution_count": 293,
   "id": "791c6f92",
   "metadata": {},
   "outputs": [
    {
     "data": {
      "text/plain": [
       "CategoricalDtype(categories=['A', 'H', 'N'], ordered=False)"
      ]
     },
     "execution_count": 293,
     "metadata": {},
     "output_type": "execute_result"
    }
   ],
   "source": [
    "df[\"game_location\"].dtype"
   ]
  },
  {
   "cell_type": "code",
   "execution_count": 294,
   "id": "ed72d63a",
   "metadata": {},
   "outputs": [
    {
     "data": {
      "text/plain": [
       "array(['L', 'W'], dtype=object)"
      ]
     },
     "execution_count": 294,
     "metadata": {},
     "output_type": "execute_result"
    }
   ],
   "source": [
    "df['game_result'].unique()"
   ]
  },
  {
   "cell_type": "code",
   "execution_count": 295,
   "id": "980f7d94",
   "metadata": {},
   "outputs": [
    {
     "name": "stdout",
     "output_type": "stream",
     "text": [
      "<class 'pandas.core.frame.DataFrame'>\n",
      "RangeIndex: 126314 entries, 0 to 126313\n",
      "Data columns (total 24 columns):\n",
      " #   Column         Non-Null Count   Dtype         \n",
      "---  ------         --------------   -----         \n",
      " 0   gameorder      126314 non-null  int64         \n",
      " 1   game_id        126314 non-null  object        \n",
      " 2   lg_id          126314 non-null  object        \n",
      " 3   _iscopy        126314 non-null  int64         \n",
      " 4   year_id        126314 non-null  int64         \n",
      " 5   date_game      126314 non-null  object        \n",
      " 6   seasongame     126314 non-null  int64         \n",
      " 7   is_playoffs    126314 non-null  int64         \n",
      " 8   team_id        126314 non-null  object        \n",
      " 9   fran_id        126314 non-null  object        \n",
      " 10  pts            126314 non-null  int64         \n",
      " 11  elo_i          126314 non-null  float64       \n",
      " 12  elo_n          126314 non-null  float64       \n",
      " 13  win_equiv      126314 non-null  float64       \n",
      " 14  opp_id         126314 non-null  object        \n",
      " 15  opp_fran       126314 non-null  object        \n",
      " 16  opp_pts        126314 non-null  int64         \n",
      " 17  opp_elo_i      126314 non-null  float64       \n",
      " 18  opp_elo_n      126314 non-null  float64       \n",
      " 19  game_location  126314 non-null  category      \n",
      " 20  game_result    126314 non-null  category      \n",
      " 21  forecast       126314 non-null  float64       \n",
      " 22  notes          5424 non-null    object        \n",
      " 23  date_played    126314 non-null  datetime64[ns]\n",
      "dtypes: category(2), datetime64[ns](1), float64(6), int64(7), object(8)\n",
      "memory usage: 21.4+ MB\n"
     ]
    }
   ],
   "source": [
    "# perintah ini untuk membuat objek atribut dari game_result menjadi kategori \n",
    "df[\"game_result\"] = pd.Categorical(df[\"game_result\"])\n",
    "df.info()"
   ]
  },
  {
   "cell_type": "markdown",
   "id": "cba3cf4d",
   "metadata": {},
   "source": [
    ">Data kategorikal memiliki beberapa keunggulan dibandingkan teks tidak terstruktur. Saat kalian menentukan tipe data kategorikal, kalian membuat validasi lebih mudah dan menghemat banyak memori, karena Pandas hanya akan menggunakan nilai unik secara internal. Semakin tinggi rasio nilai total terhadap nilai unik, semakin banyak penghematan ruang yang akan kalian dapatkan.\n",
    "\n",
    "Jalankan *```df.info()```* lagi. kalian harusnya melihat bahwa mengubah tipe data *game_location* dari object ke categorical telah menurunkan penggunaan memori."
   ]
  },
  {
   "cell_type": "markdown",
   "id": "7bb6ec15",
   "metadata": {},
   "source": [
    "### Missing Values\n",
    ">Pernahkah kalian  bertanya-tanya mengapa *```.info()```* menunjukkan berapa banyak nilai bukan null yang berisi kolom? Alasan mengapa ini adalah informasi penting. *Null values* sering kali menunjukkan masalah dalam proses pengumpulan data. Mereka dapat membuat beberapa *teknik analisis*, seperti berbagai jenis *machine learning*, menjadi sulit atau bahkan tidak mungkin.\n",
    "\n",
    "Saat kalian memeriksa kumpulan data nba dengan *```nba.info()```*, kalian akan melihat bahwa itu cukup rapi. Hanya catatan kolom yang berisi nilai null untuk sebagian besar barisnya:"
   ]
  },
  {
   "cell_type": "code",
   "execution_count": 298,
   "id": "927a14eb",
   "metadata": {},
   "outputs": [
    {
     "name": "stdout",
     "output_type": "stream",
     "text": [
      "<class 'pandas.core.frame.DataFrame'>\n",
      "RangeIndex: 126314 entries, 0 to 126313\n",
      "Data columns (total 24 columns):\n",
      " #   Column         Non-Null Count   Dtype         \n",
      "---  ------         --------------   -----         \n",
      " 0   gameorder      126314 non-null  int64         \n",
      " 1   game_id        126314 non-null  object        \n",
      " 2   lg_id          126314 non-null  object        \n",
      " 3   _iscopy        126314 non-null  int64         \n",
      " 4   year_id        126314 non-null  int64         \n",
      " 5   date_game      126314 non-null  object        \n",
      " 6   seasongame     126314 non-null  int64         \n",
      " 7   is_playoffs    126314 non-null  int64         \n",
      " 8   team_id        126314 non-null  object        \n",
      " 9   fran_id        126314 non-null  object        \n",
      " 10  pts            126314 non-null  int64         \n",
      " 11  elo_i          126314 non-null  float64       \n",
      " 12  elo_n          126314 non-null  float64       \n",
      " 13  win_equiv      126314 non-null  float64       \n",
      " 14  opp_id         126314 non-null  object        \n",
      " 15  opp_fran       126314 non-null  object        \n",
      " 16  opp_pts        126314 non-null  int64         \n",
      " 17  opp_elo_i      126314 non-null  float64       \n",
      " 18  opp_elo_n      126314 non-null  float64       \n",
      " 19  game_location  126314 non-null  category      \n",
      " 20  game_result    126314 non-null  category      \n",
      " 21  forecast       126314 non-null  float64       \n",
      " 22  notes          5424 non-null    object        \n",
      " 23  date_played    126314 non-null  datetime64[ns]\n",
      "dtypes: category(2), datetime64[ns](1), float64(6), int64(7), object(8)\n",
      "memory usage: 21.4+ MB\n"
     ]
    }
   ],
   "source": [
    "df.info()"
   ]
  },
  {
   "cell_type": "markdown",
   "id": "cdd6161f",
   "metadata": {},
   "source": [
    "Output ini menunjukkan bahwa kolom notes hanya memiliki **5424 nilai non-null**. Itu berarti lebih dari 120.000 baris kumpulan data kalian memiliki nilai null di kolom ini.\n",
    "\n",
    "Terkadang, cara termudah untuk menangani *dataset* yang berisi *missing values* adalah dengan mengabaikannya. Kalian dapat menghapus semua baris dengan nilai yang hilang menggunakan *```.dropna()```*:"
   ]
  },
  {
   "cell_type": "code",
   "execution_count": 300,
   "id": "ed9f2421",
   "metadata": {},
   "outputs": [
    {
     "data": {
      "text/plain": [
       "(126314, 22)"
      ]
     },
     "execution_count": 300,
     "metadata": {},
     "output_type": "execute_result"
    }
   ],
   "source": [
    "nba.shape"
   ]
  },
  {
   "cell_type": "code",
   "execution_count": 302,
   "id": "951d8de4",
   "metadata": {},
   "outputs": [],
   "source": [
    "# perintah ini untuk mengembalikan data nba yang \"mising values\" ke dalam variabel rows_without_missing_data\n",
    "rows_without_missing_data = nba.dropna()"
   ]
  },
  {
   "cell_type": "code",
   "execution_count": 305,
   "id": "e47b52a5",
   "metadata": {},
   "outputs": [
    {
     "name": "stdout",
     "output_type": "stream",
     "text": [
      "(5424, 22)\n"
     ]
    },
    {
     "data": {
      "text/html": [
       "<div>\n",
       "<style scoped>\n",
       "    .dataframe tbody tr th:only-of-type {\n",
       "        vertical-align: middle;\n",
       "    }\n",
       "\n",
       "    .dataframe tbody tr th {\n",
       "        vertical-align: top;\n",
       "    }\n",
       "\n",
       "    .dataframe thead th {\n",
       "        text-align: right;\n",
       "    }\n",
       "</style>\n",
       "<table border=\"1\" class=\"dataframe\">\n",
       "  <thead>\n",
       "    <tr style=\"text-align: right;\">\n",
       "      <th></th>\n",
       "      <th>gameorder</th>\n",
       "      <th>game_id</th>\n",
       "      <th>lg_id</th>\n",
       "      <th>_iscopy</th>\n",
       "      <th>year_id</th>\n",
       "      <th>date_game</th>\n",
       "      <th>seasongame</th>\n",
       "      <th>is_playoffs</th>\n",
       "      <th>team_id</th>\n",
       "      <th>fran_id</th>\n",
       "      <th>pts</th>\n",
       "      <th>win_equiv</th>\n",
       "      <th>opp_id</th>\n",
       "      <th>opp_fran</th>\n",
       "      <th>opp_pts</th>\n",
       "      <th>location</th>\n",
       "      <th>result</th>\n",
       "      <th>forecast</th>\n",
       "      <th>notes</th>\n",
       "      <th>date_played</th>\n",
       "      <th>difference</th>\n",
       "      <th>elo_difference</th>\n",
       "    </tr>\n",
       "  </thead>\n",
       "  <tbody>\n",
       "    <tr>\n",
       "      <th>930</th>\n",
       "      <td>466</td>\n",
       "      <td>194801300BLB</td>\n",
       "      <td>NBA</td>\n",
       "      <td>1</td>\n",
       "      <td>1948</td>\n",
       "      <td>1948-01-30</td>\n",
       "      <td>28</td>\n",
       "      <td>0</td>\n",
       "      <td>WSC</td>\n",
       "      <td>Capitols</td>\n",
       "      <td>71</td>\n",
       "      <td>47.065742</td>\n",
       "      <td>BLB</td>\n",
       "      <td>Baltimore</td>\n",
       "      <td>95</td>\n",
       "      <td>A</td>\n",
       "      <td>L</td>\n",
       "      <td>0.407940</td>\n",
       "      <td>at Baltimore's Fifth Regiment Armory</td>\n",
       "      <td>1948-01-30</td>\n",
       "      <td>-24</td>\n",
       "      <td>35.2921</td>\n",
       "    </tr>\n",
       "    <tr>\n",
       "      <th>931</th>\n",
       "      <td>466</td>\n",
       "      <td>194801300BLB</td>\n",
       "      <td>NBA</td>\n",
       "      <td>0</td>\n",
       "      <td>1948</td>\n",
       "      <td>1948-01-30</td>\n",
       "      <td>31</td>\n",
       "      <td>0</td>\n",
       "      <td>BLB</td>\n",
       "      <td>Baltimore</td>\n",
       "      <td>95</td>\n",
       "      <td>46.407490</td>\n",
       "      <td>WSC</td>\n",
       "      <td>Capitols</td>\n",
       "      <td>71</td>\n",
       "      <td>H</td>\n",
       "      <td>W</td>\n",
       "      <td>0.592060</td>\n",
       "      <td>at Baltimore's Fifth Regiment Armory</td>\n",
       "      <td>1948-01-30</td>\n",
       "      <td>24</td>\n",
       "      <td>-35.2921</td>\n",
       "    </tr>\n",
       "    <tr>\n",
       "      <th>1084</th>\n",
       "      <td>543</td>\n",
       "      <td>194803230CHS</td>\n",
       "      <td>NBA</td>\n",
       "      <td>1</td>\n",
       "      <td>1948</td>\n",
       "      <td>1948-03-23</td>\n",
       "      <td>49</td>\n",
       "      <td>1</td>\n",
       "      <td>WSC</td>\n",
       "      <td>Capitols</td>\n",
       "      <td>70</td>\n",
       "      <td>47.710297</td>\n",
       "      <td>CHS</td>\n",
       "      <td>Stags</td>\n",
       "      <td>74</td>\n",
       "      <td>A</td>\n",
       "      <td>L</td>\n",
       "      <td>0.393962</td>\n",
       "      <td>Tiebreaker</td>\n",
       "      <td>1948-03-23</td>\n",
       "      <td>-4</td>\n",
       "      <td>25.1820</td>\n",
       "    </tr>\n",
       "    <tr>\n",
       "      <th>1085</th>\n",
       "      <td>543</td>\n",
       "      <td>194803230CHS</td>\n",
       "      <td>NBA</td>\n",
       "      <td>0</td>\n",
       "      <td>1948</td>\n",
       "      <td>1948-03-23</td>\n",
       "      <td>49</td>\n",
       "      <td>1</td>\n",
       "      <td>CHS</td>\n",
       "      <td>Stags</td>\n",
       "      <td>74</td>\n",
       "      <td>46.089687</td>\n",
       "      <td>WSC</td>\n",
       "      <td>Capitols</td>\n",
       "      <td>70</td>\n",
       "      <td>H</td>\n",
       "      <td>W</td>\n",
       "      <td>0.606038</td>\n",
       "      <td>Tiebreaker</td>\n",
       "      <td>1948-03-23</td>\n",
       "      <td>4</td>\n",
       "      <td>-25.1820</td>\n",
       "    </tr>\n",
       "    <tr>\n",
       "      <th>1088</th>\n",
       "      <td>545</td>\n",
       "      <td>194803250CHS</td>\n",
       "      <td>NBA</td>\n",
       "      <td>1</td>\n",
       "      <td>1948</td>\n",
       "      <td>1948-03-25</td>\n",
       "      <td>49</td>\n",
       "      <td>1</td>\n",
       "      <td>BLB</td>\n",
       "      <td>Baltimore</td>\n",
       "      <td>75</td>\n",
       "      <td>50.044666</td>\n",
       "      <td>CHS</td>\n",
       "      <td>Stags</td>\n",
       "      <td>72</td>\n",
       "      <td>A</td>\n",
       "      <td>W</td>\n",
       "      <td>0.403142</td>\n",
       "      <td>Tiebreaker</td>\n",
       "      <td>1948-03-25</td>\n",
       "      <td>3</td>\n",
       "      <td>31.8349</td>\n",
       "    </tr>\n",
       "  </tbody>\n",
       "</table>\n",
       "</div>"
      ],
      "text/plain": [
       "      gameorder       game_id lg_id  _iscopy  year_id  date_game  seasongame  \\\n",
       "930         466  194801300BLB   NBA        1     1948 1948-01-30          28   \n",
       "931         466  194801300BLB   NBA        0     1948 1948-01-30          31   \n",
       "1084        543  194803230CHS   NBA        1     1948 1948-03-23          49   \n",
       "1085        543  194803230CHS   NBA        0     1948 1948-03-23          49   \n",
       "1088        545  194803250CHS   NBA        1     1948 1948-03-25          49   \n",
       "\n",
       "      is_playoffs team_id    fran_id  pts  win_equiv opp_id   opp_fran  \\\n",
       "930             0     WSC   Capitols   71  47.065742    BLB  Baltimore   \n",
       "931             0     BLB  Baltimore   95  46.407490    WSC   Capitols   \n",
       "1084            1     WSC   Capitols   70  47.710297    CHS      Stags   \n",
       "1085            1     CHS      Stags   74  46.089687    WSC   Capitols   \n",
       "1088            1     BLB  Baltimore   75  50.044666    CHS      Stags   \n",
       "\n",
       "      opp_pts location result  forecast                                 notes  \\\n",
       "930        95        A      L  0.407940  at Baltimore's Fifth Regiment Armory   \n",
       "931        71        H      W  0.592060  at Baltimore's Fifth Regiment Armory   \n",
       "1084       74        A      L  0.393962                            Tiebreaker   \n",
       "1085       70        H      W  0.606038                            Tiebreaker   \n",
       "1088       72        A      W  0.403142                            Tiebreaker   \n",
       "\n",
       "     date_played  difference  elo_difference  \n",
       "930   1948-01-30         -24         35.2921  \n",
       "931   1948-01-30          24        -35.2921  \n",
       "1084  1948-03-23          -4         25.1820  \n",
       "1085  1948-03-23           4        -25.1820  \n",
       "1088  1948-03-25           3         31.8349  "
      ]
     },
     "execution_count": 305,
     "metadata": {},
     "output_type": "execute_result"
    }
   ],
   "source": [
    "print(rows_without_missing_data.shape)\n",
    "rows_without_missing_data.head()"
   ]
  },
  {
   "cell_type": "markdown",
   "id": "cdfc8686",
   "metadata": {},
   "source": [
    "Tentu saja, jenis pembersihan data ini tidak masuk akal untuk kumpulan data nba kalian, karena tidak masalah jika game tidak mempunyai notes. \n",
    "\n",
    "**Tetapi jika kumpulan data kalian berisi satu juta catatan yang valid dan seratus di mana data yang relevan hilang, maka menghapus catatan yang tidak lengkap bisa menjadi solusi yang masuk akal.**\n",
    "\n",
    "Kalian juga dapat menghapus **kolom bermasalah jika tidak relevan untuk analisis kalian**. Untuk melakukan ini, gunakan ```.dropna()``` lagi dan berikan parameter ```axis=1```:"
   ]
  },
  {
   "cell_type": "code",
   "execution_count": 310,
   "id": "144041fe",
   "metadata": {},
   "outputs": [],
   "source": [
    "# perintah ini untuk mengahapus kolom yang bersalah\n",
    "data_without_missing_columns = nba.dropna(axis=1)"
   ]
  },
  {
   "cell_type": "code",
   "execution_count": 307,
   "id": "1bcd271e",
   "metadata": {},
   "outputs": [
    {
     "name": "stdout",
     "output_type": "stream",
     "text": [
      "(126314, 21)\n"
     ]
    },
    {
     "data": {
      "text/html": [
       "<div>\n",
       "<style scoped>\n",
       "    .dataframe tbody tr th:only-of-type {\n",
       "        vertical-align: middle;\n",
       "    }\n",
       "\n",
       "    .dataframe tbody tr th {\n",
       "        vertical-align: top;\n",
       "    }\n",
       "\n",
       "    .dataframe thead th {\n",
       "        text-align: right;\n",
       "    }\n",
       "</style>\n",
       "<table border=\"1\" class=\"dataframe\">\n",
       "  <thead>\n",
       "    <tr style=\"text-align: right;\">\n",
       "      <th></th>\n",
       "      <th>gameorder</th>\n",
       "      <th>game_id</th>\n",
       "      <th>lg_id</th>\n",
       "      <th>_iscopy</th>\n",
       "      <th>year_id</th>\n",
       "      <th>date_game</th>\n",
       "      <th>seasongame</th>\n",
       "      <th>is_playoffs</th>\n",
       "      <th>team_id</th>\n",
       "      <th>fran_id</th>\n",
       "      <th>pts</th>\n",
       "      <th>win_equiv</th>\n",
       "      <th>opp_id</th>\n",
       "      <th>opp_fran</th>\n",
       "      <th>opp_pts</th>\n",
       "      <th>location</th>\n",
       "      <th>result</th>\n",
       "      <th>forecast</th>\n",
       "      <th>date_played</th>\n",
       "      <th>difference</th>\n",
       "      <th>elo_difference</th>\n",
       "    </tr>\n",
       "  </thead>\n",
       "  <tbody>\n",
       "    <tr>\n",
       "      <th>0</th>\n",
       "      <td>1</td>\n",
       "      <td>194611010TRH</td>\n",
       "      <td>NBA</td>\n",
       "      <td>0</td>\n",
       "      <td>1947</td>\n",
       "      <td>1946-11-01</td>\n",
       "      <td>1</td>\n",
       "      <td>0</td>\n",
       "      <td>TRH</td>\n",
       "      <td>Huskies</td>\n",
       "      <td>66</td>\n",
       "      <td>40.294830</td>\n",
       "      <td>NYK</td>\n",
       "      <td>Knicks</td>\n",
       "      <td>68</td>\n",
       "      <td>H</td>\n",
       "      <td>L</td>\n",
       "      <td>0.640065</td>\n",
       "      <td>1946-11-01</td>\n",
       "      <td>-2</td>\n",
       "      <td>0.0000</td>\n",
       "    </tr>\n",
       "    <tr>\n",
       "      <th>1</th>\n",
       "      <td>1</td>\n",
       "      <td>194611010TRH</td>\n",
       "      <td>NBA</td>\n",
       "      <td>1</td>\n",
       "      <td>1947</td>\n",
       "      <td>1946-11-01</td>\n",
       "      <td>1</td>\n",
       "      <td>0</td>\n",
       "      <td>NYK</td>\n",
       "      <td>Knicks</td>\n",
       "      <td>68</td>\n",
       "      <td>41.705170</td>\n",
       "      <td>TRH</td>\n",
       "      <td>Huskies</td>\n",
       "      <td>66</td>\n",
       "      <td>A</td>\n",
       "      <td>W</td>\n",
       "      <td>0.359935</td>\n",
       "      <td>1946-11-01</td>\n",
       "      <td>2</td>\n",
       "      <td>0.0000</td>\n",
       "    </tr>\n",
       "    <tr>\n",
       "      <th>2</th>\n",
       "      <td>2</td>\n",
       "      <td>194611020CHS</td>\n",
       "      <td>NBA</td>\n",
       "      <td>0</td>\n",
       "      <td>1947</td>\n",
       "      <td>1946-11-02</td>\n",
       "      <td>1</td>\n",
       "      <td>0</td>\n",
       "      <td>CHS</td>\n",
       "      <td>Stags</td>\n",
       "      <td>63</td>\n",
       "      <td>42.012257</td>\n",
       "      <td>NYK</td>\n",
       "      <td>Knicks</td>\n",
       "      <td>47</td>\n",
       "      <td>H</td>\n",
       "      <td>W</td>\n",
       "      <td>0.631101</td>\n",
       "      <td>1946-11-02</td>\n",
       "      <td>16</td>\n",
       "      <td>-6.7233</td>\n",
       "    </tr>\n",
       "    <tr>\n",
       "      <th>3</th>\n",
       "      <td>2</td>\n",
       "      <td>194611020CHS</td>\n",
       "      <td>NBA</td>\n",
       "      <td>1</td>\n",
       "      <td>1947</td>\n",
       "      <td>1946-11-02</td>\n",
       "      <td>2</td>\n",
       "      <td>0</td>\n",
       "      <td>NYK</td>\n",
       "      <td>Knicks</td>\n",
       "      <td>47</td>\n",
       "      <td>40.692783</td>\n",
       "      <td>CHS</td>\n",
       "      <td>Stags</td>\n",
       "      <td>63</td>\n",
       "      <td>A</td>\n",
       "      <td>L</td>\n",
       "      <td>0.368899</td>\n",
       "      <td>1946-11-02</td>\n",
       "      <td>-16</td>\n",
       "      <td>6.7233</td>\n",
       "    </tr>\n",
       "    <tr>\n",
       "      <th>4</th>\n",
       "      <td>3</td>\n",
       "      <td>194611020DTF</td>\n",
       "      <td>NBA</td>\n",
       "      <td>0</td>\n",
       "      <td>1947</td>\n",
       "      <td>1946-11-02</td>\n",
       "      <td>1</td>\n",
       "      <td>0</td>\n",
       "      <td>DTF</td>\n",
       "      <td>Falcons</td>\n",
       "      <td>33</td>\n",
       "      <td>38.864048</td>\n",
       "      <td>WSC</td>\n",
       "      <td>Capitols</td>\n",
       "      <td>50</td>\n",
       "      <td>H</td>\n",
       "      <td>L</td>\n",
       "      <td>0.640065</td>\n",
       "      <td>1946-11-02</td>\n",
       "      <td>-17</td>\n",
       "      <td>0.0000</td>\n",
       "    </tr>\n",
       "  </tbody>\n",
       "</table>\n",
       "</div>"
      ],
      "text/plain": [
       "   gameorder       game_id lg_id  _iscopy  year_id  date_game  seasongame  \\\n",
       "0          1  194611010TRH   NBA        0     1947 1946-11-01           1   \n",
       "1          1  194611010TRH   NBA        1     1947 1946-11-01           1   \n",
       "2          2  194611020CHS   NBA        0     1947 1946-11-02           1   \n",
       "3          2  194611020CHS   NBA        1     1947 1946-11-02           2   \n",
       "4          3  194611020DTF   NBA        0     1947 1946-11-02           1   \n",
       "\n",
       "   is_playoffs team_id  fran_id  pts  win_equiv opp_id  opp_fran  opp_pts  \\\n",
       "0            0     TRH  Huskies   66  40.294830    NYK    Knicks       68   \n",
       "1            0     NYK   Knicks   68  41.705170    TRH   Huskies       66   \n",
       "2            0     CHS    Stags   63  42.012257    NYK    Knicks       47   \n",
       "3            0     NYK   Knicks   47  40.692783    CHS     Stags       63   \n",
       "4            0     DTF  Falcons   33  38.864048    WSC  Capitols       50   \n",
       "\n",
       "  location result  forecast date_played  difference  elo_difference  \n",
       "0        H      L  0.640065  1946-11-01          -2          0.0000  \n",
       "1        A      W  0.359935  1946-11-01           2          0.0000  \n",
       "2        H      W  0.631101  1946-11-02          16         -6.7233  \n",
       "3        A      L  0.368899  1946-11-02         -16          6.7233  \n",
       "4        H      L  0.640065  1946-11-02         -17          0.0000  "
      ]
     },
     "execution_count": 307,
     "metadata": {},
     "output_type": "execute_result"
    }
   ],
   "source": [
    "print(data_without_missing_columns.shape)\n",
    "data_without_missing_columns.head()"
   ]
  },
  {
   "cell_type": "markdown",
   "id": "f1066f06",
   "metadata": {},
   "source": [
    "Sekarang, DataFrame yang dihasilkan berisi semua 126.314 game.\n",
    "\n",
    "Jika ada *nilai default* yang berarti untuk *use case* kalian, kalian juga dapat mengganti nilai yang hilang dengan:"
   ]
  },
  {
   "cell_type": "code",
   "execution_count": 311,
   "id": "995918ff",
   "metadata": {},
   "outputs": [],
   "source": [
    "# perintah ini untuk mennyalin dataset nba kedalam vaiabel data_with_default_notes\n",
    "data_with_default_notes = nba.copy()"
   ]
  },
  {
   "cell_type": "code",
   "execution_count": 314,
   "id": "d4415b15",
   "metadata": {},
   "outputs": [
    {
     "data": {
      "text/plain": [
       "count              126314\n",
       "unique                232\n",
       "top       no notes at all\n",
       "freq               120890\n",
       "Name: notes, dtype: object"
      ]
     },
     "execution_count": 314,
     "metadata": {},
     "output_type": "execute_result"
    }
   ],
   "source": [
    "# perintah ini untuk mengembalikan atribut \"notes\" disi dengan value no notes at all\n",
    "data_with_default_notes[\"notes\"].fillna(\n",
    "    value=\"no notes at all\",\n",
    "    inplace=True\n",
    ")\n",
    "data_with_default_notes[\"notes\"].describe()"
   ]
  },
  {
   "cell_type": "code",
   "execution_count": 315,
   "id": "9fc4300e",
   "metadata": {},
   "outputs": [
    {
     "name": "stdout",
     "output_type": "stream",
     "text": [
      "<class 'pandas.core.frame.DataFrame'>\n",
      "RangeIndex: 126314 entries, 0 to 126313\n",
      "Data columns (total 22 columns):\n",
      " #   Column          Non-Null Count   Dtype         \n",
      "---  ------          --------------   -----         \n",
      " 0   gameorder       126314 non-null  int64         \n",
      " 1   game_id         126314 non-null  object        \n",
      " 2   lg_id           126314 non-null  object        \n",
      " 3   _iscopy         126314 non-null  int64         \n",
      " 4   year_id         126314 non-null  int64         \n",
      " 5   date_game       126314 non-null  datetime64[ns]\n",
      " 6   seasongame      126314 non-null  int64         \n",
      " 7   is_playoffs     126314 non-null  int64         \n",
      " 8   team_id         126314 non-null  object        \n",
      " 9   fran_id         126314 non-null  object        \n",
      " 10  pts             126314 non-null  int64         \n",
      " 11  win_equiv       126314 non-null  float64       \n",
      " 12  opp_id          126314 non-null  object        \n",
      " 13  opp_fran        126314 non-null  object        \n",
      " 14  opp_pts         126314 non-null  int64         \n",
      " 15  location        126314 non-null  object        \n",
      " 16  result          126314 non-null  object        \n",
      " 17  forecast        126314 non-null  float64       \n",
      " 18  notes           126314 non-null  object        \n",
      " 19  date_played     126314 non-null  datetime64[ns]\n",
      " 20  difference      126314 non-null  int64         \n",
      " 21  elo_difference  126314 non-null  float64       \n",
      "dtypes: datetime64[ns](2), float64(3), int64(8), object(9)\n",
      "memory usage: 21.2+ MB\n"
     ]
    }
   ],
   "source": [
    "data_with_default_notes.info()"
   ]
  },
  {
   "cell_type": "markdown",
   "id": "67906d09",
   "metadata": {},
   "source": [
    "#### Invalid Values\n",
    "Invalid values bisa lebih berbahaya daripada missing values. Seringkali, kalian tetap dapat melakukan analisis data seperti yang diharapkan, tetapi hasil yang kalian peroleh aneh karena invalid values. Ini sangat penting jika kumpulan data kalian sangat besar atau menggunakan entri manual. Nilai yang tidak valid seringkali lebih sulit untuk dideteksi, tetapi kalian dapat menerapkan beberapa pemeriksaan dengan kueri dan agregasi.\n",
    "\n",
    ">Satu hal yang dapat kalian lakukan adalah memvalidasi rentang data kalian. Untuk ini, ```.describe()``` cukup berguna. Ingatlah bahwa ia mengembalikan keluaran berikut:"
   ]
  },
  {
   "cell_type": "code",
   "execution_count": 316,
   "id": "139b8475",
   "metadata": {},
   "outputs": [
    {
     "data": {
      "text/html": [
       "<div>\n",
       "<style scoped>\n",
       "    .dataframe tbody tr th:only-of-type {\n",
       "        vertical-align: middle;\n",
       "    }\n",
       "\n",
       "    .dataframe tbody tr th {\n",
       "        vertical-align: top;\n",
       "    }\n",
       "\n",
       "    .dataframe thead th {\n",
       "        text-align: right;\n",
       "    }\n",
       "</style>\n",
       "<table border=\"1\" class=\"dataframe\">\n",
       "  <thead>\n",
       "    <tr style=\"text-align: right;\">\n",
       "      <th></th>\n",
       "      <th>gameorder</th>\n",
       "      <th>_iscopy</th>\n",
       "      <th>year_id</th>\n",
       "      <th>seasongame</th>\n",
       "      <th>is_playoffs</th>\n",
       "      <th>pts</th>\n",
       "      <th>win_equiv</th>\n",
       "      <th>opp_pts</th>\n",
       "      <th>forecast</th>\n",
       "      <th>difference</th>\n",
       "      <th>elo_difference</th>\n",
       "    </tr>\n",
       "  </thead>\n",
       "  <tbody>\n",
       "    <tr>\n",
       "      <th>count</th>\n",
       "      <td>126314.000000</td>\n",
       "      <td>126314.000000</td>\n",
       "      <td>126314.000000</td>\n",
       "      <td>126314.000000</td>\n",
       "      <td>126314.000000</td>\n",
       "      <td>126314.000000</td>\n",
       "      <td>126314.000000</td>\n",
       "      <td>126314.000000</td>\n",
       "      <td>126314.000000</td>\n",
       "      <td>126314.000000</td>\n",
       "      <td>126314.000000</td>\n",
       "    </tr>\n",
       "    <tr>\n",
       "      <th>mean</th>\n",
       "      <td>31579.000000</td>\n",
       "      <td>0.500000</td>\n",
       "      <td>1988.200374</td>\n",
       "      <td>43.533733</td>\n",
       "      <td>0.063857</td>\n",
       "      <td>102.729982</td>\n",
       "      <td>41.707889</td>\n",
       "      <td>102.729982</td>\n",
       "      <td>0.500000</td>\n",
       "      <td>0.000000</td>\n",
       "      <td>0.000000</td>\n",
       "    </tr>\n",
       "    <tr>\n",
       "      <th>std</th>\n",
       "      <td>18231.927643</td>\n",
       "      <td>0.500002</td>\n",
       "      <td>17.582309</td>\n",
       "      <td>25.375178</td>\n",
       "      <td>0.244499</td>\n",
       "      <td>14.814845</td>\n",
       "      <td>10.627332</td>\n",
       "      <td>14.814845</td>\n",
       "      <td>0.215252</td>\n",
       "      <td>13.374599</td>\n",
       "      <td>149.994422</td>\n",
       "    </tr>\n",
       "    <tr>\n",
       "      <th>min</th>\n",
       "      <td>1.000000</td>\n",
       "      <td>0.000000</td>\n",
       "      <td>1947.000000</td>\n",
       "      <td>1.000000</td>\n",
       "      <td>0.000000</td>\n",
       "      <td>0.000000</td>\n",
       "      <td>10.152501</td>\n",
       "      <td>0.000000</td>\n",
       "      <td>0.020447</td>\n",
       "      <td>-68.000000</td>\n",
       "      <td>-572.160900</td>\n",
       "    </tr>\n",
       "    <tr>\n",
       "      <th>25%</th>\n",
       "      <td>15790.000000</td>\n",
       "      <td>0.000000</td>\n",
       "      <td>1975.000000</td>\n",
       "      <td>22.000000</td>\n",
       "      <td>0.000000</td>\n",
       "      <td>93.000000</td>\n",
       "      <td>34.103035</td>\n",
       "      <td>93.000000</td>\n",
       "      <td>0.327989</td>\n",
       "      <td>-9.000000</td>\n",
       "      <td>-100.319550</td>\n",
       "    </tr>\n",
       "    <tr>\n",
       "      <th>50%</th>\n",
       "      <td>31579.000000</td>\n",
       "      <td>0.500000</td>\n",
       "      <td>1990.000000</td>\n",
       "      <td>43.000000</td>\n",
       "      <td>0.000000</td>\n",
       "      <td>103.000000</td>\n",
       "      <td>42.113357</td>\n",
       "      <td>103.000000</td>\n",
       "      <td>0.500000</td>\n",
       "      <td>0.000000</td>\n",
       "      <td>0.000000</td>\n",
       "    </tr>\n",
       "    <tr>\n",
       "      <th>75%</th>\n",
       "      <td>47368.000000</td>\n",
       "      <td>1.000000</td>\n",
       "      <td>2003.000000</td>\n",
       "      <td>65.000000</td>\n",
       "      <td>0.000000</td>\n",
       "      <td>112.000000</td>\n",
       "      <td>49.635328</td>\n",
       "      <td>112.000000</td>\n",
       "      <td>0.672011</td>\n",
       "      <td>9.000000</td>\n",
       "      <td>100.319550</td>\n",
       "    </tr>\n",
       "    <tr>\n",
       "      <th>max</th>\n",
       "      <td>63157.000000</td>\n",
       "      <td>1.000000</td>\n",
       "      <td>2015.000000</td>\n",
       "      <td>108.000000</td>\n",
       "      <td>1.000000</td>\n",
       "      <td>186.000000</td>\n",
       "      <td>71.112038</td>\n",
       "      <td>186.000000</td>\n",
       "      <td>0.979553</td>\n",
       "      <td>68.000000</td>\n",
       "      <td>572.160900</td>\n",
       "    </tr>\n",
       "  </tbody>\n",
       "</table>\n",
       "</div>"
      ],
      "text/plain": [
       "           gameorder        _iscopy        year_id     seasongame  \\\n",
       "count  126314.000000  126314.000000  126314.000000  126314.000000   \n",
       "mean    31579.000000       0.500000    1988.200374      43.533733   \n",
       "std     18231.927643       0.500002      17.582309      25.375178   \n",
       "min         1.000000       0.000000    1947.000000       1.000000   \n",
       "25%     15790.000000       0.000000    1975.000000      22.000000   \n",
       "50%     31579.000000       0.500000    1990.000000      43.000000   \n",
       "75%     47368.000000       1.000000    2003.000000      65.000000   \n",
       "max     63157.000000       1.000000    2015.000000     108.000000   \n",
       "\n",
       "         is_playoffs            pts      win_equiv        opp_pts  \\\n",
       "count  126314.000000  126314.000000  126314.000000  126314.000000   \n",
       "mean        0.063857     102.729982      41.707889     102.729982   \n",
       "std         0.244499      14.814845      10.627332      14.814845   \n",
       "min         0.000000       0.000000      10.152501       0.000000   \n",
       "25%         0.000000      93.000000      34.103035      93.000000   \n",
       "50%         0.000000     103.000000      42.113357     103.000000   \n",
       "75%         0.000000     112.000000      49.635328     112.000000   \n",
       "max         1.000000     186.000000      71.112038     186.000000   \n",
       "\n",
       "            forecast     difference  elo_difference  \n",
       "count  126314.000000  126314.000000   126314.000000  \n",
       "mean        0.500000       0.000000        0.000000  \n",
       "std         0.215252      13.374599      149.994422  \n",
       "min         0.020447     -68.000000     -572.160900  \n",
       "25%         0.327989      -9.000000     -100.319550  \n",
       "50%         0.500000       0.000000        0.000000  \n",
       "75%         0.672011       9.000000      100.319550  \n",
       "max         0.979553      68.000000      572.160900  "
      ]
     },
     "execution_count": 316,
     "metadata": {},
     "output_type": "execute_result"
    }
   ],
   "source": [
    "nba.describe()"
   ]
  },
  {
   "cell_type": "markdown",
   "id": "cfe4963c",
   "metadata": {},
   "source": [
    "*year_id* bervariasi antara 1947 dan 2015. Kedengarannya masuk akal.\n",
    "\n",
    "Bagaimana dengan \"pts\"? Bagaimana bisa **minimumnya menjadi 0** ? Mari kita lihat game-game tersebut:"
   ]
  },
  {
   "cell_type": "code",
   "execution_count": 317,
   "id": "831c60bd",
   "metadata": {},
   "outputs": [
    {
     "data": {
      "text/html": [
       "<div>\n",
       "<style scoped>\n",
       "    .dataframe tbody tr th:only-of-type {\n",
       "        vertical-align: middle;\n",
       "    }\n",
       "\n",
       "    .dataframe tbody tr th {\n",
       "        vertical-align: top;\n",
       "    }\n",
       "\n",
       "    .dataframe thead th {\n",
       "        text-align: right;\n",
       "    }\n",
       "</style>\n",
       "<table border=\"1\" class=\"dataframe\">\n",
       "  <thead>\n",
       "    <tr style=\"text-align: right;\">\n",
       "      <th></th>\n",
       "      <th>gameorder</th>\n",
       "      <th>game_id</th>\n",
       "      <th>lg_id</th>\n",
       "      <th>_iscopy</th>\n",
       "      <th>year_id</th>\n",
       "      <th>date_game</th>\n",
       "      <th>seasongame</th>\n",
       "      <th>is_playoffs</th>\n",
       "      <th>team_id</th>\n",
       "      <th>fran_id</th>\n",
       "      <th>pts</th>\n",
       "      <th>win_equiv</th>\n",
       "      <th>opp_id</th>\n",
       "      <th>opp_fran</th>\n",
       "      <th>opp_pts</th>\n",
       "      <th>location</th>\n",
       "      <th>result</th>\n",
       "      <th>forecast</th>\n",
       "      <th>notes</th>\n",
       "      <th>date_played</th>\n",
       "      <th>difference</th>\n",
       "      <th>elo_difference</th>\n",
       "    </tr>\n",
       "  </thead>\n",
       "  <tbody>\n",
       "    <tr>\n",
       "      <th>26684</th>\n",
       "      <td>13343</td>\n",
       "      <td>197210260VIR</td>\n",
       "      <td>ABA</td>\n",
       "      <td>1</td>\n",
       "      <td>1973</td>\n",
       "      <td>1972-10-26</td>\n",
       "      <td>7</td>\n",
       "      <td>0</td>\n",
       "      <td>DNR</td>\n",
       "      <td>Nuggets</td>\n",
       "      <td>0</td>\n",
       "      <td>40.408863</td>\n",
       "      <td>VIR</td>\n",
       "      <td>Squires</td>\n",
       "      <td>2</td>\n",
       "      <td>A</td>\n",
       "      <td>L</td>\n",
       "      <td>0.328948</td>\n",
       "      <td>at Richmond VA; forfeit to VIR</td>\n",
       "      <td>1972-10-26</td>\n",
       "      <td>-2</td>\n",
       "      <td>-23.852</td>\n",
       "    </tr>\n",
       "  </tbody>\n",
       "</table>\n",
       "</div>"
      ],
      "text/plain": [
       "       gameorder       game_id lg_id  _iscopy  year_id  date_game  seasongame  \\\n",
       "26684      13343  197210260VIR   ABA        1     1973 1972-10-26           7   \n",
       "\n",
       "       is_playoffs team_id  fran_id  pts  win_equiv opp_id opp_fran  opp_pts  \\\n",
       "26684            0     DNR  Nuggets    0  40.408863    VIR  Squires        2   \n",
       "\n",
       "      location result  forecast                           notes date_played  \\\n",
       "26684        A      L  0.328948  at Richmond VA; forfeit to VIR  1972-10-26   \n",
       "\n",
       "       difference  elo_difference  \n",
       "26684          -2         -23.852  "
      ]
     },
     "execution_count": 317,
     "metadata": {},
     "output_type": "execute_result"
    }
   ],
   "source": [
    "nba[nba[\"pts\"] == 0]"
   ]
  },
  {
   "cell_type": "markdown",
   "id": "3e3b01b2",
   "metadata": {},
   "source": [
    "*Pertandingan \"pelanggaran\" kontroversial antara Virginia Squires dan Denver Rockets pada 26 Oktober telah dibatalkan untuk Squires. Robert Carlson, komisaris American Basketball Association, membuat keputusan kemarin.\n",
    "\n",
    "The Squires memenangkan pertandingan, 155-111, dengan bantuan 74 lemparan bebas. Pelatih Denver Alex Hannum telah menginstruksikan para pemainnya untuk melanggar setiap pemain Virginia yang mencoba melakukan tembakan. Denver melakukan 56 pelanggaran dan tujuh Rockets dilanggar.\n",
    "\n",
    "Hannum mengatakan dia melakukan percobaan karena **\"the trend of pressure defense\".**\n",
    "https://www.nytimes.com/1972/11/07/archives/rocket-foul-game-awarded-to-squires.html\n",
    "\n",
    "Sepertinya game itu forfeited. Bergantung pada analisis kalian, kalian mungkin ingin menghapusnya daridataset."
   ]
  },
  {
   "cell_type": "markdown",
   "id": "848db9eb",
   "metadata": {},
   "source": [
    "#### Inconsistent Values\n",
    "Kadang-kadang sebuah nilai akan sepenuhnya realistis, tetapi tidak sesuai dengan nilai di kolom lain.\n",
    "\n",
    "Dalam kumpulan data NBA, nilai kolom \"pts\", \"opp_pts\" dan \"game_result\" harus konsisten satu sama lain. kalian dapat memeriksanya menggunakan atribut ```.empty```:"
   ]
  },
  {
   "cell_type": "code",
   "execution_count": 319,
   "id": "145db56c",
   "metadata": {},
   "outputs": [
    {
     "data": {
      "text/html": [
       "<div>\n",
       "<style scoped>\n",
       "    .dataframe tbody tr th:only-of-type {\n",
       "        vertical-align: middle;\n",
       "    }\n",
       "\n",
       "    .dataframe tbody tr th {\n",
       "        vertical-align: top;\n",
       "    }\n",
       "\n",
       "    .dataframe thead th {\n",
       "        text-align: right;\n",
       "    }\n",
       "</style>\n",
       "<table border=\"1\" class=\"dataframe\">\n",
       "  <thead>\n",
       "    <tr style=\"text-align: right;\">\n",
       "      <th></th>\n",
       "      <th>gameorder</th>\n",
       "      <th>game_id</th>\n",
       "      <th>lg_id</th>\n",
       "      <th>_iscopy</th>\n",
       "      <th>year_id</th>\n",
       "      <th>date_game</th>\n",
       "      <th>seasongame</th>\n",
       "      <th>is_playoffs</th>\n",
       "      <th>team_id</th>\n",
       "      <th>fran_id</th>\n",
       "      <th>pts</th>\n",
       "      <th>...</th>\n",
       "      <th>win_equiv</th>\n",
       "      <th>opp_id</th>\n",
       "      <th>opp_fran</th>\n",
       "      <th>opp_pts</th>\n",
       "      <th>opp_elo_i</th>\n",
       "      <th>opp_elo_n</th>\n",
       "      <th>game_location</th>\n",
       "      <th>game_result</th>\n",
       "      <th>forecast</th>\n",
       "      <th>notes</th>\n",
       "      <th>date_played</th>\n",
       "    </tr>\n",
       "  </thead>\n",
       "  <tbody>\n",
       "  </tbody>\n",
       "</table>\n",
       "<p>0 rows × 24 columns</p>\n",
       "</div>"
      ],
      "text/plain": [
       "Empty DataFrame\n",
       "Columns: [gameorder, game_id, lg_id, _iscopy, year_id, date_game, seasongame, is_playoffs, team_id, fran_id, pts, elo_i, elo_n, win_equiv, opp_id, opp_fran, opp_pts, opp_elo_i, opp_elo_n, game_location, game_result, forecast, notes, date_played]\n",
       "Index: []\n",
       "\n",
       "[0 rows x 24 columns]"
      ]
     },
     "execution_count": 319,
     "metadata": {},
     "output_type": "execute_result"
    }
   ],
   "source": [
    "# perintah ini untuk pengecekan data Lose tapi pointnya lebih besar dari lawan  \n",
    "df[(df[\"pts\"] > df[\"opp_pts\"]) & (df[\"game_result\"] != 'W')]"
   ]
  },
  {
   "cell_type": "code",
   "execution_count": 321,
   "id": "d0f3e530",
   "metadata": {},
   "outputs": [
    {
     "data": {
      "text/plain": [
       "True"
      ]
     },
     "execution_count": 321,
     "metadata": {},
     "output_type": "execute_result"
    }
   ],
   "source": [
    "df[(df[\"pts\"] > df[\"opp_pts\"]) & (df[\"game_result\"] != 'W')].empty"
   ]
  },
  {
   "cell_type": "markdown",
   "id": "4d04d36f",
   "metadata": {},
   "source": [
    ">Jika hasil pertandingan adalah kemenangan ```game_result = W```, maka poin ```pts``` yang dicetak untuk baris tersebut harus lebih banyak ```>``` dari poin lawan ```opp_pts``` yang dicetak. \n",
    "\n",
    "Dan untuk kekalahan, poin lawan harus lebih besar."
   ]
  },
  {
   "cell_type": "markdown",
   "id": "2b5661df",
   "metadata": {},
   "source": [
    ">Untungnya, kedua kueri ini mengembalikan DataFrame kosong.\n",
    "\n",
    "Bersiaplah untuk kejutan setiap kali-kali bekerja dengan kumpulan data mentah, terutama jika kumpulan data tersebut dikumpulkan dari sumber berbeda atau melalui pipeline yang rumit. Kalian mungkin melihat baris di mana team mencetak lebih banyak poin daripada lawannya, tetapi masih kalah."
   ]
  },
  {
   "cell_type": "markdown",
   "id": "39c5eba9",
   "metadata": {},
   "source": [
    "### Combining Multiple Datasets\n",
    "Di bagian sebelumnya, kalian telah mempelajari cara membersihkan kumpulan data yang berantakan. Aspek lain dari data dunia nyata adalah sering kali data datang dalam beberapa bagian. Di bagian ini, kalian akan mempelajari cara mengambil bagian-bagian tersebut dan menggabungkannya menjadi satu kumpulan data yang siap untuk dianalisis.\n",
    "\n",
    "Sebelumnya, kalian menggabungkan dua objek **Series** ke dalam **DataFrame** berdasarkan indeksnya. \n",
    "Sekarang, kalian akan mengambil satu langkah lebih jauh dan menggunakan **```.concat()```** untuk menggabungkan *city_data* dengan **DataFrame** lain. \n",
    "\n",
    "Misalkan kalian berhasil mengumpulkan beberapa data di dua kota lagi :"
   ]
  },
  {
   "cell_type": "code",
   "execution_count": 323,
   "id": "585d3cae",
   "metadata": {},
   "outputs": [
    {
     "data": {
      "text/html": [
       "<div>\n",
       "<style scoped>\n",
       "    .dataframe tbody tr th:only-of-type {\n",
       "        vertical-align: middle;\n",
       "    }\n",
       "\n",
       "    .dataframe tbody tr th {\n",
       "        vertical-align: top;\n",
       "    }\n",
       "\n",
       "    .dataframe thead th {\n",
       "        text-align: right;\n",
       "    }\n",
       "</style>\n",
       "<table border=\"1\" class=\"dataframe\">\n",
       "  <thead>\n",
       "    <tr style=\"text-align: right;\">\n",
       "      <th></th>\n",
       "      <th>revenue</th>\n",
       "      <th>employee_count</th>\n",
       "    </tr>\n",
       "  </thead>\n",
       "  <tbody>\n",
       "    <tr>\n",
       "      <th>Amsterdam</th>\n",
       "      <td>4200</td>\n",
       "      <td>5.0</td>\n",
       "    </tr>\n",
       "    <tr>\n",
       "      <th>Tokyo</th>\n",
       "      <td>6500</td>\n",
       "      <td>8.0</td>\n",
       "    </tr>\n",
       "    <tr>\n",
       "      <th>Toronto</th>\n",
       "      <td>8000</td>\n",
       "      <td>NaN</td>\n",
       "    </tr>\n",
       "  </tbody>\n",
       "</table>\n",
       "</div>"
      ],
      "text/plain": [
       "           revenue  employee_count\n",
       "Amsterdam     4200             5.0\n",
       "Tokyo         6500             8.0\n",
       "Toronto       8000             NaN"
      ]
     },
     "execution_count": 323,
     "metadata": {},
     "output_type": "execute_result"
    }
   ],
   "source": [
    "city_data"
   ]
  },
  {
   "cell_type": "code",
   "execution_count": 326,
   "id": "9b9b9b05",
   "metadata": {},
   "outputs": [
    {
     "data": {
      "text/html": [
       "<div>\n",
       "<style scoped>\n",
       "    .dataframe tbody tr th:only-of-type {\n",
       "        vertical-align: middle;\n",
       "    }\n",
       "\n",
       "    .dataframe tbody tr th {\n",
       "        vertical-align: top;\n",
       "    }\n",
       "\n",
       "    .dataframe thead th {\n",
       "        text-align: right;\n",
       "    }\n",
       "</style>\n",
       "<table border=\"1\" class=\"dataframe\">\n",
       "  <thead>\n",
       "    <tr style=\"text-align: right;\">\n",
       "      <th></th>\n",
       "      <th>revenue</th>\n",
       "      <th>employee_count</th>\n",
       "    </tr>\n",
       "  </thead>\n",
       "  <tbody>\n",
       "    <tr>\n",
       "      <th>New York</th>\n",
       "      <td>7000</td>\n",
       "      <td>2</td>\n",
       "    </tr>\n",
       "    <tr>\n",
       "      <th>Barcelona</th>\n",
       "      <td>3400</td>\n",
       "      <td>2</td>\n",
       "    </tr>\n",
       "  </tbody>\n",
       "</table>\n",
       "</div>"
      ],
      "text/plain": [
       "           revenue  employee_count\n",
       "New York      7000               2\n",
       "Barcelona     3400               2"
      ]
     },
     "execution_count": 326,
     "metadata": {},
     "output_type": "execute_result"
    }
   ],
   "source": [
    "# perintah ini untuk membuat dataframe dengan atribut revanue dan employee_count\n",
    "further_city_data = pd.DataFrame(\n",
    "    {\n",
    "        \"revenue\": [7000, 3400], \n",
    "        \"employee_count\": [2, 2]\n",
    "    },\n",
    "    index=[\"New York\", \"Barcelona\"]\n",
    ")\n",
    "further_city_data"
   ]
  },
  {
   "cell_type": "markdown",
   "id": "ebd5a38e",
   "metadata": {},
   "source": [
    ">Kalian dapat menambahkan kota-kota ini ke city_data menggunakan **```.concat()```**:"
   ]
  },
  {
   "cell_type": "code",
   "execution_count": 328,
   "id": "1302ad08",
   "metadata": {},
   "outputs": [
    {
     "data": {
      "text/html": [
       "<div>\n",
       "<style scoped>\n",
       "    .dataframe tbody tr th:only-of-type {\n",
       "        vertical-align: middle;\n",
       "    }\n",
       "\n",
       "    .dataframe tbody tr th {\n",
       "        vertical-align: top;\n",
       "    }\n",
       "\n",
       "    .dataframe thead th {\n",
       "        text-align: right;\n",
       "    }\n",
       "</style>\n",
       "<table border=\"1\" class=\"dataframe\">\n",
       "  <thead>\n",
       "    <tr style=\"text-align: right;\">\n",
       "      <th></th>\n",
       "      <th>revenue</th>\n",
       "      <th>employee_count</th>\n",
       "    </tr>\n",
       "  </thead>\n",
       "  <tbody>\n",
       "    <tr>\n",
       "      <th>Amsterdam</th>\n",
       "      <td>4200</td>\n",
       "      <td>5.0</td>\n",
       "    </tr>\n",
       "    <tr>\n",
       "      <th>Tokyo</th>\n",
       "      <td>6500</td>\n",
       "      <td>8.0</td>\n",
       "    </tr>\n",
       "    <tr>\n",
       "      <th>Toronto</th>\n",
       "      <td>8000</td>\n",
       "      <td>NaN</td>\n",
       "    </tr>\n",
       "    <tr>\n",
       "      <th>New York</th>\n",
       "      <td>7000</td>\n",
       "      <td>2.0</td>\n",
       "    </tr>\n",
       "    <tr>\n",
       "      <th>Barcelona</th>\n",
       "      <td>3400</td>\n",
       "      <td>2.0</td>\n",
       "    </tr>\n",
       "  </tbody>\n",
       "</table>\n",
       "</div>"
      ],
      "text/plain": [
       "           revenue  employee_count\n",
       "Amsterdam     4200             5.0\n",
       "Tokyo         6500             8.0\n",
       "Toronto       8000             NaN\n",
       "New York      7000             2.0\n",
       "Barcelona     3400             2.0"
      ]
     },
     "execution_count": 328,
     "metadata": {},
     "output_type": "execute_result"
    }
   ],
   "source": [
    "# (.contat()) untuk melakukan penggabungan dan menambahkan dataset \n",
    "# perintah ini menggabungkan dataset series city_data dan datafrane futher_city_data\n",
    "all_city_data = pd.concat([city_data, further_city_data], sort=False)\n",
    "all_city_data"
   ]
  },
  {
   "cell_type": "markdown",
   "id": "6377e8ee",
   "metadata": {},
   "source": [
    ">Secara default, ```concat()```  menggabungkan sepanjang **axis = 0**. Dengan kata lain, *concat* menambahkan baris. Kalian juga dapat menggunakannya untuk menambahkan **kolom** dengan menyediakan parameter **axis = 1**:"
   ]
  },
  {
   "cell_type": "code",
   "execution_count": 330,
   "id": "160fbb9b",
   "metadata": {},
   "outputs": [
    {
     "data": {
      "text/html": [
       "<div>\n",
       "<style scoped>\n",
       "    .dataframe tbody tr th:only-of-type {\n",
       "        vertical-align: middle;\n",
       "    }\n",
       "\n",
       "    .dataframe tbody tr th {\n",
       "        vertical-align: top;\n",
       "    }\n",
       "\n",
       "    .dataframe thead th {\n",
       "        text-align: right;\n",
       "    }\n",
       "</style>\n",
       "<table border=\"1\" class=\"dataframe\">\n",
       "  <thead>\n",
       "    <tr style=\"text-align: right;\">\n",
       "      <th></th>\n",
       "      <th>country</th>\n",
       "      <th>capital</th>\n",
       "    </tr>\n",
       "  </thead>\n",
       "  <tbody>\n",
       "    <tr>\n",
       "      <th>Amsterdam</th>\n",
       "      <td>Holland</td>\n",
       "      <td>1</td>\n",
       "    </tr>\n",
       "    <tr>\n",
       "      <th>Tokyo</th>\n",
       "      <td>Japan</td>\n",
       "      <td>1</td>\n",
       "    </tr>\n",
       "    <tr>\n",
       "      <th>Rotterdam</th>\n",
       "      <td>Holland</td>\n",
       "      <td>0</td>\n",
       "    </tr>\n",
       "    <tr>\n",
       "      <th>Toronto</th>\n",
       "      <td>Canada</td>\n",
       "      <td>0</td>\n",
       "    </tr>\n",
       "    <tr>\n",
       "      <th>Barcelona</th>\n",
       "      <td>Spain</td>\n",
       "      <td>0</td>\n",
       "    </tr>\n",
       "  </tbody>\n",
       "</table>\n",
       "</div>"
      ],
      "text/plain": [
       "           country  capital\n",
       "Amsterdam  Holland        1\n",
       "Tokyo        Japan        1\n",
       "Rotterdam  Holland        0\n",
       "Toronto     Canada        0\n",
       "Barcelona    Spain        0"
      ]
     },
     "execution_count": 330,
     "metadata": {},
     "output_type": "execute_result"
    }
   ],
   "source": [
    "# perintah ini untuk membuat dataframe\n",
    "city_countries = pd.DataFrame({\n",
    "    \"country\": [\"Holland\", \"Japan\", \"Holland\", \"Canada\", \"Spain\"],\n",
    "    \"capital\": [1, 1, 0, 0, 0]},\n",
    "    index=[\"Amsterdam\", \"Tokyo\", \"Rotterdam\", \"Toronto\", \"Barcelona\"]\n",
    ")\n",
    "city_countries"
   ]
  },
  {
   "cell_type": "markdown",
   "id": "013cad43",
   "metadata": {},
   "source": []
  },
  {
   "cell_type": "markdown",
   "id": "f1aa10e0",
   "metadata": {},
   "source": [
    ">Pandas juga memiliki intruksi dalam penggunaan perintah fungsi .concat\n",
    "\n",
    "```python\n",
    "pd.concat?\n",
    "```"
   ]
  },
  {
   "cell_type": "code",
   "execution_count": 333,
   "id": "fb7c46b7",
   "metadata": {},
   "outputs": [
    {
     "data": {
      "text/html": [
       "<div>\n",
       "<style scoped>\n",
       "    .dataframe tbody tr th:only-of-type {\n",
       "        vertical-align: middle;\n",
       "    }\n",
       "\n",
       "    .dataframe tbody tr th {\n",
       "        vertical-align: top;\n",
       "    }\n",
       "\n",
       "    .dataframe thead th {\n",
       "        text-align: right;\n",
       "    }\n",
       "</style>\n",
       "<table border=\"1\" class=\"dataframe\">\n",
       "  <thead>\n",
       "    <tr style=\"text-align: right;\">\n",
       "      <th></th>\n",
       "      <th>revenue</th>\n",
       "      <th>employee_count</th>\n",
       "      <th>country</th>\n",
       "      <th>capital</th>\n",
       "    </tr>\n",
       "  </thead>\n",
       "  <tbody>\n",
       "    <tr>\n",
       "      <th>Amsterdam</th>\n",
       "      <td>4200.0</td>\n",
       "      <td>5.0</td>\n",
       "      <td>Holland</td>\n",
       "      <td>1.0</td>\n",
       "    </tr>\n",
       "    <tr>\n",
       "      <th>Tokyo</th>\n",
       "      <td>6500.0</td>\n",
       "      <td>8.0</td>\n",
       "      <td>Japan</td>\n",
       "      <td>1.0</td>\n",
       "    </tr>\n",
       "    <tr>\n",
       "      <th>Toronto</th>\n",
       "      <td>8000.0</td>\n",
       "      <td>NaN</td>\n",
       "      <td>Canada</td>\n",
       "      <td>0.0</td>\n",
       "    </tr>\n",
       "    <tr>\n",
       "      <th>New York</th>\n",
       "      <td>7000.0</td>\n",
       "      <td>2.0</td>\n",
       "      <td>NaN</td>\n",
       "      <td>NaN</td>\n",
       "    </tr>\n",
       "    <tr>\n",
       "      <th>Barcelona</th>\n",
       "      <td>3400.0</td>\n",
       "      <td>2.0</td>\n",
       "      <td>Spain</td>\n",
       "      <td>0.0</td>\n",
       "    </tr>\n",
       "    <tr>\n",
       "      <th>Rotterdam</th>\n",
       "      <td>NaN</td>\n",
       "      <td>NaN</td>\n",
       "      <td>Holland</td>\n",
       "      <td>0.0</td>\n",
       "    </tr>\n",
       "  </tbody>\n",
       "</table>\n",
       "</div>"
      ],
      "text/plain": [
       "           revenue  employee_count  country  capital\n",
       "Amsterdam   4200.0             5.0  Holland      1.0\n",
       "Tokyo       6500.0             8.0    Japan      1.0\n",
       "Toronto     8000.0             NaN   Canada      0.0\n",
       "New York    7000.0             2.0      NaN      NaN\n",
       "Barcelona   3400.0             2.0    Spain      0.0\n",
       "Rotterdam      NaN             NaN  Holland      0.0"
      ]
     },
     "execution_count": 333,
     "metadata": {},
     "output_type": "execute_result"
    }
   ],
   "source": [
    "# perintah ini untuk menggabungkan datarame all_city_data dengan dataframe city_countries\n",
    "cities = pd.concat([all_city_data, city_countries], axis=1, sort=False)\n",
    "cities"
   ]
  },
  {
   "cell_type": "markdown",
   "id": "7b848cb7",
   "metadata": {},
   "source": [
    ">Perhatikan bahwa fungsi *concat()* menggabungkan DataFrames menggunakan baris. Dengan menyetel argumen kata kunci sumbu ke 1, Anda dapat menggabungkan kolom.\n",
    "\n",
    ">Misalkan Anda memiliki DataFrame baru dengan kolom berbeda tetapi indeksnya sama dengan all_city_data DataFrame.\n",
    "\n",
    ">Sekarang Anda dapat memanggil *concat()*, berikan daftar DataFrames untuk digabungkan, dan atur sumbu ke 1 untuk menambahkan kolom baru ke DataFrame."
   ]
  },
  {
   "cell_type": "markdown",
   "id": "2a97cd28",
   "metadata": {},
   "source": [
    "Perhatikan bagaimana Pandas menambahkan NaN untuk nilai yang hilang.\n",
    "\n",
    "Jika kalian ingin menggabungkan hanya kota yang muncul di kedua objek DataFrame, maka kalian dapat mengatur parameter join menjadi inner:"
   ]
  },
  {
   "cell_type": "code",
   "execution_count": 336,
   "id": "cb64e644",
   "metadata": {},
   "outputs": [
    {
     "data": {
      "text/html": [
       "<div>\n",
       "<style scoped>\n",
       "    .dataframe tbody tr th:only-of-type {\n",
       "        vertical-align: middle;\n",
       "    }\n",
       "\n",
       "    .dataframe tbody tr th {\n",
       "        vertical-align: top;\n",
       "    }\n",
       "\n",
       "    .dataframe thead th {\n",
       "        text-align: right;\n",
       "    }\n",
       "</style>\n",
       "<table border=\"1\" class=\"dataframe\">\n",
       "  <thead>\n",
       "    <tr style=\"text-align: right;\">\n",
       "      <th></th>\n",
       "      <th>revenue</th>\n",
       "      <th>employee_count</th>\n",
       "      <th>country</th>\n",
       "      <th>capital</th>\n",
       "    </tr>\n",
       "  </thead>\n",
       "  <tbody>\n",
       "    <tr>\n",
       "      <th>Amsterdam</th>\n",
       "      <td>4200</td>\n",
       "      <td>5.0</td>\n",
       "      <td>Holland</td>\n",
       "      <td>1</td>\n",
       "    </tr>\n",
       "    <tr>\n",
       "      <th>Tokyo</th>\n",
       "      <td>6500</td>\n",
       "      <td>8.0</td>\n",
       "      <td>Japan</td>\n",
       "      <td>1</td>\n",
       "    </tr>\n",
       "    <tr>\n",
       "      <th>Toronto</th>\n",
       "      <td>8000</td>\n",
       "      <td>NaN</td>\n",
       "      <td>Canada</td>\n",
       "      <td>0</td>\n",
       "    </tr>\n",
       "    <tr>\n",
       "      <th>Barcelona</th>\n",
       "      <td>3400</td>\n",
       "      <td>2.0</td>\n",
       "      <td>Spain</td>\n",
       "      <td>0</td>\n",
       "    </tr>\n",
       "  </tbody>\n",
       "</table>\n",
       "</div>"
      ],
      "text/plain": [
       "           revenue  employee_count  country  capital\n",
       "Amsterdam     4200             5.0  Holland        1\n",
       "Tokyo         6500             8.0    Japan        1\n",
       "Toronto       8000             NaN   Canada        0\n",
       "Barcelona     3400             2.0    Spain        0"
      ]
     },
     "execution_count": 336,
     "metadata": {},
     "output_type": "execute_result"
    }
   ],
   "source": [
    "# perintah ini untuk mengembalikan data yang bernilai true atau mengeluarkan data yang NaN lebih dari 1\n",
    "pd.concat([all_city_data, city_countries], axis=1, join=\"inner\")"
   ]
  },
  {
   "cell_type": "markdown",
   "id": "5d7a5540",
   "metadata": {},
   "source": [
    ">Perhatikan NaN yang mewakili nilai yang hilang di DataFrame. Untuk menghilangkannya, setel argumen kata kunci join ke 'inner'. Gabung dalam hanya akan menyimpan baris dengan indeks di kedua DataFrames."
   ]
  },
  {
   "cell_type": "code",
   "execution_count": 337,
   "id": "5c0c126e",
   "metadata": {},
   "outputs": [
    {
     "data": {
      "text/html": [
       "<div>\n",
       "<style scoped>\n",
       "    .dataframe tbody tr th:only-of-type {\n",
       "        vertical-align: middle;\n",
       "    }\n",
       "\n",
       "    .dataframe tbody tr th {\n",
       "        vertical-align: top;\n",
       "    }\n",
       "\n",
       "    .dataframe thead th {\n",
       "        text-align: right;\n",
       "    }\n",
       "</style>\n",
       "<table border=\"1\" class=\"dataframe\">\n",
       "  <thead>\n",
       "    <tr style=\"text-align: right;\">\n",
       "      <th></th>\n",
       "      <th>revenue</th>\n",
       "      <th>employee_count</th>\n",
       "      <th>country</th>\n",
       "      <th>capital</th>\n",
       "    </tr>\n",
       "  </thead>\n",
       "  <tbody>\n",
       "    <tr>\n",
       "      <th>Amsterdam</th>\n",
       "      <td>4200.0</td>\n",
       "      <td>5.0</td>\n",
       "      <td>Holland</td>\n",
       "      <td>1.0</td>\n",
       "    </tr>\n",
       "    <tr>\n",
       "      <th>Tokyo</th>\n",
       "      <td>6500.0</td>\n",
       "      <td>8.0</td>\n",
       "      <td>Japan</td>\n",
       "      <td>1.0</td>\n",
       "    </tr>\n",
       "    <tr>\n",
       "      <th>Toronto</th>\n",
       "      <td>8000.0</td>\n",
       "      <td>NaN</td>\n",
       "      <td>Canada</td>\n",
       "      <td>0.0</td>\n",
       "    </tr>\n",
       "    <tr>\n",
       "      <th>New York</th>\n",
       "      <td>7000.0</td>\n",
       "      <td>2.0</td>\n",
       "      <td>NaN</td>\n",
       "      <td>NaN</td>\n",
       "    </tr>\n",
       "    <tr>\n",
       "      <th>Barcelona</th>\n",
       "      <td>3400.0</td>\n",
       "      <td>2.0</td>\n",
       "      <td>Spain</td>\n",
       "      <td>0.0</td>\n",
       "    </tr>\n",
       "    <tr>\n",
       "      <th>Rotterdam</th>\n",
       "      <td>NaN</td>\n",
       "      <td>NaN</td>\n",
       "      <td>Holland</td>\n",
       "      <td>0.0</td>\n",
       "    </tr>\n",
       "  </tbody>\n",
       "</table>\n",
       "</div>"
      ],
      "text/plain": [
       "           revenue  employee_count  country  capital\n",
       "Amsterdam   4200.0             5.0  Holland      1.0\n",
       "Tokyo       6500.0             8.0    Japan      1.0\n",
       "Toronto     8000.0             NaN   Canada      0.0\n",
       "New York    7000.0             2.0      NaN      NaN\n",
       "Barcelona   3400.0             2.0    Spain      0.0\n",
       "Rotterdam      NaN             NaN  Holland      0.0"
      ]
     },
     "execution_count": 337,
     "metadata": {},
     "output_type": "execute_result"
    }
   ],
   "source": [
    "# perintah ini untuk mengembalikan semua data yang digabung \n",
    "pd.concat([all_city_data, city_countries], axis=1, join=\"outer\")"
   ]
  },
  {
   "cell_type": "markdown",
   "id": "93708642",
   "metadata": {},
   "source": [
    ">Ini tidak menghapus NaN untuk 'Toronto', karena indeks untuk 'Toronto' masih ada di kedua DataFrames. Secara default, gabungan adalah gabungan luar, yang mencakup semua baris.\n",
    "\n",
    "Seperti yang Anda lihat, DataFrame gabungan berisi baris untuk 'New York' dan 'Barcelona'. Pastikan untuk secara eksplisit mengatur argumen kata kunci sortir. Itu tidak diperlukan, tetapi Pandas baru-baru ini mengubah nilai default dari True menjadi False. Sampai versi baru digunakan secara luas, menyetel argumen kata kunci secara eksplisit akan membantu menghindari kebingungan."
   ]
  },
  {
   "cell_type": "markdown",
   "id": "b9184167",
   "metadata": {},
   "source": [
    "> Meskipun paling mudah untuk menggabungkan data berdasarkan indeks, itu bukan satu-satunya kemungkinan. Anda dapat menggunakan ```.merge()``` untuk mengimplementasikan operasi gabungan yang mirip dengan operasi dari SQL:\n"
   ]
  },
  {
   "cell_type": "code",
   "execution_count": 339,
   "id": "9554161c",
   "metadata": {},
   "outputs": [
    {
     "data": {
      "text/html": [
       "<div>\n",
       "<style scoped>\n",
       "    .dataframe tbody tr th:only-of-type {\n",
       "        vertical-align: middle;\n",
       "    }\n",
       "\n",
       "    .dataframe tbody tr th {\n",
       "        vertical-align: top;\n",
       "    }\n",
       "\n",
       "    .dataframe thead th {\n",
       "        text-align: right;\n",
       "    }\n",
       "</style>\n",
       "<table border=\"1\" class=\"dataframe\">\n",
       "  <thead>\n",
       "    <tr style=\"text-align: right;\">\n",
       "      <th></th>\n",
       "      <th>population_millions</th>\n",
       "      <th>continent</th>\n",
       "    </tr>\n",
       "  </thead>\n",
       "  <tbody>\n",
       "    <tr>\n",
       "      <th>Holland</th>\n",
       "      <td>17</td>\n",
       "      <td>Europe</td>\n",
       "    </tr>\n",
       "    <tr>\n",
       "      <th>Japan</th>\n",
       "      <td>127</td>\n",
       "      <td>Asia</td>\n",
       "    </tr>\n",
       "    <tr>\n",
       "      <th>Canada</th>\n",
       "      <td>37</td>\n",
       "      <td>North America</td>\n",
       "    </tr>\n",
       "  </tbody>\n",
       "</table>\n",
       "</div>"
      ],
      "text/plain": [
       "         population_millions      continent\n",
       "Holland                   17         Europe\n",
       "Japan                    127           Asia\n",
       "Canada                    37  North America"
      ]
     },
     "execution_count": 339,
     "metadata": {},
     "output_type": "execute_result"
    }
   ],
   "source": [
    "countries = pd.DataFrame({\n",
    "    \"population_millions\": [17, 127, 37],\n",
    "    \"continent\": [\"Europe\", \"Asia\", \"North America\"]\n",
    "}, index=[\"Holland\", \"Japan\", \"Canada\"])\n",
    "countries"
   ]
  },
  {
   "cell_type": "markdown",
   "id": "30872f4c",
   "metadata": {},
   "source": [
    "Di sini, kalian meneruskan parameter ```left_on=\"country\"``` ke ```.merge()``` untuk menunjukkan kolom mana yang ingin kalian join. Hasilnya adalah DataFrame yang lebih besar yang tidak hanya berisi data kota, tetapi juga populasi dan benua dari masing-masing negara:"
   ]
  },
  {
   "cell_type": "code",
   "execution_count": 340,
   "id": "628fb9a0",
   "metadata": {},
   "outputs": [
    {
     "data": {
      "text/html": [
       "<div>\n",
       "<style scoped>\n",
       "    .dataframe tbody tr th:only-of-type {\n",
       "        vertical-align: middle;\n",
       "    }\n",
       "\n",
       "    .dataframe tbody tr th {\n",
       "        vertical-align: top;\n",
       "    }\n",
       "\n",
       "    .dataframe thead th {\n",
       "        text-align: right;\n",
       "    }\n",
       "</style>\n",
       "<table border=\"1\" class=\"dataframe\">\n",
       "  <thead>\n",
       "    <tr style=\"text-align: right;\">\n",
       "      <th></th>\n",
       "      <th>revenue</th>\n",
       "      <th>employee_count</th>\n",
       "      <th>country</th>\n",
       "      <th>capital</th>\n",
       "    </tr>\n",
       "  </thead>\n",
       "  <tbody>\n",
       "    <tr>\n",
       "      <th>Amsterdam</th>\n",
       "      <td>4200.0</td>\n",
       "      <td>5.0</td>\n",
       "      <td>Holland</td>\n",
       "      <td>1.0</td>\n",
       "    </tr>\n",
       "    <tr>\n",
       "      <th>Tokyo</th>\n",
       "      <td>6500.0</td>\n",
       "      <td>8.0</td>\n",
       "      <td>Japan</td>\n",
       "      <td>1.0</td>\n",
       "    </tr>\n",
       "    <tr>\n",
       "      <th>Toronto</th>\n",
       "      <td>8000.0</td>\n",
       "      <td>NaN</td>\n",
       "      <td>Canada</td>\n",
       "      <td>0.0</td>\n",
       "    </tr>\n",
       "    <tr>\n",
       "      <th>New York</th>\n",
       "      <td>7000.0</td>\n",
       "      <td>2.0</td>\n",
       "      <td>NaN</td>\n",
       "      <td>NaN</td>\n",
       "    </tr>\n",
       "    <tr>\n",
       "      <th>Barcelona</th>\n",
       "      <td>3400.0</td>\n",
       "      <td>2.0</td>\n",
       "      <td>Spain</td>\n",
       "      <td>0.0</td>\n",
       "    </tr>\n",
       "    <tr>\n",
       "      <th>Rotterdam</th>\n",
       "      <td>NaN</td>\n",
       "      <td>NaN</td>\n",
       "      <td>Holland</td>\n",
       "      <td>0.0</td>\n",
       "    </tr>\n",
       "  </tbody>\n",
       "</table>\n",
       "</div>"
      ],
      "text/plain": [
       "           revenue  employee_count  country  capital\n",
       "Amsterdam   4200.0             5.0  Holland      1.0\n",
       "Tokyo       6500.0             8.0    Japan      1.0\n",
       "Toronto     8000.0             NaN   Canada      0.0\n",
       "New York    7000.0             2.0      NaN      NaN\n",
       "Barcelona   3400.0             2.0    Spain      0.0\n",
       "Rotterdam      NaN             NaN  Holland      0.0"
      ]
     },
     "execution_count": 340,
     "metadata": {},
     "output_type": "execute_result"
    }
   ],
   "source": [
    "cities"
   ]
  },
  {
   "cell_type": "code",
   "execution_count": 342,
   "id": "529a5af9",
   "metadata": {},
   "outputs": [
    {
     "data": {
      "text/html": [
       "<div>\n",
       "<style scoped>\n",
       "    .dataframe tbody tr th:only-of-type {\n",
       "        vertical-align: middle;\n",
       "    }\n",
       "\n",
       "    .dataframe tbody tr th {\n",
       "        vertical-align: top;\n",
       "    }\n",
       "\n",
       "    .dataframe thead th {\n",
       "        text-align: right;\n",
       "    }\n",
       "</style>\n",
       "<table border=\"1\" class=\"dataframe\">\n",
       "  <thead>\n",
       "    <tr style=\"text-align: right;\">\n",
       "      <th></th>\n",
       "      <th>revenue</th>\n",
       "      <th>employee_count</th>\n",
       "      <th>country</th>\n",
       "      <th>capital</th>\n",
       "      <th>population_millions</th>\n",
       "      <th>continent</th>\n",
       "    </tr>\n",
       "  </thead>\n",
       "  <tbody>\n",
       "    <tr>\n",
       "      <th>Amsterdam</th>\n",
       "      <td>4200.0</td>\n",
       "      <td>5.0</td>\n",
       "      <td>Holland</td>\n",
       "      <td>1.0</td>\n",
       "      <td>17</td>\n",
       "      <td>Europe</td>\n",
       "    </tr>\n",
       "    <tr>\n",
       "      <th>Rotterdam</th>\n",
       "      <td>NaN</td>\n",
       "      <td>NaN</td>\n",
       "      <td>Holland</td>\n",
       "      <td>0.0</td>\n",
       "      <td>17</td>\n",
       "      <td>Europe</td>\n",
       "    </tr>\n",
       "    <tr>\n",
       "      <th>Tokyo</th>\n",
       "      <td>6500.0</td>\n",
       "      <td>8.0</td>\n",
       "      <td>Japan</td>\n",
       "      <td>1.0</td>\n",
       "      <td>127</td>\n",
       "      <td>Asia</td>\n",
       "    </tr>\n",
       "    <tr>\n",
       "      <th>Toronto</th>\n",
       "      <td>8000.0</td>\n",
       "      <td>NaN</td>\n",
       "      <td>Canada</td>\n",
       "      <td>0.0</td>\n",
       "      <td>37</td>\n",
       "      <td>North America</td>\n",
       "    </tr>\n",
       "  </tbody>\n",
       "</table>\n",
       "</div>"
      ],
      "text/plain": [
       "           revenue  employee_count  country  capital  population_millions  \\\n",
       "Amsterdam   4200.0             5.0  Holland      1.0                   17   \n",
       "Rotterdam      NaN             NaN  Holland      0.0                   17   \n",
       "Tokyo       6500.0             8.0    Japan      1.0                  127   \n",
       "Toronto     8000.0             NaN   Canada      0.0                   37   \n",
       "\n",
       "               continent  \n",
       "Amsterdam         Europe  \n",
       "Rotterdam         Europe  \n",
       "Tokyo               Asia  \n",
       "Toronto    North America  "
      ]
     },
     "execution_count": 342,
     "metadata": {},
     "output_type": "execute_result"
    }
   ],
   "source": [
    "# perintah ini untuk mengabungkan semua nilai dari dataframe cities yang terseleksi di dataframe countries\n",
    "pd.merge(cities, countries, left_on=\"country\", right_index=True)"
   ]
  },
  {
   "cell_type": "markdown",
   "id": "56af4a8f",
   "metadata": {},
   "source": [
    ">```.merge()``` operasi dalam memori berkinerja tinggi yang sangat mirip dengan database relasional seperti SQL."
   ]
  },
  {
   "cell_type": "markdown",
   "id": "2285eefa",
   "metadata": {},
   "source": [
    "Perhatikan bahwa hasilnya hanya berisi kota-kota di mana negara tersebut dikenal dan muncul di DataFrame yang digabungkan.\n",
    "Pada Newyork dan Barcelona dikecualikan.\n",
    "\n",
    ">```.merge()``` melakukan inner join secara default. Jika kalian ingin memasukkan semua kota dalam hasil, maka kalian perlu memberikan parameter how:"
   ]
  },
  {
   "cell_type": "code",
   "execution_count": 344,
   "id": "ecde13ea",
   "metadata": {},
   "outputs": [
    {
     "data": {
      "text/html": [
       "<div>\n",
       "<style scoped>\n",
       "    .dataframe tbody tr th:only-of-type {\n",
       "        vertical-align: middle;\n",
       "    }\n",
       "\n",
       "    .dataframe tbody tr th {\n",
       "        vertical-align: top;\n",
       "    }\n",
       "\n",
       "    .dataframe thead th {\n",
       "        text-align: right;\n",
       "    }\n",
       "</style>\n",
       "<table border=\"1\" class=\"dataframe\">\n",
       "  <thead>\n",
       "    <tr style=\"text-align: right;\">\n",
       "      <th></th>\n",
       "      <th>revenue</th>\n",
       "      <th>employee_count</th>\n",
       "      <th>country</th>\n",
       "      <th>capital</th>\n",
       "      <th>population_millions</th>\n",
       "      <th>continent</th>\n",
       "    </tr>\n",
       "  </thead>\n",
       "  <tbody>\n",
       "    <tr>\n",
       "      <th>Amsterdam</th>\n",
       "      <td>4200.0</td>\n",
       "      <td>5.0</td>\n",
       "      <td>Holland</td>\n",
       "      <td>1.0</td>\n",
       "      <td>17.0</td>\n",
       "      <td>Europe</td>\n",
       "    </tr>\n",
       "    <tr>\n",
       "      <th>Tokyo</th>\n",
       "      <td>6500.0</td>\n",
       "      <td>8.0</td>\n",
       "      <td>Japan</td>\n",
       "      <td>1.0</td>\n",
       "      <td>127.0</td>\n",
       "      <td>Asia</td>\n",
       "    </tr>\n",
       "    <tr>\n",
       "      <th>Toronto</th>\n",
       "      <td>8000.0</td>\n",
       "      <td>NaN</td>\n",
       "      <td>Canada</td>\n",
       "      <td>0.0</td>\n",
       "      <td>37.0</td>\n",
       "      <td>North America</td>\n",
       "    </tr>\n",
       "    <tr>\n",
       "      <th>New York</th>\n",
       "      <td>7000.0</td>\n",
       "      <td>2.0</td>\n",
       "      <td>NaN</td>\n",
       "      <td>NaN</td>\n",
       "      <td>NaN</td>\n",
       "      <td>NaN</td>\n",
       "    </tr>\n",
       "    <tr>\n",
       "      <th>Barcelona</th>\n",
       "      <td>3400.0</td>\n",
       "      <td>2.0</td>\n",
       "      <td>Spain</td>\n",
       "      <td>0.0</td>\n",
       "      <td>NaN</td>\n",
       "      <td>NaN</td>\n",
       "    </tr>\n",
       "    <tr>\n",
       "      <th>Rotterdam</th>\n",
       "      <td>NaN</td>\n",
       "      <td>NaN</td>\n",
       "      <td>Holland</td>\n",
       "      <td>0.0</td>\n",
       "      <td>17.0</td>\n",
       "      <td>Europe</td>\n",
       "    </tr>\n",
       "  </tbody>\n",
       "</table>\n",
       "</div>"
      ],
      "text/plain": [
       "           revenue  employee_count  country  capital  population_millions  \\\n",
       "Amsterdam   4200.0             5.0  Holland      1.0                 17.0   \n",
       "Tokyo       6500.0             8.0    Japan      1.0                127.0   \n",
       "Toronto     8000.0             NaN   Canada      0.0                 37.0   \n",
       "New York    7000.0             2.0      NaN      NaN                  NaN   \n",
       "Barcelona   3400.0             2.0    Spain      0.0                  NaN   \n",
       "Rotterdam      NaN             NaN  Holland      0.0                 17.0   \n",
       "\n",
       "               continent  \n",
       "Amsterdam         Europe  \n",
       "Tokyo               Asia  \n",
       "Toronto    North America  \n",
       "New York             NaN  \n",
       "Barcelona            NaN  \n",
       "Rotterdam         Europe  "
      ]
     },
     "execution_count": 344,
     "metadata": {},
     "output_type": "execute_result"
    }
   ],
   "source": [
    "# perintah ini untuk mengabungkan seluruh atribut dataframe cities dan countries\n",
    "pd.merge(\n",
    "    cities,\n",
    "    countries,\n",
    "    left_on=\"country\",\n",
    "    right_index=True,\n",
    "    how=\"left\"\n",
    ")"
   ]
  },
  {
   "cell_type": "markdown",
   "id": "1c69de13",
   "metadata": {},
   "source": [
    "Dengan gabungan kiri ini, Anda akan melihat semua kota, termasuk yang tidak memiliki data negara.\n",
    "Dengan left join ini, kalian akan melihat semua kota, termasuk kota yang tidak memiliki data negara.\n",
    "\n",
    "# Visualizing Your Pandas DataFrame\n",
    "Visualisasi data adalah salah satu hal yang bekerja jauh lebih baik di notebook Jupyter daripada di terminal.\n",
    "```python\n",
    "# berikut instalasi matplotlib di anaconda command promt\n",
    "conda install -c conda-forge matplotlib-base\n",
    "```"
   ]
  },
  {
   "cell_type": "markdown",
   "id": "aaa21d51",
   "metadata": {},
   "source": [
    "Objek **Series** dan **DataFrame** memiliki metode ```.plot()```, yang merupakan *wrapper* pada ```matplotlib.pyplot.plot()```. Secara default, syntax tersebut membuat line plot. Visualisasikan berapa banyak poin yang dicetak *Knicks* sepanjang musim:"
   ]
  },
  {
   "cell_type": "code",
   "execution_count": 347,
   "id": "9e321fd8",
   "metadata": {},
   "outputs": [
    {
     "data": {
      "text/html": [
       "<div>\n",
       "<style scoped>\n",
       "    .dataframe tbody tr th:only-of-type {\n",
       "        vertical-align: middle;\n",
       "    }\n",
       "\n",
       "    .dataframe tbody tr th {\n",
       "        vertical-align: top;\n",
       "    }\n",
       "\n",
       "    .dataframe thead th {\n",
       "        text-align: right;\n",
       "    }\n",
       "</style>\n",
       "<table border=\"1\" class=\"dataframe\">\n",
       "  <thead>\n",
       "    <tr style=\"text-align: right;\">\n",
       "      <th></th>\n",
       "      <th>gameorder</th>\n",
       "      <th>game_id</th>\n",
       "      <th>lg_id</th>\n",
       "      <th>_iscopy</th>\n",
       "      <th>year_id</th>\n",
       "      <th>date_game</th>\n",
       "      <th>seasongame</th>\n",
       "      <th>is_playoffs</th>\n",
       "      <th>team_id</th>\n",
       "      <th>fran_id</th>\n",
       "      <th>pts</th>\n",
       "      <th>win_equiv</th>\n",
       "      <th>opp_id</th>\n",
       "      <th>opp_fran</th>\n",
       "      <th>opp_pts</th>\n",
       "      <th>location</th>\n",
       "      <th>result</th>\n",
       "      <th>forecast</th>\n",
       "      <th>notes</th>\n",
       "      <th>date_played</th>\n",
       "      <th>difference</th>\n",
       "      <th>elo_difference</th>\n",
       "    </tr>\n",
       "  </thead>\n",
       "  <tbody>\n",
       "    <tr>\n",
       "      <th>0</th>\n",
       "      <td>1</td>\n",
       "      <td>194611010TRH</td>\n",
       "      <td>NBA</td>\n",
       "      <td>0</td>\n",
       "      <td>1947</td>\n",
       "      <td>1946-11-01</td>\n",
       "      <td>1</td>\n",
       "      <td>0</td>\n",
       "      <td>TRH</td>\n",
       "      <td>Huskies</td>\n",
       "      <td>66</td>\n",
       "      <td>40.294830</td>\n",
       "      <td>NYK</td>\n",
       "      <td>Knicks</td>\n",
       "      <td>68</td>\n",
       "      <td>H</td>\n",
       "      <td>L</td>\n",
       "      <td>0.640065</td>\n",
       "      <td>NaN</td>\n",
       "      <td>1946-11-01</td>\n",
       "      <td>-2</td>\n",
       "      <td>0.0000</td>\n",
       "    </tr>\n",
       "    <tr>\n",
       "      <th>1</th>\n",
       "      <td>1</td>\n",
       "      <td>194611010TRH</td>\n",
       "      <td>NBA</td>\n",
       "      <td>1</td>\n",
       "      <td>1947</td>\n",
       "      <td>1946-11-01</td>\n",
       "      <td>1</td>\n",
       "      <td>0</td>\n",
       "      <td>NYK</td>\n",
       "      <td>Knicks</td>\n",
       "      <td>68</td>\n",
       "      <td>41.705170</td>\n",
       "      <td>TRH</td>\n",
       "      <td>Huskies</td>\n",
       "      <td>66</td>\n",
       "      <td>A</td>\n",
       "      <td>W</td>\n",
       "      <td>0.359935</td>\n",
       "      <td>NaN</td>\n",
       "      <td>1946-11-01</td>\n",
       "      <td>2</td>\n",
       "      <td>0.0000</td>\n",
       "    </tr>\n",
       "    <tr>\n",
       "      <th>2</th>\n",
       "      <td>2</td>\n",
       "      <td>194611020CHS</td>\n",
       "      <td>NBA</td>\n",
       "      <td>0</td>\n",
       "      <td>1947</td>\n",
       "      <td>1946-11-02</td>\n",
       "      <td>1</td>\n",
       "      <td>0</td>\n",
       "      <td>CHS</td>\n",
       "      <td>Stags</td>\n",
       "      <td>63</td>\n",
       "      <td>42.012257</td>\n",
       "      <td>NYK</td>\n",
       "      <td>Knicks</td>\n",
       "      <td>47</td>\n",
       "      <td>H</td>\n",
       "      <td>W</td>\n",
       "      <td>0.631101</td>\n",
       "      <td>NaN</td>\n",
       "      <td>1946-11-02</td>\n",
       "      <td>16</td>\n",
       "      <td>-6.7233</td>\n",
       "    </tr>\n",
       "    <tr>\n",
       "      <th>3</th>\n",
       "      <td>2</td>\n",
       "      <td>194611020CHS</td>\n",
       "      <td>NBA</td>\n",
       "      <td>1</td>\n",
       "      <td>1947</td>\n",
       "      <td>1946-11-02</td>\n",
       "      <td>2</td>\n",
       "      <td>0</td>\n",
       "      <td>NYK</td>\n",
       "      <td>Knicks</td>\n",
       "      <td>47</td>\n",
       "      <td>40.692783</td>\n",
       "      <td>CHS</td>\n",
       "      <td>Stags</td>\n",
       "      <td>63</td>\n",
       "      <td>A</td>\n",
       "      <td>L</td>\n",
       "      <td>0.368899</td>\n",
       "      <td>NaN</td>\n",
       "      <td>1946-11-02</td>\n",
       "      <td>-16</td>\n",
       "      <td>6.7233</td>\n",
       "    </tr>\n",
       "    <tr>\n",
       "      <th>4</th>\n",
       "      <td>3</td>\n",
       "      <td>194611020DTF</td>\n",
       "      <td>NBA</td>\n",
       "      <td>0</td>\n",
       "      <td>1947</td>\n",
       "      <td>1946-11-02</td>\n",
       "      <td>1</td>\n",
       "      <td>0</td>\n",
       "      <td>DTF</td>\n",
       "      <td>Falcons</td>\n",
       "      <td>33</td>\n",
       "      <td>38.864048</td>\n",
       "      <td>WSC</td>\n",
       "      <td>Capitols</td>\n",
       "      <td>50</td>\n",
       "      <td>H</td>\n",
       "      <td>L</td>\n",
       "      <td>0.640065</td>\n",
       "      <td>NaN</td>\n",
       "      <td>1946-11-02</td>\n",
       "      <td>-17</td>\n",
       "      <td>0.0000</td>\n",
       "    </tr>\n",
       "  </tbody>\n",
       "</table>\n",
       "</div>"
      ],
      "text/plain": [
       "   gameorder       game_id lg_id  _iscopy  year_id  date_game  seasongame  \\\n",
       "0          1  194611010TRH   NBA        0     1947 1946-11-01           1   \n",
       "1          1  194611010TRH   NBA        1     1947 1946-11-01           1   \n",
       "2          2  194611020CHS   NBA        0     1947 1946-11-02           1   \n",
       "3          2  194611020CHS   NBA        1     1947 1946-11-02           2   \n",
       "4          3  194611020DTF   NBA        0     1947 1946-11-02           1   \n",
       "\n",
       "   is_playoffs team_id  fran_id  pts  win_equiv opp_id  opp_fran  opp_pts  \\\n",
       "0            0     TRH  Huskies   66  40.294830    NYK    Knicks       68   \n",
       "1            0     NYK   Knicks   68  41.705170    TRH   Huskies       66   \n",
       "2            0     CHS    Stags   63  42.012257    NYK    Knicks       47   \n",
       "3            0     NYK   Knicks   47  40.692783    CHS     Stags       63   \n",
       "4            0     DTF  Falcons   33  38.864048    WSC  Capitols       50   \n",
       "\n",
       "  location result  forecast notes date_played  difference  elo_difference  \n",
       "0        H      L  0.640065   NaN  1946-11-01          -2          0.0000  \n",
       "1        A      W  0.359935   NaN  1946-11-01           2          0.0000  \n",
       "2        H      W  0.631101   NaN  1946-11-02          16         -6.7233  \n",
       "3        A      L  0.368899   NaN  1946-11-02         -16          6.7233  \n",
       "4        H      L  0.640065   NaN  1946-11-02         -17          0.0000  "
      ]
     },
     "execution_count": 347,
     "metadata": {},
     "output_type": "execute_result"
    }
   ],
   "source": [
    "nba.head()"
   ]
  },
  {
   "cell_type": "code",
   "execution_count": 348,
   "id": "6e147f63",
   "metadata": {},
   "outputs": [
    {
     "data": {
      "text/plain": [
       "year_id\n",
       "1947    4234\n",
       "1948    3815\n",
       "1949    5253\n",
       "1950    5924\n",
       "1951    6814\n",
       "        ... \n",
       "2011    9097\n",
       "2012    6872\n",
       "2013    9259\n",
       "2014    8084\n",
       "2015    7535\n",
       "Name: pts, Length: 69, dtype: int64"
      ]
     },
     "execution_count": 348,
     "metadata": {},
     "output_type": "execute_result"
    }
   ],
   "source": [
    "# perintah ini untuk membuat group id tahun dan score dengan tim knicks\n",
    "knick_pts_by_year = nba[nba[\"fran_id\"] == \"Knicks\"].groupby(\"year_id\")[\"pts\"].sum()\n",
    "knick_pts_by_year"
   ]
  },
  {
   "cell_type": "code",
   "execution_count": 349,
   "id": "344ebf6f",
   "metadata": {},
   "outputs": [
    {
     "data": {
      "text/plain": [
       "<AxesSubplot:xlabel='year_id'>"
      ]
     },
     "execution_count": 349,
     "metadata": {},
     "output_type": "execute_result"
    },
    {
     "data": {
      "image/png": "[encoded data removed]",
      "text/plain": [
       "<Figure size 432x288 with 1 Axes>"
      ]
     },
     "metadata": {
      "needs_background": "light"
     },
     "output_type": "display_data"
    }
   ],
   "source": [
    "# perintah ini untuk menampilkan visual data dari grup knick_pts_by_year\n",
    "knick_pts_by_year.plot()"
   ]
  },
  {
   "cell_type": "code",
   "execution_count": 350,
   "id": "10c723db",
   "metadata": {},
   "outputs": [
    {
     "data": {
      "text/plain": [
       "<AxesSubplot:xlabel='year_id'>"
      ]
     },
     "execution_count": 350,
     "metadata": {},
     "output_type": "execute_result"
    },
    {
     "data": {
      "image/png": "[encoded data removed]",
      "text/plain": [
       "<Figure size 432x288 with 1 Axes>"
      ]
     },
     "metadata": {
      "needs_background": "light"
     },
     "output_type": "display_data"
    }
   ],
   "source": [
    "# perintah ini untuk menampilkan visual dalam bentuk diagram batang (bar )\n",
    "knick_pts_by_year.plot(kind='bar')"
   ]
  },
  {
   "cell_type": "code",
   "execution_count": 351,
   "id": "8ccff7c0",
   "metadata": {},
   "outputs": [
    {
     "data": {
      "text/plain": [
       "<AxesSubplot:xlabel='year_id'>"
      ]
     },
     "execution_count": 351,
     "metadata": {},
     "output_type": "execute_result"
    },
    {
     "data": {
      "image/png": "[encoded data removed]",
      "text/plain": [
       "<Figure size 432x288 with 1 Axes>"
      ]
     },
     "metadata": {
      "needs_background": "light"
     },
     "output_type": "display_data"
    }
   ],
   "source": [
    "# perintah ini untuk menampilkan visual dalam bentuk diagram batang (bar) dari data paling akhir sebanyak 10 data \n",
    "knick_pts_by_year.tail(10).plot(kind='bar')"
   ]
  },
  {
   "cell_type": "code",
   "execution_count": 352,
   "id": "7a942cb2",
   "metadata": {},
   "outputs": [
    {
     "data": {
      "text/html": [
       "<div>\n",
       "<style scoped>\n",
       "    .dataframe tbody tr th:only-of-type {\n",
       "        vertical-align: middle;\n",
       "    }\n",
       "\n",
       "    .dataframe tbody tr th {\n",
       "        vertical-align: top;\n",
       "    }\n",
       "\n",
       "    .dataframe thead th {\n",
       "        text-align: right;\n",
       "    }\n",
       "</style>\n",
       "<table border=\"1\" class=\"dataframe\">\n",
       "  <thead>\n",
       "    <tr style=\"text-align: right;\">\n",
       "      <th></th>\n",
       "      <th>gameorder</th>\n",
       "      <th>game_id</th>\n",
       "      <th>lg_id</th>\n",
       "      <th>_iscopy</th>\n",
       "      <th>year_id</th>\n",
       "      <th>date_game</th>\n",
       "      <th>seasongame</th>\n",
       "      <th>is_playoffs</th>\n",
       "      <th>team_id</th>\n",
       "      <th>fran_id</th>\n",
       "      <th>pts</th>\n",
       "      <th>win_equiv</th>\n",
       "      <th>opp_id</th>\n",
       "      <th>opp_fran</th>\n",
       "      <th>opp_pts</th>\n",
       "      <th>location</th>\n",
       "      <th>result</th>\n",
       "      <th>forecast</th>\n",
       "      <th>notes</th>\n",
       "      <th>date_played</th>\n",
       "      <th>difference</th>\n",
       "      <th>elo_difference</th>\n",
       "    </tr>\n",
       "  </thead>\n",
       "  <tbody>\n",
       "    <tr>\n",
       "      <th>87763</th>\n",
       "      <td>43882</td>\n",
       "      <td>200010310NYK</td>\n",
       "      <td>NBA</td>\n",
       "      <td>0</td>\n",
       "      <td>2001</td>\n",
       "      <td>2000-10-31</td>\n",
       "      <td>1</td>\n",
       "      <td>0</td>\n",
       "      <td>NYK</td>\n",
       "      <td>Knicks</td>\n",
       "      <td>72</td>\n",
       "      <td>43.656437</td>\n",
       "      <td>PHI</td>\n",
       "      <td>Sixers</td>\n",
       "      <td>101</td>\n",
       "      <td>H</td>\n",
       "      <td>L</td>\n",
       "      <td>0.629301</td>\n",
       "      <td>NaN</td>\n",
       "      <td>2000-10-31</td>\n",
       "      <td>-29</td>\n",
       "      <td>-8.0648</td>\n",
       "    </tr>\n",
       "    <tr>\n",
       "      <th>87798</th>\n",
       "      <td>43900</td>\n",
       "      <td>200011020NYK</td>\n",
       "      <td>NBA</td>\n",
       "      <td>0</td>\n",
       "      <td>2001</td>\n",
       "      <td>2000-11-02</td>\n",
       "      <td>2</td>\n",
       "      <td>0</td>\n",
       "      <td>NYK</td>\n",
       "      <td>Knicks</td>\n",
       "      <td>94</td>\n",
       "      <td>44.224728</td>\n",
       "      <td>ATL</td>\n",
       "      <td>Hawks</td>\n",
       "      <td>69</td>\n",
       "      <td>H</td>\n",
       "      <td>W</td>\n",
       "      <td>0.827084</td>\n",
       "      <td>NaN</td>\n",
       "      <td>2000-11-02</td>\n",
       "      <td>25</td>\n",
       "      <td>171.8862</td>\n",
       "    </tr>\n",
       "    <tr>\n",
       "      <th>87814</th>\n",
       "      <td>43908</td>\n",
       "      <td>200011030WAS</td>\n",
       "      <td>NBA</td>\n",
       "      <td>1</td>\n",
       "      <td>2001</td>\n",
       "      <td>2000-11-03</td>\n",
       "      <td>3</td>\n",
       "      <td>0</td>\n",
       "      <td>NYK</td>\n",
       "      <td>Knicks</td>\n",
       "      <td>80</td>\n",
       "      <td>44.956776</td>\n",
       "      <td>WAS</td>\n",
       "      <td>Wizards</td>\n",
       "      <td>76</td>\n",
       "      <td>A</td>\n",
       "      <td>W</td>\n",
       "      <td>0.457232</td>\n",
       "      <td>NaN</td>\n",
       "      <td>2000-11-03</td>\n",
       "      <td>4</td>\n",
       "      <td>70.2089</td>\n",
       "    </tr>\n",
       "    <tr>\n",
       "      <th>87862</th>\n",
       "      <td>43932</td>\n",
       "      <td>200011070MIL</td>\n",
       "      <td>NBA</td>\n",
       "      <td>1</td>\n",
       "      <td>2001</td>\n",
       "      <td>2000-11-07</td>\n",
       "      <td>4</td>\n",
       "      <td>0</td>\n",
       "      <td>NYK</td>\n",
       "      <td>Knicks</td>\n",
       "      <td>103</td>\n",
       "      <td>46.663589</td>\n",
       "      <td>MIL</td>\n",
       "      <td>Bucks</td>\n",
       "      <td>89</td>\n",
       "      <td>A</td>\n",
       "      <td>W</td>\n",
       "      <td>0.396108</td>\n",
       "      <td>NaN</td>\n",
       "      <td>2000-11-07</td>\n",
       "      <td>14</td>\n",
       "      <td>26.7419</td>\n",
       "    </tr>\n",
       "    <tr>\n",
       "      <th>87880</th>\n",
       "      <td>43941</td>\n",
       "      <td>200011080NYK</td>\n",
       "      <td>NBA</td>\n",
       "      <td>0</td>\n",
       "      <td>2001</td>\n",
       "      <td>2000-11-08</td>\n",
       "      <td>5</td>\n",
       "      <td>0</td>\n",
       "      <td>NYK</td>\n",
       "      <td>Knicks</td>\n",
       "      <td>97</td>\n",
       "      <td>45.756813</td>\n",
       "      <td>CLE</td>\n",
       "      <td>Cavaliers</td>\n",
       "      <td>99</td>\n",
       "      <td>H</td>\n",
       "      <td>L</td>\n",
       "      <td>0.762128</td>\n",
       "      <td>NaN</td>\n",
       "      <td>2000-11-08</td>\n",
       "      <td>-2</td>\n",
       "      <td>102.2740</td>\n",
       "    </tr>\n",
       "    <tr>\n",
       "      <th>...</th>\n",
       "      <td>...</td>\n",
       "      <td>...</td>\n",
       "      <td>...</td>\n",
       "      <td>...</td>\n",
       "      <td>...</td>\n",
       "      <td>...</td>\n",
       "      <td>...</td>\n",
       "      <td>...</td>\n",
       "      <td>...</td>\n",
       "      <td>...</td>\n",
       "      <td>...</td>\n",
       "      <td>...</td>\n",
       "      <td>...</td>\n",
       "      <td>...</td>\n",
       "      <td>...</td>\n",
       "      <td>...</td>\n",
       "      <td>...</td>\n",
       "      <td>...</td>\n",
       "      <td>...</td>\n",
       "      <td>...</td>\n",
       "      <td>...</td>\n",
       "      <td>...</td>\n",
       "    </tr>\n",
       "    <tr>\n",
       "      <th>126025</th>\n",
       "      <td>63013</td>\n",
       "      <td>201504080NYK</td>\n",
       "      <td>NBA</td>\n",
       "      <td>0</td>\n",
       "      <td>2015</td>\n",
       "      <td>2015-04-08</td>\n",
       "      <td>78</td>\n",
       "      <td>0</td>\n",
       "      <td>NYK</td>\n",
       "      <td>Knicks</td>\n",
       "      <td>86</td>\n",
       "      <td>17.412123</td>\n",
       "      <td>IND</td>\n",
       "      <td>Pacers</td>\n",
       "      <td>102</td>\n",
       "      <td>H</td>\n",
       "      <td>L</td>\n",
       "      <td>0.331108</td>\n",
       "      <td>NaN</td>\n",
       "      <td>2015-04-08</td>\n",
       "      <td>-16</td>\n",
       "      <td>-222.1548</td>\n",
       "    </tr>\n",
       "    <tr>\n",
       "      <th>126056</th>\n",
       "      <td>63029</td>\n",
       "      <td>201504100NYK</td>\n",
       "      <td>NBA</td>\n",
       "      <td>0</td>\n",
       "      <td>2015</td>\n",
       "      <td>2015-04-10</td>\n",
       "      <td>79</td>\n",
       "      <td>0</td>\n",
       "      <td>NYK</td>\n",
       "      <td>Knicks</td>\n",
       "      <td>91</td>\n",
       "      <td>16.998409</td>\n",
       "      <td>MIL</td>\n",
       "      <td>Bucks</td>\n",
       "      <td>99</td>\n",
       "      <td>H</td>\n",
       "      <td>L</td>\n",
       "      <td>0.354754</td>\n",
       "      <td>NaN</td>\n",
       "      <td>2015-04-10</td>\n",
       "      <td>-8</td>\n",
       "      <td>-203.9194</td>\n",
       "    </tr>\n",
       "    <tr>\n",
       "      <th>126072</th>\n",
       "      <td>63037</td>\n",
       "      <td>201504110ORL</td>\n",
       "      <td>NBA</td>\n",
       "      <td>1</td>\n",
       "      <td>2015</td>\n",
       "      <td>2015-04-11</td>\n",
       "      <td>80</td>\n",
       "      <td>0</td>\n",
       "      <td>NYK</td>\n",
       "      <td>Knicks</td>\n",
       "      <td>80</td>\n",
       "      <td>17.488194</td>\n",
       "      <td>ORL</td>\n",
       "      <td>Magic</td>\n",
       "      <td>79</td>\n",
       "      <td>A</td>\n",
       "      <td>W</td>\n",
       "      <td>0.258043</td>\n",
       "      <td>NaN</td>\n",
       "      <td>2015-04-11</td>\n",
       "      <td>1</td>\n",
       "      <td>-83.4750</td>\n",
       "    </tr>\n",
       "    <tr>\n",
       "      <th>126094</th>\n",
       "      <td>63048</td>\n",
       "      <td>201504130ATL</td>\n",
       "      <td>NBA</td>\n",
       "      <td>1</td>\n",
       "      <td>2015</td>\n",
       "      <td>2015-04-13</td>\n",
       "      <td>81</td>\n",
       "      <td>0</td>\n",
       "      <td>NYK</td>\n",
       "      <td>Knicks</td>\n",
       "      <td>112</td>\n",
       "      <td>18.861967</td>\n",
       "      <td>ATL</td>\n",
       "      <td>Hawks</td>\n",
       "      <td>108</td>\n",
       "      <td>A</td>\n",
       "      <td>W</td>\n",
       "      <td>0.062810</td>\n",
       "      <td>NaN</td>\n",
       "      <td>2015-04-13</td>\n",
       "      <td>4</td>\n",
       "      <td>-369.5208</td>\n",
       "    </tr>\n",
       "    <tr>\n",
       "      <th>126147</th>\n",
       "      <td>63074</td>\n",
       "      <td>201504150NYK</td>\n",
       "      <td>NBA</td>\n",
       "      <td>0</td>\n",
       "      <td>2015</td>\n",
       "      <td>2015-04-15</td>\n",
       "      <td>82</td>\n",
       "      <td>0</td>\n",
       "      <td>NYK</td>\n",
       "      <td>Knicks</td>\n",
       "      <td>90</td>\n",
       "      <td>17.932079</td>\n",
       "      <td>DET</td>\n",
       "      <td>Pistons</td>\n",
       "      <td>112</td>\n",
       "      <td>H</td>\n",
       "      <td>L</td>\n",
       "      <td>0.386974</td>\n",
       "      <td>NaN</td>\n",
       "      <td>2015-04-15</td>\n",
       "      <td>-22</td>\n",
       "      <td>-179.9186</td>\n",
       "    </tr>\n",
       "  </tbody>\n",
       "</table>\n",
       "<p>1244 rows × 22 columns</p>\n",
       "</div>"
      ],
      "text/plain": [
       "        gameorder       game_id lg_id  _iscopy  year_id  date_game  \\\n",
       "87763       43882  200010310NYK   NBA        0     2001 2000-10-31   \n",
       "87798       43900  200011020NYK   NBA        0     2001 2000-11-02   \n",
       "87814       43908  200011030WAS   NBA        1     2001 2000-11-03   \n",
       "87862       43932  200011070MIL   NBA        1     2001 2000-11-07   \n",
       "87880       43941  200011080NYK   NBA        0     2001 2000-11-08   \n",
       "...           ...           ...   ...      ...      ...        ...   \n",
       "126025      63013  201504080NYK   NBA        0     2015 2015-04-08   \n",
       "126056      63029  201504100NYK   NBA        0     2015 2015-04-10   \n",
       "126072      63037  201504110ORL   NBA        1     2015 2015-04-11   \n",
       "126094      63048  201504130ATL   NBA        1     2015 2015-04-13   \n",
       "126147      63074  201504150NYK   NBA        0     2015 2015-04-15   \n",
       "\n",
       "        seasongame  is_playoffs team_id fran_id  pts  win_equiv opp_id  \\\n",
       "87763            1            0     NYK  Knicks   72  43.656437    PHI   \n",
       "87798            2            0     NYK  Knicks   94  44.224728    ATL   \n",
       "87814            3            0     NYK  Knicks   80  44.956776    WAS   \n",
       "87862            4            0     NYK  Knicks  103  46.663589    MIL   \n",
       "87880            5            0     NYK  Knicks   97  45.756813    CLE   \n",
       "...            ...          ...     ...     ...  ...        ...    ...   \n",
       "126025          78            0     NYK  Knicks   86  17.412123    IND   \n",
       "126056          79            0     NYK  Knicks   91  16.998409    MIL   \n",
       "126072          80            0     NYK  Knicks   80  17.488194    ORL   \n",
       "126094          81            0     NYK  Knicks  112  18.861967    ATL   \n",
       "126147          82            0     NYK  Knicks   90  17.932079    DET   \n",
       "\n",
       "         opp_fran  opp_pts location result  forecast notes date_played  \\\n",
       "87763      Sixers      101        H      L  0.629301   NaN  2000-10-31   \n",
       "87798       Hawks       69        H      W  0.827084   NaN  2000-11-02   \n",
       "87814     Wizards       76        A      W  0.457232   NaN  2000-11-03   \n",
       "87862       Bucks       89        A      W  0.396108   NaN  2000-11-07   \n",
       "87880   Cavaliers       99        H      L  0.762128   NaN  2000-11-08   \n",
       "...           ...      ...      ...    ...       ...   ...         ...   \n",
       "126025     Pacers      102        H      L  0.331108   NaN  2015-04-08   \n",
       "126056      Bucks       99        H      L  0.354754   NaN  2015-04-10   \n",
       "126072      Magic       79        A      W  0.258043   NaN  2015-04-11   \n",
       "126094      Hawks      108        A      W  0.062810   NaN  2015-04-13   \n",
       "126147    Pistons      112        H      L  0.386974   NaN  2015-04-15   \n",
       "\n",
       "        difference  elo_difference  \n",
       "87763          -29         -8.0648  \n",
       "87798           25        171.8862  \n",
       "87814            4         70.2089  \n",
       "87862           14         26.7419  \n",
       "87880           -2        102.2740  \n",
       "...            ...             ...  \n",
       "126025         -16       -222.1548  \n",
       "126056          -8       -203.9194  \n",
       "126072           1        -83.4750  \n",
       "126094           4       -369.5208  \n",
       "126147         -22       -179.9186  \n",
       "\n",
       "[1244 rows x 22 columns]"
      ]
     },
     "execution_count": 352,
     "metadata": {},
     "output_type": "execute_result"
    }
   ],
   "source": [
    "# Perintah ini unutk mengembalikan data dengan kondisi tim knicks diatas tahun 2000\n",
    "knick_year_2000 = nba[ ( nba[\"fran_id\"] == \"Knicks\") & (nba['year_id']>2000)]\n",
    "\n",
    "#.plot(kind='scater',x='pts')\n",
    "knick_year_2000"
   ]
  },
  {
   "cell_type": "code",
   "execution_count": 353,
   "id": "027bdfc4",
   "metadata": {},
   "outputs": [
    {
     "data": {
      "text/plain": [
       "<AxesSubplot:xlabel='pts', ylabel='opp_pts'>"
      ]
     },
     "execution_count": 353,
     "metadata": {},
     "output_type": "execute_result"
    },
    {
     "data": {
      "image/png": "[encoded data removed]",
      "text/plain": [
       "<Figure size 432x288 with 1 Axes>"
      ]
     },
     "metadata": {
      "needs_background": "light"
     },
     "output_type": "display_data"
    }
   ],
   "source": [
    "# perintah ini menampilkan data dalam bentuk diagram visual sketer dengan nilai objek score dan score lawan\n",
    "knick_year_2000.plot(kind='scatter',x='pts',y='opp_pts')"
   ]
  },
  {
   "cell_type": "code",
   "execution_count": 354,
   "id": "a4dcf95e",
   "metadata": {},
   "outputs": [
    {
     "data": {
      "text/plain": [
       "<AxesSubplot:xlabel='pts', ylabel='opp_pts'>"
      ]
     },
     "execution_count": 354,
     "metadata": {},
     "output_type": "execute_result"
    },
    {
     "data": {
      "image/png": "[encoded data removed]",
      "text/plain": [
       "<Figure size 432x288 with 1 Axes>"
      ]
     },
     "metadata": {
      "needs_background": "light"
     },
     "output_type": "display_data"
    }
   ],
   "source": [
    "# perintah ini menampilkan data dalam bentuk diagram visual sketer dengan nilai objek score dan score lawan dan jangkauannya s= 0.5\n",
    "knick_year_2000.plot(kind='scatter',x='pts',y='opp_pts',s=0.5)"
   ]
  },
  {
   "cell_type": "code",
   "execution_count": 356,
   "id": "786350ab",
   "metadata": {},
   "outputs": [
    {
     "data": {
      "text/plain": [
       "True"
      ]
     },
     "execution_count": 356,
     "metadata": {},
     "output_type": "execute_result"
    }
   ],
   "source": [
    "# perintah ini untuk membandingkan jumlah skor nilai  tidak ada yang sama dengan skore nilai lawan\n",
    "nba[nba['pts'] == nba['opp_pts']].empty"
   ]
  },
  {
   "cell_type": "code",
   "execution_count": 358,
   "id": "81e4d823",
   "metadata": {},
   "outputs": [
    {
     "data": {
      "text/plain": [
       "W    82\n",
       "L    23\n",
       "Name: game_result, dtype: int64"
      ]
     },
     "execution_count": 358,
     "metadata": {},
     "output_type": "execute_result"
    }
   ],
   "source": [
    "# perintah ini untuk mengembalikan jumlah tim hear pernah bermain ditahun 2013\n",
    "heat_13_w1 = df[\n",
    "    (df['fran_id']=='Heat') & \n",
    "    (df['year_id'] ==2013)\n",
    "]['game_result'].value_counts()\n",
    "\n",
    "heat_13_w1"
   ]
  },
  {
   "cell_type": "code",
   "execution_count": 359,
   "id": "4036ecbf",
   "metadata": {},
   "outputs": [
    {
     "data": {
      "text/plain": [
       "<AxesSubplot:ylabel='game_result'>"
      ]
     },
     "execution_count": 359,
     "metadata": {},
     "output_type": "execute_result"
    },
    {
     "data": {
      "image/png": "[encoded data removed]",
      "text/plain": [
       "<Figure size 432x288 with 1 Axes>"
      ]
     },
     "metadata": {},
     "output_type": "display_data"
    }
   ],
   "source": [
    "# perintah ini untuk menampilkan persentasi diagram bulat (Pie)\n",
    "heat_13_w1.plot(kind='pie')"
   ]
  },
  {
   "cell_type": "code",
   "execution_count": 360,
   "id": "3df79c84",
   "metadata": {},
   "outputs": [
    {
     "data": {
      "text/plain": [
       "year_id\n",
       "1947    4234\n",
       "1948    3815\n",
       "1949    5253\n",
       "1950    5924\n",
       "1951    6814\n",
       "        ... \n",
       "2011    9097\n",
       "2012    6872\n",
       "2013    9259\n",
       "2014    8084\n",
       "2015    7535\n",
       "Name: pts, Length: 69, dtype: int64"
      ]
     },
     "execution_count": 360,
     "metadata": {},
     "output_type": "execute_result"
    }
   ],
   "source": [
    "nba[nba[\"fran_id\"] == \"Knicks\"].groupby(\"year_id\")[\"pts\"].sum()"
   ]
  },
  {
   "cell_type": "markdown",
   "id": "b4fd0693",
   "metadata": {},
   "source": [
    "# Summary \n",
    "\n",
    "* Pandas is python package for Exploratory Data Analis \n",
    "* The Series and DataFrame \n",
    "* Access specific values with .loc , .iloc and indexing \n",
    "* Summarize data with grouping anda aggregation methods\n",
    "* Write queries to get precise result \n",
    "* Manage missing values \n",
    "* Visualizations "
   ]
  },
  {
   "cell_type": "code",
   "execution_count": 361,
   "id": "bd17a166",
   "metadata": {},
   "outputs": [
    {
     "data": {
      "text/plain": [
       "<AxesSubplot:>"
      ]
     },
     "execution_count": 361,
     "metadata": {},
     "output_type": "execute_result"
    },
    {
     "data": {
      "image/png": "[encoded data removed]",
      "text/plain": [
       "<Figure size 432x288 with 1 Axes>"
      ]
     },
     "metadata": {
      "needs_background": "light"
     },
     "output_type": "display_data"
    }
   ],
   "source": [
    "# perintah ini untuk menampilkan jumlah data paling atas dalam bentuk visual diagram batang\n",
    "nba[\"fran_id\"].value_counts().head(10).plot(kind=\"bar\")"
   ]
  },
  {
   "cell_type": "code",
   "execution_count": 362,
   "id": "aa84ab7f",
   "metadata": {},
   "outputs": [
    {
     "data": {
      "text/plain": [
       "Lakers      6024\n",
       "Celtics     5997\n",
       "Knicks      5769\n",
       "Warriors    5657\n",
       "Pistons     5650\n",
       "Sixers      5644\n",
       "Hawks       5572\n",
       "Kings       5475\n",
       "Wizards     4582\n",
       "Spurs       4309\n",
       "Name: fran_id, dtype: int64"
      ]
     },
     "execution_count": 362,
     "metadata": {},
     "output_type": "execute_result"
    }
   ],
   "source": [
    "# perintah ini untuk menampilkan jumlah data paling atas\n",
    "nba[\"fran_id\"].value_counts().head(10)"
   ]
  },
  {
   "cell_type": "code",
   "execution_count": null,
   "id": "d4366e72",
   "metadata": {},
   "outputs": [],
   "source": []
  }
 ],
 "metadata": {
  "kernelspec": {
   "display_name": "Python 3 (ipykernel)",
   "language": "python",
   "name": "python3"
  },
  "language_info": {
   "codemirror_mode": {
    "name": "ipython",
    "version": 3
   },
   "file_extension": ".py",
   "mimetype": "text/x-python",
   "name": "python",
   "nbconvert_exporter": "python",
   "pygments_lexer": "ipython3",
   "version": "3.9.7"
  },
  "toc": {
   "base_numbering": 1,
   "nav_menu": {},
   "number_sections": true,
   "sideBar": true,
   "skip_h1_title": false,
   "title_cell": "Table of Contents",
   "title_sidebar": "Contents",
   "toc_cell": false,
   "toc_position": {},
   "toc_section_display": true,
   "toc_window_display": false
  }
 },
 "nbformat": 4,
 "nbformat_minor": 5
}
