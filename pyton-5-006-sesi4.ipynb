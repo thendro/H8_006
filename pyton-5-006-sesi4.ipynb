{
 "cells": [
  {
   "cell_type": "markdown",
   "id": "35c6cf36",
   "metadata": {},
   "source": [
    "## Pengertian NumPy\n",
    "Disebut Dengan Nama NumPy __(Numeric Python)__. Sebuah Library atau disebut Pustaka Python yang digunakan di hampir semua bidang sains dan teknik. NumPy adalah standar universal untuk bekerja dengan data numerik menggunakan Python, dan merupakan inti dari ekosistem ilmiah Python dan PyData. \n",
    " \n",
    "API NumPy digunakan secara luas di __Pandas__, __SciPy__, __Matplotlib__, __scikit-learn__, __scikit-image__, dan sebagian besar packages data science dan scientific Python lainnya. Pustaka __NumPy__ berisi larik multidimensi __(multidimensional array)__ dan __struktur data matriks__. NumPy menyediakan _ndarray_, _objek array n-dimensi_ yang homogen, dengan metode untuk mengoperasikannya secara efisien. NumPy dapat digunakan untuk melakukan berbagai operasi matematika pada array. NumPy menambahkan struktur data yang kuat ke Python yang menjamin penghitungan yang efisien dengan array dan matriks dan menyediakan perpustakaan besar fungsi matematika tingkat tinggi yang beroperasi pada array dan matriks ini."
   ]
  },
  {
   "cell_type": "markdown",
   "id": "bc7b1bd2",
   "metadata": {},
   "source": [
    "## Penggunaan NumPy\n",
    "Penggunaan NumPy dapat membuat inisialisasi terlebih dahulu.\n",
    "```python\n",
    "import numpy as np\n",
    "```\n",
    "Pada penggunaanya numpy dapat digunakan dengan inisialisasi dengan nama _np_."
   ]
  },
  {
   "cell_type": "markdown",
   "id": "83bdab35",
   "metadata": {},
   "source": [
    "Beberapa Hal yang dapat dijalankan pada pustaka NumPy\n",
    "1. NumPy Initialization \n",
    "2. Creating Ndarrays in NumPy\n",
    "3. Add, Remove, and Sort\n",
    "4. Multi-Dimensional Arrays\n",
    "5. ndim , shape and size\n",
    "6. Sorting Array\n",
    "7. Reshape\n",
    "8. Convert 1D to 2D\n",
    "9. Indexing and Slicing\n",
    "10. Creating Array from Existing Data  \n",
    "11. Copying\n",
    "12. Basic array Operation\n",
    "13. Broadcasting \n",
    "14. More Array Operations\n",
    "15. Save Array into file\n",
    "16. Latihan Studi Kasus\n",
    "17. Matrices \n",
    "        Create Matrices \n",
    "        Matrix Aritmetic \n",
    "        Dot Product \n",
    "        Matrix Indexing \n",
    "        Matrix Aggregation \n",
    "        Transposing and Reshaping \n",
    "        N-Dimensional Array \n",
    "        Flatten N-Dimensional Array \n",
    "        Working with math Formulas "
   ]
  },
  {
   "cell_type": "markdown",
   "id": "818c21b0",
   "metadata": {},
   "source": [
    "Array NumPy lebih cepat dan lebih ringkas daripada list Python. Sebuah array mengkonsumsi lebih sedikit memori dan jauh lebih nyaman untuk digunakan. NumPy menggunakan lebih sedikit memori untuk menyimpan data dan menyediakan mekanisme untuk menentukan tipe data, yang memungkinkan kode untuk dioptimalkan lebih jauh.\n",
    "\n",
    "Array adalah grid of values dan berisi informasi tentang data mentah, cara menemukan elemen, dan cara menginterpretasikan elemen. Array memiliki grid elemen yang dapat diindeks dengan berbagai cara. Semua elemen memiliki tipe yang sama, disebut sebagai array _dtype(data type)_. Sebuah array dapat diindeks oleh _tuple_ dari bilangan bulat nonnegatif, dengan _boolean_, oleh array lain, atau dengan bilangan bulat. Rank dari array adalah jumlah dimensi. _Shape_ dari array adalah _tuple_ bilangan bulat yang memberikan ukuran array di setiap dimensi."
   ]
  },
  {
   "cell_type": "markdown",
   "id": "6b085aa0",
   "metadata": {},
   "source": [
    "### Array\n",
    "Kalian mungkin sesekali mendengar array yang disebut sebagai \"ndarray\", yang merupakan singkatan dari \"N-dimensional array.\". Array berdimensi-N hanyalah array dengan sejumlah dimensi. Kalian mungkin juga mendengar array 1-D, atau array satu dimensi, 2-D, atau array dua dimensi, dan seterusnya. Kelas ndarray NumPy digunakan untuk merepresentasikan matriks dan vektor. Vektor adalah array dengan satu kolom, sedangkan matriks mengacu pada array dengan banyak kolom.\n",
    "```python\n",
    "1D array, 2D array, ndarray, vector, matrix\n",
    "```"
   ]
  },
  {
   "cell_type": "markdown",
   "id": "5a16739d",
   "metadata": {},
   "source": [
    "#### Pembuatan Array\n",
    "Sama seperti di objek kontainer Python lainnya, konten array dapat diakses dan dimodifikasi dengan mengindeks atau slicing array. Array yang berbeda bisa berbagi data yang sama, jadi perubahan yang dibuat pada satu array mungkin terlihat di array lain. \n",
    "\n",
    "Array attributes mencerminkan informasi intrinsik ke array itu sendiri. Jika kalian perlu mendapatkan, atau bahkan menyetel, properti dari sebuah array tanpa membuat sebuah array baru, kalian sering kali dapat mengakses sebuah array melalui atributnya.\n",
    "```python\n",
    "# pembuatan array\n",
    "np.array()\n",
    "np.zeros()    \n",
    "np.ones()     \n",
    "np.empty()    \n",
    "np.arange()  \n",
    "```"
   ]
  },
  {
   "cell_type": "code",
   "execution_count": 8,
   "id": "17821ba9",
   "metadata": {},
   "outputs": [
    {
     "data": {
      "text/plain": [
       "array([1, 2, 3])"
      ]
     },
     "execution_count": 8,
     "metadata": {},
     "output_type": "execute_result"
    }
   ],
   "source": [
    "# (.numpy()) untuk membuat konten array didalam kurung ([array]).\n",
    "import numpy as np\n",
    "a = np.array([1, 2, 3])\n",
    "a"
   ]
  },
  {
   "cell_type": "code",
   "execution_count": 10,
   "id": "4373bade",
   "metadata": {},
   "outputs": [
    {
     "data": {
      "text/plain": [
       "array([0., 0., 0., 0., 0., 0.])"
      ]
     },
     "execution_count": 10,
     "metadata": {},
     "output_type": "execute_result"
    }
   ],
   "source": [
    "# (.zeros()) untuk membuat konten array dengan nilai 0, dan angka 6 adalah jumlah array\n",
    "aa = np.zeros(6)\n",
    "aa"
   ]
  },
  {
   "cell_type": "code",
   "execution_count": 11,
   "id": "18a14bdd",
   "metadata": {},
   "outputs": [
    {
     "data": {
      "text/plain": [
       "array([1., 1., 1., 1., 1., 1.])"
      ]
     },
     "execution_count": 11,
     "metadata": {},
     "output_type": "execute_result"
    }
   ],
   "source": [
    "# (.ones()) untuk membuat konten array dengan nilai 1, dan angka 6 adalah jumlah array\n",
    "a1 = np.ones(6)\n",
    "a1"
   ]
  },
  {
   "cell_type": "markdown",
   "id": "9da55fca",
   "metadata": {},
   "source": [
    "```python\n",
    "# The function empty creates an array whose initial content is random and depends on the state of the memory.\n",
    "# (.empty()) 6 adalah jumlah array\n",
    "np.empty(6)\n",
    "```"
   ]
  },
  {
   "cell_type": "code",
   "execution_count": 15,
   "id": "310ff879",
   "metadata": {},
   "outputs": [
    {
     "name": "stdout",
     "output_type": "stream",
     "text": [
      "[0 2 4 6 8]\n"
     ]
    }
   ],
   "source": [
    "# (.arange()) untuk membuat konten nilai dengan menggunakan jangkauan sampai nilai 10 dari nilai 0 dan tiap jangkauannya loncat 2 angka.\n",
    "print(np.arange(0, 10, 2))  # (start, stop, step)"
   ]
  },
  {
   "cell_type": "markdown",
   "id": "238f6efc",
   "metadata": {},
   "source": [
    "#### Penambahan, penggolongan dan Pembuangan Array\n",
    "Beberapa syntax yang sering digunakan dalam NumPy :\n",
    "```python\n",
    "np.append()\n",
    "np.delete()\n",
    "np.sort()\n",
    "```"
   ]
  },
  {
   "cell_type": "code",
   "execution_count": 9,
   "id": "3e38f6c6",
   "metadata": {},
   "outputs": [],
   "source": [
    "ar = np.array([1, 2, 3, 4, 5, 6, 7, 8])"
   ]
  },
  {
   "cell_type": "code",
   "execution_count": 12,
   "id": "42bf8c98",
   "metadata": {},
   "outputs": [
    {
     "data": {
      "text/plain": [
       "array([1, 2, 3, 4, 5, 6, 7, 8])"
      ]
     },
     "execution_count": 12,
     "metadata": {},
     "output_type": "execute_result"
    }
   ],
   "source": [
    "# (.append()) untuk menambahkan angka array dari kanan kedalam variabel array\n",
    "np.append(ar, [5, 6])  # (variabel, data yang yg mau diimput)\n",
    "ar"
   ]
  },
  {
   "cell_type": "code",
   "execution_count": 15,
   "id": "b8d9e4a7",
   "metadata": {},
   "outputs": [
    {
     "data": {
      "text/plain": [
       "array([1, 2, 3, 4, 5, 6, 7, 8])"
      ]
     },
     "execution_count": 15,
     "metadata": {},
     "output_type": "execute_result"
    }
   ],
   "source": [
    "# (.delete()) untuk mengeluarkan angka array\n",
    "np.append(ar, [1])  # (variabel, angka yang dikeluarkan)\n",
    "ar"
   ]
  },
  {
   "cell_type": "code",
   "execution_count": 16,
   "id": "bf795548",
   "metadata": {},
   "outputs": [
    {
     "data": {
      "text/plain": [
       "array([1, 2, 3, 4, 5, 6, 7, 8])"
      ]
     },
     "execution_count": 16,
     "metadata": {},
     "output_type": "execute_result"
    }
   ],
   "source": [
    "# (.sort()) untuk untuk mengurutkan angka di data array\n",
    "np.sort(ar)  # (variabel)\n",
    "ar"
   ]
  },
  {
   "cell_type": "markdown",
   "id": "6a329d6d",
   "metadata": {},
   "source": [
    "#### Ukuran dan Bentuk\n",
    "Beberapa syntax yang sering digunakan dalam NumPy :\n",
    "```python\n",
    "ndarray.ndim()\n",
    "ndarray.size()\n",
    "ndarray.shape()\n",
    "```"
   ]
  },
  {
   "cell_type": "code",
   "execution_count": 19,
   "id": "fa8c282a",
   "metadata": {},
   "outputs": [
    {
     "name": "stdout",
     "output_type": "stream",
     "text": [
      "[[[0 1 2 3]\n",
      "  [4 5 6 7]]\n",
      "\n",
      " [[0 1 2 3]\n",
      "  [4 5 6 7]]\n",
      "\n",
      " [[0 1 2 3]\n",
      "  [4 5 6 7]]]\n"
     ]
    }
   ],
   "source": [
    "import numpy as np\n",
    "# contoh\n",
    "array_example = np.array([[[0, 1, 2, 3],\n",
    "                           [4, 5, 6, 7]],\n",
    "                          \n",
    "                          [[0, 1, 2, 3],\n",
    "                           [4, 5, 6, 7]],\n",
    "                          \n",
    "                          [[0, 1, 2, 3],\n",
    "                           [4, 5, 6, 7]]])\n",
    "                         \n",
    "print(array_example)"
   ]
  },
  {
   "cell_type": "code",
   "execution_count": 20,
   "id": "0d4887a3",
   "metadata": {},
   "outputs": [
    {
     "data": {
      "text/plain": [
       "3"
      ]
     },
     "execution_count": 20,
     "metadata": {},
     "output_type": "execute_result"
    }
   ],
   "source": [
    "# (.ndim()) untuk menampilkan jumlah axes atau dimensi dari array.\n",
    "array_example.ndim"
   ]
  },
  {
   "cell_type": "code",
   "execution_count": 21,
   "id": "c525e505",
   "metadata": {},
   "outputs": [
    {
     "data": {
      "text/plain": [
       "24"
      ]
     },
     "execution_count": 21,
     "metadata": {},
     "output_type": "execute_result"
    }
   ],
   "source": [
    "# (.size()) untuk menampilkan jumlah total elemen pada erray.\n",
    "array_example.size"
   ]
  },
  {
   "cell_type": "code",
   "execution_count": 23,
   "id": "59cd2d19",
   "metadata": {},
   "outputs": [
    {
     "data": {
      "text/plain": [
       "(3, 2, 4)"
      ]
     },
     "execution_count": 23,
     "metadata": {},
     "output_type": "execute_result"
    }
   ],
   "source": [
    "# (.shape()) untuk menampilkan properties dari array (dimensi, baris, colomn)\n",
    "array_example.shape"
   ]
  },
  {
   "cell_type": "markdown",
   "id": "1a2a4680",
   "metadata": {},
   "source": [
    "###### Reshape\n",
    "Digunakan untuk memberikan bentuk baru ke array tanpa mengubah datanya. Ingatlah bahwa ketika kalian menggunakan metode reshape, array yang ingin kalian hasilkan harus memiliki jumlah elemen yang sama dengan array asli. Jika kalian memulai dengan sebuah array dengan 12 elemen, kalian harus memastikan bahwa array baru kalian juga memiliki total 12 elemen.\n",
    "```python\n",
    "np.reshape()\n",
    "```"
   ]
  },
  {
   "cell_type": "code",
   "execution_count": 27,
   "id": "9ae5d6c9",
   "metadata": {},
   "outputs": [
    {
     "data": {
      "text/plain": [
       "array([0, 1, 2, 3, 4, 5])"
      ]
     },
     "execution_count": 27,
     "metadata": {},
     "output_type": "execute_result"
    }
   ],
   "source": [
    "# misalkan kalian punya array 1 dimensi dengan jumlah 6\n",
    "er = np.arange(6)\n",
    "er"
   ]
  },
  {
   "cell_type": "code",
   "execution_count": 26,
   "id": "9173fa97",
   "metadata": {},
   "outputs": [
    {
     "data": {
      "text/plain": [
       "array([[0, 1],\n",
       "       [2, 3],\n",
       "       [4, 5]])"
      ]
     },
     "execution_count": 26,
     "metadata": {},
     "output_type": "execute_result"
    }
   ],
   "source": [
    "# dengan menggunakan reshape array akan dikembalikan dan diubah bentuknya kedalam variabel baru yang kalian inginkan\n",
    "ber = er.reshape(3, 2)\n",
    "ber"
   ]
  },
  {
   "cell_type": "markdown",
   "id": "9c4e5913",
   "metadata": {},
   "source": [
    "Bentuk _Reshape_ dengan parameter\n",
    "```python\n",
    "np.reshape(var, newshape, order)\n",
    "```\n",
    "var      = variabel yang akan diambil datanya\n",
    "\n",
    "newshape = bentuk baru yang akan diinginkan.\n",
    "\n",
    "order    = _'C'_ read/write elemen menggunakan C-like index order, _'F'_ read/write elemen menggunakan fortran-like index order, _'A'_ berarti read/write elemen dengan Fortran-like index order. "
   ]
  },
  {
   "cell_type": "markdown",
   "id": "77e372f9",
   "metadata": {},
   "source": [
    "###### Mengubah 1D menjadi 2D\n",
    "Biasanya menggunakan perintah 2 perintah dibawah ini.\n",
    "```python\n",
    "np.newaxis\n",
    "np.expand_dims\n",
    "```"
   ]
  },
  {
   "cell_type": "code",
   "execution_count": 32,
   "id": "bca1464b",
   "metadata": {},
   "outputs": [
    {
     "name": "stdout",
     "output_type": "stream",
     "text": [
      "[[0 1 2 3 4 5]]\n",
      "(1, 6)\n"
     ]
    }
   ],
   "source": [
    "# (.newaxis) untuk mengembalikan nilai array menjadi bentuk array 2 dimensi\n",
    "er2 = er[np.newaxis]\n",
    "print(er2)\n",
    "print(er2.shape)"
   ]
  },
  {
   "cell_type": "code",
   "execution_count": 38,
   "id": "a91f4ed7",
   "metadata": {},
   "outputs": [
    {
     "name": "stdout",
     "output_type": "stream",
     "text": [
      "[[0]\n",
      " [1]\n",
      " [2]\n",
      " [3]\n",
      " [4]\n",
      " [5]]\n",
      "(6, 1)\n"
     ]
    }
   ],
   "source": [
    "# (.newaxis) untuk mengembalikan nilai array menjadi bentuk array 2 dimensi dengan baris 0-6\n",
    "er3 = er[:, np.newaxis]\n",
    "print(er3)\n",
    "print(er3.shape)"
   ]
  },
  {
   "cell_type": "code",
   "execution_count": 37,
   "id": "a5fdd710",
   "metadata": {},
   "outputs": [
    {
     "name": "stdout",
     "output_type": "stream",
     "text": [
      "[[0 1 2 3 4 5]]\n",
      "(1, 6)\n"
     ]
    }
   ],
   "source": [
    "# (.expand_dims()) untuk mengembalikan nilai array menjadi bentuk array 2 dimensi dengan baris 0-6\n",
    "er4 = np.expand_dims(er, axis=0)\n",
    "print(er4)\n",
    "print(er4.shape)"
   ]
  },
  {
   "cell_type": "markdown",
   "id": "76bc0236",
   "metadata": {},
   "source": [
    "#### Indexing and Slicing\n",
    "Penggunaan Slicing dan Indexing di array.\n",
    "\n",
    "Kalian mungkin ingin mengambil bagian dari array atau elemen array tertentu untuk digunakan dalam analisis lebih lanjut atau operasi tambahan. Untuk melakukannya, kalian perlu membuat subset, memotong, dan / atau mengindeks array kalian.\n"
   ]
  },
  {
   "cell_type": "code",
   "execution_count": 39,
   "id": "7f9dde62",
   "metadata": {},
   "outputs": [
    {
     "data": {
      "text/plain": [
       "array([[ 1,  2,  3,  4],\n",
       "       [ 5,  6,  7,  8],\n",
       "       [ 9, 10, 11, 12]])"
      ]
     },
     "execution_count": 39,
     "metadata": {},
     "output_type": "execute_result"
    }
   ],
   "source": [
    "# contoh\n",
    "aerr = np.array([[1, 2, 3, 4], [5, 6, 7, 8, ], [9, 10, 11, 12]])\n",
    "aerr"
   ]
  },
  {
   "cell_type": "code",
   "execution_count": 41,
   "id": "a4eeb0b0",
   "metadata": {},
   "outputs": [
    {
     "name": "stdout",
     "output_type": "stream",
     "text": [
      "[ 5  6  7  8  9 10 11 12]\n",
      "[ 2  4  6  8 10 12]\n",
      "[ 3  4  5  6  7  8  9 10]\n",
      "[[1 2 3 4]\n",
      " [5 6 7 8]]\n",
      "[[ 5  6  7  8]\n",
      " [ 9 10 11 12]]\n"
     ]
    }
   ],
   "source": [
    "print(aerr[aerr>=5])\n",
    "print(aerr[aerr%2==0])\n",
    "print(aerr[(aerr>2)&(aerr<11)])\n",
    "print(aerr[0:2])\n",
    "print(aerr[1:])"
   ]
  },
  {
   "cell_type": "markdown",
   "id": "9700898a",
   "metadata": {},
   "source": [
    "##### Creating Array from Existing Data\n",
    "Pembuatan array baru dari data yang ada. Secara umum perintah yang sering digunakan ada 5 :\n",
    "```python\n",
    "np.vstack()\n",
    "np.hstack()\n",
    "np.hsplit()\n",
    ".view()\n",
    ".copy()\n",
    "```"
   ]
  },
  {
   "cell_type": "code",
   "execution_count": 42,
   "id": "25e74b09",
   "metadata": {},
   "outputs": [],
   "source": [
    "irr = np.array([1, 2, 3, 4, 5, 6, 7, 8, 9, 10])"
   ]
  },
  {
   "cell_type": "code",
   "execution_count": 45,
   "id": "0040f1ea",
   "metadata": {},
   "outputs": [
    {
     "data": {
      "text/plain": [
       "array([4, 5, 6, 7, 8])"
      ]
     },
     "execution_count": 45,
     "metadata": {},
     "output_type": "execute_result"
    }
   ],
   "source": [
    "# mengembalikan array irra dari baris ke 4 sampai baris ke 8\n",
    "irr1 = irr[3:8]\n",
    "irr1"
   ]
  },
  {
   "cell_type": "code",
   "execution_count": 49,
   "id": "a23dd933",
   "metadata": {},
   "outputs": [],
   "source": [
    "# contoh menumpuk dua array\n",
    "a_1 = np.array([[1, 1],\n",
    "               [2, 2]])\n",
    "\n",
    "a_2 = np.array([[3, 3],\n",
    "               [4, 4]])"
   ]
  },
  {
   "cell_type": "code",
   "execution_count": 53,
   "id": "9e5ebb76",
   "metadata": {},
   "outputs": [
    {
     "data": {
      "text/plain": [
       "array([[1, 1],\n",
       "       [2, 2],\n",
       "       [3, 3],\n",
       "       [4, 4]])"
      ]
     },
     "execution_count": 53,
     "metadata": {},
     "output_type": "execute_result"
    }
   ],
   "source": [
    "# (.vstack()) untuk menumpuk dua array vertikal dari arra a_1 dan a_2 \n",
    "np.vstack((a_1, a_2))"
   ]
  },
  {
   "cell_type": "code",
   "execution_count": 54,
   "id": "15677a84",
   "metadata": {},
   "outputs": [
    {
     "data": {
      "text/plain": [
       "array([[1, 1, 3, 3],\n",
       "       [2, 2, 4, 4]])"
      ]
     },
     "execution_count": 54,
     "metadata": {},
     "output_type": "execute_result"
    }
   ],
   "source": [
    "# (.vstack()) untuk menumpuk dua array horizontal dari arra a_1 dan a_2 \n",
    "np.hstack((a_1, a_2))"
   ]
  },
  {
   "cell_type": "code",
   "execution_count": 55,
   "id": "86a796da",
   "metadata": {},
   "outputs": [],
   "source": [
    "# contoh membagi array menjadi beberapa array yang lebih kecil\n",
    "arrsplit = np.array([[1, 2, 3, 4, 5, 6, 7, 8, 9, 10, 11, 12], [\n",
    "                    13, 14, 15, 16, 17, 18, 19, 20, 21, 22, 23, 24]])"
   ]
  },
  {
   "cell_type": "code",
   "execution_count": 57,
   "id": "9d20648c",
   "metadata": {},
   "outputs": [
    {
     "data": {
      "text/plain": [
       "[array([[ 1,  2,  3,  4],\n",
       "        [13, 14, 15, 16]]),\n",
       " array([[ 5,  6,  7,  8],\n",
       "        [17, 18, 19, 20]]),\n",
       " array([[ 9, 10, 11, 12],\n",
       "        [21, 22, 23, 24]])]"
      ]
     },
     "execution_count": 57,
     "metadata": {},
     "output_type": "execute_result"
    }
   ],
   "source": [
    "# (.hsplit()) untuk membagi variabel arrsplit menjadi 3 bagian\n",
    "np.hsplit(arrsplit, 3) # (var, jumlah array yang akan dibagi)"
   ]
  },
  {
   "cell_type": "code",
   "execution_count": 58,
   "id": "09a296d0",
   "metadata": {},
   "outputs": [
    {
     "data": {
      "text/plain": [
       "array([[ 1,  2,  3,  4,  5,  6,  7,  8,  9, 10, 11, 12],\n",
       "       [13, 14, 15, 16, 17, 18, 19, 20, 21, 22, 23, 24]])"
      ]
     },
     "execution_count": 58,
     "metadata": {},
     "output_type": "execute_result"
    }
   ],
   "source": [
    "# (.view()) untuk melihat objek yang baru dari array arrsplit1\n",
    "arrsplit1 = arrsplit.view()\n",
    "arrsplit1"
   ]
  },
  {
   "cell_type": "code",
   "execution_count": 59,
   "id": "732abc81",
   "metadata": {},
   "outputs": [
    {
     "data": {
      "text/plain": [
       "array([[ 1,  2,  3,  4,  5,  6,  7,  8,  9, 10, 11, 12],\n",
       "       [13, 14, 15, 16, 17, 18, 19, 20, 21, 22, 23, 24]])"
      ]
     },
     "execution_count": 59,
     "metadata": {},
     "output_type": "execute_result"
    }
   ],
   "source": [
    "# (.copy()) untuk menyalin salinan lengkap dari array dan datanya (salinan dalam).\n",
    "arrsplit21 = arrsplit1.copy()\n",
    "arrsplit21"
   ]
  },
  {
   "cell_type": "markdown",
   "id": "92f1606e",
   "metadata": {},
   "source": [
    "#### Basic Operation \n",
    "Numpy juga memberi dukungan untuk penggunanya dapat menggunakan operasional basic seperti _+,-,/, dan lain lain_."
   ]
  },
  {
   "cell_type": "code",
   "execution_count": 71,
   "id": "e9888da6",
   "metadata": {},
   "outputs": [
    {
     "name": "stdout",
     "output_type": "stream",
     "text": [
      "6\n",
      "[14 16 18 20 22 24 26 28 30 32 34 36]\n"
     ]
    }
   ],
   "source": [
    "# (.sum()) untuk menjumlahkan angka array a\n",
    "# (axis=1) untuk menjumlahkan objek angka di ndarray arrsplit\n",
    "print(a.sum())\n",
    "print(arrsplit.sum(axis=0))"
   ]
  },
  {
   "cell_type": "code",
   "execution_count": 72,
   "id": "a51383e7",
   "metadata": {},
   "outputs": [
    {
     "data": {
      "text/plain": [
       "array([[4, 4],\n",
       "       [6, 6]])"
      ]
     },
     "execution_count": 72,
     "metadata": {},
     "output_type": "execute_result"
    }
   ],
   "source": [
    "a_1 + a_2"
   ]
  },
  {
   "cell_type": "code",
   "execution_count": 73,
   "id": "cba4c208",
   "metadata": {},
   "outputs": [
    {
     "data": {
      "text/plain": [
       "array([[3, 3],\n",
       "       [8, 8]])"
      ]
     },
     "execution_count": 73,
     "metadata": {},
     "output_type": "execute_result"
    }
   ],
   "source": [
    "a_1 * a_2"
   ]
  },
  {
   "cell_type": "markdown",
   "id": "74fcf5d9",
   "metadata": {},
   "source": [
    "##### Broadcasting\n",
    "Broadcasting adalah mekanisme yang memungkinkan NumPy melakukan operasi pada array dengan bentuk berbeda. Dimensi array kalian harus kompatibel, misalnya, jika dimensi kedua array sama atau salah satunya adalah 1. Jika dimensinya tidak kompatibel, kalian akan mendapatkan value error.\n",
    "\n",
    "Operasi ini memungkinkan array dapat dioperasikan menggunakan dengan satu bilangan (atau disebut ooerasi antar vevektor dan skalar) atau antara array dengan dua ukuran berbeda. \n",
    "\n",
    "Misalnya, array kalian (kita menyebutnya \"data\") mungkin berisi informasi tentang jarak dalam mil tetapi Anda ingin mengonversi informasi menjadi kilometer. Kalian dapat melakukan operasi ini dengan:\n"
   ]
  },
  {
   "cell_type": "code",
   "execution_count": 74,
   "id": "baf63705",
   "metadata": {},
   "outputs": [
    {
     "data": {
      "text/plain": [
       "array([1.6, 3.2, 4.8])"
      ]
     },
     "execution_count": 74,
     "metadata": {},
     "output_type": "execute_result"
    }
   ],
   "source": [
    "a * 1.6"
   ]
  },
  {
   "cell_type": "markdown",
   "id": "f147fd41",
   "metadata": {},
   "source": [
    "##### More array Operation\n",
    "Pada operasi ini NumPy melakukan fungsi agregasi. Selain _min_, _max_, dan _sum_, kalian bisa dengan mudah menjalankan _mean_ untuk mendapatkan rata-rata, _prod_ untuk mendapatkan hasil perkalian elemen, _std_ untuk mendapatkan standard deviation, dan banyak lagi.\n",
    "```python\n",
    "var.max()\n",
    "var.min()\n",
    "var.sum()\n",
    "```\n",
    "      Maximum, minimum, sum, mean, product, standard deviation, and more\n",
    "      \n",
    "Secara default, setiap fungsi agregasi NumPy akan mengembalikan agregat dari seluruh array."
   ]
  },
  {
   "cell_type": "code",
   "execution_count": 76,
   "id": "3f05c5b4",
   "metadata": {},
   "outputs": [
    {
     "data": {
      "text/plain": [
       "300"
      ]
     },
     "execution_count": 76,
     "metadata": {},
     "output_type": "execute_result"
    }
   ],
   "source": [
    "arrsplit.sum()"
   ]
  },
  {
   "cell_type": "code",
   "execution_count": 77,
   "id": "35fe1168",
   "metadata": {},
   "outputs": [
    {
     "data": {
      "text/plain": [
       "array([ 1,  2,  3,  4,  5,  6,  7,  8,  9, 10, 11, 12])"
      ]
     },
     "execution_count": 77,
     "metadata": {},
     "output_type": "execute_result"
    }
   ],
   "source": [
    "arrsplit.min(axis=0)"
   ]
  },
  {
   "cell_type": "code",
   "execution_count": 78,
   "id": "ac3e7068",
   "metadata": {},
   "outputs": [
    {
     "data": {
      "text/plain": [
       "6.922186552431729"
      ]
     },
     "execution_count": 78,
     "metadata": {},
     "output_type": "execute_result"
    }
   ],
   "source": [
    "arrsplit.std()"
   ]
  },
  {
   "cell_type": "markdown",
   "id": "5dfcba77",
   "metadata": {},
   "source": [
    "### Matrix\n",
    "Pada matriks juga sama dengan pengunaan motede array diatas seperti _.ones()_, _zeros()_, dan _random.random()_."
   ]
  },
  {
   "cell_type": "code",
   "execution_count": 79,
   "id": "96934861",
   "metadata": {},
   "outputs": [
    {
     "name": "stdout",
     "output_type": "stream",
     "text": [
      "[[0.59275014 0.87120247]\n",
      " [0.68066907 0.40685935]\n",
      " [0.52419567 0.6027321 ]]\n"
     ]
    }
   ],
   "source": [
    "print(np.random.random((3, 2)))"
   ]
  },
  {
   "cell_type": "markdown",
   "id": "ecc90d84",
   "metadata": {},
   "source": [
    "### Matrix Artihmetic\n",
    "Pengoperasian Matrix dapat melakukan penjumlahan dan perkalian matrix dengan mengunakan operator aritmatika _(+-*/)_."
   ]
  },
  {
   "cell_type": "code",
   "execution_count": 83,
   "id": "802220be",
   "metadata": {},
   "outputs": [
    {
     "name": "stdout",
     "output_type": "stream",
     "text": [
      "[[1 2]\n",
      " [3 4]]\n"
     ]
    }
   ],
   "source": [
    "daterr = np.array([[1, 2], [3, 4]])\n",
    "ones = np.ones([2, 2])\n",
    "print(daterr)"
   ]
  },
  {
   "cell_type": "code",
   "execution_count": 84,
   "id": "515966bb",
   "metadata": {},
   "outputs": [
    {
     "name": "stdout",
     "output_type": "stream",
     "text": [
      "[[2. 3.]\n",
      " [4. 5.]]\n"
     ]
    }
   ],
   "source": [
    "print(daterr+ones)"
   ]
  },
  {
   "cell_type": "markdown",
   "id": "c41e7cc6",
   "metadata": {},
   "source": [
    "#### Dot Product\n",
    "Pada matode matriks _dot()_ dapat digunakan untuk menjalankan operasi dot product dengan matriks lain."
   ]
  },
  {
   "cell_type": "code",
   "execution_count": 85,
   "id": "c5872979",
   "metadata": {},
   "outputs": [],
   "source": [
    "a_11 = np.array([[1, 2, 3], [4, 5, 6]]) \n",
    "a_22 = np.array([[7, 8], [9, 10], [11, 12]])"
   ]
  },
  {
   "cell_type": "code",
   "execution_count": 86,
   "id": "bed9025e",
   "metadata": {},
   "outputs": [
    {
     "name": "stdout",
     "output_type": "stream",
     "text": [
      "[[ 58  64]\n",
      " [139 154]]\n"
     ]
    }
   ],
   "source": [
    "print(np.dot(a_11, a_22))"
   ]
  },
  {
   "cell_type": "markdown",
   "id": "441b2d50",
   "metadata": {},
   "source": [
    "### Matrix Indexing & Aggragation\n",
    "Matrix dapat melakukan operasi indexing, slicing dann penjumlahan untuk memanipulasi matriks.\n",
    "```python\n",
    "# indexing dan Slicing\n",
    "print(data[2]) \n",
    "print(data[0,1]) \n",
    "print(data[1:3]) \n",
    "print(data[0:2,1])\n",
    "# operasi penjumlahan\n",
    "print(data.max()) \n",
    "print(data.min()) \n",
    "print(data.sum())\n",
    "```"
   ]
  },
  {
   "cell_type": "markdown",
   "id": "de923a27",
   "metadata": {},
   "source": [
    "#### Transposing and Reshaping\n",
    "Kebutuhan umum saat menangani matriks adalah kebutuhan untuk rotate. Hal ini sering terjadi ketika kita perlu melakukan dot product dari dua matriks dan perlu menyelaraskan dimensi mereka. Array NumPy memiliki properti yang disebut T untuk mendapatkan transpos dari sebuah matriks.\n"
   ]
  },
  {
   "cell_type": "code",
   "execution_count": 87,
   "id": "1f12be90",
   "metadata": {},
   "outputs": [
    {
     "name": "stdout",
     "output_type": "stream",
     "text": [
      "[[ 7  9 11]\n",
      " [ 8 10 12]]\n"
     ]
    }
   ],
   "source": [
    "print(a_22.T)"
   ]
  },
  {
   "cell_type": "markdown",
   "id": "ed11ff2e",
   "metadata": {},
   "source": [
    "Dalam kasus penggunaan yang lebih lanjut, kalian mungkin perlu mengganti dimensi matriks tertentu. Ini sering terjadi dalam aplikasi machine learning di mana model tertentu mengharapkan bentuk tertentu untuk masukan yang berbeda dari kumpulan data kalian. \n",
    "\n",
    "Metode _reshape()_ NumPy berguna dalam kasus ini. Kalian hanya memberikan dimensi baru yang kalian inginkan untuk matriks. Kalian dapat meneruskan -1 untuk dimensi dan NumPy dapat menyimpulkan dimensi yang benar berdasarkan matriks Anda\n"
   ]
  },
  {
   "cell_type": "code",
   "execution_count": 88,
   "id": "56c8bbd9",
   "metadata": {},
   "outputs": [
    {
     "name": "stdout",
     "output_type": "stream",
     "text": [
      "[[1]\n",
      " [2]\n",
      " [3]\n",
      " [4]\n",
      " [5]\n",
      " [6]]\n"
     ]
    }
   ],
   "source": [
    "data_col = np.array([[1, 2, 3, 4, 5, 6]]).T\n",
    "print(data_col)"
   ]
  },
  {
   "cell_type": "code",
   "execution_count": 89,
   "id": "09712c00",
   "metadata": {},
   "outputs": [
    {
     "name": "stdout",
     "output_type": "stream",
     "text": [
      "[[1 2 3]\n",
      " [4 5 6]]\n"
     ]
    }
   ],
   "source": [
    "print(data_col.reshape(2, 3))"
   ]
  },
  {
   "cell_type": "markdown",
   "id": "5f18a363",
   "metadata": {},
   "source": [
    "Matriks juga dapat menggunakan _np.transpose()_ untuk membalikkan atau mengubah axes array sesuai dengan nilai yang kalian tentukan. Jika kalian mulai dengan array ini."
   ]
  },
  {
   "cell_type": "code",
   "execution_count": 91,
   "id": "c6b53c6d",
   "metadata": {},
   "outputs": [
    {
     "name": "stdout",
     "output_type": "stream",
     "text": [
      "[[0 1 2]\n",
      " [3 4 5]]\n"
     ]
    }
   ],
   "source": [
    "marr = np.arange(6).reshape((2, 3)) \n",
    "print(marr)"
   ]
  },
  {
   "cell_type": "markdown",
   "id": "d53a9c9e",
   "metadata": {},
   "source": [
    "### N-Dimensional Array\n",
    "NumPy dapat melakukan semua yang telah kita sebutkan dalam berbagai dimensi. Struktur data pusatnya disebut ndarray (N-Dimensional Array) karena suatu alasan."
   ]
  },
  {
   "cell_type": "code",
   "execution_count": 92,
   "id": "a8e129d2",
   "metadata": {},
   "outputs": [
    {
     "name": "stdout",
     "output_type": "stream",
     "text": [
      "[[[1 2]\n",
      "  [3 4]]\n",
      "\n",
      " [[5 6]\n",
      "  [7 8]]]\n"
     ]
    }
   ],
   "source": [
    "ndarr = np.array([[[1, 2], [3, 4]], [[5, 6], [7, 8]]])\n",
    "print(ndarr)"
   ]
  },
  {
   "cell_type": "markdown",
   "id": "bfc158ef",
   "metadata": {},
   "source": [
    "#### Flatten N-Dimensional Array \n",
    "Ada dua cara populer untuk meratakan array: _.flatten()_ dan _.ravel()_. Perbedaan utama antara keduanya adalah bahwa array baru yang dibuat menggunakan _.ravel()_ sebenarnya merupakan referensi ke array induk. Ini berarti bahwa setiap perubahan pada array baru akan memengaruhi array induk juga. Karena ravel tidak membuat salinan, ini menghemat memori."
   ]
  },
  {
   "cell_type": "code",
   "execution_count": 93,
   "id": "841f288c",
   "metadata": {},
   "outputs": [
    {
     "name": "stdout",
     "output_type": "stream",
     "text": [
      "[[ 1  2  3  4]\n",
      " [ 5  6  7  8]\n",
      " [ 9 10 11 12]]\n"
     ]
    }
   ],
   "source": [
    "arrflat = np.array([[1, 2, 3, 4], [5, 6, 7, 8], [9, 10, 11, 12]])\n",
    "print(arrflat)"
   ]
  },
  {
   "cell_type": "code",
   "execution_count": 94,
   "id": "a1ad5f0f",
   "metadata": {},
   "outputs": [
    {
     "name": "stdout",
     "output_type": "stream",
     "text": [
      "[ 1  2  3  4  5  6  7  8  9 10 11 12]\n"
     ]
    }
   ],
   "source": [
    "print(arrflat.flatten())"
   ]
  },
  {
   "cell_type": "markdown",
   "id": "62e66d60",
   "metadata": {},
   "source": [
    "## Membuat Rumus matetamtika dalam NumPy\n",
    "Misalnya, ini adalah rumus mean square error (rumus utama yang digunakan dalam __supervised machine learning model__ yang menangani regresi):\n",
    "```python\n",
    "error = (1/n) * np.sum(np.square(observed - prediction))\n",
    "```"
   ]
  },
  {
   "cell_type": "code",
   "execution_count": 95,
   "id": "c4cfc7ee",
   "metadata": {},
   "outputs": [
    {
     "name": "stdout",
     "output_type": "stream",
     "text": [
      "\n",
      "NumPy\n",
      "=====\n",
      "\n",
      "Provides\n",
      "  1. An array object of arbitrary homogeneous items\n",
      "  2. Fast mathematical operations over arrays\n",
      "  3. Linear Algebra, Fourier Transforms, Random Number Generation\n",
      "\n",
      "How to use the documentation\n",
      "----------------------------\n",
      "Documentation is available in two forms: docstrings provided\n",
      "with the code, and a loose standing reference guide, available from\n",
      "`the NumPy homepage <https://www.scipy.org>`_.\n",
      "\n",
      "We recommend exploring the docstrings using\n",
      "`IPython <https://ipython.org>`_, an advanced Python shell with\n",
      "TAB-completion and introspection capabilities.  See below for further\n",
      "instructions.\n",
      "\n",
      "The docstring examples assume that `numpy` has been imported as `np`::\n",
      "\n",
      "  >>> import numpy as np\n",
      "\n",
      "Code snippets are indicated by three greater-than signs::\n",
      "\n",
      "  >>> x = 42\n",
      "  >>> x = x + 1\n",
      "\n",
      "Use the built-in ``help`` function to view a function's docstring::\n",
      "\n",
      "  >>> help(np.sort)\n",
      "  ... # doctest: +SKIP\n",
      "\n",
      "For some objects, ``np.info(obj)`` may provide additional help.  This is\n",
      "particularly true if you see the line \"Help on ufunc object:\" at the top\n",
      "of the help() page.  Ufuncs are implemented in C, not Python, for speed.\n",
      "The native Python help() does not know how to view their help, but our\n",
      "np.info() function does.\n",
      "\n",
      "To search for documents containing a keyword, do::\n",
      "\n",
      "  >>> np.lookfor('keyword')\n",
      "  ... # doctest: +SKIP\n",
      "\n",
      "General-purpose documents like a glossary and help on the basic concepts\n",
      "of numpy are available under the ``doc`` sub-module::\n",
      "\n",
      "  >>> from numpy import doc\n",
      "  >>> help(doc)\n",
      "  ... # doctest: +SKIP\n",
      "\n",
      "Available subpackages\n",
      "---------------------\n",
      "doc\n",
      "    Topical documentation on broadcasting, indexing, etc.\n",
      "lib\n",
      "    Basic functions used by several sub-packages.\n",
      "random\n",
      "    Core Random Tools\n",
      "linalg\n",
      "    Core Linear Algebra Tools\n",
      "fft\n",
      "    Core FFT routines\n",
      "polynomial\n",
      "    Polynomial tools\n",
      "testing\n",
      "    NumPy testing tools\n",
      "f2py\n",
      "    Fortran to Python Interface Generator.\n",
      "distutils\n",
      "    Enhancements to distutils with support for\n",
      "    Fortran compilers support and more.\n",
      "\n",
      "Utilities\n",
      "---------\n",
      "test\n",
      "    Run numpy unittests\n",
      "show_config\n",
      "    Show numpy build configuration\n",
      "dual\n",
      "    Overwrite certain functions with high-performance SciPy tools.\n",
      "    Note: `numpy.dual` is deprecated.  Use the functions from NumPy or Scipy\n",
      "    directly instead of importing them from `numpy.dual`.\n",
      "matlib\n",
      "    Make everything matrices.\n",
      "__version__\n",
      "    NumPy version string\n",
      "\n",
      "Viewing documentation using IPython\n",
      "-----------------------------------\n",
      "Start IPython with the NumPy profile (``ipython -p numpy``), which will\n",
      "import `numpy` under the alias `np`.  Then, use the ``cpaste`` command to\n",
      "paste examples into the shell.  To see which functions are available in\n",
      "`numpy`, type ``np.<TAB>`` (where ``<TAB>`` refers to the TAB key), or use\n",
      "``np.*cos*?<ENTER>`` (where ``<ENTER>`` refers to the ENTER key) to narrow\n",
      "down the list.  To view the docstring for a function, use\n",
      "``np.cos?<ENTER>`` (to view the docstring) and ``np.cos??<ENTER>`` (to view\n",
      "the source code).\n",
      "\n",
      "Copies vs. in-place operation\n",
      "-----------------------------\n",
      "Most of the functions in `numpy` return a copy of the array argument\n",
      "(e.g., `np.sort`).  In-place versions of these functions are often\n",
      "available as array methods, i.e. ``x = np.array([1,2,3]); x.sort()``.\n",
      "Exceptions to this rule are documented.\n",
      "\n",
      "\n"
     ]
    }
   ],
   "source": [
    "print(np.__doc__) ## melihat dari doc string modul / libray numpy "
   ]
  },
  {
   "cell_type": "code",
   "execution_count": null,
   "id": "23f951a6",
   "metadata": {},
   "outputs": [],
   "source": []
  }
 ],
 "metadata": {
  "kernelspec": {
   "display_name": "Python 3 (ipykernel)",
   "language": "python",
   "name": "python3"
  },
  "language_info": {
   "codemirror_mode": {
    "name": "ipython",
    "version": 3
   },
   "file_extension": ".py",
   "mimetype": "text/x-python",
   "name": "python",
   "nbconvert_exporter": "python",
   "pygments_lexer": "ipython3",
   "version": "3.9.7"
  },
  "toc": {
   "base_numbering": 1,
   "nav_menu": {},
   "number_sections": true,
   "sideBar": true,
   "skip_h1_title": false,
   "title_cell": "Table of Contents",
   "title_sidebar": "Contents",
   "toc_cell": false,
   "toc_position": {},
   "toc_section_display": true,
   "toc_window_display": false
  }
 },
 "nbformat": 4,
 "nbformat_minor": 5
}
